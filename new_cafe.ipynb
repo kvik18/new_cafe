{
  "cells": [
    {
      "cell_type": "markdown",
      "metadata": {
        "id": "view-in-github",
        "colab_type": "text"
      },
      "source": [
        "<a href=\"https://colab.research.google.com/github/kvik18/new_cafe/blob/main/new_cafe.ipynb\" target=\"_parent\"><img src=\"https://colab.research.google.com/assets/colab-badge.svg\" alt=\"Open In Colab\"/></a>"
      ]
    },
    {
      "cell_type": "markdown",
      "metadata": {
        "id": "JaytFv83Kref"
      },
      "source": [
        "# Исследование рынка заведений общественного питания в Москве\n",
        "\n",
        "### Описание данных\n",
        "rest_data:\n",
        "*\tid — идентификатор объекта;\n",
        "*\tobject_name — название объекта общественного питания;\n",
        "*\tchain — сетевой ресторан;\n",
        "*\tobject_type — тип объекта общественного питания;\n",
        "*\taddress — адрес;\n",
        "*\tnumber — количество посадочных мест.\n",
        "\n",
        "### План работы\n",
        "*\tЗагрузка данных и подготовка их к анализу.  \n",
        "*\tИсследование соотношения видов объектов общественного питания по количеству.   \n",
        "*\tИсследование соотношения сетевых и несетевых заведений по количеству.  \n",
        "*\tИсследование характерных метрик сетевых заведений.  \n",
        "*\tИсследование среднего количества посадочных мест в заведении. \n",
        "*\tИсследование концентрации объектов общественного питания по улицам и районам Москвы.\n",
        "*\tВыводы."
      ]
    },
    {
      "cell_type": "markdown",
      "metadata": {
        "id": "Wm0FQNstKrem"
      },
      "source": [
        "## Загрузка данных и подготовка их к анализу"
      ]
    },
    {
      "cell_type": "code",
      "execution_count": 1,
      "metadata": {
        "id": "bxL46oUTKrep"
      },
      "outputs": [],
      "source": [
        "# импорт необходимых библиотек\n",
        "import pandas as pd\n",
        "from pathlib import Path\n",
        "import numpy as np\n",
        "import matplotlib.pyplot as plt\n",
        "import plotly.express as px\n",
        "from plotly import graph_objects as go"
      ]
    },
    {
      "cell_type": "code",
      "execution_count": 2,
      "metadata": {
        "scrolled": true,
        "colab": {
          "base_uri": "https://localhost:8080/",
          "height": 206
        },
        "id": "44uLuwO-Krew",
        "outputId": "d8291abb-44a5-45e2-df69-38d7e76720fa"
      },
      "outputs": [
        {
          "output_type": "execute_result",
          "data": {
            "text/plain": [
              "       id             object_name chain object_type  \\\n",
              "0  151635                 СМЕТАНА   нет        кафе   \n",
              "1   77874                  Родник   нет        кафе   \n",
              "2   24309         Кафе «Академия»   нет        кафе   \n",
              "3   21894              ПИЦЦЕТОРИЯ    да        кафе   \n",
              "4  119365  Кафе «Вишневая метель»   нет        кафе   \n",
              "\n",
              "                                             address  number  \n",
              "0         город Москва, улица Егора Абакумова, дом 9      48  \n",
              "1  город Москва, улица Талалихина, дом 2/1, корпус 1      35  \n",
              "2          город Москва, Абельмановская улица, дом 6      95  \n",
              "3            город Москва, Абрамцевская улица, дом 1      40  \n",
              "4  город Москва, Абрамцевская улица, дом 9, корпус 1      50  "
            ],
            "text/html": [
              "\n",
              "  <div id=\"df-8e0315ff-99f4-4a68-9fb1-db4481610b8b\">\n",
              "    <div class=\"colab-df-container\">\n",
              "      <div>\n",
              "<style scoped>\n",
              "    .dataframe tbody tr th:only-of-type {\n",
              "        vertical-align: middle;\n",
              "    }\n",
              "\n",
              "    .dataframe tbody tr th {\n",
              "        vertical-align: top;\n",
              "    }\n",
              "\n",
              "    .dataframe thead th {\n",
              "        text-align: right;\n",
              "    }\n",
              "</style>\n",
              "<table border=\"1\" class=\"dataframe\">\n",
              "  <thead>\n",
              "    <tr style=\"text-align: right;\">\n",
              "      <th></th>\n",
              "      <th>id</th>\n",
              "      <th>object_name</th>\n",
              "      <th>chain</th>\n",
              "      <th>object_type</th>\n",
              "      <th>address</th>\n",
              "      <th>number</th>\n",
              "    </tr>\n",
              "  </thead>\n",
              "  <tbody>\n",
              "    <tr>\n",
              "      <th>0</th>\n",
              "      <td>151635</td>\n",
              "      <td>СМЕТАНА</td>\n",
              "      <td>нет</td>\n",
              "      <td>кафе</td>\n",
              "      <td>город Москва, улица Егора Абакумова, дом 9</td>\n",
              "      <td>48</td>\n",
              "    </tr>\n",
              "    <tr>\n",
              "      <th>1</th>\n",
              "      <td>77874</td>\n",
              "      <td>Родник</td>\n",
              "      <td>нет</td>\n",
              "      <td>кафе</td>\n",
              "      <td>город Москва, улица Талалихина, дом 2/1, корпус 1</td>\n",
              "      <td>35</td>\n",
              "    </tr>\n",
              "    <tr>\n",
              "      <th>2</th>\n",
              "      <td>24309</td>\n",
              "      <td>Кафе «Академия»</td>\n",
              "      <td>нет</td>\n",
              "      <td>кафе</td>\n",
              "      <td>город Москва, Абельмановская улица, дом 6</td>\n",
              "      <td>95</td>\n",
              "    </tr>\n",
              "    <tr>\n",
              "      <th>3</th>\n",
              "      <td>21894</td>\n",
              "      <td>ПИЦЦЕТОРИЯ</td>\n",
              "      <td>да</td>\n",
              "      <td>кафе</td>\n",
              "      <td>город Москва, Абрамцевская улица, дом 1</td>\n",
              "      <td>40</td>\n",
              "    </tr>\n",
              "    <tr>\n",
              "      <th>4</th>\n",
              "      <td>119365</td>\n",
              "      <td>Кафе «Вишневая метель»</td>\n",
              "      <td>нет</td>\n",
              "      <td>кафе</td>\n",
              "      <td>город Москва, Абрамцевская улица, дом 9, корпус 1</td>\n",
              "      <td>50</td>\n",
              "    </tr>\n",
              "  </tbody>\n",
              "</table>\n",
              "</div>\n",
              "      <button class=\"colab-df-convert\" onclick=\"convertToInteractive('df-8e0315ff-99f4-4a68-9fb1-db4481610b8b')\"\n",
              "              title=\"Convert this dataframe to an interactive table.\"\n",
              "              style=\"display:none;\">\n",
              "        \n",
              "  <svg xmlns=\"http://www.w3.org/2000/svg\" height=\"24px\"viewBox=\"0 0 24 24\"\n",
              "       width=\"24px\">\n",
              "    <path d=\"M0 0h24v24H0V0z\" fill=\"none\"/>\n",
              "    <path d=\"M18.56 5.44l.94 2.06.94-2.06 2.06-.94-2.06-.94-.94-2.06-.94 2.06-2.06.94zm-11 1L8.5 8.5l.94-2.06 2.06-.94-2.06-.94L8.5 2.5l-.94 2.06-2.06.94zm10 10l.94 2.06.94-2.06 2.06-.94-2.06-.94-.94-2.06-.94 2.06-2.06.94z\"/><path d=\"M17.41 7.96l-1.37-1.37c-.4-.4-.92-.59-1.43-.59-.52 0-1.04.2-1.43.59L10.3 9.45l-7.72 7.72c-.78.78-.78 2.05 0 2.83L4 21.41c.39.39.9.59 1.41.59.51 0 1.02-.2 1.41-.59l7.78-7.78 2.81-2.81c.8-.78.8-2.07 0-2.86zM5.41 20L4 18.59l7.72-7.72 1.47 1.35L5.41 20z\"/>\n",
              "  </svg>\n",
              "      </button>\n",
              "      \n",
              "  <style>\n",
              "    .colab-df-container {\n",
              "      display:flex;\n",
              "      flex-wrap:wrap;\n",
              "      gap: 12px;\n",
              "    }\n",
              "\n",
              "    .colab-df-convert {\n",
              "      background-color: #E8F0FE;\n",
              "      border: none;\n",
              "      border-radius: 50%;\n",
              "      cursor: pointer;\n",
              "      display: none;\n",
              "      fill: #1967D2;\n",
              "      height: 32px;\n",
              "      padding: 0 0 0 0;\n",
              "      width: 32px;\n",
              "    }\n",
              "\n",
              "    .colab-df-convert:hover {\n",
              "      background-color: #E2EBFA;\n",
              "      box-shadow: 0px 1px 2px rgba(60, 64, 67, 0.3), 0px 1px 3px 1px rgba(60, 64, 67, 0.15);\n",
              "      fill: #174EA6;\n",
              "    }\n",
              "\n",
              "    [theme=dark] .colab-df-convert {\n",
              "      background-color: #3B4455;\n",
              "      fill: #D2E3FC;\n",
              "    }\n",
              "\n",
              "    [theme=dark] .colab-df-convert:hover {\n",
              "      background-color: #434B5C;\n",
              "      box-shadow: 0px 1px 3px 1px rgba(0, 0, 0, 0.15);\n",
              "      filter: drop-shadow(0px 1px 2px rgba(0, 0, 0, 0.3));\n",
              "      fill: #FFFFFF;\n",
              "    }\n",
              "  </style>\n",
              "\n",
              "      <script>\n",
              "        const buttonEl =\n",
              "          document.querySelector('#df-8e0315ff-99f4-4a68-9fb1-db4481610b8b button.colab-df-convert');\n",
              "        buttonEl.style.display =\n",
              "          google.colab.kernel.accessAllowed ? 'block' : 'none';\n",
              "\n",
              "        async function convertToInteractive(key) {\n",
              "          const element = document.querySelector('#df-8e0315ff-99f4-4a68-9fb1-db4481610b8b');\n",
              "          const dataTable =\n",
              "            await google.colab.kernel.invokeFunction('convertToInteractive',\n",
              "                                                     [key], {});\n",
              "          if (!dataTable) return;\n",
              "\n",
              "          const docLinkHtml = 'Like what you see? Visit the ' +\n",
              "            '<a target=\"_blank\" href=https://colab.research.google.com/notebooks/data_table.ipynb>data table notebook</a>'\n",
              "            + ' to learn more about interactive tables.';\n",
              "          element.innerHTML = '';\n",
              "          dataTable['output_type'] = 'display_data';\n",
              "          await google.colab.output.renderOutput(dataTable, element);\n",
              "          const docLink = document.createElement('div');\n",
              "          docLink.innerHTML = docLinkHtml;\n",
              "          element.appendChild(docLink);\n",
              "        }\n",
              "      </script>\n",
              "    </div>\n",
              "  </div>\n",
              "  "
            ]
          },
          "metadata": {},
          "execution_count": 2
        }
      ],
      "source": [
        "# Загрузка файла с данными в переменную rest_data, просмотр \n",
        "rest_data = pd.read_csv('rest_data.csv')\n",
        "rest_data.head(5)"
      ]
    },
    {
      "cell_type": "code",
      "execution_count": 3,
      "metadata": {
        "id": "DEeyj5RjKrez"
      },
      "outputs": [],
      "source": [
        "# Загрузка файла с данными в переменную rest_data с использованием модуля pathlib:\n",
        "# data_path = Path('/datasets', 'rest_data.csv')\n",
        "# rest_data = pd.read_csv(data_path) \n",
        "# rest_data.head(5)"
      ]
    },
    {
      "cell_type": "code",
      "execution_count": 4,
      "metadata": {
        "colab": {
          "base_uri": "https://localhost:8080/"
        },
        "id": "-trOVmmSKrfA",
        "outputId": "5dd0e9f3-178f-4555-8ada-87dcd6144814"
      },
      "outputs": [
        {
          "output_type": "stream",
          "name": "stdout",
          "text": [
            "<class 'pandas.core.frame.DataFrame'>\n",
            "RangeIndex: 15366 entries, 0 to 15365\n",
            "Data columns (total 6 columns):\n",
            " #   Column       Non-Null Count  Dtype \n",
            "---  ------       --------------  ----- \n",
            " 0   id           15366 non-null  int64 \n",
            " 1   object_name  15366 non-null  object\n",
            " 2   chain        15366 non-null  object\n",
            " 3   object_type  15366 non-null  object\n",
            " 4   address      15366 non-null  object\n",
            " 5   number       15366 non-null  int64 \n",
            "dtypes: int64(2), object(4)\n",
            "memory usage: 720.4+ KB\n"
          ]
        }
      ],
      "source": [
        "# общая информация о данных в файле\n",
        "rest_data.info()"
      ]
    },
    {
      "cell_type": "code",
      "execution_count": 5,
      "metadata": {
        "colab": {
          "base_uri": "https://localhost:8080/"
        },
        "id": "iAbaNC_mKrfC",
        "outputId": "940c6271-329a-4b16-9496-20482fa376cd"
      },
      "outputs": [
        {
          "output_type": "execute_result",
          "data": {
            "text/plain": [
              "id             0\n",
              "object_name    0\n",
              "chain          0\n",
              "object_type    0\n",
              "address        0\n",
              "number         0\n",
              "dtype: int64"
            ]
          },
          "metadata": {},
          "execution_count": 5
        }
      ],
      "source": [
        "# подсчет пропусков\n",
        "rest_data.isna().sum()"
      ]
    },
    {
      "cell_type": "code",
      "execution_count": 6,
      "metadata": {
        "colab": {
          "base_uri": "https://localhost:8080/"
        },
        "id": "jYueYII7KrfD",
        "outputId": "da613e88-2dee-4e59-9d28-bfe252a499bf"
      },
      "outputs": [
        {
          "output_type": "execute_result",
          "data": {
            "text/plain": [
              "0"
            ]
          },
          "metadata": {},
          "execution_count": 6
        }
      ],
      "source": [
        "# подсчет явных дубликатов\n",
        "rest_data.duplicated().sum()"
      ]
    },
    {
      "cell_type": "markdown",
      "metadata": {
        "id": "E3euH2YzKrfH"
      },
      "source": [
        "Тип каждой колонки соответствует данным.  Пропущенные значения и явные дубликаты отсутствуют.\n",
        "Проверю на неявные дубликаты."
      ]
    },
    {
      "cell_type": "code",
      "execution_count": 7,
      "metadata": {
        "colab": {
          "base_uri": "https://localhost:8080/"
        },
        "id": "pxGshTBnKrfI",
        "outputId": "d0d6d138-f0ed-45cf-cbcd-8a533133feb8"
      },
      "outputs": [
        {
          "output_type": "stream",
          "name": "stdout",
          "text": [
            "Количество неявных дубликатов: 82\n",
            "Доля строк-дубликатов в таблице: 1.0%\n"
          ]
        }
      ],
      "source": [
        "# проверка на неявные дубликаты\n",
        "d_rows = rest_data.duplicated(subset=['object_name', 'address', 'chain', 'object_type', 'number'], keep='first')\n",
        "print('Количество неявных дубликатов:', d_rows.sum())\n",
        "print('Доля строк-дубликатов в таблице:', (d_rows.sum()/rest_data.shape[0]*100).round().astype('str')+'%')"
      ]
    },
    {
      "cell_type": "markdown",
      "metadata": {
        "id": "w2jhH5gYKrfM"
      },
      "source": [
        "В данных встречаются 82 повторяющиеся строки, что составляют всего 1%. Удалю эти строки, чтобы очистить данные и избежать возможных проблем при анализе. Удаление небольшой доли из набора не отразится на достоверности оставшихся данных."
      ]
    },
    {
      "cell_type": "code",
      "execution_count": 8,
      "metadata": {
        "colab": {
          "base_uri": "https://localhost:8080/"
        },
        "id": "W1LouP0cKrfO",
        "outputId": "bbcf0056-b8b3-494b-9179-9fcdaefa69fb"
      },
      "outputs": [
        {
          "output_type": "stream",
          "name": "stdout",
          "text": [
            "Осталось строк в данных: 15284\n"
          ]
        }
      ],
      "source": [
        "# удалю строки с неявными дубликатами\n",
        "rest_data = rest_data.drop_duplicates(subset=['object_name', 'address', 'chain', 'object_type', 'number'], keep='first')\n",
        "print('Осталось строк в данных:', rest_data.shape[0])"
      ]
    },
    {
      "cell_type": "markdown",
      "metadata": {
        "id": "vpOb6cVyKrfS"
      },
      "source": [
        "Данные подготовлены к дальнейшему анализу."
      ]
    },
    {
      "cell_type": "markdown",
      "metadata": {
        "id": "J_l1vGTfKrfU"
      },
      "source": [
        "## Анализ данных <a id=\"some_id\"></a> \n",
        "Исследую соотношение видов объектов общественного питания по количеству. Построю график. <a id=\"task1\"></a> "
      ]
    },
    {
      "cell_type": "code",
      "execution_count": 9,
      "metadata": {
        "colab": {
          "base_uri": "https://localhost:8080/",
          "height": 332
        },
        "id": "w42QS09sKrfV",
        "outputId": "254b4d79-0d61-4690-bff4-1afe7f9f1ab8"
      },
      "outputs": [
        {
          "output_type": "execute_result",
          "data": {
            "text/plain": [
              "                         object_type  object_number      %\n",
              "3                               кафе           6071  40.0%\n",
              "8                           столовая           2584  17.0%\n",
              "7                           ресторан           2282  15.0%\n",
              "6  предприятие быстрого обслуживания           1898  12.0%\n",
              "0                                бар            855   6.0%\n",
              "1                              буфет            577   4.0%\n",
              "4                          кафетерий            395   3.0%\n",
              "2                         закусочная            349   2.0%\n",
              "5          магазин (отдел кулинарии)            273   2.0%"
            ],
            "text/html": [
              "\n",
              "  <div id=\"df-d1b1fc5a-58c6-4924-b8c0-75c191967cdf\">\n",
              "    <div class=\"colab-df-container\">\n",
              "      <div>\n",
              "<style scoped>\n",
              "    .dataframe tbody tr th:only-of-type {\n",
              "        vertical-align: middle;\n",
              "    }\n",
              "\n",
              "    .dataframe tbody tr th {\n",
              "        vertical-align: top;\n",
              "    }\n",
              "\n",
              "    .dataframe thead th {\n",
              "        text-align: right;\n",
              "    }\n",
              "</style>\n",
              "<table border=\"1\" class=\"dataframe\">\n",
              "  <thead>\n",
              "    <tr style=\"text-align: right;\">\n",
              "      <th></th>\n",
              "      <th>object_type</th>\n",
              "      <th>object_number</th>\n",
              "      <th>%</th>\n",
              "    </tr>\n",
              "  </thead>\n",
              "  <tbody>\n",
              "    <tr>\n",
              "      <th>3</th>\n",
              "      <td>кафе</td>\n",
              "      <td>6071</td>\n",
              "      <td>40.0%</td>\n",
              "    </tr>\n",
              "    <tr>\n",
              "      <th>8</th>\n",
              "      <td>столовая</td>\n",
              "      <td>2584</td>\n",
              "      <td>17.0%</td>\n",
              "    </tr>\n",
              "    <tr>\n",
              "      <th>7</th>\n",
              "      <td>ресторан</td>\n",
              "      <td>2282</td>\n",
              "      <td>15.0%</td>\n",
              "    </tr>\n",
              "    <tr>\n",
              "      <th>6</th>\n",
              "      <td>предприятие быстрого обслуживания</td>\n",
              "      <td>1898</td>\n",
              "      <td>12.0%</td>\n",
              "    </tr>\n",
              "    <tr>\n",
              "      <th>0</th>\n",
              "      <td>бар</td>\n",
              "      <td>855</td>\n",
              "      <td>6.0%</td>\n",
              "    </tr>\n",
              "    <tr>\n",
              "      <th>1</th>\n",
              "      <td>буфет</td>\n",
              "      <td>577</td>\n",
              "      <td>4.0%</td>\n",
              "    </tr>\n",
              "    <tr>\n",
              "      <th>4</th>\n",
              "      <td>кафетерий</td>\n",
              "      <td>395</td>\n",
              "      <td>3.0%</td>\n",
              "    </tr>\n",
              "    <tr>\n",
              "      <th>2</th>\n",
              "      <td>закусочная</td>\n",
              "      <td>349</td>\n",
              "      <td>2.0%</td>\n",
              "    </tr>\n",
              "    <tr>\n",
              "      <th>5</th>\n",
              "      <td>магазин (отдел кулинарии)</td>\n",
              "      <td>273</td>\n",
              "      <td>2.0%</td>\n",
              "    </tr>\n",
              "  </tbody>\n",
              "</table>\n",
              "</div>\n",
              "      <button class=\"colab-df-convert\" onclick=\"convertToInteractive('df-d1b1fc5a-58c6-4924-b8c0-75c191967cdf')\"\n",
              "              title=\"Convert this dataframe to an interactive table.\"\n",
              "              style=\"display:none;\">\n",
              "        \n",
              "  <svg xmlns=\"http://www.w3.org/2000/svg\" height=\"24px\"viewBox=\"0 0 24 24\"\n",
              "       width=\"24px\">\n",
              "    <path d=\"M0 0h24v24H0V0z\" fill=\"none\"/>\n",
              "    <path d=\"M18.56 5.44l.94 2.06.94-2.06 2.06-.94-2.06-.94-.94-2.06-.94 2.06-2.06.94zm-11 1L8.5 8.5l.94-2.06 2.06-.94-2.06-.94L8.5 2.5l-.94 2.06-2.06.94zm10 10l.94 2.06.94-2.06 2.06-.94-2.06-.94-.94-2.06-.94 2.06-2.06.94z\"/><path d=\"M17.41 7.96l-1.37-1.37c-.4-.4-.92-.59-1.43-.59-.52 0-1.04.2-1.43.59L10.3 9.45l-7.72 7.72c-.78.78-.78 2.05 0 2.83L4 21.41c.39.39.9.59 1.41.59.51 0 1.02-.2 1.41-.59l7.78-7.78 2.81-2.81c.8-.78.8-2.07 0-2.86zM5.41 20L4 18.59l7.72-7.72 1.47 1.35L5.41 20z\"/>\n",
              "  </svg>\n",
              "      </button>\n",
              "      \n",
              "  <style>\n",
              "    .colab-df-container {\n",
              "      display:flex;\n",
              "      flex-wrap:wrap;\n",
              "      gap: 12px;\n",
              "    }\n",
              "\n",
              "    .colab-df-convert {\n",
              "      background-color: #E8F0FE;\n",
              "      border: none;\n",
              "      border-radius: 50%;\n",
              "      cursor: pointer;\n",
              "      display: none;\n",
              "      fill: #1967D2;\n",
              "      height: 32px;\n",
              "      padding: 0 0 0 0;\n",
              "      width: 32px;\n",
              "    }\n",
              "\n",
              "    .colab-df-convert:hover {\n",
              "      background-color: #E2EBFA;\n",
              "      box-shadow: 0px 1px 2px rgba(60, 64, 67, 0.3), 0px 1px 3px 1px rgba(60, 64, 67, 0.15);\n",
              "      fill: #174EA6;\n",
              "    }\n",
              "\n",
              "    [theme=dark] .colab-df-convert {\n",
              "      background-color: #3B4455;\n",
              "      fill: #D2E3FC;\n",
              "    }\n",
              "\n",
              "    [theme=dark] .colab-df-convert:hover {\n",
              "      background-color: #434B5C;\n",
              "      box-shadow: 0px 1px 3px 1px rgba(0, 0, 0, 0.15);\n",
              "      filter: drop-shadow(0px 1px 2px rgba(0, 0, 0, 0.3));\n",
              "      fill: #FFFFFF;\n",
              "    }\n",
              "  </style>\n",
              "\n",
              "      <script>\n",
              "        const buttonEl =\n",
              "          document.querySelector('#df-d1b1fc5a-58c6-4924-b8c0-75c191967cdf button.colab-df-convert');\n",
              "        buttonEl.style.display =\n",
              "          google.colab.kernel.accessAllowed ? 'block' : 'none';\n",
              "\n",
              "        async function convertToInteractive(key) {\n",
              "          const element = document.querySelector('#df-d1b1fc5a-58c6-4924-b8c0-75c191967cdf');\n",
              "          const dataTable =\n",
              "            await google.colab.kernel.invokeFunction('convertToInteractive',\n",
              "                                                     [key], {});\n",
              "          if (!dataTable) return;\n",
              "\n",
              "          const docLinkHtml = 'Like what you see? Visit the ' +\n",
              "            '<a target=\"_blank\" href=https://colab.research.google.com/notebooks/data_table.ipynb>data table notebook</a>'\n",
              "            + ' to learn more about interactive tables.';\n",
              "          element.innerHTML = '';\n",
              "          dataTable['output_type'] = 'display_data';\n",
              "          await google.colab.output.renderOutput(dataTable, element);\n",
              "          const docLink = document.createElement('div');\n",
              "          docLink.innerHTML = docLinkHtml;\n",
              "          element.appendChild(docLink);\n",
              "        }\n",
              "      </script>\n",
              "    </div>\n",
              "  </div>\n",
              "  "
            ]
          },
          "metadata": {},
          "execution_count": 9
        }
      ],
      "source": [
        "# посчитаю количество объектов общественного питания по видам\n",
        "rest_type = (rest_data\n",
        "    .groupby('object_type', as_index=False)\n",
        "    .agg(object_number=('object_name', 'count')) # переименование при агрегации\n",
        "    .sort_values(by='object_number', ascending=False)\n",
        "    # столбец с результатами переименую в соответствии с содержанием \n",
        "    #.rename(columns={'object_name': 'object_number'}) \n",
        ")\n",
        "# добавлю столбец с отношением\n",
        "rest_type['%'] = round(rest_type['object_number'] / rest_type['object_number'].sum()*100).astype('str') + '%'\n",
        "rest_type"
      ]
    },
    {
      "cell_type": "code",
      "execution_count": 10,
      "metadata": {
        "scrolled": true,
        "colab": {
          "base_uri": "https://localhost:8080/",
          "height": 617
        },
        "id": "uaaaOyGnKrfa",
        "outputId": "72d09d99-ceb3-4c4c-c69a-fb1462c2a99f"
      },
      "outputs": [
        {
          "output_type": "display_data",
          "data": {
            "text/html": [
              "<html>\n",
              "<head><meta charset=\"utf-8\" /></head>\n",
              "<body>\n",
              "    <div>            <script src=\"https://cdnjs.cloudflare.com/ajax/libs/mathjax/2.7.5/MathJax.js?config=TeX-AMS-MML_SVG\"></script><script type=\"text/javascript\">if (window.MathJax) {MathJax.Hub.Config({SVG: {font: \"STIX-Web\"}});}</script>                <script type=\"text/javascript\">window.PlotlyConfig = {MathJaxConfig: 'local'};</script>\n",
              "        <script src=\"https://cdn.plot.ly/plotly-2.8.3.min.js\"></script>                <div id=\"cd9e43d7-f1f2-4be8-9699-f4de482c788b\" class=\"plotly-graph-div\" style=\"height:600px; width:900px;\"></div>            <script type=\"text/javascript\">                                    window.PLOTLYENV=window.PLOTLYENV || {};                                    if (document.getElementById(\"cd9e43d7-f1f2-4be8-9699-f4de482c788b\")) {                    Plotly.newPlot(                        \"cd9e43d7-f1f2-4be8-9699-f4de482c788b\",                        [{\"alignmentgroup\":\"True\",\"hovertemplate\":\"object_number=%{x}<br>object_type=%{y}<br>%=%{text}<extra></extra>\",\"legendgroup\":\"\",\"marker\":{\"color\":\"#636efa\",\"pattern\":{\"shape\":\"\"}},\"name\":\"\",\"offsetgroup\":\"\",\"orientation\":\"h\",\"showlegend\":false,\"text\":[\"40.0%\",\"17.0%\",\"15.0%\",\"12.0%\",\"6.0%\",\"4.0%\",\"3.0%\",\"2.0%\",\"2.0%\"],\"textposition\":\"auto\",\"x\":[6071,2584,2282,1898,855,577,395,349,273],\"xaxis\":\"x\",\"y\":[\"\\u043a\\u0430\\u0444\\u0435\",\"\\u0441\\u0442\\u043e\\u043b\\u043e\\u0432\\u0430\\u044f\",\"\\u0440\\u0435\\u0441\\u0442\\u043e\\u0440\\u0430\\u043d\",\"\\u043f\\u0440\\u0435\\u0434\\u043f\\u0440\\u0438\\u044f\\u0442\\u0438\\u0435 \\u0431\\u044b\\u0441\\u0442\\u0440\\u043e\\u0433\\u043e \\u043e\\u0431\\u0441\\u043b\\u0443\\u0436\\u0438\\u0432\\u0430\\u043d\\u0438\\u044f\",\"\\u0431\\u0430\\u0440\",\"\\u0431\\u0443\\u0444\\u0435\\u0442\",\"\\u043a\\u0430\\u0444\\u0435\\u0442\\u0435\\u0440\\u0438\\u0439\",\"\\u0437\\u0430\\u043a\\u0443\\u0441\\u043e\\u0447\\u043d\\u0430\\u044f\",\"\\u043c\\u0430\\u0433\\u0430\\u0437\\u0438\\u043d (\\u043e\\u0442\\u0434\\u0435\\u043b \\u043a\\u0443\\u043b\\u0438\\u043d\\u0430\\u0440\\u0438\\u0438)\"],\"yaxis\":\"y\",\"type\":\"bar\"}],                        {\"template\":{\"data\":{\"bar\":[{\"error_x\":{\"color\":\"#2a3f5f\"},\"error_y\":{\"color\":\"#2a3f5f\"},\"marker\":{\"line\":{\"color\":\"#E5ECF6\",\"width\":0.5},\"pattern\":{\"fillmode\":\"overlay\",\"size\":10,\"solidity\":0.2}},\"type\":\"bar\"}],\"barpolar\":[{\"marker\":{\"line\":{\"color\":\"#E5ECF6\",\"width\":0.5},\"pattern\":{\"fillmode\":\"overlay\",\"size\":10,\"solidity\":0.2}},\"type\":\"barpolar\"}],\"carpet\":[{\"aaxis\":{\"endlinecolor\":\"#2a3f5f\",\"gridcolor\":\"white\",\"linecolor\":\"white\",\"minorgridcolor\":\"white\",\"startlinecolor\":\"#2a3f5f\"},\"baxis\":{\"endlinecolor\":\"#2a3f5f\",\"gridcolor\":\"white\",\"linecolor\":\"white\",\"minorgridcolor\":\"white\",\"startlinecolor\":\"#2a3f5f\"},\"type\":\"carpet\"}],\"choropleth\":[{\"colorbar\":{\"outlinewidth\":0,\"ticks\":\"\"},\"type\":\"choropleth\"}],\"contour\":[{\"colorbar\":{\"outlinewidth\":0,\"ticks\":\"\"},\"colorscale\":[[0.0,\"#0d0887\"],[0.1111111111111111,\"#46039f\"],[0.2222222222222222,\"#7201a8\"],[0.3333333333333333,\"#9c179e\"],[0.4444444444444444,\"#bd3786\"],[0.5555555555555556,\"#d8576b\"],[0.6666666666666666,\"#ed7953\"],[0.7777777777777778,\"#fb9f3a\"],[0.8888888888888888,\"#fdca26\"],[1.0,\"#f0f921\"]],\"type\":\"contour\"}],\"contourcarpet\":[{\"colorbar\":{\"outlinewidth\":0,\"ticks\":\"\"},\"type\":\"contourcarpet\"}],\"heatmap\":[{\"colorbar\":{\"outlinewidth\":0,\"ticks\":\"\"},\"colorscale\":[[0.0,\"#0d0887\"],[0.1111111111111111,\"#46039f\"],[0.2222222222222222,\"#7201a8\"],[0.3333333333333333,\"#9c179e\"],[0.4444444444444444,\"#bd3786\"],[0.5555555555555556,\"#d8576b\"],[0.6666666666666666,\"#ed7953\"],[0.7777777777777778,\"#fb9f3a\"],[0.8888888888888888,\"#fdca26\"],[1.0,\"#f0f921\"]],\"type\":\"heatmap\"}],\"heatmapgl\":[{\"colorbar\":{\"outlinewidth\":0,\"ticks\":\"\"},\"colorscale\":[[0.0,\"#0d0887\"],[0.1111111111111111,\"#46039f\"],[0.2222222222222222,\"#7201a8\"],[0.3333333333333333,\"#9c179e\"],[0.4444444444444444,\"#bd3786\"],[0.5555555555555556,\"#d8576b\"],[0.6666666666666666,\"#ed7953\"],[0.7777777777777778,\"#fb9f3a\"],[0.8888888888888888,\"#fdca26\"],[1.0,\"#f0f921\"]],\"type\":\"heatmapgl\"}],\"histogram\":[{\"marker\":{\"pattern\":{\"fillmode\":\"overlay\",\"size\":10,\"solidity\":0.2}},\"type\":\"histogram\"}],\"histogram2d\":[{\"colorbar\":{\"outlinewidth\":0,\"ticks\":\"\"},\"colorscale\":[[0.0,\"#0d0887\"],[0.1111111111111111,\"#46039f\"],[0.2222222222222222,\"#7201a8\"],[0.3333333333333333,\"#9c179e\"],[0.4444444444444444,\"#bd3786\"],[0.5555555555555556,\"#d8576b\"],[0.6666666666666666,\"#ed7953\"],[0.7777777777777778,\"#fb9f3a\"],[0.8888888888888888,\"#fdca26\"],[1.0,\"#f0f921\"]],\"type\":\"histogram2d\"}],\"histogram2dcontour\":[{\"colorbar\":{\"outlinewidth\":0,\"ticks\":\"\"},\"colorscale\":[[0.0,\"#0d0887\"],[0.1111111111111111,\"#46039f\"],[0.2222222222222222,\"#7201a8\"],[0.3333333333333333,\"#9c179e\"],[0.4444444444444444,\"#bd3786\"],[0.5555555555555556,\"#d8576b\"],[0.6666666666666666,\"#ed7953\"],[0.7777777777777778,\"#fb9f3a\"],[0.8888888888888888,\"#fdca26\"],[1.0,\"#f0f921\"]],\"type\":\"histogram2dcontour\"}],\"mesh3d\":[{\"colorbar\":{\"outlinewidth\":0,\"ticks\":\"\"},\"type\":\"mesh3d\"}],\"parcoords\":[{\"line\":{\"colorbar\":{\"outlinewidth\":0,\"ticks\":\"\"}},\"type\":\"parcoords\"}],\"pie\":[{\"automargin\":true,\"type\":\"pie\"}],\"scatter\":[{\"marker\":{\"colorbar\":{\"outlinewidth\":0,\"ticks\":\"\"}},\"type\":\"scatter\"}],\"scatter3d\":[{\"line\":{\"colorbar\":{\"outlinewidth\":0,\"ticks\":\"\"}},\"marker\":{\"colorbar\":{\"outlinewidth\":0,\"ticks\":\"\"}},\"type\":\"scatter3d\"}],\"scattercarpet\":[{\"marker\":{\"colorbar\":{\"outlinewidth\":0,\"ticks\":\"\"}},\"type\":\"scattercarpet\"}],\"scattergeo\":[{\"marker\":{\"colorbar\":{\"outlinewidth\":0,\"ticks\":\"\"}},\"type\":\"scattergeo\"}],\"scattergl\":[{\"marker\":{\"colorbar\":{\"outlinewidth\":0,\"ticks\":\"\"}},\"type\":\"scattergl\"}],\"scattermapbox\":[{\"marker\":{\"colorbar\":{\"outlinewidth\":0,\"ticks\":\"\"}},\"type\":\"scattermapbox\"}],\"scatterpolar\":[{\"marker\":{\"colorbar\":{\"outlinewidth\":0,\"ticks\":\"\"}},\"type\":\"scatterpolar\"}],\"scatterpolargl\":[{\"marker\":{\"colorbar\":{\"outlinewidth\":0,\"ticks\":\"\"}},\"type\":\"scatterpolargl\"}],\"scatterternary\":[{\"marker\":{\"colorbar\":{\"outlinewidth\":0,\"ticks\":\"\"}},\"type\":\"scatterternary\"}],\"surface\":[{\"colorbar\":{\"outlinewidth\":0,\"ticks\":\"\"},\"colorscale\":[[0.0,\"#0d0887\"],[0.1111111111111111,\"#46039f\"],[0.2222222222222222,\"#7201a8\"],[0.3333333333333333,\"#9c179e\"],[0.4444444444444444,\"#bd3786\"],[0.5555555555555556,\"#d8576b\"],[0.6666666666666666,\"#ed7953\"],[0.7777777777777778,\"#fb9f3a\"],[0.8888888888888888,\"#fdca26\"],[1.0,\"#f0f921\"]],\"type\":\"surface\"}],\"table\":[{\"cells\":{\"fill\":{\"color\":\"#EBF0F8\"},\"line\":{\"color\":\"white\"}},\"header\":{\"fill\":{\"color\":\"#C8D4E3\"},\"line\":{\"color\":\"white\"}},\"type\":\"table\"}]},\"layout\":{\"annotationdefaults\":{\"arrowcolor\":\"#2a3f5f\",\"arrowhead\":0,\"arrowwidth\":1},\"autotypenumbers\":\"strict\",\"coloraxis\":{\"colorbar\":{\"outlinewidth\":0,\"ticks\":\"\"}},\"colorscale\":{\"diverging\":[[0,\"#8e0152\"],[0.1,\"#c51b7d\"],[0.2,\"#de77ae\"],[0.3,\"#f1b6da\"],[0.4,\"#fde0ef\"],[0.5,\"#f7f7f7\"],[0.6,\"#e6f5d0\"],[0.7,\"#b8e186\"],[0.8,\"#7fbc41\"],[0.9,\"#4d9221\"],[1,\"#276419\"]],\"sequential\":[[0.0,\"#0d0887\"],[0.1111111111111111,\"#46039f\"],[0.2222222222222222,\"#7201a8\"],[0.3333333333333333,\"#9c179e\"],[0.4444444444444444,\"#bd3786\"],[0.5555555555555556,\"#d8576b\"],[0.6666666666666666,\"#ed7953\"],[0.7777777777777778,\"#fb9f3a\"],[0.8888888888888888,\"#fdca26\"],[1.0,\"#f0f921\"]],\"sequentialminus\":[[0.0,\"#0d0887\"],[0.1111111111111111,\"#46039f\"],[0.2222222222222222,\"#7201a8\"],[0.3333333333333333,\"#9c179e\"],[0.4444444444444444,\"#bd3786\"],[0.5555555555555556,\"#d8576b\"],[0.6666666666666666,\"#ed7953\"],[0.7777777777777778,\"#fb9f3a\"],[0.8888888888888888,\"#fdca26\"],[1.0,\"#f0f921\"]]},\"colorway\":[\"#636efa\",\"#EF553B\",\"#00cc96\",\"#ab63fa\",\"#FFA15A\",\"#19d3f3\",\"#FF6692\",\"#B6E880\",\"#FF97FF\",\"#FECB52\"],\"font\":{\"color\":\"#2a3f5f\"},\"geo\":{\"bgcolor\":\"white\",\"lakecolor\":\"white\",\"landcolor\":\"#E5ECF6\",\"showlakes\":true,\"showland\":true,\"subunitcolor\":\"white\"},\"hoverlabel\":{\"align\":\"left\"},\"hovermode\":\"closest\",\"mapbox\":{\"style\":\"light\"},\"paper_bgcolor\":\"white\",\"plot_bgcolor\":\"#E5ECF6\",\"polar\":{\"angularaxis\":{\"gridcolor\":\"white\",\"linecolor\":\"white\",\"ticks\":\"\"},\"bgcolor\":\"#E5ECF6\",\"radialaxis\":{\"gridcolor\":\"white\",\"linecolor\":\"white\",\"ticks\":\"\"}},\"scene\":{\"xaxis\":{\"backgroundcolor\":\"#E5ECF6\",\"gridcolor\":\"white\",\"gridwidth\":2,\"linecolor\":\"white\",\"showbackground\":true,\"ticks\":\"\",\"zerolinecolor\":\"white\"},\"yaxis\":{\"backgroundcolor\":\"#E5ECF6\",\"gridcolor\":\"white\",\"gridwidth\":2,\"linecolor\":\"white\",\"showbackground\":true,\"ticks\":\"\",\"zerolinecolor\":\"white\"},\"zaxis\":{\"backgroundcolor\":\"#E5ECF6\",\"gridcolor\":\"white\",\"gridwidth\":2,\"linecolor\":\"white\",\"showbackground\":true,\"ticks\":\"\",\"zerolinecolor\":\"white\"}},\"shapedefaults\":{\"line\":{\"color\":\"#2a3f5f\"}},\"ternary\":{\"aaxis\":{\"gridcolor\":\"white\",\"linecolor\":\"white\",\"ticks\":\"\"},\"baxis\":{\"gridcolor\":\"white\",\"linecolor\":\"white\",\"ticks\":\"\"},\"bgcolor\":\"#E5ECF6\",\"caxis\":{\"gridcolor\":\"white\",\"linecolor\":\"white\",\"ticks\":\"\"}},\"title\":{\"x\":0.05},\"xaxis\":{\"automargin\":true,\"gridcolor\":\"white\",\"linecolor\":\"white\",\"ticks\":\"\",\"title\":{\"standoff\":15},\"zerolinecolor\":\"white\",\"zerolinewidth\":2},\"yaxis\":{\"automargin\":true,\"gridcolor\":\"white\",\"linecolor\":\"white\",\"ticks\":\"\",\"title\":{\"standoff\":15},\"zerolinecolor\":\"white\",\"zerolinewidth\":2}}},\"xaxis\":{\"anchor\":\"y\",\"domain\":[0.0,1.0],\"title\":{\"text\":\"\\u041a\\u043e\\u043b\\u0438\\u0447\\u0435\\u0441\\u0442\\u0432\\u043e\"}},\"yaxis\":{\"anchor\":\"x\",\"domain\":[0.0,1.0],\"title\":{\"text\":\"\\u0422\\u0438\\u043f \\u043e\\u0431\\u044a\\u0435\\u043a\\u0442\\u0430\"}},\"legend\":{\"tracegroupgap\":0},\"title\":{\"text\":\"\\u0421\\u043e\\u043e\\u0442\\u043d\\u043e\\u0448\\u0435\\u043d\\u0438\\u0435 \\u0432\\u0438\\u0434\\u043e\\u0432 \\u043e\\u0431\\u044a\\u0435\\u043a\\u0442\\u043e\\u0432 \\u043e\\u0431\\u0449\\u0435\\u0441\\u0442\\u0432\\u0435\\u043d\\u043d\\u043e\\u0433\\u043e \\u043f\\u0438\\u0442\\u0430\\u043d\\u0438\\u044f \\u0432 \\u041c\\u043e\\u0441\\u043a\\u0432\\u0435\"},\"barmode\":\"relative\",\"height\":600,\"width\":900},                        {\"responsive\": true}                    ).then(function(){\n",
              "                            \n",
              "var gd = document.getElementById('cd9e43d7-f1f2-4be8-9699-f4de482c788b');\n",
              "var x = new MutationObserver(function (mutations, observer) {{\n",
              "        var display = window.getComputedStyle(gd).display;\n",
              "        if (!display || display === 'none') {{\n",
              "            console.log([gd, 'removed!']);\n",
              "            Plotly.purge(gd);\n",
              "            observer.disconnect();\n",
              "        }}\n",
              "}});\n",
              "\n",
              "// Listen for the removal of the full notebook cells\n",
              "var notebookContainer = gd.closest('#notebook-container');\n",
              "if (notebookContainer) {{\n",
              "    x.observe(notebookContainer, {childList: true});\n",
              "}}\n",
              "\n",
              "// Listen for the clearing of the current output cell\n",
              "var outputEl = gd.closest('.output');\n",
              "if (outputEl) {{\n",
              "    x.observe(outputEl, {childList: true});\n",
              "}}\n",
              "\n",
              "                        })                };                            </script>        </div>\n",
              "</body>\n",
              "</html>"
            ]
          },
          "metadata": {}
        }
      ],
      "source": [
        "# график распределения объектов общественного питания по видам\n",
        "fig = px.bar(rest_type, \n",
        "             x='object_number', \n",
        "             y='object_type',\n",
        "             title='Соотношение видов объектов общественного питания в Москве', \n",
        "             width=900, height=600,\n",
        "             text='%'\n",
        ")\n",
        "fig.update_layout(\n",
        "    yaxis_title='Тип объекта',\n",
        "    xaxis_title='Количество')\n",
        "fig.show()  "
      ]
    },
    {
      "cell_type": "markdown",
      "metadata": {
        "id": "yTOFWttZKrfg"
      },
      "source": [
        "Кафе (40%) - самой популярный формат объекта общественного питания в Москве. Далее следуют столовая (17%) и ресторан (15%). Предприятие быстрого питания на четвертом месте (13%). Доли других форматов незначительны."
      ]
    },
    {
      "cell_type": "markdown",
      "metadata": {
        "id": "n6xkE3tfKrfj"
      },
      "source": [
        "### Соотношение сетевых и несетевых заведений по количеству. График. <a id=\"task2\"></a> "
      ]
    },
    {
      "cell_type": "code",
      "execution_count": 11,
      "metadata": {
        "id": "s6YESG0DKrfj"
      },
      "outputs": [],
      "source": [
        "# цветовые палитры, доступные в plotly express\n",
        "# dir(px.colors.qualitative)"
      ]
    },
    {
      "cell_type": "code",
      "execution_count": 12,
      "metadata": {
        "colab": {
          "base_uri": "https://localhost:8080/",
          "height": 542
        },
        "id": "IU2rzAjTKrfm",
        "outputId": "a2ed9e29-72d8-423f-f147-ef6de5cccadf"
      },
      "outputs": [
        {
          "output_type": "display_data",
          "data": {
            "text/html": [
              "<html>\n",
              "<head><meta charset=\"utf-8\" /></head>\n",
              "<body>\n",
              "    <div>            <script src=\"https://cdnjs.cloudflare.com/ajax/libs/mathjax/2.7.5/MathJax.js?config=TeX-AMS-MML_SVG\"></script><script type=\"text/javascript\">if (window.MathJax) {MathJax.Hub.Config({SVG: {font: \"STIX-Web\"}});}</script>                <script type=\"text/javascript\">window.PlotlyConfig = {MathJaxConfig: 'local'};</script>\n",
              "        <script src=\"https://cdn.plot.ly/plotly-2.8.3.min.js\"></script>                <div id=\"c7459542-83a7-4a16-85c6-91c7e314ee83\" class=\"plotly-graph-div\" style=\"height:525px; width:600px;\"></div>            <script type=\"text/javascript\">                                    window.PLOTLYENV=window.PLOTLYENV || {};                                    if (document.getElementById(\"c7459542-83a7-4a16-85c6-91c7e314ee83\")) {                    Plotly.newPlot(                        \"c7459542-83a7-4a16-85c6-91c7e314ee83\",                        [{\"labels\":[\"\\u0421\\u0435\\u0442\\u0435\\u0432\\u043e\\u0439\",\"\\u041d\\u0435\\u0441\\u0435\\u0442\\u0435\\u0432\\u043e\\u0439\"],\"values\":[12320,2964],\"type\":\"pie\"}],                        {\"template\":{\"data\":{\"bar\":[{\"error_x\":{\"color\":\"#2a3f5f\"},\"error_y\":{\"color\":\"#2a3f5f\"},\"marker\":{\"line\":{\"color\":\"#E5ECF6\",\"width\":0.5},\"pattern\":{\"fillmode\":\"overlay\",\"size\":10,\"solidity\":0.2}},\"type\":\"bar\"}],\"barpolar\":[{\"marker\":{\"line\":{\"color\":\"#E5ECF6\",\"width\":0.5},\"pattern\":{\"fillmode\":\"overlay\",\"size\":10,\"solidity\":0.2}},\"type\":\"barpolar\"}],\"carpet\":[{\"aaxis\":{\"endlinecolor\":\"#2a3f5f\",\"gridcolor\":\"white\",\"linecolor\":\"white\",\"minorgridcolor\":\"white\",\"startlinecolor\":\"#2a3f5f\"},\"baxis\":{\"endlinecolor\":\"#2a3f5f\",\"gridcolor\":\"white\",\"linecolor\":\"white\",\"minorgridcolor\":\"white\",\"startlinecolor\":\"#2a3f5f\"},\"type\":\"carpet\"}],\"choropleth\":[{\"colorbar\":{\"outlinewidth\":0,\"ticks\":\"\"},\"type\":\"choropleth\"}],\"contour\":[{\"colorbar\":{\"outlinewidth\":0,\"ticks\":\"\"},\"colorscale\":[[0.0,\"#0d0887\"],[0.1111111111111111,\"#46039f\"],[0.2222222222222222,\"#7201a8\"],[0.3333333333333333,\"#9c179e\"],[0.4444444444444444,\"#bd3786\"],[0.5555555555555556,\"#d8576b\"],[0.6666666666666666,\"#ed7953\"],[0.7777777777777778,\"#fb9f3a\"],[0.8888888888888888,\"#fdca26\"],[1.0,\"#f0f921\"]],\"type\":\"contour\"}],\"contourcarpet\":[{\"colorbar\":{\"outlinewidth\":0,\"ticks\":\"\"},\"type\":\"contourcarpet\"}],\"heatmap\":[{\"colorbar\":{\"outlinewidth\":0,\"ticks\":\"\"},\"colorscale\":[[0.0,\"#0d0887\"],[0.1111111111111111,\"#46039f\"],[0.2222222222222222,\"#7201a8\"],[0.3333333333333333,\"#9c179e\"],[0.4444444444444444,\"#bd3786\"],[0.5555555555555556,\"#d8576b\"],[0.6666666666666666,\"#ed7953\"],[0.7777777777777778,\"#fb9f3a\"],[0.8888888888888888,\"#fdca26\"],[1.0,\"#f0f921\"]],\"type\":\"heatmap\"}],\"heatmapgl\":[{\"colorbar\":{\"outlinewidth\":0,\"ticks\":\"\"},\"colorscale\":[[0.0,\"#0d0887\"],[0.1111111111111111,\"#46039f\"],[0.2222222222222222,\"#7201a8\"],[0.3333333333333333,\"#9c179e\"],[0.4444444444444444,\"#bd3786\"],[0.5555555555555556,\"#d8576b\"],[0.6666666666666666,\"#ed7953\"],[0.7777777777777778,\"#fb9f3a\"],[0.8888888888888888,\"#fdca26\"],[1.0,\"#f0f921\"]],\"type\":\"heatmapgl\"}],\"histogram\":[{\"marker\":{\"pattern\":{\"fillmode\":\"overlay\",\"size\":10,\"solidity\":0.2}},\"type\":\"histogram\"}],\"histogram2d\":[{\"colorbar\":{\"outlinewidth\":0,\"ticks\":\"\"},\"colorscale\":[[0.0,\"#0d0887\"],[0.1111111111111111,\"#46039f\"],[0.2222222222222222,\"#7201a8\"],[0.3333333333333333,\"#9c179e\"],[0.4444444444444444,\"#bd3786\"],[0.5555555555555556,\"#d8576b\"],[0.6666666666666666,\"#ed7953\"],[0.7777777777777778,\"#fb9f3a\"],[0.8888888888888888,\"#fdca26\"],[1.0,\"#f0f921\"]],\"type\":\"histogram2d\"}],\"histogram2dcontour\":[{\"colorbar\":{\"outlinewidth\":0,\"ticks\":\"\"},\"colorscale\":[[0.0,\"#0d0887\"],[0.1111111111111111,\"#46039f\"],[0.2222222222222222,\"#7201a8\"],[0.3333333333333333,\"#9c179e\"],[0.4444444444444444,\"#bd3786\"],[0.5555555555555556,\"#d8576b\"],[0.6666666666666666,\"#ed7953\"],[0.7777777777777778,\"#fb9f3a\"],[0.8888888888888888,\"#fdca26\"],[1.0,\"#f0f921\"]],\"type\":\"histogram2dcontour\"}],\"mesh3d\":[{\"colorbar\":{\"outlinewidth\":0,\"ticks\":\"\"},\"type\":\"mesh3d\"}],\"parcoords\":[{\"line\":{\"colorbar\":{\"outlinewidth\":0,\"ticks\":\"\"}},\"type\":\"parcoords\"}],\"pie\":[{\"automargin\":true,\"type\":\"pie\"}],\"scatter\":[{\"marker\":{\"colorbar\":{\"outlinewidth\":0,\"ticks\":\"\"}},\"type\":\"scatter\"}],\"scatter3d\":[{\"line\":{\"colorbar\":{\"outlinewidth\":0,\"ticks\":\"\"}},\"marker\":{\"colorbar\":{\"outlinewidth\":0,\"ticks\":\"\"}},\"type\":\"scatter3d\"}],\"scattercarpet\":[{\"marker\":{\"colorbar\":{\"outlinewidth\":0,\"ticks\":\"\"}},\"type\":\"scattercarpet\"}],\"scattergeo\":[{\"marker\":{\"colorbar\":{\"outlinewidth\":0,\"ticks\":\"\"}},\"type\":\"scattergeo\"}],\"scattergl\":[{\"marker\":{\"colorbar\":{\"outlinewidth\":0,\"ticks\":\"\"}},\"type\":\"scattergl\"}],\"scattermapbox\":[{\"marker\":{\"colorbar\":{\"outlinewidth\":0,\"ticks\":\"\"}},\"type\":\"scattermapbox\"}],\"scatterpolar\":[{\"marker\":{\"colorbar\":{\"outlinewidth\":0,\"ticks\":\"\"}},\"type\":\"scatterpolar\"}],\"scatterpolargl\":[{\"marker\":{\"colorbar\":{\"outlinewidth\":0,\"ticks\":\"\"}},\"type\":\"scatterpolargl\"}],\"scatterternary\":[{\"marker\":{\"colorbar\":{\"outlinewidth\":0,\"ticks\":\"\"}},\"type\":\"scatterternary\"}],\"surface\":[{\"colorbar\":{\"outlinewidth\":0,\"ticks\":\"\"},\"colorscale\":[[0.0,\"#0d0887\"],[0.1111111111111111,\"#46039f\"],[0.2222222222222222,\"#7201a8\"],[0.3333333333333333,\"#9c179e\"],[0.4444444444444444,\"#bd3786\"],[0.5555555555555556,\"#d8576b\"],[0.6666666666666666,\"#ed7953\"],[0.7777777777777778,\"#fb9f3a\"],[0.8888888888888888,\"#fdca26\"],[1.0,\"#f0f921\"]],\"type\":\"surface\"}],\"table\":[{\"cells\":{\"fill\":{\"color\":\"#EBF0F8\"},\"line\":{\"color\":\"white\"}},\"header\":{\"fill\":{\"color\":\"#C8D4E3\"},\"line\":{\"color\":\"white\"}},\"type\":\"table\"}]},\"layout\":{\"annotationdefaults\":{\"arrowcolor\":\"#2a3f5f\",\"arrowhead\":0,\"arrowwidth\":1},\"autotypenumbers\":\"strict\",\"coloraxis\":{\"colorbar\":{\"outlinewidth\":0,\"ticks\":\"\"}},\"colorscale\":{\"diverging\":[[0,\"#8e0152\"],[0.1,\"#c51b7d\"],[0.2,\"#de77ae\"],[0.3,\"#f1b6da\"],[0.4,\"#fde0ef\"],[0.5,\"#f7f7f7\"],[0.6,\"#e6f5d0\"],[0.7,\"#b8e186\"],[0.8,\"#7fbc41\"],[0.9,\"#4d9221\"],[1,\"#276419\"]],\"sequential\":[[0.0,\"#0d0887\"],[0.1111111111111111,\"#46039f\"],[0.2222222222222222,\"#7201a8\"],[0.3333333333333333,\"#9c179e\"],[0.4444444444444444,\"#bd3786\"],[0.5555555555555556,\"#d8576b\"],[0.6666666666666666,\"#ed7953\"],[0.7777777777777778,\"#fb9f3a\"],[0.8888888888888888,\"#fdca26\"],[1.0,\"#f0f921\"]],\"sequentialminus\":[[0.0,\"#0d0887\"],[0.1111111111111111,\"#46039f\"],[0.2222222222222222,\"#7201a8\"],[0.3333333333333333,\"#9c179e\"],[0.4444444444444444,\"#bd3786\"],[0.5555555555555556,\"#d8576b\"],[0.6666666666666666,\"#ed7953\"],[0.7777777777777778,\"#fb9f3a\"],[0.8888888888888888,\"#fdca26\"],[1.0,\"#f0f921\"]]},\"colorway\":[\"#636efa\",\"#EF553B\",\"#00cc96\",\"#ab63fa\",\"#FFA15A\",\"#19d3f3\",\"#FF6692\",\"#B6E880\",\"#FF97FF\",\"#FECB52\"],\"font\":{\"color\":\"#2a3f5f\"},\"geo\":{\"bgcolor\":\"white\",\"lakecolor\":\"white\",\"landcolor\":\"#E5ECF6\",\"showlakes\":true,\"showland\":true,\"subunitcolor\":\"white\"},\"hoverlabel\":{\"align\":\"left\"},\"hovermode\":\"closest\",\"mapbox\":{\"style\":\"light\"},\"paper_bgcolor\":\"white\",\"plot_bgcolor\":\"#E5ECF6\",\"polar\":{\"angularaxis\":{\"gridcolor\":\"white\",\"linecolor\":\"white\",\"ticks\":\"\"},\"bgcolor\":\"#E5ECF6\",\"radialaxis\":{\"gridcolor\":\"white\",\"linecolor\":\"white\",\"ticks\":\"\"}},\"scene\":{\"xaxis\":{\"backgroundcolor\":\"#E5ECF6\",\"gridcolor\":\"white\",\"gridwidth\":2,\"linecolor\":\"white\",\"showbackground\":true,\"ticks\":\"\",\"zerolinecolor\":\"white\"},\"yaxis\":{\"backgroundcolor\":\"#E5ECF6\",\"gridcolor\":\"white\",\"gridwidth\":2,\"linecolor\":\"white\",\"showbackground\":true,\"ticks\":\"\",\"zerolinecolor\":\"white\"},\"zaxis\":{\"backgroundcolor\":\"#E5ECF6\",\"gridcolor\":\"white\",\"gridwidth\":2,\"linecolor\":\"white\",\"showbackground\":true,\"ticks\":\"\",\"zerolinecolor\":\"white\"}},\"shapedefaults\":{\"line\":{\"color\":\"#2a3f5f\"}},\"ternary\":{\"aaxis\":{\"gridcolor\":\"white\",\"linecolor\":\"white\",\"ticks\":\"\"},\"baxis\":{\"gridcolor\":\"white\",\"linecolor\":\"white\",\"ticks\":\"\"},\"bgcolor\":\"#E5ECF6\",\"caxis\":{\"gridcolor\":\"white\",\"linecolor\":\"white\",\"ticks\":\"\"}},\"title\":{\"x\":0.05},\"xaxis\":{\"automargin\":true,\"gridcolor\":\"white\",\"linecolor\":\"white\",\"ticks\":\"\",\"title\":{\"standoff\":15},\"zerolinecolor\":\"white\",\"zerolinewidth\":2},\"yaxis\":{\"automargin\":true,\"gridcolor\":\"white\",\"linecolor\":\"white\",\"ticks\":\"\",\"title\":{\"standoff\":15},\"zerolinecolor\":\"white\",\"zerolinewidth\":2}}},\"title\":{\"text\":\"\\u0421\\u043e\\u043e\\u0442\\u043d\\u043e\\u0448\\u0435\\u043d\\u0438\\u0435 \\u0441\\u0435\\u0442\\u0435\\u0432\\u044b\\u0445 \\u0438 \\u043d\\u0435\\u0441\\u0435\\u0442\\u0435\\u0432\\u044b\\u0445 \\u0437\\u0430\\u0432\\u0435\\u0434\\u0435\\u043d\\u0438\\u0439 \\u043f\\u043e \\u043a\\u043e\\u043b\\u0438\\u0447\\u0435\\u0441\\u0442\\u0432\\u0443\"},\"width\":600},                        {\"responsive\": true}                    ).then(function(){\n",
              "                            \n",
              "var gd = document.getElementById('c7459542-83a7-4a16-85c6-91c7e314ee83');\n",
              "var x = new MutationObserver(function (mutations, observer) {{\n",
              "        var display = window.getComputedStyle(gd).display;\n",
              "        if (!display || display === 'none') {{\n",
              "            console.log([gd, 'removed!']);\n",
              "            Plotly.purge(gd);\n",
              "            observer.disconnect();\n",
              "        }}\n",
              "}});\n",
              "\n",
              "// Listen for the removal of the full notebook cells\n",
              "var notebookContainer = gd.closest('#notebook-container');\n",
              "if (notebookContainer) {{\n",
              "    x.observe(notebookContainer, {childList: true});\n",
              "}}\n",
              "\n",
              "// Listen for the clearing of the current output cell\n",
              "var outputEl = gd.closest('.output');\n",
              "if (outputEl) {{\n",
              "    x.observe(outputEl, {childList: true});\n",
              "}}\n",
              "\n",
              "                        })                };                            </script>        </div>\n",
              "</body>\n",
              "</html>"
            ]
          },
          "metadata": {}
        }
      ],
      "source": [
        "# отражу cоотношение сетевых и несетевых заведений по количеству в круговой диаграмме\n",
        "labels = [\n",
        "    'Сетевой',\n",
        "    'Несетевой'\n",
        "]\n",
        "fig = go.Figure(data=[go.Pie(labels=labels, \n",
        "                             values=rest_data['chain'].value_counts())\n",
        "                     ])\n",
        "fig.update_layout(\n",
        "    title={'text':'Соотношение сетевых и несетевых заведений по количеству'},\n",
        "    width = 600\n",
        "    )\n",
        "fig.show()"
      ]
    },
    {
      "cell_type": "markdown",
      "metadata": {
        "id": "NfIG29WNKrfo"
      },
      "source": [
        "График показывает, что в Москве 80% несетевых заведений питания и 20% - сетевых."
      ]
    },
    {
      "cell_type": "markdown",
      "metadata": {
        "id": "I9QGfMRmKrft"
      },
      "source": [
        "### Сетевые объекты общественного питания"
      ]
    },
    {
      "cell_type": "code",
      "execution_count": 13,
      "metadata": {
        "colab": {
          "base_uri": "https://localhost:8080/",
          "height": 250
        },
        "id": "qMrd2tBeKrfu",
        "outputId": "441eeb94-6a34-4ab2-f090-e6a9f689becf"
      },
      "outputs": [
        {
          "output_type": "execute_result",
          "data": {
            "text/plain": [
              "        id object_name chain                        object_type  \\\n",
              "3    21894  ПИЦЦЕТОРИЯ    да                               кафе   \n",
              "6   148815    Брусника    да                               кафе   \n",
              "13   22579  Алло Пицца    да                               кафе   \n",
              "16  144107    Суши Wok    да  предприятие быстрого обслуживания   \n",
              "18   58565      Тануки    да                           ресторан   \n",
              "\n",
              "                                              address  number  \n",
              "3             город Москва, Абрамцевская улица, дом 1      40  \n",
              "6       город Москва, переулок Сивцев Вражек, дом 6/2      10  \n",
              "13              город Москва, улица Авиаторов, дом 14      32  \n",
              "16                город Москва, Азовская улица, дом 3       7  \n",
              "18  город Москва, Большая Академическая улица, дом 65     160  "
            ],
            "text/html": [
              "\n",
              "  <div id=\"df-87c4bf49-8a83-40d3-a588-a4e45fbf69e8\">\n",
              "    <div class=\"colab-df-container\">\n",
              "      <div>\n",
              "<style scoped>\n",
              "    .dataframe tbody tr th:only-of-type {\n",
              "        vertical-align: middle;\n",
              "    }\n",
              "\n",
              "    .dataframe tbody tr th {\n",
              "        vertical-align: top;\n",
              "    }\n",
              "\n",
              "    .dataframe thead th {\n",
              "        text-align: right;\n",
              "    }\n",
              "</style>\n",
              "<table border=\"1\" class=\"dataframe\">\n",
              "  <thead>\n",
              "    <tr style=\"text-align: right;\">\n",
              "      <th></th>\n",
              "      <th>id</th>\n",
              "      <th>object_name</th>\n",
              "      <th>chain</th>\n",
              "      <th>object_type</th>\n",
              "      <th>address</th>\n",
              "      <th>number</th>\n",
              "    </tr>\n",
              "  </thead>\n",
              "  <tbody>\n",
              "    <tr>\n",
              "      <th>3</th>\n",
              "      <td>21894</td>\n",
              "      <td>ПИЦЦЕТОРИЯ</td>\n",
              "      <td>да</td>\n",
              "      <td>кафе</td>\n",
              "      <td>город Москва, Абрамцевская улица, дом 1</td>\n",
              "      <td>40</td>\n",
              "    </tr>\n",
              "    <tr>\n",
              "      <th>6</th>\n",
              "      <td>148815</td>\n",
              "      <td>Брусника</td>\n",
              "      <td>да</td>\n",
              "      <td>кафе</td>\n",
              "      <td>город Москва, переулок Сивцев Вражек, дом 6/2</td>\n",
              "      <td>10</td>\n",
              "    </tr>\n",
              "    <tr>\n",
              "      <th>13</th>\n",
              "      <td>22579</td>\n",
              "      <td>Алло Пицца</td>\n",
              "      <td>да</td>\n",
              "      <td>кафе</td>\n",
              "      <td>город Москва, улица Авиаторов, дом 14</td>\n",
              "      <td>32</td>\n",
              "    </tr>\n",
              "    <tr>\n",
              "      <th>16</th>\n",
              "      <td>144107</td>\n",
              "      <td>Суши Wok</td>\n",
              "      <td>да</td>\n",
              "      <td>предприятие быстрого обслуживания</td>\n",
              "      <td>город Москва, Азовская улица, дом 3</td>\n",
              "      <td>7</td>\n",
              "    </tr>\n",
              "    <tr>\n",
              "      <th>18</th>\n",
              "      <td>58565</td>\n",
              "      <td>Тануки</td>\n",
              "      <td>да</td>\n",
              "      <td>ресторан</td>\n",
              "      <td>город Москва, Большая Академическая улица, дом 65</td>\n",
              "      <td>160</td>\n",
              "    </tr>\n",
              "  </tbody>\n",
              "</table>\n",
              "</div>\n",
              "      <button class=\"colab-df-convert\" onclick=\"convertToInteractive('df-87c4bf49-8a83-40d3-a588-a4e45fbf69e8')\"\n",
              "              title=\"Convert this dataframe to an interactive table.\"\n",
              "              style=\"display:none;\">\n",
              "        \n",
              "  <svg xmlns=\"http://www.w3.org/2000/svg\" height=\"24px\"viewBox=\"0 0 24 24\"\n",
              "       width=\"24px\">\n",
              "    <path d=\"M0 0h24v24H0V0z\" fill=\"none\"/>\n",
              "    <path d=\"M18.56 5.44l.94 2.06.94-2.06 2.06-.94-2.06-.94-.94-2.06-.94 2.06-2.06.94zm-11 1L8.5 8.5l.94-2.06 2.06-.94-2.06-.94L8.5 2.5l-.94 2.06-2.06.94zm10 10l.94 2.06.94-2.06 2.06-.94-2.06-.94-.94-2.06-.94 2.06-2.06.94z\"/><path d=\"M17.41 7.96l-1.37-1.37c-.4-.4-.92-.59-1.43-.59-.52 0-1.04.2-1.43.59L10.3 9.45l-7.72 7.72c-.78.78-.78 2.05 0 2.83L4 21.41c.39.39.9.59 1.41.59.51 0 1.02-.2 1.41-.59l7.78-7.78 2.81-2.81c.8-.78.8-2.07 0-2.86zM5.41 20L4 18.59l7.72-7.72 1.47 1.35L5.41 20z\"/>\n",
              "  </svg>\n",
              "      </button>\n",
              "      \n",
              "  <style>\n",
              "    .colab-df-container {\n",
              "      display:flex;\n",
              "      flex-wrap:wrap;\n",
              "      gap: 12px;\n",
              "    }\n",
              "\n",
              "    .colab-df-convert {\n",
              "      background-color: #E8F0FE;\n",
              "      border: none;\n",
              "      border-radius: 50%;\n",
              "      cursor: pointer;\n",
              "      display: none;\n",
              "      fill: #1967D2;\n",
              "      height: 32px;\n",
              "      padding: 0 0 0 0;\n",
              "      width: 32px;\n",
              "    }\n",
              "\n",
              "    .colab-df-convert:hover {\n",
              "      background-color: #E2EBFA;\n",
              "      box-shadow: 0px 1px 2px rgba(60, 64, 67, 0.3), 0px 1px 3px 1px rgba(60, 64, 67, 0.15);\n",
              "      fill: #174EA6;\n",
              "    }\n",
              "\n",
              "    [theme=dark] .colab-df-convert {\n",
              "      background-color: #3B4455;\n",
              "      fill: #D2E3FC;\n",
              "    }\n",
              "\n",
              "    [theme=dark] .colab-df-convert:hover {\n",
              "      background-color: #434B5C;\n",
              "      box-shadow: 0px 1px 3px 1px rgba(0, 0, 0, 0.15);\n",
              "      filter: drop-shadow(0px 1px 2px rgba(0, 0, 0, 0.3));\n",
              "      fill: #FFFFFF;\n",
              "    }\n",
              "  </style>\n",
              "\n",
              "      <script>\n",
              "        const buttonEl =\n",
              "          document.querySelector('#df-87c4bf49-8a83-40d3-a588-a4e45fbf69e8 button.colab-df-convert');\n",
              "        buttonEl.style.display =\n",
              "          google.colab.kernel.accessAllowed ? 'block' : 'none';\n",
              "\n",
              "        async function convertToInteractive(key) {\n",
              "          const element = document.querySelector('#df-87c4bf49-8a83-40d3-a588-a4e45fbf69e8');\n",
              "          const dataTable =\n",
              "            await google.colab.kernel.invokeFunction('convertToInteractive',\n",
              "                                                     [key], {});\n",
              "          if (!dataTable) return;\n",
              "\n",
              "          const docLinkHtml = 'Like what you see? Visit the ' +\n",
              "            '<a target=\"_blank\" href=https://colab.research.google.com/notebooks/data_table.ipynb>data table notebook</a>'\n",
              "            + ' to learn more about interactive tables.';\n",
              "          element.innerHTML = '';\n",
              "          dataTable['output_type'] = 'display_data';\n",
              "          await google.colab.output.renderOutput(dataTable, element);\n",
              "          const docLink = document.createElement('div');\n",
              "          docLink.innerHTML = docLinkHtml;\n",
              "          element.appendChild(docLink);\n",
              "        }\n",
              "      </script>\n",
              "    </div>\n",
              "  </div>\n",
              "  "
            ]
          },
          "metadata": {},
          "execution_count": 13
        }
      ],
      "source": [
        "# сделаю срез данных по сетевым заведениям\n",
        "rest_chain_yes = rest_data[rest_data['chain']=='да']\n",
        "rest_chain_yes.head(5)"
      ]
    },
    {
      "cell_type": "code",
      "execution_count": 14,
      "metadata": {
        "colab": {
          "base_uri": "https://localhost:8080/",
          "height": 332
        },
        "id": "EFZyJwvMKrfy",
        "outputId": "6e97e40a-c13c-481a-f5e4-580543552d5e"
      },
      "outputs": [
        {
          "output_type": "execute_result",
          "data": {
            "text/plain": [
              "                         object_type  object_number      %\n",
              "3                               кафе           1396  47.0%\n",
              "6  предприятие быстрого обслуживания            788  27.0%\n",
              "7                           ресторан            543  18.0%\n",
              "5          магазин (отдел кулинарии)             78   3.0%\n",
              "2                         закусочная             56   2.0%\n",
              "4                          кафетерий             52   2.0%\n",
              "0                                бар             37   1.0%\n",
              "1                              буфет             11   0.0%\n",
              "8                           столовая              3   0.0%"
            ],
            "text/html": [
              "\n",
              "  <div id=\"df-57da1f17-ce68-4e63-a513-7e29cde2ff31\">\n",
              "    <div class=\"colab-df-container\">\n",
              "      <div>\n",
              "<style scoped>\n",
              "    .dataframe tbody tr th:only-of-type {\n",
              "        vertical-align: middle;\n",
              "    }\n",
              "\n",
              "    .dataframe tbody tr th {\n",
              "        vertical-align: top;\n",
              "    }\n",
              "\n",
              "    .dataframe thead th {\n",
              "        text-align: right;\n",
              "    }\n",
              "</style>\n",
              "<table border=\"1\" class=\"dataframe\">\n",
              "  <thead>\n",
              "    <tr style=\"text-align: right;\">\n",
              "      <th></th>\n",
              "      <th>object_type</th>\n",
              "      <th>object_number</th>\n",
              "      <th>%</th>\n",
              "    </tr>\n",
              "  </thead>\n",
              "  <tbody>\n",
              "    <tr>\n",
              "      <th>3</th>\n",
              "      <td>кафе</td>\n",
              "      <td>1396</td>\n",
              "      <td>47.0%</td>\n",
              "    </tr>\n",
              "    <tr>\n",
              "      <th>6</th>\n",
              "      <td>предприятие быстрого обслуживания</td>\n",
              "      <td>788</td>\n",
              "      <td>27.0%</td>\n",
              "    </tr>\n",
              "    <tr>\n",
              "      <th>7</th>\n",
              "      <td>ресторан</td>\n",
              "      <td>543</td>\n",
              "      <td>18.0%</td>\n",
              "    </tr>\n",
              "    <tr>\n",
              "      <th>5</th>\n",
              "      <td>магазин (отдел кулинарии)</td>\n",
              "      <td>78</td>\n",
              "      <td>3.0%</td>\n",
              "    </tr>\n",
              "    <tr>\n",
              "      <th>2</th>\n",
              "      <td>закусочная</td>\n",
              "      <td>56</td>\n",
              "      <td>2.0%</td>\n",
              "    </tr>\n",
              "    <tr>\n",
              "      <th>4</th>\n",
              "      <td>кафетерий</td>\n",
              "      <td>52</td>\n",
              "      <td>2.0%</td>\n",
              "    </tr>\n",
              "    <tr>\n",
              "      <th>0</th>\n",
              "      <td>бар</td>\n",
              "      <td>37</td>\n",
              "      <td>1.0%</td>\n",
              "    </tr>\n",
              "    <tr>\n",
              "      <th>1</th>\n",
              "      <td>буфет</td>\n",
              "      <td>11</td>\n",
              "      <td>0.0%</td>\n",
              "    </tr>\n",
              "    <tr>\n",
              "      <th>8</th>\n",
              "      <td>столовая</td>\n",
              "      <td>3</td>\n",
              "      <td>0.0%</td>\n",
              "    </tr>\n",
              "  </tbody>\n",
              "</table>\n",
              "</div>\n",
              "      <button class=\"colab-df-convert\" onclick=\"convertToInteractive('df-57da1f17-ce68-4e63-a513-7e29cde2ff31')\"\n",
              "              title=\"Convert this dataframe to an interactive table.\"\n",
              "              style=\"display:none;\">\n",
              "        \n",
              "  <svg xmlns=\"http://www.w3.org/2000/svg\" height=\"24px\"viewBox=\"0 0 24 24\"\n",
              "       width=\"24px\">\n",
              "    <path d=\"M0 0h24v24H0V0z\" fill=\"none\"/>\n",
              "    <path d=\"M18.56 5.44l.94 2.06.94-2.06 2.06-.94-2.06-.94-.94-2.06-.94 2.06-2.06.94zm-11 1L8.5 8.5l.94-2.06 2.06-.94-2.06-.94L8.5 2.5l-.94 2.06-2.06.94zm10 10l.94 2.06.94-2.06 2.06-.94-2.06-.94-.94-2.06-.94 2.06-2.06.94z\"/><path d=\"M17.41 7.96l-1.37-1.37c-.4-.4-.92-.59-1.43-.59-.52 0-1.04.2-1.43.59L10.3 9.45l-7.72 7.72c-.78.78-.78 2.05 0 2.83L4 21.41c.39.39.9.59 1.41.59.51 0 1.02-.2 1.41-.59l7.78-7.78 2.81-2.81c.8-.78.8-2.07 0-2.86zM5.41 20L4 18.59l7.72-7.72 1.47 1.35L5.41 20z\"/>\n",
              "  </svg>\n",
              "      </button>\n",
              "      \n",
              "  <style>\n",
              "    .colab-df-container {\n",
              "      display:flex;\n",
              "      flex-wrap:wrap;\n",
              "      gap: 12px;\n",
              "    }\n",
              "\n",
              "    .colab-df-convert {\n",
              "      background-color: #E8F0FE;\n",
              "      border: none;\n",
              "      border-radius: 50%;\n",
              "      cursor: pointer;\n",
              "      display: none;\n",
              "      fill: #1967D2;\n",
              "      height: 32px;\n",
              "      padding: 0 0 0 0;\n",
              "      width: 32px;\n",
              "    }\n",
              "\n",
              "    .colab-df-convert:hover {\n",
              "      background-color: #E2EBFA;\n",
              "      box-shadow: 0px 1px 2px rgba(60, 64, 67, 0.3), 0px 1px 3px 1px rgba(60, 64, 67, 0.15);\n",
              "      fill: #174EA6;\n",
              "    }\n",
              "\n",
              "    [theme=dark] .colab-df-convert {\n",
              "      background-color: #3B4455;\n",
              "      fill: #D2E3FC;\n",
              "    }\n",
              "\n",
              "    [theme=dark] .colab-df-convert:hover {\n",
              "      background-color: #434B5C;\n",
              "      box-shadow: 0px 1px 3px 1px rgba(0, 0, 0, 0.15);\n",
              "      filter: drop-shadow(0px 1px 2px rgba(0, 0, 0, 0.3));\n",
              "      fill: #FFFFFF;\n",
              "    }\n",
              "  </style>\n",
              "\n",
              "      <script>\n",
              "        const buttonEl =\n",
              "          document.querySelector('#df-57da1f17-ce68-4e63-a513-7e29cde2ff31 button.colab-df-convert');\n",
              "        buttonEl.style.display =\n",
              "          google.colab.kernel.accessAllowed ? 'block' : 'none';\n",
              "\n",
              "        async function convertToInteractive(key) {\n",
              "          const element = document.querySelector('#df-57da1f17-ce68-4e63-a513-7e29cde2ff31');\n",
              "          const dataTable =\n",
              "            await google.colab.kernel.invokeFunction('convertToInteractive',\n",
              "                                                     [key], {});\n",
              "          if (!dataTable) return;\n",
              "\n",
              "          const docLinkHtml = 'Like what you see? Visit the ' +\n",
              "            '<a target=\"_blank\" href=https://colab.research.google.com/notebooks/data_table.ipynb>data table notebook</a>'\n",
              "            + ' to learn more about interactive tables.';\n",
              "          element.innerHTML = '';\n",
              "          dataTable['output_type'] = 'display_data';\n",
              "          await google.colab.output.renderOutput(dataTable, element);\n",
              "          const docLink = document.createElement('div');\n",
              "          docLink.innerHTML = docLinkHtml;\n",
              "          element.appendChild(docLink);\n",
              "        }\n",
              "      </script>\n",
              "    </div>\n",
              "  </div>\n",
              "  "
            ]
          },
          "metadata": {},
          "execution_count": 14
        }
      ],
      "source": [
        "# распределение сетевых объектов общественного питания по видам\n",
        "rest_type_chain = (rest_chain_yes\n",
        "    .groupby('object_type', as_index=False)\n",
        "    .agg({'object_name': 'count'})\n",
        "    .sort_values(by='object_name', ascending=False)\n",
        "    # столбец с результатами переименую в соответствии с содержанием \n",
        "    .rename(columns={'object_name': 'object_number'}) \n",
        ")\n",
        "# добавлю столбец с отношением\n",
        "rest_type_chain['%'] = (rest_type_chain['object_number'] / rest_type_chain['object_number'].sum()*100).round().astype('str') + '%'\n",
        "rest_type_chain"
      ]
    },
    {
      "cell_type": "code",
      "execution_count": 15,
      "metadata": {
        "scrolled": true,
        "colab": {
          "base_uri": "https://localhost:8080/",
          "height": 617
        },
        "id": "6NiZkbN9Krfz",
        "outputId": "72af4283-5aee-4096-de81-55df94f3c901"
      },
      "outputs": [
        {
          "output_type": "display_data",
          "data": {
            "text/html": [
              "<html>\n",
              "<head><meta charset=\"utf-8\" /></head>\n",
              "<body>\n",
              "    <div>            <script src=\"https://cdnjs.cloudflare.com/ajax/libs/mathjax/2.7.5/MathJax.js?config=TeX-AMS-MML_SVG\"></script><script type=\"text/javascript\">if (window.MathJax) {MathJax.Hub.Config({SVG: {font: \"STIX-Web\"}});}</script>                <script type=\"text/javascript\">window.PlotlyConfig = {MathJaxConfig: 'local'};</script>\n",
              "        <script src=\"https://cdn.plot.ly/plotly-2.8.3.min.js\"></script>                <div id=\"1c37c7e3-55fa-4f84-a9ea-a451708ea662\" class=\"plotly-graph-div\" style=\"height:600px; width:900px;\"></div>            <script type=\"text/javascript\">                                    window.PLOTLYENV=window.PLOTLYENV || {};                                    if (document.getElementById(\"1c37c7e3-55fa-4f84-a9ea-a451708ea662\")) {                    Plotly.newPlot(                        \"1c37c7e3-55fa-4f84-a9ea-a451708ea662\",                        [{\"alignmentgroup\":\"True\",\"hovertemplate\":\"%=47.0%<br>object_type=%{x}<br>object_number=%{y}<extra></extra>\",\"legendgroup\":\"47.0%\",\"marker\":{\"color\":\"#636efa\",\"pattern\":{\"shape\":\"\"}},\"name\":\"47.0%\",\"offsetgroup\":\"47.0%\",\"orientation\":\"v\",\"showlegend\":true,\"textposition\":\"auto\",\"x\":[\"\\u043a\\u0430\\u0444\\u0435\"],\"xaxis\":\"x\",\"y\":[1396],\"yaxis\":\"y\",\"type\":\"bar\"},{\"alignmentgroup\":\"True\",\"hovertemplate\":\"%=27.0%<br>object_type=%{x}<br>object_number=%{y}<extra></extra>\",\"legendgroup\":\"27.0%\",\"marker\":{\"color\":\"#EF553B\",\"pattern\":{\"shape\":\"\"}},\"name\":\"27.0%\",\"offsetgroup\":\"27.0%\",\"orientation\":\"v\",\"showlegend\":true,\"textposition\":\"auto\",\"x\":[\"\\u043f\\u0440\\u0435\\u0434\\u043f\\u0440\\u0438\\u044f\\u0442\\u0438\\u0435 \\u0431\\u044b\\u0441\\u0442\\u0440\\u043e\\u0433\\u043e \\u043e\\u0431\\u0441\\u043b\\u0443\\u0436\\u0438\\u0432\\u0430\\u043d\\u0438\\u044f\"],\"xaxis\":\"x\",\"y\":[788],\"yaxis\":\"y\",\"type\":\"bar\"},{\"alignmentgroup\":\"True\",\"hovertemplate\":\"%=18.0%<br>object_type=%{x}<br>object_number=%{y}<extra></extra>\",\"legendgroup\":\"18.0%\",\"marker\":{\"color\":\"#00cc96\",\"pattern\":{\"shape\":\"\"}},\"name\":\"18.0%\",\"offsetgroup\":\"18.0%\",\"orientation\":\"v\",\"showlegend\":true,\"textposition\":\"auto\",\"x\":[\"\\u0440\\u0435\\u0441\\u0442\\u043e\\u0440\\u0430\\u043d\"],\"xaxis\":\"x\",\"y\":[543],\"yaxis\":\"y\",\"type\":\"bar\"},{\"alignmentgroup\":\"True\",\"hovertemplate\":\"%=3.0%<br>object_type=%{x}<br>object_number=%{y}<extra></extra>\",\"legendgroup\":\"3.0%\",\"marker\":{\"color\":\"#ab63fa\",\"pattern\":{\"shape\":\"\"}},\"name\":\"3.0%\",\"offsetgroup\":\"3.0%\",\"orientation\":\"v\",\"showlegend\":true,\"textposition\":\"auto\",\"x\":[\"\\u043c\\u0430\\u0433\\u0430\\u0437\\u0438\\u043d (\\u043e\\u0442\\u0434\\u0435\\u043b \\u043a\\u0443\\u043b\\u0438\\u043d\\u0430\\u0440\\u0438\\u0438)\"],\"xaxis\":\"x\",\"y\":[78],\"yaxis\":\"y\",\"type\":\"bar\"},{\"alignmentgroup\":\"True\",\"hovertemplate\":\"%=2.0%<br>object_type=%{x}<br>object_number=%{y}<extra></extra>\",\"legendgroup\":\"2.0%\",\"marker\":{\"color\":\"#FFA15A\",\"pattern\":{\"shape\":\"\"}},\"name\":\"2.0%\",\"offsetgroup\":\"2.0%\",\"orientation\":\"v\",\"showlegend\":true,\"textposition\":\"auto\",\"x\":[\"\\u0437\\u0430\\u043a\\u0443\\u0441\\u043e\\u0447\\u043d\\u0430\\u044f\",\"\\u043a\\u0430\\u0444\\u0435\\u0442\\u0435\\u0440\\u0438\\u0439\"],\"xaxis\":\"x\",\"y\":[56,52],\"yaxis\":\"y\",\"type\":\"bar\"},{\"alignmentgroup\":\"True\",\"hovertemplate\":\"%=1.0%<br>object_type=%{x}<br>object_number=%{y}<extra></extra>\",\"legendgroup\":\"1.0%\",\"marker\":{\"color\":\"#19d3f3\",\"pattern\":{\"shape\":\"\"}},\"name\":\"1.0%\",\"offsetgroup\":\"1.0%\",\"orientation\":\"v\",\"showlegend\":true,\"textposition\":\"auto\",\"x\":[\"\\u0431\\u0430\\u0440\"],\"xaxis\":\"x\",\"y\":[37],\"yaxis\":\"y\",\"type\":\"bar\"},{\"alignmentgroup\":\"True\",\"hovertemplate\":\"%=0.0%<br>object_type=%{x}<br>object_number=%{y}<extra></extra>\",\"legendgroup\":\"0.0%\",\"marker\":{\"color\":\"#FF6692\",\"pattern\":{\"shape\":\"\"}},\"name\":\"0.0%\",\"offsetgroup\":\"0.0%\",\"orientation\":\"v\",\"showlegend\":true,\"textposition\":\"auto\",\"x\":[\"\\u0431\\u0443\\u0444\\u0435\\u0442\",\"\\u0441\\u0442\\u043e\\u043b\\u043e\\u0432\\u0430\\u044f\"],\"xaxis\":\"x\",\"y\":[11,3],\"yaxis\":\"y\",\"type\":\"bar\"}],                        {\"template\":{\"data\":{\"bar\":[{\"error_x\":{\"color\":\"#2a3f5f\"},\"error_y\":{\"color\":\"#2a3f5f\"},\"marker\":{\"line\":{\"color\":\"#E5ECF6\",\"width\":0.5},\"pattern\":{\"fillmode\":\"overlay\",\"size\":10,\"solidity\":0.2}},\"type\":\"bar\"}],\"barpolar\":[{\"marker\":{\"line\":{\"color\":\"#E5ECF6\",\"width\":0.5},\"pattern\":{\"fillmode\":\"overlay\",\"size\":10,\"solidity\":0.2}},\"type\":\"barpolar\"}],\"carpet\":[{\"aaxis\":{\"endlinecolor\":\"#2a3f5f\",\"gridcolor\":\"white\",\"linecolor\":\"white\",\"minorgridcolor\":\"white\",\"startlinecolor\":\"#2a3f5f\"},\"baxis\":{\"endlinecolor\":\"#2a3f5f\",\"gridcolor\":\"white\",\"linecolor\":\"white\",\"minorgridcolor\":\"white\",\"startlinecolor\":\"#2a3f5f\"},\"type\":\"carpet\"}],\"choropleth\":[{\"colorbar\":{\"outlinewidth\":0,\"ticks\":\"\"},\"type\":\"choropleth\"}],\"contour\":[{\"colorbar\":{\"outlinewidth\":0,\"ticks\":\"\"},\"colorscale\":[[0.0,\"#0d0887\"],[0.1111111111111111,\"#46039f\"],[0.2222222222222222,\"#7201a8\"],[0.3333333333333333,\"#9c179e\"],[0.4444444444444444,\"#bd3786\"],[0.5555555555555556,\"#d8576b\"],[0.6666666666666666,\"#ed7953\"],[0.7777777777777778,\"#fb9f3a\"],[0.8888888888888888,\"#fdca26\"],[1.0,\"#f0f921\"]],\"type\":\"contour\"}],\"contourcarpet\":[{\"colorbar\":{\"outlinewidth\":0,\"ticks\":\"\"},\"type\":\"contourcarpet\"}],\"heatmap\":[{\"colorbar\":{\"outlinewidth\":0,\"ticks\":\"\"},\"colorscale\":[[0.0,\"#0d0887\"],[0.1111111111111111,\"#46039f\"],[0.2222222222222222,\"#7201a8\"],[0.3333333333333333,\"#9c179e\"],[0.4444444444444444,\"#bd3786\"],[0.5555555555555556,\"#d8576b\"],[0.6666666666666666,\"#ed7953\"],[0.7777777777777778,\"#fb9f3a\"],[0.8888888888888888,\"#fdca26\"],[1.0,\"#f0f921\"]],\"type\":\"heatmap\"}],\"heatmapgl\":[{\"colorbar\":{\"outlinewidth\":0,\"ticks\":\"\"},\"colorscale\":[[0.0,\"#0d0887\"],[0.1111111111111111,\"#46039f\"],[0.2222222222222222,\"#7201a8\"],[0.3333333333333333,\"#9c179e\"],[0.4444444444444444,\"#bd3786\"],[0.5555555555555556,\"#d8576b\"],[0.6666666666666666,\"#ed7953\"],[0.7777777777777778,\"#fb9f3a\"],[0.8888888888888888,\"#fdca26\"],[1.0,\"#f0f921\"]],\"type\":\"heatmapgl\"}],\"histogram\":[{\"marker\":{\"pattern\":{\"fillmode\":\"overlay\",\"size\":10,\"solidity\":0.2}},\"type\":\"histogram\"}],\"histogram2d\":[{\"colorbar\":{\"outlinewidth\":0,\"ticks\":\"\"},\"colorscale\":[[0.0,\"#0d0887\"],[0.1111111111111111,\"#46039f\"],[0.2222222222222222,\"#7201a8\"],[0.3333333333333333,\"#9c179e\"],[0.4444444444444444,\"#bd3786\"],[0.5555555555555556,\"#d8576b\"],[0.6666666666666666,\"#ed7953\"],[0.7777777777777778,\"#fb9f3a\"],[0.8888888888888888,\"#fdca26\"],[1.0,\"#f0f921\"]],\"type\":\"histogram2d\"}],\"histogram2dcontour\":[{\"colorbar\":{\"outlinewidth\":0,\"ticks\":\"\"},\"colorscale\":[[0.0,\"#0d0887\"],[0.1111111111111111,\"#46039f\"],[0.2222222222222222,\"#7201a8\"],[0.3333333333333333,\"#9c179e\"],[0.4444444444444444,\"#bd3786\"],[0.5555555555555556,\"#d8576b\"],[0.6666666666666666,\"#ed7953\"],[0.7777777777777778,\"#fb9f3a\"],[0.8888888888888888,\"#fdca26\"],[1.0,\"#f0f921\"]],\"type\":\"histogram2dcontour\"}],\"mesh3d\":[{\"colorbar\":{\"outlinewidth\":0,\"ticks\":\"\"},\"type\":\"mesh3d\"}],\"parcoords\":[{\"line\":{\"colorbar\":{\"outlinewidth\":0,\"ticks\":\"\"}},\"type\":\"parcoords\"}],\"pie\":[{\"automargin\":true,\"type\":\"pie\"}],\"scatter\":[{\"marker\":{\"colorbar\":{\"outlinewidth\":0,\"ticks\":\"\"}},\"type\":\"scatter\"}],\"scatter3d\":[{\"line\":{\"colorbar\":{\"outlinewidth\":0,\"ticks\":\"\"}},\"marker\":{\"colorbar\":{\"outlinewidth\":0,\"ticks\":\"\"}},\"type\":\"scatter3d\"}],\"scattercarpet\":[{\"marker\":{\"colorbar\":{\"outlinewidth\":0,\"ticks\":\"\"}},\"type\":\"scattercarpet\"}],\"scattergeo\":[{\"marker\":{\"colorbar\":{\"outlinewidth\":0,\"ticks\":\"\"}},\"type\":\"scattergeo\"}],\"scattergl\":[{\"marker\":{\"colorbar\":{\"outlinewidth\":0,\"ticks\":\"\"}},\"type\":\"scattergl\"}],\"scattermapbox\":[{\"marker\":{\"colorbar\":{\"outlinewidth\":0,\"ticks\":\"\"}},\"type\":\"scattermapbox\"}],\"scatterpolar\":[{\"marker\":{\"colorbar\":{\"outlinewidth\":0,\"ticks\":\"\"}},\"type\":\"scatterpolar\"}],\"scatterpolargl\":[{\"marker\":{\"colorbar\":{\"outlinewidth\":0,\"ticks\":\"\"}},\"type\":\"scatterpolargl\"}],\"scatterternary\":[{\"marker\":{\"colorbar\":{\"outlinewidth\":0,\"ticks\":\"\"}},\"type\":\"scatterternary\"}],\"surface\":[{\"colorbar\":{\"outlinewidth\":0,\"ticks\":\"\"},\"colorscale\":[[0.0,\"#0d0887\"],[0.1111111111111111,\"#46039f\"],[0.2222222222222222,\"#7201a8\"],[0.3333333333333333,\"#9c179e\"],[0.4444444444444444,\"#bd3786\"],[0.5555555555555556,\"#d8576b\"],[0.6666666666666666,\"#ed7953\"],[0.7777777777777778,\"#fb9f3a\"],[0.8888888888888888,\"#fdca26\"],[1.0,\"#f0f921\"]],\"type\":\"surface\"}],\"table\":[{\"cells\":{\"fill\":{\"color\":\"#EBF0F8\"},\"line\":{\"color\":\"white\"}},\"header\":{\"fill\":{\"color\":\"#C8D4E3\"},\"line\":{\"color\":\"white\"}},\"type\":\"table\"}]},\"layout\":{\"annotationdefaults\":{\"arrowcolor\":\"#2a3f5f\",\"arrowhead\":0,\"arrowwidth\":1},\"autotypenumbers\":\"strict\",\"coloraxis\":{\"colorbar\":{\"outlinewidth\":0,\"ticks\":\"\"}},\"colorscale\":{\"diverging\":[[0,\"#8e0152\"],[0.1,\"#c51b7d\"],[0.2,\"#de77ae\"],[0.3,\"#f1b6da\"],[0.4,\"#fde0ef\"],[0.5,\"#f7f7f7\"],[0.6,\"#e6f5d0\"],[0.7,\"#b8e186\"],[0.8,\"#7fbc41\"],[0.9,\"#4d9221\"],[1,\"#276419\"]],\"sequential\":[[0.0,\"#0d0887\"],[0.1111111111111111,\"#46039f\"],[0.2222222222222222,\"#7201a8\"],[0.3333333333333333,\"#9c179e\"],[0.4444444444444444,\"#bd3786\"],[0.5555555555555556,\"#d8576b\"],[0.6666666666666666,\"#ed7953\"],[0.7777777777777778,\"#fb9f3a\"],[0.8888888888888888,\"#fdca26\"],[1.0,\"#f0f921\"]],\"sequentialminus\":[[0.0,\"#0d0887\"],[0.1111111111111111,\"#46039f\"],[0.2222222222222222,\"#7201a8\"],[0.3333333333333333,\"#9c179e\"],[0.4444444444444444,\"#bd3786\"],[0.5555555555555556,\"#d8576b\"],[0.6666666666666666,\"#ed7953\"],[0.7777777777777778,\"#fb9f3a\"],[0.8888888888888888,\"#fdca26\"],[1.0,\"#f0f921\"]]},\"colorway\":[\"#636efa\",\"#EF553B\",\"#00cc96\",\"#ab63fa\",\"#FFA15A\",\"#19d3f3\",\"#FF6692\",\"#B6E880\",\"#FF97FF\",\"#FECB52\"],\"font\":{\"color\":\"#2a3f5f\"},\"geo\":{\"bgcolor\":\"white\",\"lakecolor\":\"white\",\"landcolor\":\"#E5ECF6\",\"showlakes\":true,\"showland\":true,\"subunitcolor\":\"white\"},\"hoverlabel\":{\"align\":\"left\"},\"hovermode\":\"closest\",\"mapbox\":{\"style\":\"light\"},\"paper_bgcolor\":\"white\",\"plot_bgcolor\":\"#E5ECF6\",\"polar\":{\"angularaxis\":{\"gridcolor\":\"white\",\"linecolor\":\"white\",\"ticks\":\"\"},\"bgcolor\":\"#E5ECF6\",\"radialaxis\":{\"gridcolor\":\"white\",\"linecolor\":\"white\",\"ticks\":\"\"}},\"scene\":{\"xaxis\":{\"backgroundcolor\":\"#E5ECF6\",\"gridcolor\":\"white\",\"gridwidth\":2,\"linecolor\":\"white\",\"showbackground\":true,\"ticks\":\"\",\"zerolinecolor\":\"white\"},\"yaxis\":{\"backgroundcolor\":\"#E5ECF6\",\"gridcolor\":\"white\",\"gridwidth\":2,\"linecolor\":\"white\",\"showbackground\":true,\"ticks\":\"\",\"zerolinecolor\":\"white\"},\"zaxis\":{\"backgroundcolor\":\"#E5ECF6\",\"gridcolor\":\"white\",\"gridwidth\":2,\"linecolor\":\"white\",\"showbackground\":true,\"ticks\":\"\",\"zerolinecolor\":\"white\"}},\"shapedefaults\":{\"line\":{\"color\":\"#2a3f5f\"}},\"ternary\":{\"aaxis\":{\"gridcolor\":\"white\",\"linecolor\":\"white\",\"ticks\":\"\"},\"baxis\":{\"gridcolor\":\"white\",\"linecolor\":\"white\",\"ticks\":\"\"},\"bgcolor\":\"#E5ECF6\",\"caxis\":{\"gridcolor\":\"white\",\"linecolor\":\"white\",\"ticks\":\"\"}},\"title\":{\"x\":0.05},\"xaxis\":{\"automargin\":true,\"gridcolor\":\"white\",\"linecolor\":\"white\",\"ticks\":\"\",\"title\":{\"standoff\":15},\"zerolinecolor\":\"white\",\"zerolinewidth\":2},\"yaxis\":{\"automargin\":true,\"gridcolor\":\"white\",\"linecolor\":\"white\",\"ticks\":\"\",\"title\":{\"standoff\":15},\"zerolinecolor\":\"white\",\"zerolinewidth\":2}}},\"xaxis\":{\"anchor\":\"y\",\"domain\":[0.0,1.0],\"title\":{\"text\":\"\\u0422\\u0438\\u043f \\u043e\\u0431\\u044a\\u0435\\u043a\\u0442\\u0430\"},\"tickangle\":45},\"yaxis\":{\"anchor\":\"x\",\"domain\":[0.0,1.0],\"title\":{\"text\":\"\\u041a\\u043e\\u043b\\u0438\\u0447\\u0435\\u0441\\u0442\\u0432\\u043e\"}},\"legend\":{\"title\":{\"text\":\"%\"},\"tracegroupgap\":0},\"title\":{\"text\":\"\\u0420\\u0430\\u0441\\u043f\\u0440\\u0435\\u0434\\u0435\\u043b\\u0435\\u043d\\u0438\\u0435 \\u0441\\u0435\\u0442\\u0435\\u0432\\u044b\\u0445 \\u043e\\u0431\\u044a\\u0435\\u043a\\u0442\\u043e\\u0432 \\u043e\\u0431\\u0449\\u0435\\u0441\\u0442\\u0432\\u0435\\u043d\\u043d\\u043e\\u0433\\u043e \\u043f\\u0438\\u0442\\u0430\\u043d\\u0438\\u044f \\u043f\\u043e \\u0432\\u0438\\u0434\\u0430\\u043c \\u0432 \\u041c\\u043e\\u0441\\u043a\\u0432\\u0435\"},\"barmode\":\"relative\",\"height\":600,\"width\":900},                        {\"responsive\": true}                    ).then(function(){\n",
              "                            \n",
              "var gd = document.getElementById('1c37c7e3-55fa-4f84-a9ea-a451708ea662');\n",
              "var x = new MutationObserver(function (mutations, observer) {{\n",
              "        var display = window.getComputedStyle(gd).display;\n",
              "        if (!display || display === 'none') {{\n",
              "            console.log([gd, 'removed!']);\n",
              "            Plotly.purge(gd);\n",
              "            observer.disconnect();\n",
              "        }}\n",
              "}});\n",
              "\n",
              "// Listen for the removal of the full notebook cells\n",
              "var notebookContainer = gd.closest('#notebook-container');\n",
              "if (notebookContainer) {{\n",
              "    x.observe(notebookContainer, {childList: true});\n",
              "}}\n",
              "\n",
              "// Listen for the clearing of the current output cell\n",
              "var outputEl = gd.closest('.output');\n",
              "if (outputEl) {{\n",
              "    x.observe(outputEl, {childList: true});\n",
              "}}\n",
              "\n",
              "                        })                };                            </script>        </div>\n",
              "</body>\n",
              "</html>"
            ]
          },
          "metadata": {}
        }
      ],
      "source": [
        "# график распределения сетевых объектов общественного питания по видам\n",
        "fig = px.bar(rest_type_chain, \n",
        "             x='object_type', \n",
        "             y='object_number', \n",
        "             title='Распределение сетевых объектов общественного питания по видам в Москве', \n",
        "             color='%', \n",
        "             width=900, height=600\n",
        ")\n",
        "fig.update_xaxes(tickangle=45)\n",
        "fig.update_layout(\n",
        "    xaxis_title='Тип объекта',\n",
        "    yaxis_title='Количество')\n",
        "fig.show() "
      ]
    },
    {
      "cell_type": "markdown",
      "metadata": {
        "id": "YmrzpL1UKrf3"
      },
      "source": [
        "В сетевом сегменте лидируют кафе - 47%, фастфуд - 27%, рестораны - 18%. Доля остальных заведений общественного питания среди сетевых составляет 6%. Таким образом сетевое распространение характерно  для  кафе, фастфуда и ресторанов.  \n",
        "\n",
        "А теперь посмотрю, какую долю в каждом виде объектов общественного питания составляют сетевые."
      ]
    },
    {
      "cell_type": "code",
      "execution_count": 16,
      "metadata": {
        "colab": {
          "base_uri": "https://localhost:8080/",
          "height": 332
        },
        "id": "IwH79nddKrf5",
        "outputId": "1402f5b0-ec72-4956-b968-d5ed2b4925d7"
      },
      "outputs": [
        {
          "output_type": "execute_result",
          "data": {
            "text/plain": [
              "                         object_type  object_chain %_chain  object_all  %_all\n",
              "1  предприятие быстрого обслуживания           788   27.0%        1898   42.0\n",
              "3          магазин (отдел кулинарии)            78    3.0%         273   29.0\n",
              "2                           ресторан           543   18.0%        2282   24.0\n",
              "0                               кафе          1396   47.0%        6071   23.0\n",
              "4                         закусочная            56    2.0%         349   16.0\n",
              "5                          кафетерий            52    2.0%         395   13.0\n",
              "6                                бар            37    1.0%         855    4.0\n",
              "7                              буфет            11    0.0%         577    2.0\n",
              "8                           столовая             3    0.0%        2584    0.0"
            ],
            "text/html": [
              "\n",
              "  <div id=\"df-8dc7db4f-4037-4efe-aa71-e0fbcd1c5cad\">\n",
              "    <div class=\"colab-df-container\">\n",
              "      <div>\n",
              "<style scoped>\n",
              "    .dataframe tbody tr th:only-of-type {\n",
              "        vertical-align: middle;\n",
              "    }\n",
              "\n",
              "    .dataframe tbody tr th {\n",
              "        vertical-align: top;\n",
              "    }\n",
              "\n",
              "    .dataframe thead th {\n",
              "        text-align: right;\n",
              "    }\n",
              "</style>\n",
              "<table border=\"1\" class=\"dataframe\">\n",
              "  <thead>\n",
              "    <tr style=\"text-align: right;\">\n",
              "      <th></th>\n",
              "      <th>object_type</th>\n",
              "      <th>object_chain</th>\n",
              "      <th>%_chain</th>\n",
              "      <th>object_all</th>\n",
              "      <th>%_all</th>\n",
              "    </tr>\n",
              "  </thead>\n",
              "  <tbody>\n",
              "    <tr>\n",
              "      <th>1</th>\n",
              "      <td>предприятие быстрого обслуживания</td>\n",
              "      <td>788</td>\n",
              "      <td>27.0%</td>\n",
              "      <td>1898</td>\n",
              "      <td>42.0</td>\n",
              "    </tr>\n",
              "    <tr>\n",
              "      <th>3</th>\n",
              "      <td>магазин (отдел кулинарии)</td>\n",
              "      <td>78</td>\n",
              "      <td>3.0%</td>\n",
              "      <td>273</td>\n",
              "      <td>29.0</td>\n",
              "    </tr>\n",
              "    <tr>\n",
              "      <th>2</th>\n",
              "      <td>ресторан</td>\n",
              "      <td>543</td>\n",
              "      <td>18.0%</td>\n",
              "      <td>2282</td>\n",
              "      <td>24.0</td>\n",
              "    </tr>\n",
              "    <tr>\n",
              "      <th>0</th>\n",
              "      <td>кафе</td>\n",
              "      <td>1396</td>\n",
              "      <td>47.0%</td>\n",
              "      <td>6071</td>\n",
              "      <td>23.0</td>\n",
              "    </tr>\n",
              "    <tr>\n",
              "      <th>4</th>\n",
              "      <td>закусочная</td>\n",
              "      <td>56</td>\n",
              "      <td>2.0%</td>\n",
              "      <td>349</td>\n",
              "      <td>16.0</td>\n",
              "    </tr>\n",
              "    <tr>\n",
              "      <th>5</th>\n",
              "      <td>кафетерий</td>\n",
              "      <td>52</td>\n",
              "      <td>2.0%</td>\n",
              "      <td>395</td>\n",
              "      <td>13.0</td>\n",
              "    </tr>\n",
              "    <tr>\n",
              "      <th>6</th>\n",
              "      <td>бар</td>\n",
              "      <td>37</td>\n",
              "      <td>1.0%</td>\n",
              "      <td>855</td>\n",
              "      <td>4.0</td>\n",
              "    </tr>\n",
              "    <tr>\n",
              "      <th>7</th>\n",
              "      <td>буфет</td>\n",
              "      <td>11</td>\n",
              "      <td>0.0%</td>\n",
              "      <td>577</td>\n",
              "      <td>2.0</td>\n",
              "    </tr>\n",
              "    <tr>\n",
              "      <th>8</th>\n",
              "      <td>столовая</td>\n",
              "      <td>3</td>\n",
              "      <td>0.0%</td>\n",
              "      <td>2584</td>\n",
              "      <td>0.0</td>\n",
              "    </tr>\n",
              "  </tbody>\n",
              "</table>\n",
              "</div>\n",
              "      <button class=\"colab-df-convert\" onclick=\"convertToInteractive('df-8dc7db4f-4037-4efe-aa71-e0fbcd1c5cad')\"\n",
              "              title=\"Convert this dataframe to an interactive table.\"\n",
              "              style=\"display:none;\">\n",
              "        \n",
              "  <svg xmlns=\"http://www.w3.org/2000/svg\" height=\"24px\"viewBox=\"0 0 24 24\"\n",
              "       width=\"24px\">\n",
              "    <path d=\"M0 0h24v24H0V0z\" fill=\"none\"/>\n",
              "    <path d=\"M18.56 5.44l.94 2.06.94-2.06 2.06-.94-2.06-.94-.94-2.06-.94 2.06-2.06.94zm-11 1L8.5 8.5l.94-2.06 2.06-.94-2.06-.94L8.5 2.5l-.94 2.06-2.06.94zm10 10l.94 2.06.94-2.06 2.06-.94-2.06-.94-.94-2.06-.94 2.06-2.06.94z\"/><path d=\"M17.41 7.96l-1.37-1.37c-.4-.4-.92-.59-1.43-.59-.52 0-1.04.2-1.43.59L10.3 9.45l-7.72 7.72c-.78.78-.78 2.05 0 2.83L4 21.41c.39.39.9.59 1.41.59.51 0 1.02-.2 1.41-.59l7.78-7.78 2.81-2.81c.8-.78.8-2.07 0-2.86zM5.41 20L4 18.59l7.72-7.72 1.47 1.35L5.41 20z\"/>\n",
              "  </svg>\n",
              "      </button>\n",
              "      \n",
              "  <style>\n",
              "    .colab-df-container {\n",
              "      display:flex;\n",
              "      flex-wrap:wrap;\n",
              "      gap: 12px;\n",
              "    }\n",
              "\n",
              "    .colab-df-convert {\n",
              "      background-color: #E8F0FE;\n",
              "      border: none;\n",
              "      border-radius: 50%;\n",
              "      cursor: pointer;\n",
              "      display: none;\n",
              "      fill: #1967D2;\n",
              "      height: 32px;\n",
              "      padding: 0 0 0 0;\n",
              "      width: 32px;\n",
              "    }\n",
              "\n",
              "    .colab-df-convert:hover {\n",
              "      background-color: #E2EBFA;\n",
              "      box-shadow: 0px 1px 2px rgba(60, 64, 67, 0.3), 0px 1px 3px 1px rgba(60, 64, 67, 0.15);\n",
              "      fill: #174EA6;\n",
              "    }\n",
              "\n",
              "    [theme=dark] .colab-df-convert {\n",
              "      background-color: #3B4455;\n",
              "      fill: #D2E3FC;\n",
              "    }\n",
              "\n",
              "    [theme=dark] .colab-df-convert:hover {\n",
              "      background-color: #434B5C;\n",
              "      box-shadow: 0px 1px 3px 1px rgba(0, 0, 0, 0.15);\n",
              "      filter: drop-shadow(0px 1px 2px rgba(0, 0, 0, 0.3));\n",
              "      fill: #FFFFFF;\n",
              "    }\n",
              "  </style>\n",
              "\n",
              "      <script>\n",
              "        const buttonEl =\n",
              "          document.querySelector('#df-8dc7db4f-4037-4efe-aa71-e0fbcd1c5cad button.colab-df-convert');\n",
              "        buttonEl.style.display =\n",
              "          google.colab.kernel.accessAllowed ? 'block' : 'none';\n",
              "\n",
              "        async function convertToInteractive(key) {\n",
              "          const element = document.querySelector('#df-8dc7db4f-4037-4efe-aa71-e0fbcd1c5cad');\n",
              "          const dataTable =\n",
              "            await google.colab.kernel.invokeFunction('convertToInteractive',\n",
              "                                                     [key], {});\n",
              "          if (!dataTable) return;\n",
              "\n",
              "          const docLinkHtml = 'Like what you see? Visit the ' +\n",
              "            '<a target=\"_blank\" href=https://colab.research.google.com/notebooks/data_table.ipynb>data table notebook</a>'\n",
              "            + ' to learn more about interactive tables.';\n",
              "          element.innerHTML = '';\n",
              "          dataTable['output_type'] = 'display_data';\n",
              "          await google.colab.output.renderOutput(dataTable, element);\n",
              "          const docLink = document.createElement('div');\n",
              "          docLink.innerHTML = docLinkHtml;\n",
              "          element.appendChild(docLink);\n",
              "        }\n",
              "      </script>\n",
              "    </div>\n",
              "  </div>\n",
              "  "
            ]
          },
          "metadata": {},
          "execution_count": 16
        }
      ],
      "source": [
        "# какую долю в каждом виде объектов составляют сетевые\n",
        "# объединю таблицу с видами сетевых объектов с таблицей с видами всех объектов \n",
        "rest_type_chain = (rest_type_chain\n",
        "    .merge(rest_type[['object_type', 'object_number']],\n",
        "           left_on='object_type', right_on='object_type')\n",
        ")\n",
        "# переименую колонки\n",
        "rest_type_chain.columns=['object_type', 'object_chain', '%_chain', 'object_all']\n",
        "\n",
        "# добавлю колонку с долей сетевых объектов в общем количестве объектов данного вида\n",
        "rest_type_chain['%_all'] = (rest_type_chain['object_chain'] / rest_type_chain['object_all']*100).round()\n",
        "# отсортирую по доле, запишу в виде %\n",
        "rest_type_chain = rest_type_chain.sort_values(by='%_all', ascending=False)\n",
        "rest_type_chain"
      ]
    },
    {
      "cell_type": "code",
      "execution_count": 17,
      "metadata": {
        "colab": {
          "base_uri": "https://localhost:8080/",
          "height": 617
        },
        "id": "Awb5lmT9Krf9",
        "outputId": "9fb9be8b-ba9b-42c8-dd0d-5494f5ef55ad"
      },
      "outputs": [
        {
          "output_type": "display_data",
          "data": {
            "text/html": [
              "<html>\n",
              "<head><meta charset=\"utf-8\" /></head>\n",
              "<body>\n",
              "    <div>            <script src=\"https://cdnjs.cloudflare.com/ajax/libs/mathjax/2.7.5/MathJax.js?config=TeX-AMS-MML_SVG\"></script><script type=\"text/javascript\">if (window.MathJax) {MathJax.Hub.Config({SVG: {font: \"STIX-Web\"}});}</script>                <script type=\"text/javascript\">window.PlotlyConfig = {MathJaxConfig: 'local'};</script>\n",
              "        <script src=\"https://cdn.plot.ly/plotly-2.8.3.min.js\"></script>                <div id=\"2c01b89a-9887-4296-b983-b612f41d4819\" class=\"plotly-graph-div\" style=\"height:600px; width:900px;\"></div>            <script type=\"text/javascript\">                                    window.PLOTLYENV=window.PLOTLYENV || {};                                    if (document.getElementById(\"2c01b89a-9887-4296-b983-b612f41d4819\")) {                    Plotly.newPlot(                        \"2c01b89a-9887-4296-b983-b612f41d4819\",                        [{\"alignmentgroup\":\"True\",\"hovertemplate\":\"\\u041a\\u043e\\u043b\\u0438\\u0447\\u0435\\u0441\\u0442\\u0432\\u043e=788<br>object_type=%{x}<br>%_all=%{y}<extra></extra>\",\"legendgroup\":\"788\",\"marker\":{\"color\":\"#636efa\",\"pattern\":{\"shape\":\"\"}},\"name\":\"788\",\"offsetgroup\":\"788\",\"orientation\":\"v\",\"showlegend\":true,\"textposition\":\"auto\",\"x\":[\"\\u043f\\u0440\\u0435\\u0434\\u043f\\u0440\\u0438\\u044f\\u0442\\u0438\\u0435 \\u0431\\u044b\\u0441\\u0442\\u0440\\u043e\\u0433\\u043e \\u043e\\u0431\\u0441\\u043b\\u0443\\u0436\\u0438\\u0432\\u0430\\u043d\\u0438\\u044f\"],\"xaxis\":\"x\",\"y\":[42.0],\"yaxis\":\"y\",\"type\":\"bar\"},{\"alignmentgroup\":\"True\",\"hovertemplate\":\"\\u041a\\u043e\\u043b\\u0438\\u0447\\u0435\\u0441\\u0442\\u0432\\u043e=78<br>object_type=%{x}<br>%_all=%{y}<extra></extra>\",\"legendgroup\":\"78\",\"marker\":{\"color\":\"#EF553B\",\"pattern\":{\"shape\":\"\"}},\"name\":\"78\",\"offsetgroup\":\"78\",\"orientation\":\"v\",\"showlegend\":true,\"textposition\":\"auto\",\"x\":[\"\\u043c\\u0430\\u0433\\u0430\\u0437\\u0438\\u043d (\\u043e\\u0442\\u0434\\u0435\\u043b \\u043a\\u0443\\u043b\\u0438\\u043d\\u0430\\u0440\\u0438\\u0438)\"],\"xaxis\":\"x\",\"y\":[29.0],\"yaxis\":\"y\",\"type\":\"bar\"},{\"alignmentgroup\":\"True\",\"hovertemplate\":\"\\u041a\\u043e\\u043b\\u0438\\u0447\\u0435\\u0441\\u0442\\u0432\\u043e=543<br>object_type=%{x}<br>%_all=%{y}<extra></extra>\",\"legendgroup\":\"543\",\"marker\":{\"color\":\"#00cc96\",\"pattern\":{\"shape\":\"\"}},\"name\":\"543\",\"offsetgroup\":\"543\",\"orientation\":\"v\",\"showlegend\":true,\"textposition\":\"auto\",\"x\":[\"\\u0440\\u0435\\u0441\\u0442\\u043e\\u0440\\u0430\\u043d\"],\"xaxis\":\"x\",\"y\":[24.0],\"yaxis\":\"y\",\"type\":\"bar\"},{\"alignmentgroup\":\"True\",\"hovertemplate\":\"\\u041a\\u043e\\u043b\\u0438\\u0447\\u0435\\u0441\\u0442\\u0432\\u043e=1396<br>object_type=%{x}<br>%_all=%{y}<extra></extra>\",\"legendgroup\":\"1396\",\"marker\":{\"color\":\"#ab63fa\",\"pattern\":{\"shape\":\"\"}},\"name\":\"1396\",\"offsetgroup\":\"1396\",\"orientation\":\"v\",\"showlegend\":true,\"textposition\":\"auto\",\"x\":[\"\\u043a\\u0430\\u0444\\u0435\"],\"xaxis\":\"x\",\"y\":[23.0],\"yaxis\":\"y\",\"type\":\"bar\"},{\"alignmentgroup\":\"True\",\"hovertemplate\":\"\\u041a\\u043e\\u043b\\u0438\\u0447\\u0435\\u0441\\u0442\\u0432\\u043e=56<br>object_type=%{x}<br>%_all=%{y}<extra></extra>\",\"legendgroup\":\"56\",\"marker\":{\"color\":\"#FFA15A\",\"pattern\":{\"shape\":\"\"}},\"name\":\"56\",\"offsetgroup\":\"56\",\"orientation\":\"v\",\"showlegend\":true,\"textposition\":\"auto\",\"x\":[\"\\u0437\\u0430\\u043a\\u0443\\u0441\\u043e\\u0447\\u043d\\u0430\\u044f\"],\"xaxis\":\"x\",\"y\":[16.0],\"yaxis\":\"y\",\"type\":\"bar\"},{\"alignmentgroup\":\"True\",\"hovertemplate\":\"\\u041a\\u043e\\u043b\\u0438\\u0447\\u0435\\u0441\\u0442\\u0432\\u043e=52<br>object_type=%{x}<br>%_all=%{y}<extra></extra>\",\"legendgroup\":\"52\",\"marker\":{\"color\":\"#19d3f3\",\"pattern\":{\"shape\":\"\"}},\"name\":\"52\",\"offsetgroup\":\"52\",\"orientation\":\"v\",\"showlegend\":true,\"textposition\":\"auto\",\"x\":[\"\\u043a\\u0430\\u0444\\u0435\\u0442\\u0435\\u0440\\u0438\\u0439\"],\"xaxis\":\"x\",\"y\":[13.0],\"yaxis\":\"y\",\"type\":\"bar\"},{\"alignmentgroup\":\"True\",\"hovertemplate\":\"\\u041a\\u043e\\u043b\\u0438\\u0447\\u0435\\u0441\\u0442\\u0432\\u043e=37<br>object_type=%{x}<br>%_all=%{y}<extra></extra>\",\"legendgroup\":\"37\",\"marker\":{\"color\":\"#FF6692\",\"pattern\":{\"shape\":\"\"}},\"name\":\"37\",\"offsetgroup\":\"37\",\"orientation\":\"v\",\"showlegend\":true,\"textposition\":\"auto\",\"x\":[\"\\u0431\\u0430\\u0440\"],\"xaxis\":\"x\",\"y\":[4.0],\"yaxis\":\"y\",\"type\":\"bar\"},{\"alignmentgroup\":\"True\",\"hovertemplate\":\"\\u041a\\u043e\\u043b\\u0438\\u0447\\u0435\\u0441\\u0442\\u0432\\u043e=11<br>object_type=%{x}<br>%_all=%{y}<extra></extra>\",\"legendgroup\":\"11\",\"marker\":{\"color\":\"#B6E880\",\"pattern\":{\"shape\":\"\"}},\"name\":\"11\",\"offsetgroup\":\"11\",\"orientation\":\"v\",\"showlegend\":true,\"textposition\":\"auto\",\"x\":[\"\\u0431\\u0443\\u0444\\u0435\\u0442\"],\"xaxis\":\"x\",\"y\":[2.0],\"yaxis\":\"y\",\"type\":\"bar\"},{\"alignmentgroup\":\"True\",\"hovertemplate\":\"\\u041a\\u043e\\u043b\\u0438\\u0447\\u0435\\u0441\\u0442\\u0432\\u043e=3<br>object_type=%{x}<br>%_all=%{y}<extra></extra>\",\"legendgroup\":\"3\",\"marker\":{\"color\":\"#FF97FF\",\"pattern\":{\"shape\":\"\"}},\"name\":\"3\",\"offsetgroup\":\"3\",\"orientation\":\"v\",\"showlegend\":true,\"textposition\":\"auto\",\"x\":[\"\\u0441\\u0442\\u043e\\u043b\\u043e\\u0432\\u0430\\u044f\"],\"xaxis\":\"x\",\"y\":[0.0],\"yaxis\":\"y\",\"type\":\"bar\"}],                        {\"template\":{\"data\":{\"bar\":[{\"error_x\":{\"color\":\"#2a3f5f\"},\"error_y\":{\"color\":\"#2a3f5f\"},\"marker\":{\"line\":{\"color\":\"#E5ECF6\",\"width\":0.5},\"pattern\":{\"fillmode\":\"overlay\",\"size\":10,\"solidity\":0.2}},\"type\":\"bar\"}],\"barpolar\":[{\"marker\":{\"line\":{\"color\":\"#E5ECF6\",\"width\":0.5},\"pattern\":{\"fillmode\":\"overlay\",\"size\":10,\"solidity\":0.2}},\"type\":\"barpolar\"}],\"carpet\":[{\"aaxis\":{\"endlinecolor\":\"#2a3f5f\",\"gridcolor\":\"white\",\"linecolor\":\"white\",\"minorgridcolor\":\"white\",\"startlinecolor\":\"#2a3f5f\"},\"baxis\":{\"endlinecolor\":\"#2a3f5f\",\"gridcolor\":\"white\",\"linecolor\":\"white\",\"minorgridcolor\":\"white\",\"startlinecolor\":\"#2a3f5f\"},\"type\":\"carpet\"}],\"choropleth\":[{\"colorbar\":{\"outlinewidth\":0,\"ticks\":\"\"},\"type\":\"choropleth\"}],\"contour\":[{\"colorbar\":{\"outlinewidth\":0,\"ticks\":\"\"},\"colorscale\":[[0.0,\"#0d0887\"],[0.1111111111111111,\"#46039f\"],[0.2222222222222222,\"#7201a8\"],[0.3333333333333333,\"#9c179e\"],[0.4444444444444444,\"#bd3786\"],[0.5555555555555556,\"#d8576b\"],[0.6666666666666666,\"#ed7953\"],[0.7777777777777778,\"#fb9f3a\"],[0.8888888888888888,\"#fdca26\"],[1.0,\"#f0f921\"]],\"type\":\"contour\"}],\"contourcarpet\":[{\"colorbar\":{\"outlinewidth\":0,\"ticks\":\"\"},\"type\":\"contourcarpet\"}],\"heatmap\":[{\"colorbar\":{\"outlinewidth\":0,\"ticks\":\"\"},\"colorscale\":[[0.0,\"#0d0887\"],[0.1111111111111111,\"#46039f\"],[0.2222222222222222,\"#7201a8\"],[0.3333333333333333,\"#9c179e\"],[0.4444444444444444,\"#bd3786\"],[0.5555555555555556,\"#d8576b\"],[0.6666666666666666,\"#ed7953\"],[0.7777777777777778,\"#fb9f3a\"],[0.8888888888888888,\"#fdca26\"],[1.0,\"#f0f921\"]],\"type\":\"heatmap\"}],\"heatmapgl\":[{\"colorbar\":{\"outlinewidth\":0,\"ticks\":\"\"},\"colorscale\":[[0.0,\"#0d0887\"],[0.1111111111111111,\"#46039f\"],[0.2222222222222222,\"#7201a8\"],[0.3333333333333333,\"#9c179e\"],[0.4444444444444444,\"#bd3786\"],[0.5555555555555556,\"#d8576b\"],[0.6666666666666666,\"#ed7953\"],[0.7777777777777778,\"#fb9f3a\"],[0.8888888888888888,\"#fdca26\"],[1.0,\"#f0f921\"]],\"type\":\"heatmapgl\"}],\"histogram\":[{\"marker\":{\"pattern\":{\"fillmode\":\"overlay\",\"size\":10,\"solidity\":0.2}},\"type\":\"histogram\"}],\"histogram2d\":[{\"colorbar\":{\"outlinewidth\":0,\"ticks\":\"\"},\"colorscale\":[[0.0,\"#0d0887\"],[0.1111111111111111,\"#46039f\"],[0.2222222222222222,\"#7201a8\"],[0.3333333333333333,\"#9c179e\"],[0.4444444444444444,\"#bd3786\"],[0.5555555555555556,\"#d8576b\"],[0.6666666666666666,\"#ed7953\"],[0.7777777777777778,\"#fb9f3a\"],[0.8888888888888888,\"#fdca26\"],[1.0,\"#f0f921\"]],\"type\":\"histogram2d\"}],\"histogram2dcontour\":[{\"colorbar\":{\"outlinewidth\":0,\"ticks\":\"\"},\"colorscale\":[[0.0,\"#0d0887\"],[0.1111111111111111,\"#46039f\"],[0.2222222222222222,\"#7201a8\"],[0.3333333333333333,\"#9c179e\"],[0.4444444444444444,\"#bd3786\"],[0.5555555555555556,\"#d8576b\"],[0.6666666666666666,\"#ed7953\"],[0.7777777777777778,\"#fb9f3a\"],[0.8888888888888888,\"#fdca26\"],[1.0,\"#f0f921\"]],\"type\":\"histogram2dcontour\"}],\"mesh3d\":[{\"colorbar\":{\"outlinewidth\":0,\"ticks\":\"\"},\"type\":\"mesh3d\"}],\"parcoords\":[{\"line\":{\"colorbar\":{\"outlinewidth\":0,\"ticks\":\"\"}},\"type\":\"parcoords\"}],\"pie\":[{\"automargin\":true,\"type\":\"pie\"}],\"scatter\":[{\"marker\":{\"colorbar\":{\"outlinewidth\":0,\"ticks\":\"\"}},\"type\":\"scatter\"}],\"scatter3d\":[{\"line\":{\"colorbar\":{\"outlinewidth\":0,\"ticks\":\"\"}},\"marker\":{\"colorbar\":{\"outlinewidth\":0,\"ticks\":\"\"}},\"type\":\"scatter3d\"}],\"scattercarpet\":[{\"marker\":{\"colorbar\":{\"outlinewidth\":0,\"ticks\":\"\"}},\"type\":\"scattercarpet\"}],\"scattergeo\":[{\"marker\":{\"colorbar\":{\"outlinewidth\":0,\"ticks\":\"\"}},\"type\":\"scattergeo\"}],\"scattergl\":[{\"marker\":{\"colorbar\":{\"outlinewidth\":0,\"ticks\":\"\"}},\"type\":\"scattergl\"}],\"scattermapbox\":[{\"marker\":{\"colorbar\":{\"outlinewidth\":0,\"ticks\":\"\"}},\"type\":\"scattermapbox\"}],\"scatterpolar\":[{\"marker\":{\"colorbar\":{\"outlinewidth\":0,\"ticks\":\"\"}},\"type\":\"scatterpolar\"}],\"scatterpolargl\":[{\"marker\":{\"colorbar\":{\"outlinewidth\":0,\"ticks\":\"\"}},\"type\":\"scatterpolargl\"}],\"scatterternary\":[{\"marker\":{\"colorbar\":{\"outlinewidth\":0,\"ticks\":\"\"}},\"type\":\"scatterternary\"}],\"surface\":[{\"colorbar\":{\"outlinewidth\":0,\"ticks\":\"\"},\"colorscale\":[[0.0,\"#0d0887\"],[0.1111111111111111,\"#46039f\"],[0.2222222222222222,\"#7201a8\"],[0.3333333333333333,\"#9c179e\"],[0.4444444444444444,\"#bd3786\"],[0.5555555555555556,\"#d8576b\"],[0.6666666666666666,\"#ed7953\"],[0.7777777777777778,\"#fb9f3a\"],[0.8888888888888888,\"#fdca26\"],[1.0,\"#f0f921\"]],\"type\":\"surface\"}],\"table\":[{\"cells\":{\"fill\":{\"color\":\"#EBF0F8\"},\"line\":{\"color\":\"white\"}},\"header\":{\"fill\":{\"color\":\"#C8D4E3\"},\"line\":{\"color\":\"white\"}},\"type\":\"table\"}]},\"layout\":{\"annotationdefaults\":{\"arrowcolor\":\"#2a3f5f\",\"arrowhead\":0,\"arrowwidth\":1},\"autotypenumbers\":\"strict\",\"coloraxis\":{\"colorbar\":{\"outlinewidth\":0,\"ticks\":\"\"}},\"colorscale\":{\"diverging\":[[0,\"#8e0152\"],[0.1,\"#c51b7d\"],[0.2,\"#de77ae\"],[0.3,\"#f1b6da\"],[0.4,\"#fde0ef\"],[0.5,\"#f7f7f7\"],[0.6,\"#e6f5d0\"],[0.7,\"#b8e186\"],[0.8,\"#7fbc41\"],[0.9,\"#4d9221\"],[1,\"#276419\"]],\"sequential\":[[0.0,\"#0d0887\"],[0.1111111111111111,\"#46039f\"],[0.2222222222222222,\"#7201a8\"],[0.3333333333333333,\"#9c179e\"],[0.4444444444444444,\"#bd3786\"],[0.5555555555555556,\"#d8576b\"],[0.6666666666666666,\"#ed7953\"],[0.7777777777777778,\"#fb9f3a\"],[0.8888888888888888,\"#fdca26\"],[1.0,\"#f0f921\"]],\"sequentialminus\":[[0.0,\"#0d0887\"],[0.1111111111111111,\"#46039f\"],[0.2222222222222222,\"#7201a8\"],[0.3333333333333333,\"#9c179e\"],[0.4444444444444444,\"#bd3786\"],[0.5555555555555556,\"#d8576b\"],[0.6666666666666666,\"#ed7953\"],[0.7777777777777778,\"#fb9f3a\"],[0.8888888888888888,\"#fdca26\"],[1.0,\"#f0f921\"]]},\"colorway\":[\"#636efa\",\"#EF553B\",\"#00cc96\",\"#ab63fa\",\"#FFA15A\",\"#19d3f3\",\"#FF6692\",\"#B6E880\",\"#FF97FF\",\"#FECB52\"],\"font\":{\"color\":\"#2a3f5f\"},\"geo\":{\"bgcolor\":\"white\",\"lakecolor\":\"white\",\"landcolor\":\"#E5ECF6\",\"showlakes\":true,\"showland\":true,\"subunitcolor\":\"white\"},\"hoverlabel\":{\"align\":\"left\"},\"hovermode\":\"closest\",\"mapbox\":{\"style\":\"light\"},\"paper_bgcolor\":\"white\",\"plot_bgcolor\":\"#E5ECF6\",\"polar\":{\"angularaxis\":{\"gridcolor\":\"white\",\"linecolor\":\"white\",\"ticks\":\"\"},\"bgcolor\":\"#E5ECF6\",\"radialaxis\":{\"gridcolor\":\"white\",\"linecolor\":\"white\",\"ticks\":\"\"}},\"scene\":{\"xaxis\":{\"backgroundcolor\":\"#E5ECF6\",\"gridcolor\":\"white\",\"gridwidth\":2,\"linecolor\":\"white\",\"showbackground\":true,\"ticks\":\"\",\"zerolinecolor\":\"white\"},\"yaxis\":{\"backgroundcolor\":\"#E5ECF6\",\"gridcolor\":\"white\",\"gridwidth\":2,\"linecolor\":\"white\",\"showbackground\":true,\"ticks\":\"\",\"zerolinecolor\":\"white\"},\"zaxis\":{\"backgroundcolor\":\"#E5ECF6\",\"gridcolor\":\"white\",\"gridwidth\":2,\"linecolor\":\"white\",\"showbackground\":true,\"ticks\":\"\",\"zerolinecolor\":\"white\"}},\"shapedefaults\":{\"line\":{\"color\":\"#2a3f5f\"}},\"ternary\":{\"aaxis\":{\"gridcolor\":\"white\",\"linecolor\":\"white\",\"ticks\":\"\"},\"baxis\":{\"gridcolor\":\"white\",\"linecolor\":\"white\",\"ticks\":\"\"},\"bgcolor\":\"#E5ECF6\",\"caxis\":{\"gridcolor\":\"white\",\"linecolor\":\"white\",\"ticks\":\"\"}},\"title\":{\"x\":0.05},\"xaxis\":{\"automargin\":true,\"gridcolor\":\"white\",\"linecolor\":\"white\",\"ticks\":\"\",\"title\":{\"standoff\":15},\"zerolinecolor\":\"white\",\"zerolinewidth\":2},\"yaxis\":{\"automargin\":true,\"gridcolor\":\"white\",\"linecolor\":\"white\",\"ticks\":\"\",\"title\":{\"standoff\":15},\"zerolinecolor\":\"white\",\"zerolinewidth\":2}}},\"xaxis\":{\"anchor\":\"y\",\"domain\":[0.0,1.0],\"title\":{\"text\":\"\\u0422\\u0438\\u043f \\u043e\\u0431\\u044a\\u0435\\u043a\\u0442\\u0430\"},\"tickangle\":45},\"yaxis\":{\"anchor\":\"x\",\"domain\":[0.0,1.0],\"title\":{\"text\":\"\\u0414\\u043e\\u043b\\u0438 \\u0441\\u0435\\u0442\\u0435\\u0432\\u044b\\u0445 \\u043e\\u0431\\u044a\\u0435\\u043a\\u0442\\u043e\\u0432\"}},\"legend\":{\"title\":{\"text\":\"\\u041a\\u043e\\u043b\\u0438\\u0447\\u0435\\u0441\\u0442\\u0432\\u043e\"},\"tracegroupgap\":0},\"title\":{\"text\":\"\\u0414\\u043e\\u043b\\u0438 \\u0441\\u0435\\u0442\\u0435\\u0432\\u044b\\u0445 \\u0437\\u0430\\u0432\\u0435\\u0434\\u0435\\u043d\\u0438\\u0439 \\u0441\\u0440\\u0435\\u0434\\u0438 \\u0432\\u0438\\u0434\\u043e\\u0432 \\u043e\\u0431\\u044a\\u0435\\u043a\\u0442\\u043e\\u0432 \\u043e\\u0431\\u0449\\u0435\\u0441\\u0442\\u0432\\u0435\\u043d\\u043d\\u043e\\u0433\\u043e \\u043f\\u0438\\u0442\\u0430\\u043d\\u0438\\u044f \\u0432 \\u041c\\u043e\\u0441\\u043a\\u0432\\u0435\"},\"barmode\":\"relative\",\"height\":600,\"width\":900},                        {\"responsive\": true}                    ).then(function(){\n",
              "                            \n",
              "var gd = document.getElementById('2c01b89a-9887-4296-b983-b612f41d4819');\n",
              "var x = new MutationObserver(function (mutations, observer) {{\n",
              "        var display = window.getComputedStyle(gd).display;\n",
              "        if (!display || display === 'none') {{\n",
              "            console.log([gd, 'removed!']);\n",
              "            Plotly.purge(gd);\n",
              "            observer.disconnect();\n",
              "        }}\n",
              "}});\n",
              "\n",
              "// Listen for the removal of the full notebook cells\n",
              "var notebookContainer = gd.closest('#notebook-container');\n",
              "if (notebookContainer) {{\n",
              "    x.observe(notebookContainer, {childList: true});\n",
              "}}\n",
              "\n",
              "// Listen for the clearing of the current output cell\n",
              "var outputEl = gd.closest('.output');\n",
              "if (outputEl) {{\n",
              "    x.observe(outputEl, {childList: true});\n",
              "}}\n",
              "\n",
              "                        })                };                            </script>        </div>\n",
              "</body>\n",
              "</html>"
            ]
          },
          "metadata": {}
        }
      ],
      "source": [
        "# график долей сетевых объектов в каждом виде объектов общественного питания\n",
        "rest_type_chain['object_chain'] = rest_type_chain['object_chain'].astype('str')\n",
        "rest_type_chain.rename(columns={'object_chain': 'Количество'}, inplace = True)\n",
        "fig = px.bar(rest_type_chain, \n",
        "             x='object_type', \n",
        "             y='%_all',\n",
        "             title='Доли сетевых заведений среди видов объектов общественного питания в Москве', \n",
        "             color='Количество', \n",
        "             width=900, height=600\n",
        ")\n",
        "fig.update_xaxes(tickangle=45)\n",
        "fig.update_layout(\n",
        "    xaxis_title='Тип объекта',\n",
        "    yaxis_title='Доли сетевых объектов') \n",
        "fig.show()"
      ]
    },
    {
      "cell_type": "markdown",
      "metadata": {
        "id": "gmz4sqeTKrf-"
      },
      "source": [
        "Самые высокие доли сетевых заведений среди объектов общественного питания имеют:  \n",
        "1. предприятия быстрого обслуживания\t41%\n",
        "2. отделы кулинарии в магазинах\t29%  \n",
        "3. рестораны\t24%\n",
        "4. кафе\t23%\n",
        "5. закусочные\t16%\n",
        "6. кафетерии\t13%  \n",
        "Доли сетевых объектов других типов незначительны.\n",
        "\n",
        "Таким образом, для предприятий быстрого обслуживания, отделов кулинарии в магазинах, ресторанов и кафе характерно сетевое распространение."
      ]
    },
    {
      "cell_type": "markdown",
      "metadata": {
        "id": "fcWN5ZdhKrgB"
      },
      "source": [
        "### Числовые характеристики сетевых заведений"
      ]
    },
    {
      "cell_type": "markdown",
      "metadata": {
        "id": "G4cf91oAKrgC"
      },
      "source": [
        "Посмотрю на числовые характеристики и их разброс выборок посадочных мест самых распространенных видов сетевых заведений -  кафе, предприятий быстрого обслуживания, ресторанов. \n",
        "Визуализирую распределение посадочных мест и найду диапазон самых распространённых значений."
      ]
    },
    {
      "cell_type": "code",
      "execution_count": 18,
      "metadata": {
        "colab": {
          "base_uri": "https://localhost:8080/"
        },
        "id": "L2VKg56RKrgD",
        "outputId": "3d838539-08c0-4c34-8e72-081af69f6097"
      },
      "outputs": [
        {
          "output_type": "execute_result",
          "data": {
            "text/plain": [
              "count    1396.000000\n",
              "mean       47.426934\n",
              "std        44.731453\n",
              "min         0.000000\n",
              "25%        20.000000\n",
              "50%        40.000000\n",
              "75%        60.000000\n",
              "max       456.000000\n",
              "Name: number, dtype: float64"
            ]
          },
          "metadata": {},
          "execution_count": 18
        }
      ],
      "source": [
        "# Числовые характеристики и их разброс выборки посадочных мест сетевых кафе\n",
        "df_cafe = rest_chain_yes[rest_chain_yes['object_type'] == \"кафе\"]\n",
        "df_cafe['number'].describe()"
      ]
    },
    {
      "cell_type": "markdown",
      "metadata": {
        "id": "CYOT7dSRKrgE"
      },
      "source": [
        "Есть сетевые кафе без посадочных мест, максимум 456 посадочных мест. Медиана и среднее 47 и 40 соответственно. Стандартное отклонение велико: 44, значит в наборе данных могут быть серьёзные аномалии или выбросы."
      ]
    },
    {
      "cell_type": "code",
      "execution_count": 19,
      "metadata": {
        "colab": {
          "base_uri": "https://localhost:8080/",
          "height": 295
        },
        "id": "Nf9ci1UOKrgG",
        "outputId": "ae6b1cb1-8c5c-40a4-c987-1f68c01ebe73"
      },
      "outputs": [
        {
          "output_type": "display_data",
          "data": {
            "text/plain": [
              "<Figure size 432x288 with 1 Axes>"
            ],
            "image/png": "[encoded data removed]"
          },
          "metadata": {
            "needs_background": "light"
          }
        }
      ],
      "source": [
        "# гистограмма распределения количества посадочных мест в сетевых кафе\n",
        "df_cafe.hist('number', bins=30)\n",
        "plt.title('Распределения количества посадочных мест в сетевых кафе')\n",
        "plt.xlabel('Посадочные места')\n",
        "plt.ylabel('Частота')\n",
        "plt.show()"
      ]
    },
    {
      "cell_type": "markdown",
      "metadata": {
        "id": "ccoM6oDlKrgI"
      },
      "source": [
        "Среди сетевых кафе преобладают заведения до 30 посадочных мест. 30-60 и 60-100 - следующие по распространенности форматы объектов."
      ]
    },
    {
      "cell_type": "code",
      "execution_count": 20,
      "metadata": {
        "colab": {
          "base_uri": "https://localhost:8080/",
          "height": 281
        },
        "id": "P07C7CRAKrgI",
        "outputId": "3d622ea1-beb9-42a4-d17f-e5570821d6fe"
      },
      "outputs": [
        {
          "output_type": "display_data",
          "data": {
            "text/plain": [
              "<Figure size 432x288 with 1 Axes>"
            ],
            "image/png": "[encoded data removed]"
          },
          "metadata": {
            "needs_background": "light"
          }
        }
      ],
      "source": [
        "# диаграмма размаха\n",
        "df_cafe.boxplot('number')\n",
        "plt.title('Количество посадочных мест в сетевых кафе')\n",
        "plt.show()"
      ]
    },
    {
      "cell_type": "markdown",
      "metadata": {
        "id": "vXunG2cHKrgL"
      },
      "source": [
        "0-120 посадочных мест для сетевого кафе - ориентировочная граница нормальных значений. Всё, что лежит за ней, считается выбросом."
      ]
    },
    {
      "cell_type": "code",
      "execution_count": 21,
      "metadata": {
        "colab": {
          "base_uri": "https://localhost:8080/"
        },
        "id": "xRWcTBK5KrgM",
        "outputId": "a80c20c2-23a4-4363-85d0-8cc17aa8dbf3"
      },
      "outputs": [
        {
          "output_type": "execute_result",
          "data": {
            "text/plain": [
              "count    788.000000\n",
              "mean      40.319797\n",
              "std       50.738879\n",
              "min        0.000000\n",
              "25%        8.000000\n",
              "50%       25.000000\n",
              "75%       52.000000\n",
              "max      580.000000\n",
              "Name: number, dtype: float64"
            ]
          },
          "metadata": {},
          "execution_count": 21
        }
      ],
      "source": [
        "# Числовые характеристики и их разброс выборки посадочных мест сетевых предприятий быстрого обслуживания\n",
        "df_fastf = rest_chain_yes[rest_chain_yes['object_type'] == \"предприятие быстрого обслуживания\"]\n",
        "df_fastf['number'].describe()"
      ]
    },
    {
      "cell_type": "markdown",
      "metadata": {
        "id": "SyBFA4DWKrgN"
      },
      "source": [
        "Есть сетевые предприятия быстрого обслуживания без посадочных мест, максимум - 580 посадочных мест. Медиана и среднее 25 и 40 соответственно. Стандартное отклонение велико: 50, значит в наборе данных могут быть серьёзные аномалии или выбросы."
      ]
    },
    {
      "cell_type": "code",
      "execution_count": 22,
      "metadata": {
        "colab": {
          "base_uri": "https://localhost:8080/",
          "height": 295
        },
        "id": "shYaYAKKKrgP",
        "outputId": "776fe74e-8946-4161-d006-f6d5289f6e2d"
      },
      "outputs": [
        {
          "output_type": "display_data",
          "data": {
            "text/plain": [
              "<Figure size 432x288 with 1 Axes>"
            ],
            "image/png": "[encoded data removed]"
          },
          "metadata": {
            "needs_background": "light"
          }
        }
      ],
      "source": [
        "# гистограмма распределения количества посадочных мест в сетевых предприятиях быстрого обслуживания\n",
        "df_fastf.hist('number', bins=30)\n",
        "plt.title('Распределения количества посадочных мест в сетевом фастфуде')\n",
        "plt.xlabel('Посадочные места')\n",
        "plt.ylabel('Частота')\n",
        "plt.show()"
      ]
    },
    {
      "cell_type": "markdown",
      "metadata": {
        "id": "R7WqJDVPKrgQ"
      },
      "source": [
        "Среди сетевого фастфуда преобладают заведения до 25 посадочных мест. 25-50 и 50-100 - следующие по распространенности форматы объектов."
      ]
    },
    {
      "cell_type": "code",
      "execution_count": 23,
      "metadata": {
        "colab": {
          "base_uri": "https://localhost:8080/",
          "height": 281
        },
        "id": "dLG75U2LKrgQ",
        "outputId": "316ad81c-9838-4cc2-d8a6-9aa969fb5023"
      },
      "outputs": [
        {
          "output_type": "display_data",
          "data": {
            "text/plain": [
              "<Figure size 432x288 with 1 Axes>"
            ],
            "image/png": "[encoded data removed]"
          },
          "metadata": {
            "needs_background": "light"
          }
        }
      ],
      "source": [
        "# диаграмма размаха для сетевого фастфуда\n",
        "df_fastf.boxplot('number')\n",
        "plt.title('Количество посадочных мест в сетевом фастфуде')\n",
        "plt.show()"
      ]
    },
    {
      "cell_type": "markdown",
      "metadata": {
        "id": "ltvtyaQlKrgS"
      },
      "source": [
        "0-120 посадочных мест для сетевого предприятия быстрого обслуживания - ориентировочная граница нормальных значений. Всё, что лежит за ней, считается выбросом."
      ]
    },
    {
      "cell_type": "code",
      "execution_count": 24,
      "metadata": {
        "colab": {
          "base_uri": "https://localhost:8080/"
        },
        "id": "Je5APUwHKrgT",
        "outputId": "0abefdb0-5b78-439e-a1a3-4f3f0eb3a70d"
      },
      "outputs": [
        {
          "output_type": "execute_result",
          "data": {
            "text/plain": [
              "count    543.000000\n",
              "mean     100.362799\n",
              "std       74.442225\n",
              "min        0.000000\n",
              "25%       50.000000\n",
              "50%       89.000000\n",
              "75%      137.000000\n",
              "max      500.000000\n",
              "Name: number, dtype: float64"
            ]
          },
          "metadata": {},
          "execution_count": 24
        }
      ],
      "source": [
        "# Числовые характеристики и их разброс выборки посадочных мест сетевого ресторана\n",
        "df_rest = rest_chain_yes[rest_chain_yes['object_type'] == \"ресторан\"]\n",
        "df_rest['number'].describe()"
      ]
    },
    {
      "cell_type": "markdown",
      "metadata": {
        "id": "GIcmDtcRKrgU"
      },
      "source": [
        "Есть сетевые рестораны без посадочных мест, максимум 500 посадочных мест. Медиана и среднее 89 и 100 соответственно. Стандартное отклонение велико: 74, значит в наборе данных могут быть серьёзные аномалии или выбросы."
      ]
    },
    {
      "cell_type": "code",
      "execution_count": 25,
      "metadata": {
        "colab": {
          "base_uri": "https://localhost:8080/",
          "height": 295
        },
        "id": "8Po6IDvFKrgV",
        "outputId": "9ec32d67-ef1d-436a-923a-135ee3ca7d48"
      },
      "outputs": [
        {
          "output_type": "display_data",
          "data": {
            "text/plain": [
              "<Figure size 432x288 with 1 Axes>"
            ],
            "image/png": "[encoded data removed]"
          },
          "metadata": {
            "needs_background": "light"
          }
        }
      ],
      "source": [
        "# гистограмма распределения количества посадочных мест в сетевых ресторанах\n",
        "df_rest.hist('number', bins=30)\n",
        "plt.title('Распределения количества посадочных мест в сетевых ресторанах')\n",
        "plt.xlabel('Посадочные места')\n",
        "plt.ylabel('Частота')\n",
        "plt.show()"
      ]
    },
    {
      "cell_type": "markdown",
      "metadata": {
        "id": "REGe7RAqKrgZ"
      },
      "source": [
        "Среди сетевых ресторанов преобладают заведения на 85-100 посадочных мест. Большинство сетевых ресторанов можно разделить на 2 основные группы: до 100 и от 100 до 230 посадочных мест."
      ]
    },
    {
      "cell_type": "code",
      "execution_count": 26,
      "metadata": {
        "colab": {
          "base_uri": "https://localhost:8080/",
          "height": 281
        },
        "id": "Ek99sqN_Krga",
        "outputId": "2e1d6427-a9e2-4f61-e051-d475a743c997"
      },
      "outputs": [
        {
          "output_type": "display_data",
          "data": {
            "text/plain": [
              "<Figure size 432x288 with 1 Axes>"
            ],
            "image/png": "[encoded data removed]"
          },
          "metadata": {
            "needs_background": "light"
          }
        }
      ],
      "source": [
        "# диаграмма размаха для сетевых ресторанов\n",
        "df_rest.boxplot('number')\n",
        "plt.title('Количество посадочных мест в сетевых ресторанах')\n",
        "plt.show()"
      ]
    },
    {
      "cell_type": "markdown",
      "metadata": {
        "id": "LARWK-P0Krgb"
      },
      "source": [
        "0-270 посадочных мест для сетевого ресторана - ориентировочная граница нормальных значений. Всё, что лежит за ней, считается выбросом."
      ]
    },
    {
      "cell_type": "markdown",
      "metadata": {
        "id": "QU8iWE9oKrgd"
      },
      "source": [
        "Как видно из графиков выше, в данных о рапределении посадочных мест в заведениях разных видов есть серьезные выбросы. Медиана устойчива к выбросам, поэтому вычислю медиану количества посадочных мест объектов для каждой сети."
      ]
    },
    {
      "cell_type": "code",
      "execution_count": 27,
      "metadata": {
        "colab": {
          "base_uri": "https://localhost:8080/",
          "height": 363
        },
        "id": "WeKZ_DyDKrgf",
        "outputId": "0f7fa196-d836-43c9-b250-89c6720d123f"
      },
      "outputs": [
        {
          "output_type": "execute_result",
          "data": {
            "text/plain": [
              "     object_name  number\n",
              "30           155    45.0\n",
              "702          141    50.0\n",
              "127          122    41.5\n",
              "418          121    75.0\n",
              "195           86    16.0\n",
              "653           84    21.0\n",
              "384           82    15.0\n",
              "428           65     0.0\n",
              "629           61     6.0\n",
              "473           50    20.0"
            ],
            "text/html": [
              "\n",
              "  <div id=\"df-779736a2-48be-4282-9286-ae82691126aa\">\n",
              "    <div class=\"colab-df-container\">\n",
              "      <div>\n",
              "<style scoped>\n",
              "    .dataframe tbody tr th:only-of-type {\n",
              "        vertical-align: middle;\n",
              "    }\n",
              "\n",
              "    .dataframe tbody tr th {\n",
              "        vertical-align: top;\n",
              "    }\n",
              "\n",
              "    .dataframe thead th {\n",
              "        text-align: right;\n",
              "    }\n",
              "</style>\n",
              "<table border=\"1\" class=\"dataframe\">\n",
              "  <thead>\n",
              "    <tr style=\"text-align: right;\">\n",
              "      <th></th>\n",
              "      <th>object_name</th>\n",
              "      <th>number</th>\n",
              "    </tr>\n",
              "  </thead>\n",
              "  <tbody>\n",
              "    <tr>\n",
              "      <th>30</th>\n",
              "      <td>155</td>\n",
              "      <td>45.0</td>\n",
              "    </tr>\n",
              "    <tr>\n",
              "      <th>702</th>\n",
              "      <td>141</td>\n",
              "      <td>50.0</td>\n",
              "    </tr>\n",
              "    <tr>\n",
              "      <th>127</th>\n",
              "      <td>122</td>\n",
              "      <td>41.5</td>\n",
              "    </tr>\n",
              "    <tr>\n",
              "      <th>418</th>\n",
              "      <td>121</td>\n",
              "      <td>75.0</td>\n",
              "    </tr>\n",
              "    <tr>\n",
              "      <th>195</th>\n",
              "      <td>86</td>\n",
              "      <td>16.0</td>\n",
              "    </tr>\n",
              "    <tr>\n",
              "      <th>653</th>\n",
              "      <td>84</td>\n",
              "      <td>21.0</td>\n",
              "    </tr>\n",
              "    <tr>\n",
              "      <th>384</th>\n",
              "      <td>82</td>\n",
              "      <td>15.0</td>\n",
              "    </tr>\n",
              "    <tr>\n",
              "      <th>428</th>\n",
              "      <td>65</td>\n",
              "      <td>0.0</td>\n",
              "    </tr>\n",
              "    <tr>\n",
              "      <th>629</th>\n",
              "      <td>61</td>\n",
              "      <td>6.0</td>\n",
              "    </tr>\n",
              "    <tr>\n",
              "      <th>473</th>\n",
              "      <td>50</td>\n",
              "      <td>20.0</td>\n",
              "    </tr>\n",
              "  </tbody>\n",
              "</table>\n",
              "</div>\n",
              "      <button class=\"colab-df-convert\" onclick=\"convertToInteractive('df-779736a2-48be-4282-9286-ae82691126aa')\"\n",
              "              title=\"Convert this dataframe to an interactive table.\"\n",
              "              style=\"display:none;\">\n",
              "        \n",
              "  <svg xmlns=\"http://www.w3.org/2000/svg\" height=\"24px\"viewBox=\"0 0 24 24\"\n",
              "       width=\"24px\">\n",
              "    <path d=\"M0 0h24v24H0V0z\" fill=\"none\"/>\n",
              "    <path d=\"M18.56 5.44l.94 2.06.94-2.06 2.06-.94-2.06-.94-.94-2.06-.94 2.06-2.06.94zm-11 1L8.5 8.5l.94-2.06 2.06-.94-2.06-.94L8.5 2.5l-.94 2.06-2.06.94zm10 10l.94 2.06.94-2.06 2.06-.94-2.06-.94-.94-2.06-.94 2.06-2.06.94z\"/><path d=\"M17.41 7.96l-1.37-1.37c-.4-.4-.92-.59-1.43-.59-.52 0-1.04.2-1.43.59L10.3 9.45l-7.72 7.72c-.78.78-.78 2.05 0 2.83L4 21.41c.39.39.9.59 1.41.59.51 0 1.02-.2 1.41-.59l7.78-7.78 2.81-2.81c.8-.78.8-2.07 0-2.86zM5.41 20L4 18.59l7.72-7.72 1.47 1.35L5.41 20z\"/>\n",
              "  </svg>\n",
              "      </button>\n",
              "      \n",
              "  <style>\n",
              "    .colab-df-container {\n",
              "      display:flex;\n",
              "      flex-wrap:wrap;\n",
              "      gap: 12px;\n",
              "    }\n",
              "\n",
              "    .colab-df-convert {\n",
              "      background-color: #E8F0FE;\n",
              "      border: none;\n",
              "      border-radius: 50%;\n",
              "      cursor: pointer;\n",
              "      display: none;\n",
              "      fill: #1967D2;\n",
              "      height: 32px;\n",
              "      padding: 0 0 0 0;\n",
              "      width: 32px;\n",
              "    }\n",
              "\n",
              "    .colab-df-convert:hover {\n",
              "      background-color: #E2EBFA;\n",
              "      box-shadow: 0px 1px 2px rgba(60, 64, 67, 0.3), 0px 1px 3px 1px rgba(60, 64, 67, 0.15);\n",
              "      fill: #174EA6;\n",
              "    }\n",
              "\n",
              "    [theme=dark] .colab-df-convert {\n",
              "      background-color: #3B4455;\n",
              "      fill: #D2E3FC;\n",
              "    }\n",
              "\n",
              "    [theme=dark] .colab-df-convert:hover {\n",
              "      background-color: #434B5C;\n",
              "      box-shadow: 0px 1px 3px 1px rgba(0, 0, 0, 0.15);\n",
              "      filter: drop-shadow(0px 1px 2px rgba(0, 0, 0, 0.3));\n",
              "      fill: #FFFFFF;\n",
              "    }\n",
              "  </style>\n",
              "\n",
              "      <script>\n",
              "        const buttonEl =\n",
              "          document.querySelector('#df-779736a2-48be-4282-9286-ae82691126aa button.colab-df-convert');\n",
              "        buttonEl.style.display =\n",
              "          google.colab.kernel.accessAllowed ? 'block' : 'none';\n",
              "\n",
              "        async function convertToInteractive(key) {\n",
              "          const element = document.querySelector('#df-779736a2-48be-4282-9286-ae82691126aa');\n",
              "          const dataTable =\n",
              "            await google.colab.kernel.invokeFunction('convertToInteractive',\n",
              "                                                     [key], {});\n",
              "          if (!dataTable) return;\n",
              "\n",
              "          const docLinkHtml = 'Like what you see? Visit the ' +\n",
              "            '<a target=\"_blank\" href=https://colab.research.google.com/notebooks/data_table.ipynb>data table notebook</a>'\n",
              "            + ' to learn more about interactive tables.';\n",
              "          element.innerHTML = '';\n",
              "          dataTable['output_type'] = 'display_data';\n",
              "          await google.colab.output.renderOutput(dataTable, element);\n",
              "          const docLink = document.createElement('div');\n",
              "          docLink.innerHTML = docLinkHtml;\n",
              "          element.appendChild(docLink);\n",
              "        }\n",
              "      </script>\n",
              "    </div>\n",
              "  </div>\n",
              "  "
            ]
          },
          "metadata": {},
          "execution_count": 27
        }
      ],
      "source": [
        "# вычислю медиану количества посадочных мест объектов для каждой сети\n",
        "rest_chain_number = (rest_chain_yes\n",
        "    .groupby('object_name', as_index=False)\n",
        "    .agg({'object_name': 'count', 'number': 'median'})\n",
        ")\n",
        "rest_chain_number.sort_values(by='object_name', ascending=False).head(10)"
      ]
    },
    {
      "cell_type": "code",
      "execution_count": 28,
      "metadata": {
        "colab": {
          "base_uri": "https://localhost:8080/"
        },
        "id": "Zg9LcMXYKrgj",
        "outputId": "47372280-2a4a-4886-8e03-7b0802b03950"
      },
      "outputs": [
        {
          "output_type": "stream",
          "name": "stdout",
          "text": [
            "95 и 99 перцентили количества объектов сети: [12.   64.08]\n",
            "95 и 99 перцентили медианного количества посадочных мест сети: [154.55 262.32]\n"
          ]
        }
      ],
      "source": [
        "# Посчитаю 95-й и 99-й перцентили для количества объектов сети и количества посадочных мест сети\n",
        "print(\"95 и 99 перцентили количества объектов сети:\", np.percentile(rest_chain_number['object_name'], [95, 99])) \n",
        "print(\"95 и 99 перцентили медианного количества посадочных мест сети:\", np.percentile(rest_chain_number['number'], [95, 99]))"
      ]
    },
    {
      "cell_type": "code",
      "execution_count": 29,
      "metadata": {
        "scrolled": false,
        "colab": {
          "base_uri": "https://localhost:8080/",
          "height": 617
        },
        "id": "ihGpc1FKKrgl",
        "outputId": "dce3602d-a83c-43da-d73c-ef133a7eaf56"
      },
      "outputs": [
        {
          "output_type": "display_data",
          "data": {
            "text/html": [
              "<html>\n",
              "<head><meta charset=\"utf-8\" /></head>\n",
              "<body>\n",
              "    <div>            <script src=\"https://cdnjs.cloudflare.com/ajax/libs/mathjax/2.7.5/MathJax.js?config=TeX-AMS-MML_SVG\"></script><script type=\"text/javascript\">if (window.MathJax) {MathJax.Hub.Config({SVG: {font: \"STIX-Web\"}});}</script>                <script type=\"text/javascript\">window.PlotlyConfig = {MathJaxConfig: 'local'};</script>\n",
              "        <script src=\"https://cdn.plot.ly/plotly-2.8.3.min.js\"></script>                <div id=\"6f80d37a-c2e4-48ba-b80d-9c8903792af8\" class=\"plotly-graph-div\" style=\"height:600px; width:900px;\"></div>            <script type=\"text/javascript\">                                    window.PLOTLYENV=window.PLOTLYENV || {};                                    if (document.getElementById(\"6f80d37a-c2e4-48ba-b80d-9c8903792af8\")) {                    Plotly.newPlot(                        \"6f80d37a-c2e4-48ba-b80d-9c8903792af8\",                        [{\"hovertemplate\":\"number=%{x}<br>object_name=%{y}<extra></extra>\",\"legendgroup\":\"\",\"marker\":{\"color\":\"#636efa\",\"symbol\":\"circle\"},\"mode\":\"markers\",\"name\":\"\",\"orientation\":\"v\",\"showlegend\":false,\"x\":[88.0,75.0,40.0,68.0,46.0,6.0,20.0,10.0,32.0,0.0,50.0,8.5,4.0,50.0,15.0,40.0,10.0,70.0,80.0,50.0,96.0,20.0,65.0,45.0,25.0,9.5,2.0,82.0,10.0,35.0,45.0,146.0,27.0,20.0,21.5,62.5,150.0,90.0,0.0,65.0,40.0,0.0,0.0,75.0,38.0,20.0,6.0,10.0,35.0,26.0,33.0,30.0,42.0,34.0,28.0,40.0,90.0,15.0,30.0,100.0,30.0,48.0,12.0,45.0,50.0,90.0,20.0,27.0,0.0,39.0,40.0,48.0,20.0,20.0,48.0,150.0,10.0,0.0,2.0,8.0,10.0,104.0,20.0,68.5,20.0,100.0,150.0,8.0,19.0,47.5,36.0,40.0,0.0,47.0,55.5,60.0,350.0,6.0,35.0,80.0,70.0,50.0,70.0,70.0,70.0,213.0,0.0,39.0,5.0,65.0,43.0,45.0,93.0,25.0,22.5,2.5,18.0,1.0,80.0,90.0,15.0,10.0,40.0,25.0,48.0,190.0,30.0,41.5,75.0,20.0,27.5,16.0,85.0,46.0,40.0,96.0,150.0,60.0,60.0,70.0,15.0,75.0,0.0,45.0,42.0,98.0,25.0,20.0,17.0,50.0,59.0,50.0,144.0,85.0,17.0,75.0,120.0,143.0,5.0,65.0,0.0,110.0,36.0,90.0,12.0,130.0,120.0,130.0,98.0,48.0,100.0,41.0,45.0,110.0,24.0,60.5,25.0,23.0,145.0,80.0,20.0,40.0,15.0,23.0,130.0,80.0,80.0,45.0,96.0,15.0,36.0,7.0,30.0,41.0,70.0,16.0,4.0,20.0,70.0,110.0,123.0,64.0,89.0,98.0,40.0,10.0,2.0,20.0,10.0,20.0,0.0,0.0,10.0,72.0,120.0,60.0,56.5,98.0,17.5,35.0,100.0,90.0,100.0,98.0,94.0,94.0,67.0,32.0,9.0,40.0,19.0,98.0,80.0,50.0,250.0,45.0,40.0,38.0,22.0,68.0,105.0,48.0,122.0,3.0,145.0,50.0,60.0,0.0,58.0,54.0,50.0,40.0,57.5,80.0,10.0,15.0,90.0,35.0,25.0,45.0,60.0,22.0,30.0,40.0,40.0,23.0,12.0,20.5,60.0,22.0,2.0,30.0,15.0,40.0,39.0,72.5,150.0,56.0,7.5,35.0,98.0,27.5,10.0,60.0,75.0,60.0,18.5,134.0,10.0,18.0,40.0,60.0,24.0,40.0,165.0,170.0,100.0,59.0,12.0,22.0,24.0,3.0,50.0,17.5,90.0,34.5,15.0,16.0,7.0,150.0,150.0,70.0,25.0,120.0,80.0,50.0,60.0,102.0,60.0,22.5,103.5,50.0,120.0,22.0,176.0,68.0,10.0,175.0,300.0,188.0,75.0,80.0,222.5,35.0,8.0,225.0,15.0,100.0,225.0,12.0,16.0,12.0,4.0,17.0,15.0,90.0,84.0,87.0,35.0,10.0,16.0,200.0,18.0,38.0,43.0,115.0,130.0,20.0,2.0,50.0,130.0,0.0,0.0,4.0,6.0,20.0,41.0,81.0,10.0,0.0,44.0,23.0,42.0,55.0,90.0,91.0,78.0,65.0,65.0,17.5,30.0,85.0,52.0,35.0,15.0,10.0,90.0,50.0,30.0,45.0,21.0,70.0,35.0,45.0,80.0,53.0,0.0,20.0,17.0,10.0,10.0,90.0,90.0,66.0,30.0,0.0,48.0,70.0,45.0,70.0,135.0,40.0,0.0,0.0,16.0,11.0,25.0,20.0,75.0,49.0,60.0,75.0,170.0,20.0,50.0,80.0,60.0,20.0,0.0,60.0,70.0,12.0,17.5,250.0,150.0,60.0,22.0,56.0,35.0,40.0,40.0,48.0,48.0,74.0,69.0,60.0,84.0,99.0,215.0,60.0,13.5,1.0,16.0,60.0,40.0,60.0,60.0,130.0,245.0,25.0,4.0,40.0,28.0,3.5,37.0,20.0,40.0,50.0,80.0,42.0,160.0,113.0,50.0,20.0,1.0,52.5,12.0,20.0,45.0,22.0,17.5,10.0,0.0,4.0,0.0,30.0,45.0,36.0,18.0,20.0,20.0,11.0,43.0,37.5,15.0,30.0,17.0,0.0,40.0,28.0,23.5,80.0,25.0,72.5,85.0,25.0,0.0,90.0,266.0,30.0,56.0,6.0,30.0,36.0,20.0,10.0,38.0,24.0,24.0,0.0,24.0,16.0,20.0,46.0,0.0,20.0,42.0,16.0,65.5,130.0,45.0,67.5,150.0,150.0,85.0,70.0,150.0,250.0,160.0,96.0,85.0,10.0,95.0,63.0,85.0,130.0,40.0,139.0,128.0,30.0,98.0,120.0,100.0,93.0,20.0,95.0,136.0,142.0,96.0,120.0,72.5,100.0,121.0,60.0,32.0,90.0,92.0,125.0,115.0,135.0,20.0,89.0,250.0,60.0,250.0,120.0,150.0,25.0,100.0,180.0,50.0,100.0,98.0,52.0,170.0,25.0,30.0,0.0,48.0,55.0,49.0,21.0,3.0,50.0,103.5,17.5,70.0,215.0,120.0,3.5,6.0,10.0,16.0,24.0,18.0,145.0,80.0,98.0,80.0,8.0,48.0,12.0,200.0,82.0,35.0,150.0,41.0,42.0,50.0,0.0,10.0,0.0,0.0,280.0,80.0,35.0,49.0,3.0,4.0,6.0,4.0,6.5,4.5,22.0,5.0,11.0,10.0,20.0,20.0,6.0,47.5,88.0,20.0,24.5,50.0,200.0,48.0,8.0,104.0,83.5,6.0,356.0,147.0,21.0,12.0,75.0,70.0,18.0,90.0,180.0,0.0,90.0,96.0,130.0,40.0,165.0,99.0,45.0,25.0,24.0,50.0,74.0,30.0,125.0,130.0,97.5,45.0,63.0,30.0,47.0,35.0,40.0,16.5,11.0,40.0,150.0,99.5,150.0,49.5,306.0,149.0,80.0,20.0,14.0,70.0,85.0,60.0,14.0,20.0,32.0,11.0,50.0,50.0,60.0,25.0,48.0,25.5,48.0,152.0,99.0,2.0,150.0,98.0,282.0,300.0,155.0,60.0,100.0,80.0,24.0,63.5,50.0,86.0,124.0],\"xaxis\":\"x\",\"y\":[1,1,1,3,1,1,3,3,1,1,4,22,1,2,5,1,6,1,1,1,1,3,1,1,1,2,1,1,1,4,155,1,7,3,2,2,1,1,1,1,5,1,2,4,2,1,1,1,1,4,1,5,30,1,1,1,2,29,3,1,1,1,2,1,1,1,1,3,1,1,1,1,1,1,1,1,5,2,2,1,1,4,1,4,1,1,1,5,2,2,14,1,1,6,12,1,1,1,1,1,1,1,1,11,1,2,1,1,1,1,1,1,2,1,2,12,2,1,1,1,3,1,1,9,1,1,7,122,7,1,4,4,1,1,1,1,1,1,10,1,1,10,1,1,1,1,2,8,12,1,2,4,1,2,1,6,1,1,1,1,1,8,1,1,1,4,1,4,1,1,1,1,1,2,3,2,1,1,3,1,5,1,1,4,5,3,1,7,8,1,1,1,31,10,1,86,1,3,2,2,2,5,1,2,1,1,1,2,1,1,1,1,1,2,3,1,2,1,2,1,23,9,1,3,2,2,3,1,1,1,1,1,1,1,1,1,1,1,1,1,2,1,1,1,6,1,3,1,4,2,1,1,2,2,1,1,3,1,1,1,1,1,1,1,1,1,1,2,11,1,1,1,1,1,2,2,3,1,2,2,1,2,1,1,1,1,2,4,1,1,1,1,3,1,1,3,1,2,1,2,3,1,1,2,1,2,1,1,1,1,1,1,7,1,1,1,3,1,14,2,4,1,1,1,1,1,1,1,1,1,1,1,2,1,1,1,1,1,1,1,1,1,1,1,1,1,1,1,2,4,1,1,1,2,2,6,3,1,1,30,1,1,42,1,1,1,3,3,1,1,1,1,1,4,1,2,2,13,1,2,2,1,1,1,82,7,11,1,15,5,2,1,1,1,3,1,1,5,1,1,2,29,2,1,1,7,1,1,5,1,8,1,1,3,1,4,1,1,121,3,1,1,1,1,5,1,1,1,65,5,1,1,2,1,15,1,1,1,1,23,1,1,1,1,2,1,4,1,1,1,2,1,1,1,1,1,1,1,2,1,1,1,1,6,3,1,1,1,1,1,1,2,5,50,1,2,1,1,1,1,2,1,1,1,15,1,1,5,17,7,1,2,1,4,5,2,7,1,1,1,2,1,1,2,1,3,1,3,1,7,3,1,22,7,1,1,2,1,5,1,1,1,1,6,3,1,2,1,2,3,1,2,1,1,1,1,2,1,1,1,1,1,1,2,2,1,1,2,1,1,1,1,1,1,1,1,1,4,1,1,2,1,8,1,1,3,1,3,6,1,1,2,1,1,1,3,1,1,1,1,1,1,1,2,1,1,1,1,1,1,3,2,2,7,6,2,1,2,1,4,1,17,1,1,2,3,1,1,1,1,1,6,1,1,1,1,21,3,1,11,1,3,1,1,1,1,2,5,2,61,1,10,10,1,2,3,2,1,3,15,2,6,2,10,1,1,1,1,26,2,5,1,2,84,1,4,1,6,9,1,2,1,1,1,1,6,1,1,1,9,1,3,1,2,1,2,35,1,1,4,7,24,2,2,1,1,42,1,6,1,1,1,1,1,1,1,16,1,5,1,1,1,141,1,1,1,12,1,5,1,1,1,33,1,1,1,1,1,1,1,2,1,1,1],\"yaxis\":\"y\",\"type\":\"scatter\"}],                        {\"template\":{\"data\":{\"bar\":[{\"error_x\":{\"color\":\"#2a3f5f\"},\"error_y\":{\"color\":\"#2a3f5f\"},\"marker\":{\"line\":{\"color\":\"#E5ECF6\",\"width\":0.5},\"pattern\":{\"fillmode\":\"overlay\",\"size\":10,\"solidity\":0.2}},\"type\":\"bar\"}],\"barpolar\":[{\"marker\":{\"line\":{\"color\":\"#E5ECF6\",\"width\":0.5},\"pattern\":{\"fillmode\":\"overlay\",\"size\":10,\"solidity\":0.2}},\"type\":\"barpolar\"}],\"carpet\":[{\"aaxis\":{\"endlinecolor\":\"#2a3f5f\",\"gridcolor\":\"white\",\"linecolor\":\"white\",\"minorgridcolor\":\"white\",\"startlinecolor\":\"#2a3f5f\"},\"baxis\":{\"endlinecolor\":\"#2a3f5f\",\"gridcolor\":\"white\",\"linecolor\":\"white\",\"minorgridcolor\":\"white\",\"startlinecolor\":\"#2a3f5f\"},\"type\":\"carpet\"}],\"choropleth\":[{\"colorbar\":{\"outlinewidth\":0,\"ticks\":\"\"},\"type\":\"choropleth\"}],\"contour\":[{\"colorbar\":{\"outlinewidth\":0,\"ticks\":\"\"},\"colorscale\":[[0.0,\"#0d0887\"],[0.1111111111111111,\"#46039f\"],[0.2222222222222222,\"#7201a8\"],[0.3333333333333333,\"#9c179e\"],[0.4444444444444444,\"#bd3786\"],[0.5555555555555556,\"#d8576b\"],[0.6666666666666666,\"#ed7953\"],[0.7777777777777778,\"#fb9f3a\"],[0.8888888888888888,\"#fdca26\"],[1.0,\"#f0f921\"]],\"type\":\"contour\"}],\"contourcarpet\":[{\"colorbar\":{\"outlinewidth\":0,\"ticks\":\"\"},\"type\":\"contourcarpet\"}],\"heatmap\":[{\"colorbar\":{\"outlinewidth\":0,\"ticks\":\"\"},\"colorscale\":[[0.0,\"#0d0887\"],[0.1111111111111111,\"#46039f\"],[0.2222222222222222,\"#7201a8\"],[0.3333333333333333,\"#9c179e\"],[0.4444444444444444,\"#bd3786\"],[0.5555555555555556,\"#d8576b\"],[0.6666666666666666,\"#ed7953\"],[0.7777777777777778,\"#fb9f3a\"],[0.8888888888888888,\"#fdca26\"],[1.0,\"#f0f921\"]],\"type\":\"heatmap\"}],\"heatmapgl\":[{\"colorbar\":{\"outlinewidth\":0,\"ticks\":\"\"},\"colorscale\":[[0.0,\"#0d0887\"],[0.1111111111111111,\"#46039f\"],[0.2222222222222222,\"#7201a8\"],[0.3333333333333333,\"#9c179e\"],[0.4444444444444444,\"#bd3786\"],[0.5555555555555556,\"#d8576b\"],[0.6666666666666666,\"#ed7953\"],[0.7777777777777778,\"#fb9f3a\"],[0.8888888888888888,\"#fdca26\"],[1.0,\"#f0f921\"]],\"type\":\"heatmapgl\"}],\"histogram\":[{\"marker\":{\"pattern\":{\"fillmode\":\"overlay\",\"size\":10,\"solidity\":0.2}},\"type\":\"histogram\"}],\"histogram2d\":[{\"colorbar\":{\"outlinewidth\":0,\"ticks\":\"\"},\"colorscale\":[[0.0,\"#0d0887\"],[0.1111111111111111,\"#46039f\"],[0.2222222222222222,\"#7201a8\"],[0.3333333333333333,\"#9c179e\"],[0.4444444444444444,\"#bd3786\"],[0.5555555555555556,\"#d8576b\"],[0.6666666666666666,\"#ed7953\"],[0.7777777777777778,\"#fb9f3a\"],[0.8888888888888888,\"#fdca26\"],[1.0,\"#f0f921\"]],\"type\":\"histogram2d\"}],\"histogram2dcontour\":[{\"colorbar\":{\"outlinewidth\":0,\"ticks\":\"\"},\"colorscale\":[[0.0,\"#0d0887\"],[0.1111111111111111,\"#46039f\"],[0.2222222222222222,\"#7201a8\"],[0.3333333333333333,\"#9c179e\"],[0.4444444444444444,\"#bd3786\"],[0.5555555555555556,\"#d8576b\"],[0.6666666666666666,\"#ed7953\"],[0.7777777777777778,\"#fb9f3a\"],[0.8888888888888888,\"#fdca26\"],[1.0,\"#f0f921\"]],\"type\":\"histogram2dcontour\"}],\"mesh3d\":[{\"colorbar\":{\"outlinewidth\":0,\"ticks\":\"\"},\"type\":\"mesh3d\"}],\"parcoords\":[{\"line\":{\"colorbar\":{\"outlinewidth\":0,\"ticks\":\"\"}},\"type\":\"parcoords\"}],\"pie\":[{\"automargin\":true,\"type\":\"pie\"}],\"scatter\":[{\"marker\":{\"colorbar\":{\"outlinewidth\":0,\"ticks\":\"\"}},\"type\":\"scatter\"}],\"scatter3d\":[{\"line\":{\"colorbar\":{\"outlinewidth\":0,\"ticks\":\"\"}},\"marker\":{\"colorbar\":{\"outlinewidth\":0,\"ticks\":\"\"}},\"type\":\"scatter3d\"}],\"scattercarpet\":[{\"marker\":{\"colorbar\":{\"outlinewidth\":0,\"ticks\":\"\"}},\"type\":\"scattercarpet\"}],\"scattergeo\":[{\"marker\":{\"colorbar\":{\"outlinewidth\":0,\"ticks\":\"\"}},\"type\":\"scattergeo\"}],\"scattergl\":[{\"marker\":{\"colorbar\":{\"outlinewidth\":0,\"ticks\":\"\"}},\"type\":\"scattergl\"}],\"scattermapbox\":[{\"marker\":{\"colorbar\":{\"outlinewidth\":0,\"ticks\":\"\"}},\"type\":\"scattermapbox\"}],\"scatterpolar\":[{\"marker\":{\"colorbar\":{\"outlinewidth\":0,\"ticks\":\"\"}},\"type\":\"scatterpolar\"}],\"scatterpolargl\":[{\"marker\":{\"colorbar\":{\"outlinewidth\":0,\"ticks\":\"\"}},\"type\":\"scatterpolargl\"}],\"scatterternary\":[{\"marker\":{\"colorbar\":{\"outlinewidth\":0,\"ticks\":\"\"}},\"type\":\"scatterternary\"}],\"surface\":[{\"colorbar\":{\"outlinewidth\":0,\"ticks\":\"\"},\"colorscale\":[[0.0,\"#0d0887\"],[0.1111111111111111,\"#46039f\"],[0.2222222222222222,\"#7201a8\"],[0.3333333333333333,\"#9c179e\"],[0.4444444444444444,\"#bd3786\"],[0.5555555555555556,\"#d8576b\"],[0.6666666666666666,\"#ed7953\"],[0.7777777777777778,\"#fb9f3a\"],[0.8888888888888888,\"#fdca26\"],[1.0,\"#f0f921\"]],\"type\":\"surface\"}],\"table\":[{\"cells\":{\"fill\":{\"color\":\"#EBF0F8\"},\"line\":{\"color\":\"white\"}},\"header\":{\"fill\":{\"color\":\"#C8D4E3\"},\"line\":{\"color\":\"white\"}},\"type\":\"table\"}]},\"layout\":{\"annotationdefaults\":{\"arrowcolor\":\"#2a3f5f\",\"arrowhead\":0,\"arrowwidth\":1},\"autotypenumbers\":\"strict\",\"coloraxis\":{\"colorbar\":{\"outlinewidth\":0,\"ticks\":\"\"}},\"colorscale\":{\"diverging\":[[0,\"#8e0152\"],[0.1,\"#c51b7d\"],[0.2,\"#de77ae\"],[0.3,\"#f1b6da\"],[0.4,\"#fde0ef\"],[0.5,\"#f7f7f7\"],[0.6,\"#e6f5d0\"],[0.7,\"#b8e186\"],[0.8,\"#7fbc41\"],[0.9,\"#4d9221\"],[1,\"#276419\"]],\"sequential\":[[0.0,\"#0d0887\"],[0.1111111111111111,\"#46039f\"],[0.2222222222222222,\"#7201a8\"],[0.3333333333333333,\"#9c179e\"],[0.4444444444444444,\"#bd3786\"],[0.5555555555555556,\"#d8576b\"],[0.6666666666666666,\"#ed7953\"],[0.7777777777777778,\"#fb9f3a\"],[0.8888888888888888,\"#fdca26\"],[1.0,\"#f0f921\"]],\"sequentialminus\":[[0.0,\"#0d0887\"],[0.1111111111111111,\"#46039f\"],[0.2222222222222222,\"#7201a8\"],[0.3333333333333333,\"#9c179e\"],[0.4444444444444444,\"#bd3786\"],[0.5555555555555556,\"#d8576b\"],[0.6666666666666666,\"#ed7953\"],[0.7777777777777778,\"#fb9f3a\"],[0.8888888888888888,\"#fdca26\"],[1.0,\"#f0f921\"]]},\"colorway\":[\"#636efa\",\"#EF553B\",\"#00cc96\",\"#ab63fa\",\"#FFA15A\",\"#19d3f3\",\"#FF6692\",\"#B6E880\",\"#FF97FF\",\"#FECB52\"],\"font\":{\"color\":\"#2a3f5f\"},\"geo\":{\"bgcolor\":\"white\",\"lakecolor\":\"white\",\"landcolor\":\"#E5ECF6\",\"showlakes\":true,\"showland\":true,\"subunitcolor\":\"white\"},\"hoverlabel\":{\"align\":\"left\"},\"hovermode\":\"closest\",\"mapbox\":{\"style\":\"light\"},\"paper_bgcolor\":\"white\",\"plot_bgcolor\":\"#E5ECF6\",\"polar\":{\"angularaxis\":{\"gridcolor\":\"white\",\"linecolor\":\"white\",\"ticks\":\"\"},\"bgcolor\":\"#E5ECF6\",\"radialaxis\":{\"gridcolor\":\"white\",\"linecolor\":\"white\",\"ticks\":\"\"}},\"scene\":{\"xaxis\":{\"backgroundcolor\":\"#E5ECF6\",\"gridcolor\":\"white\",\"gridwidth\":2,\"linecolor\":\"white\",\"showbackground\":true,\"ticks\":\"\",\"zerolinecolor\":\"white\"},\"yaxis\":{\"backgroundcolor\":\"#E5ECF6\",\"gridcolor\":\"white\",\"gridwidth\":2,\"linecolor\":\"white\",\"showbackground\":true,\"ticks\":\"\",\"zerolinecolor\":\"white\"},\"zaxis\":{\"backgroundcolor\":\"#E5ECF6\",\"gridcolor\":\"white\",\"gridwidth\":2,\"linecolor\":\"white\",\"showbackground\":true,\"ticks\":\"\",\"zerolinecolor\":\"white\"}},\"shapedefaults\":{\"line\":{\"color\":\"#2a3f5f\"}},\"ternary\":{\"aaxis\":{\"gridcolor\":\"white\",\"linecolor\":\"white\",\"ticks\":\"\"},\"baxis\":{\"gridcolor\":\"white\",\"linecolor\":\"white\",\"ticks\":\"\"},\"bgcolor\":\"#E5ECF6\",\"caxis\":{\"gridcolor\":\"white\",\"linecolor\":\"white\",\"ticks\":\"\"}},\"title\":{\"x\":0.05},\"xaxis\":{\"automargin\":true,\"gridcolor\":\"white\",\"linecolor\":\"white\",\"ticks\":\"\",\"title\":{\"standoff\":15},\"zerolinecolor\":\"white\",\"zerolinewidth\":2},\"yaxis\":{\"automargin\":true,\"gridcolor\":\"white\",\"linecolor\":\"white\",\"ticks\":\"\",\"title\":{\"standoff\":15},\"zerolinecolor\":\"white\",\"zerolinewidth\":2}}},\"xaxis\":{\"anchor\":\"y\",\"domain\":[0.0,1.0],\"title\":{\"text\":\"\\u0427\\u0438\\u0441\\u043b\\u043e \\u043f\\u043e\\u0441\\u0430\\u0434\\u043e\\u0447\\u043d\\u044b\\u0445 \\u043c\\u0435\\u0441\\u0442\"}},\"yaxis\":{\"anchor\":\"x\",\"domain\":[0.0,1.0],\"title\":{\"text\":\"\\u041a\\u043e\\u043b\\u0438\\u0447\\u0435\\u0441\\u0442\\u0432\\u043e \\u043e\\u0431\\u044a\\u0435\\u043a\\u0442\\u043e\\u0432 \\u0432 \\u0441\\u0435\\u0442\\u0438\"}},\"legend\":{\"tracegroupgap\":0},\"title\":{\"text\":\"\\u041a\\u043e\\u043b\\u0438\\u0447\\u0435\\u0441\\u0442\\u0432\\u043e \\u043e\\u0431\\u044a\\u0435\\u043a\\u0442\\u043e\\u0432 \\u0432 \\u0441\\u0435\\u0442\\u0438 \\u0438 \\u043c\\u0435\\u0434\\u0438\\u0430\\u043d\\u043d\\u043e\\u0435 \\u0447\\u0438\\u0441\\u043b\\u043e \\u043c\\u0435\\u0441\\u0442 \\u0432 \\u043d\\u0438\\u0445\"},\"height\":600,\"width\":900,\"shapes\":[{\"line\":{\"color\":\"red\",\"dash\":\"dash\",\"width\":2},\"type\":\"line\",\"x0\":0,\"x1\":1,\"xref\":\"x domain\",\"y0\":12.0,\"y1\":12.0,\"yref\":\"y\"},{\"line\":{\"color\":\"red\",\"dash\":\"dash\",\"width\":2},\"type\":\"line\",\"x0\":154.55000000000007,\"x1\":154.55000000000007,\"xref\":\"x\",\"y0\":0,\"y1\":1,\"yref\":\"y domain\"}]},                        {\"responsive\": true}                    ).then(function(){\n",
              "                            \n",
              "var gd = document.getElementById('6f80d37a-c2e4-48ba-b80d-9c8903792af8');\n",
              "var x = new MutationObserver(function (mutations, observer) {{\n",
              "        var display = window.getComputedStyle(gd).display;\n",
              "        if (!display || display === 'none') {{\n",
              "            console.log([gd, 'removed!']);\n",
              "            Plotly.purge(gd);\n",
              "            observer.disconnect();\n",
              "        }}\n",
              "}});\n",
              "\n",
              "// Listen for the removal of the full notebook cells\n",
              "var notebookContainer = gd.closest('#notebook-container');\n",
              "if (notebookContainer) {{\n",
              "    x.observe(notebookContainer, {childList: true});\n",
              "}}\n",
              "\n",
              "// Listen for the clearing of the current output cell\n",
              "var outputEl = gd.closest('.output');\n",
              "if (outputEl) {{\n",
              "    x.observe(outputEl, {childList: true});\n",
              "}}\n",
              "\n",
              "                        })                };                            </script>        </div>\n",
              "</body>\n",
              "</html>"
            ]
          },
          "metadata": {}
        }
      ],
      "source": [
        "# диаграмма рассеяния количества объектов в сети и медианного числа посадочных мест\n",
        "fig = px.scatter(rest_chain_number, \n",
        "                 x=\"number\", \n",
        "                 y=\"object_name\",\n",
        "                 title='Количество объектов в сети и медианное число мест в них', \n",
        "                 width=900, height=600\n",
        ")\n",
        "fig.update_layout(\n",
        "    xaxis_title='Число посадочных мест',\n",
        "    yaxis_title='Количество объектов в сети')\n",
        "\n",
        "# добавлю на график линии 95%-перцентилей\n",
        "fig.add_hline(y=np.percentile(rest_chain_number['object_name'], 95), line_width=2, line_dash=\"dash\", line_color=\"red\")\n",
        "fig.add_vline(x=np.percentile(rest_chain_number['number'], 95), line_width=2, line_dash=\"dash\", line_color=\"red\")\n",
        "fig.show()"
      ]
    },
    {
      "cell_type": "markdown",
      "metadata": {
        "id": "xrrhOVfHKrgm"
      },
      "source": [
        "95% сетей состоят не более, чем из 12 заведений.  \n",
        "95% сетевых заведений располагают не более чем 155 посадочными местами.  \n",
        "1% сетей имеет более 64 заведений.  \n",
        "1% сетевых заведений располагают более чем 262 посадочными местами."
      ]
    },
    {
      "cell_type": "markdown",
      "metadata": {
        "id": "SryDzUFlKrgp"
      },
      "source": [
        "### Среднее количество посадочных мест для каждого вида объекта"
      ]
    },
    {
      "cell_type": "code",
      "execution_count": 30,
      "metadata": {
        "colab": {
          "base_uri": "https://localhost:8080/",
          "height": 332
        },
        "id": "tHuH7z5tKrgq",
        "outputId": "28dc43d0-4ffd-4fcf-8540-9845175bff49"
      },
      "outputs": [
        {
          "output_type": "execute_result",
          "data": {
            "text/plain": [
              "                         object_type  number\n",
              "8                           столовая     103\n",
              "7                           ресторан      80\n",
              "0                                бар      35\n",
              "1                              буфет      32\n",
              "3                               кафе      30\n",
              "4                          кафетерий       6\n",
              "6  предприятие быстрого обслуживания       6\n",
              "2                         закусочная       0\n",
              "5          магазин (отдел кулинарии)       0"
            ],
            "text/html": [
              "\n",
              "  <div id=\"df-dee45bfc-c36d-4e48-b17a-69beb7bba35c\">\n",
              "    <div class=\"colab-df-container\">\n",
              "      <div>\n",
              "<style scoped>\n",
              "    .dataframe tbody tr th:only-of-type {\n",
              "        vertical-align: middle;\n",
              "    }\n",
              "\n",
              "    .dataframe tbody tr th {\n",
              "        vertical-align: top;\n",
              "    }\n",
              "\n",
              "    .dataframe thead th {\n",
              "        text-align: right;\n",
              "    }\n",
              "</style>\n",
              "<table border=\"1\" class=\"dataframe\">\n",
              "  <thead>\n",
              "    <tr style=\"text-align: right;\">\n",
              "      <th></th>\n",
              "      <th>object_type</th>\n",
              "      <th>number</th>\n",
              "    </tr>\n",
              "  </thead>\n",
              "  <tbody>\n",
              "    <tr>\n",
              "      <th>8</th>\n",
              "      <td>столовая</td>\n",
              "      <td>103</td>\n",
              "    </tr>\n",
              "    <tr>\n",
              "      <th>7</th>\n",
              "      <td>ресторан</td>\n",
              "      <td>80</td>\n",
              "    </tr>\n",
              "    <tr>\n",
              "      <th>0</th>\n",
              "      <td>бар</td>\n",
              "      <td>35</td>\n",
              "    </tr>\n",
              "    <tr>\n",
              "      <th>1</th>\n",
              "      <td>буфет</td>\n",
              "      <td>32</td>\n",
              "    </tr>\n",
              "    <tr>\n",
              "      <th>3</th>\n",
              "      <td>кафе</td>\n",
              "      <td>30</td>\n",
              "    </tr>\n",
              "    <tr>\n",
              "      <th>4</th>\n",
              "      <td>кафетерий</td>\n",
              "      <td>6</td>\n",
              "    </tr>\n",
              "    <tr>\n",
              "      <th>6</th>\n",
              "      <td>предприятие быстрого обслуживания</td>\n",
              "      <td>6</td>\n",
              "    </tr>\n",
              "    <tr>\n",
              "      <th>2</th>\n",
              "      <td>закусочная</td>\n",
              "      <td>0</td>\n",
              "    </tr>\n",
              "    <tr>\n",
              "      <th>5</th>\n",
              "      <td>магазин (отдел кулинарии)</td>\n",
              "      <td>0</td>\n",
              "    </tr>\n",
              "  </tbody>\n",
              "</table>\n",
              "</div>\n",
              "      <button class=\"colab-df-convert\" onclick=\"convertToInteractive('df-dee45bfc-c36d-4e48-b17a-69beb7bba35c')\"\n",
              "              title=\"Convert this dataframe to an interactive table.\"\n",
              "              style=\"display:none;\">\n",
              "        \n",
              "  <svg xmlns=\"http://www.w3.org/2000/svg\" height=\"24px\"viewBox=\"0 0 24 24\"\n",
              "       width=\"24px\">\n",
              "    <path d=\"M0 0h24v24H0V0z\" fill=\"none\"/>\n",
              "    <path d=\"M18.56 5.44l.94 2.06.94-2.06 2.06-.94-2.06-.94-.94-2.06-.94 2.06-2.06.94zm-11 1L8.5 8.5l.94-2.06 2.06-.94-2.06-.94L8.5 2.5l-.94 2.06-2.06.94zm10 10l.94 2.06.94-2.06 2.06-.94-2.06-.94-.94-2.06-.94 2.06-2.06.94z\"/><path d=\"M17.41 7.96l-1.37-1.37c-.4-.4-.92-.59-1.43-.59-.52 0-1.04.2-1.43.59L10.3 9.45l-7.72 7.72c-.78.78-.78 2.05 0 2.83L4 21.41c.39.39.9.59 1.41.59.51 0 1.02-.2 1.41-.59l7.78-7.78 2.81-2.81c.8-.78.8-2.07 0-2.86zM5.41 20L4 18.59l7.72-7.72 1.47 1.35L5.41 20z\"/>\n",
              "  </svg>\n",
              "      </button>\n",
              "      \n",
              "  <style>\n",
              "    .colab-df-container {\n",
              "      display:flex;\n",
              "      flex-wrap:wrap;\n",
              "      gap: 12px;\n",
              "    }\n",
              "\n",
              "    .colab-df-convert {\n",
              "      background-color: #E8F0FE;\n",
              "      border: none;\n",
              "      border-radius: 50%;\n",
              "      cursor: pointer;\n",
              "      display: none;\n",
              "      fill: #1967D2;\n",
              "      height: 32px;\n",
              "      padding: 0 0 0 0;\n",
              "      width: 32px;\n",
              "    }\n",
              "\n",
              "    .colab-df-convert:hover {\n",
              "      background-color: #E2EBFA;\n",
              "      box-shadow: 0px 1px 2px rgba(60, 64, 67, 0.3), 0px 1px 3px 1px rgba(60, 64, 67, 0.15);\n",
              "      fill: #174EA6;\n",
              "    }\n",
              "\n",
              "    [theme=dark] .colab-df-convert {\n",
              "      background-color: #3B4455;\n",
              "      fill: #D2E3FC;\n",
              "    }\n",
              "\n",
              "    [theme=dark] .colab-df-convert:hover {\n",
              "      background-color: #434B5C;\n",
              "      box-shadow: 0px 1px 3px 1px rgba(0, 0, 0, 0.15);\n",
              "      filter: drop-shadow(0px 1px 2px rgba(0, 0, 0, 0.3));\n",
              "      fill: #FFFFFF;\n",
              "    }\n",
              "  </style>\n",
              "\n",
              "      <script>\n",
              "        const buttonEl =\n",
              "          document.querySelector('#df-dee45bfc-c36d-4e48-b17a-69beb7bba35c button.colab-df-convert');\n",
              "        buttonEl.style.display =\n",
              "          google.colab.kernel.accessAllowed ? 'block' : 'none';\n",
              "\n",
              "        async function convertToInteractive(key) {\n",
              "          const element = document.querySelector('#df-dee45bfc-c36d-4e48-b17a-69beb7bba35c');\n",
              "          const dataTable =\n",
              "            await google.colab.kernel.invokeFunction('convertToInteractive',\n",
              "                                                     [key], {});\n",
              "          if (!dataTable) return;\n",
              "\n",
              "          const docLinkHtml = 'Like what you see? Visit the ' +\n",
              "            '<a target=\"_blank\" href=https://colab.research.google.com/notebooks/data_table.ipynb>data table notebook</a>'\n",
              "            + ' to learn more about interactive tables.';\n",
              "          element.innerHTML = '';\n",
              "          dataTable['output_type'] = 'display_data';\n",
              "          await google.colab.output.renderOutput(dataTable, element);\n",
              "          const docLink = document.createElement('div');\n",
              "          docLink.innerHTML = docLinkHtml;\n",
              "          element.appendChild(docLink);\n",
              "        }\n",
              "      </script>\n",
              "    </div>\n",
              "  </div>\n",
              "  "
            ]
          },
          "metadata": {},
          "execution_count": 30
        }
      ],
      "source": [
        "# медианное количество посадочных мест для каждого вида объектов общественного питания\n",
        "rest_type_number = (rest_data\n",
        "    .groupby('object_type', as_index=False)\n",
        "    .agg({'number': 'median'})\n",
        "    .sort_values(by='number', ascending=False)\n",
        ")\n",
        "# переведу значение посадочных мест в целочисленное \n",
        "rest_type_number['number'] = rest_type_number['number'].round().astype('int')\n",
        "rest_type_number"
      ]
    },
    {
      "cell_type": "code",
      "execution_count": 31,
      "metadata": {
        "colab": {
          "base_uri": "https://localhost:8080/",
          "height": 617
        },
        "id": "ZlbWemZkKrgr",
        "outputId": "f0094ebd-2e33-4e40-cc10-b4b1026b6764"
      },
      "outputs": [
        {
          "output_type": "display_data",
          "data": {
            "text/html": [
              "<html>\n",
              "<head><meta charset=\"utf-8\" /></head>\n",
              "<body>\n",
              "    <div>            <script src=\"https://cdnjs.cloudflare.com/ajax/libs/mathjax/2.7.5/MathJax.js?config=TeX-AMS-MML_SVG\"></script><script type=\"text/javascript\">if (window.MathJax) {MathJax.Hub.Config({SVG: {font: \"STIX-Web\"}});}</script>                <script type=\"text/javascript\">window.PlotlyConfig = {MathJaxConfig: 'local'};</script>\n",
              "        <script src=\"https://cdn.plot.ly/plotly-2.8.3.min.js\"></script>                <div id=\"29b70b6e-f7a9-4148-a872-e3b594f5f90f\" class=\"plotly-graph-div\" style=\"height:600px; width:900px;\"></div>            <script type=\"text/javascript\">                                    window.PLOTLYENV=window.PLOTLYENV || {};                                    if (document.getElementById(\"29b70b6e-f7a9-4148-a872-e3b594f5f90f\")) {                    Plotly.newPlot(                        \"29b70b6e-f7a9-4148-a872-e3b594f5f90f\",                        [{\"alignmentgroup\":\"True\",\"hovertemplate\":\"\\u041a\\u043e\\u043b\\u0438\\u0447\\u0435\\u0441\\u0442\\u0432\\u043e=103<br>\\u0422\\u0438\\u043f \\u043e\\u0431\\u044a\\u0435\\u043a\\u0442\\u0430=%{x}<br>\\u0421\\u0440\\u0435\\u0434\\u043d\\u0435\\u0435 \\u0447\\u0438\\u0441\\u043b\\u043e \\u043f\\u043e\\u0441\\u0430\\u0434\\u043e\\u0447\\u043d\\u044b\\u0445 \\u043c\\u0435\\u0441\\u0442=%{y}<extra></extra>\",\"legendgroup\":\"103\",\"marker\":{\"color\":\"#636efa\",\"pattern\":{\"shape\":\"\"}},\"name\":\"103\",\"offsetgroup\":\"103\",\"orientation\":\"v\",\"showlegend\":true,\"textposition\":\"auto\",\"x\":[\"\\u0441\\u0442\\u043e\\u043b\\u043e\\u0432\\u0430\\u044f\"],\"xaxis\":\"x\",\"y\":[103],\"yaxis\":\"y\",\"type\":\"bar\"},{\"alignmentgroup\":\"True\",\"hovertemplate\":\"\\u041a\\u043e\\u043b\\u0438\\u0447\\u0435\\u0441\\u0442\\u0432\\u043e=80<br>\\u0422\\u0438\\u043f \\u043e\\u0431\\u044a\\u0435\\u043a\\u0442\\u0430=%{x}<br>\\u0421\\u0440\\u0435\\u0434\\u043d\\u0435\\u0435 \\u0447\\u0438\\u0441\\u043b\\u043e \\u043f\\u043e\\u0441\\u0430\\u0434\\u043e\\u0447\\u043d\\u044b\\u0445 \\u043c\\u0435\\u0441\\u0442=%{y}<extra></extra>\",\"legendgroup\":\"80\",\"marker\":{\"color\":\"#EF553B\",\"pattern\":{\"shape\":\"\"}},\"name\":\"80\",\"offsetgroup\":\"80\",\"orientation\":\"v\",\"showlegend\":true,\"textposition\":\"auto\",\"x\":[\"\\u0440\\u0435\\u0441\\u0442\\u043e\\u0440\\u0430\\u043d\"],\"xaxis\":\"x\",\"y\":[80],\"yaxis\":\"y\",\"type\":\"bar\"},{\"alignmentgroup\":\"True\",\"hovertemplate\":\"\\u041a\\u043e\\u043b\\u0438\\u0447\\u0435\\u0441\\u0442\\u0432\\u043e=35<br>\\u0422\\u0438\\u043f \\u043e\\u0431\\u044a\\u0435\\u043a\\u0442\\u0430=%{x}<br>\\u0421\\u0440\\u0435\\u0434\\u043d\\u0435\\u0435 \\u0447\\u0438\\u0441\\u043b\\u043e \\u043f\\u043e\\u0441\\u0430\\u0434\\u043e\\u0447\\u043d\\u044b\\u0445 \\u043c\\u0435\\u0441\\u0442=%{y}<extra></extra>\",\"legendgroup\":\"35\",\"marker\":{\"color\":\"#00cc96\",\"pattern\":{\"shape\":\"\"}},\"name\":\"35\",\"offsetgroup\":\"35\",\"orientation\":\"v\",\"showlegend\":true,\"textposition\":\"auto\",\"x\":[\"\\u0431\\u0430\\u0440\"],\"xaxis\":\"x\",\"y\":[35],\"yaxis\":\"y\",\"type\":\"bar\"},{\"alignmentgroup\":\"True\",\"hovertemplate\":\"\\u041a\\u043e\\u043b\\u0438\\u0447\\u0435\\u0441\\u0442\\u0432\\u043e=32<br>\\u0422\\u0438\\u043f \\u043e\\u0431\\u044a\\u0435\\u043a\\u0442\\u0430=%{x}<br>\\u0421\\u0440\\u0435\\u0434\\u043d\\u0435\\u0435 \\u0447\\u0438\\u0441\\u043b\\u043e \\u043f\\u043e\\u0441\\u0430\\u0434\\u043e\\u0447\\u043d\\u044b\\u0445 \\u043c\\u0435\\u0441\\u0442=%{y}<extra></extra>\",\"legendgroup\":\"32\",\"marker\":{\"color\":\"#ab63fa\",\"pattern\":{\"shape\":\"\"}},\"name\":\"32\",\"offsetgroup\":\"32\",\"orientation\":\"v\",\"showlegend\":true,\"textposition\":\"auto\",\"x\":[\"\\u0431\\u0443\\u0444\\u0435\\u0442\"],\"xaxis\":\"x\",\"y\":[32],\"yaxis\":\"y\",\"type\":\"bar\"},{\"alignmentgroup\":\"True\",\"hovertemplate\":\"\\u041a\\u043e\\u043b\\u0438\\u0447\\u0435\\u0441\\u0442\\u0432\\u043e=30<br>\\u0422\\u0438\\u043f \\u043e\\u0431\\u044a\\u0435\\u043a\\u0442\\u0430=%{x}<br>\\u0421\\u0440\\u0435\\u0434\\u043d\\u0435\\u0435 \\u0447\\u0438\\u0441\\u043b\\u043e \\u043f\\u043e\\u0441\\u0430\\u0434\\u043e\\u0447\\u043d\\u044b\\u0445 \\u043c\\u0435\\u0441\\u0442=%{y}<extra></extra>\",\"legendgroup\":\"30\",\"marker\":{\"color\":\"#FFA15A\",\"pattern\":{\"shape\":\"\"}},\"name\":\"30\",\"offsetgroup\":\"30\",\"orientation\":\"v\",\"showlegend\":true,\"textposition\":\"auto\",\"x\":[\"\\u043a\\u0430\\u0444\\u0435\"],\"xaxis\":\"x\",\"y\":[30],\"yaxis\":\"y\",\"type\":\"bar\"},{\"alignmentgroup\":\"True\",\"hovertemplate\":\"\\u041a\\u043e\\u043b\\u0438\\u0447\\u0435\\u0441\\u0442\\u0432\\u043e=6<br>\\u0422\\u0438\\u043f \\u043e\\u0431\\u044a\\u0435\\u043a\\u0442\\u0430=%{x}<br>\\u0421\\u0440\\u0435\\u0434\\u043d\\u0435\\u0435 \\u0447\\u0438\\u0441\\u043b\\u043e \\u043f\\u043e\\u0441\\u0430\\u0434\\u043e\\u0447\\u043d\\u044b\\u0445 \\u043c\\u0435\\u0441\\u0442=%{y}<extra></extra>\",\"legendgroup\":\"6\",\"marker\":{\"color\":\"#19d3f3\",\"pattern\":{\"shape\":\"\"}},\"name\":\"6\",\"offsetgroup\":\"6\",\"orientation\":\"v\",\"showlegend\":true,\"textposition\":\"auto\",\"x\":[\"\\u043a\\u0430\\u0444\\u0435\\u0442\\u0435\\u0440\\u0438\\u0439\",\"\\u043f\\u0440\\u0435\\u0434\\u043f\\u0440\\u0438\\u044f\\u0442\\u0438\\u0435 \\u0431\\u044b\\u0441\\u0442\\u0440\\u043e\\u0433\\u043e \\u043e\\u0431\\u0441\\u043b\\u0443\\u0436\\u0438\\u0432\\u0430\\u043d\\u0438\\u044f\"],\"xaxis\":\"x\",\"y\":[6,6],\"yaxis\":\"y\",\"type\":\"bar\"},{\"alignmentgroup\":\"True\",\"hovertemplate\":\"\\u041a\\u043e\\u043b\\u0438\\u0447\\u0435\\u0441\\u0442\\u0432\\u043e=0<br>\\u0422\\u0438\\u043f \\u043e\\u0431\\u044a\\u0435\\u043a\\u0442\\u0430=%{x}<br>\\u0421\\u0440\\u0435\\u0434\\u043d\\u0435\\u0435 \\u0447\\u0438\\u0441\\u043b\\u043e \\u043f\\u043e\\u0441\\u0430\\u0434\\u043e\\u0447\\u043d\\u044b\\u0445 \\u043c\\u0435\\u0441\\u0442=%{y}<extra></extra>\",\"legendgroup\":\"0\",\"marker\":{\"color\":\"#FF6692\",\"pattern\":{\"shape\":\"\"}},\"name\":\"0\",\"offsetgroup\":\"0\",\"orientation\":\"v\",\"showlegend\":true,\"textposition\":\"auto\",\"x\":[\"\\u0437\\u0430\\u043a\\u0443\\u0441\\u043e\\u0447\\u043d\\u0430\\u044f\",\"\\u043c\\u0430\\u0433\\u0430\\u0437\\u0438\\u043d (\\u043e\\u0442\\u0434\\u0435\\u043b \\u043a\\u0443\\u043b\\u0438\\u043d\\u0430\\u0440\\u0438\\u0438)\"],\"xaxis\":\"x\",\"y\":[0,0],\"yaxis\":\"y\",\"type\":\"bar\"}],                        {\"template\":{\"data\":{\"bar\":[{\"error_x\":{\"color\":\"#2a3f5f\"},\"error_y\":{\"color\":\"#2a3f5f\"},\"marker\":{\"line\":{\"color\":\"#E5ECF6\",\"width\":0.5},\"pattern\":{\"fillmode\":\"overlay\",\"size\":10,\"solidity\":0.2}},\"type\":\"bar\"}],\"barpolar\":[{\"marker\":{\"line\":{\"color\":\"#E5ECF6\",\"width\":0.5},\"pattern\":{\"fillmode\":\"overlay\",\"size\":10,\"solidity\":0.2}},\"type\":\"barpolar\"}],\"carpet\":[{\"aaxis\":{\"endlinecolor\":\"#2a3f5f\",\"gridcolor\":\"white\",\"linecolor\":\"white\",\"minorgridcolor\":\"white\",\"startlinecolor\":\"#2a3f5f\"},\"baxis\":{\"endlinecolor\":\"#2a3f5f\",\"gridcolor\":\"white\",\"linecolor\":\"white\",\"minorgridcolor\":\"white\",\"startlinecolor\":\"#2a3f5f\"},\"type\":\"carpet\"}],\"choropleth\":[{\"colorbar\":{\"outlinewidth\":0,\"ticks\":\"\"},\"type\":\"choropleth\"}],\"contour\":[{\"colorbar\":{\"outlinewidth\":0,\"ticks\":\"\"},\"colorscale\":[[0.0,\"#0d0887\"],[0.1111111111111111,\"#46039f\"],[0.2222222222222222,\"#7201a8\"],[0.3333333333333333,\"#9c179e\"],[0.4444444444444444,\"#bd3786\"],[0.5555555555555556,\"#d8576b\"],[0.6666666666666666,\"#ed7953\"],[0.7777777777777778,\"#fb9f3a\"],[0.8888888888888888,\"#fdca26\"],[1.0,\"#f0f921\"]],\"type\":\"contour\"}],\"contourcarpet\":[{\"colorbar\":{\"outlinewidth\":0,\"ticks\":\"\"},\"type\":\"contourcarpet\"}],\"heatmap\":[{\"colorbar\":{\"outlinewidth\":0,\"ticks\":\"\"},\"colorscale\":[[0.0,\"#0d0887\"],[0.1111111111111111,\"#46039f\"],[0.2222222222222222,\"#7201a8\"],[0.3333333333333333,\"#9c179e\"],[0.4444444444444444,\"#bd3786\"],[0.5555555555555556,\"#d8576b\"],[0.6666666666666666,\"#ed7953\"],[0.7777777777777778,\"#fb9f3a\"],[0.8888888888888888,\"#fdca26\"],[1.0,\"#f0f921\"]],\"type\":\"heatmap\"}],\"heatmapgl\":[{\"colorbar\":{\"outlinewidth\":0,\"ticks\":\"\"},\"colorscale\":[[0.0,\"#0d0887\"],[0.1111111111111111,\"#46039f\"],[0.2222222222222222,\"#7201a8\"],[0.3333333333333333,\"#9c179e\"],[0.4444444444444444,\"#bd3786\"],[0.5555555555555556,\"#d8576b\"],[0.6666666666666666,\"#ed7953\"],[0.7777777777777778,\"#fb9f3a\"],[0.8888888888888888,\"#fdca26\"],[1.0,\"#f0f921\"]],\"type\":\"heatmapgl\"}],\"histogram\":[{\"marker\":{\"pattern\":{\"fillmode\":\"overlay\",\"size\":10,\"solidity\":0.2}},\"type\":\"histogram\"}],\"histogram2d\":[{\"colorbar\":{\"outlinewidth\":0,\"ticks\":\"\"},\"colorscale\":[[0.0,\"#0d0887\"],[0.1111111111111111,\"#46039f\"],[0.2222222222222222,\"#7201a8\"],[0.3333333333333333,\"#9c179e\"],[0.4444444444444444,\"#bd3786\"],[0.5555555555555556,\"#d8576b\"],[0.6666666666666666,\"#ed7953\"],[0.7777777777777778,\"#fb9f3a\"],[0.8888888888888888,\"#fdca26\"],[1.0,\"#f0f921\"]],\"type\":\"histogram2d\"}],\"histogram2dcontour\":[{\"colorbar\":{\"outlinewidth\":0,\"ticks\":\"\"},\"colorscale\":[[0.0,\"#0d0887\"],[0.1111111111111111,\"#46039f\"],[0.2222222222222222,\"#7201a8\"],[0.3333333333333333,\"#9c179e\"],[0.4444444444444444,\"#bd3786\"],[0.5555555555555556,\"#d8576b\"],[0.6666666666666666,\"#ed7953\"],[0.7777777777777778,\"#fb9f3a\"],[0.8888888888888888,\"#fdca26\"],[1.0,\"#f0f921\"]],\"type\":\"histogram2dcontour\"}],\"mesh3d\":[{\"colorbar\":{\"outlinewidth\":0,\"ticks\":\"\"},\"type\":\"mesh3d\"}],\"parcoords\":[{\"line\":{\"colorbar\":{\"outlinewidth\":0,\"ticks\":\"\"}},\"type\":\"parcoords\"}],\"pie\":[{\"automargin\":true,\"type\":\"pie\"}],\"scatter\":[{\"marker\":{\"colorbar\":{\"outlinewidth\":0,\"ticks\":\"\"}},\"type\":\"scatter\"}],\"scatter3d\":[{\"line\":{\"colorbar\":{\"outlinewidth\":0,\"ticks\":\"\"}},\"marker\":{\"colorbar\":{\"outlinewidth\":0,\"ticks\":\"\"}},\"type\":\"scatter3d\"}],\"scattercarpet\":[{\"marker\":{\"colorbar\":{\"outlinewidth\":0,\"ticks\":\"\"}},\"type\":\"scattercarpet\"}],\"scattergeo\":[{\"marker\":{\"colorbar\":{\"outlinewidth\":0,\"ticks\":\"\"}},\"type\":\"scattergeo\"}],\"scattergl\":[{\"marker\":{\"colorbar\":{\"outlinewidth\":0,\"ticks\":\"\"}},\"type\":\"scattergl\"}],\"scattermapbox\":[{\"marker\":{\"colorbar\":{\"outlinewidth\":0,\"ticks\":\"\"}},\"type\":\"scattermapbox\"}],\"scatterpolar\":[{\"marker\":{\"colorbar\":{\"outlinewidth\":0,\"ticks\":\"\"}},\"type\":\"scatterpolar\"}],\"scatterpolargl\":[{\"marker\":{\"colorbar\":{\"outlinewidth\":0,\"ticks\":\"\"}},\"type\":\"scatterpolargl\"}],\"scatterternary\":[{\"marker\":{\"colorbar\":{\"outlinewidth\":0,\"ticks\":\"\"}},\"type\":\"scatterternary\"}],\"surface\":[{\"colorbar\":{\"outlinewidth\":0,\"ticks\":\"\"},\"colorscale\":[[0.0,\"#0d0887\"],[0.1111111111111111,\"#46039f\"],[0.2222222222222222,\"#7201a8\"],[0.3333333333333333,\"#9c179e\"],[0.4444444444444444,\"#bd3786\"],[0.5555555555555556,\"#d8576b\"],[0.6666666666666666,\"#ed7953\"],[0.7777777777777778,\"#fb9f3a\"],[0.8888888888888888,\"#fdca26\"],[1.0,\"#f0f921\"]],\"type\":\"surface\"}],\"table\":[{\"cells\":{\"fill\":{\"color\":\"#EBF0F8\"},\"line\":{\"color\":\"white\"}},\"header\":{\"fill\":{\"color\":\"#C8D4E3\"},\"line\":{\"color\":\"white\"}},\"type\":\"table\"}]},\"layout\":{\"annotationdefaults\":{\"arrowcolor\":\"#2a3f5f\",\"arrowhead\":0,\"arrowwidth\":1},\"autotypenumbers\":\"strict\",\"coloraxis\":{\"colorbar\":{\"outlinewidth\":0,\"ticks\":\"\"}},\"colorscale\":{\"diverging\":[[0,\"#8e0152\"],[0.1,\"#c51b7d\"],[0.2,\"#de77ae\"],[0.3,\"#f1b6da\"],[0.4,\"#fde0ef\"],[0.5,\"#f7f7f7\"],[0.6,\"#e6f5d0\"],[0.7,\"#b8e186\"],[0.8,\"#7fbc41\"],[0.9,\"#4d9221\"],[1,\"#276419\"]],\"sequential\":[[0.0,\"#0d0887\"],[0.1111111111111111,\"#46039f\"],[0.2222222222222222,\"#7201a8\"],[0.3333333333333333,\"#9c179e\"],[0.4444444444444444,\"#bd3786\"],[0.5555555555555556,\"#d8576b\"],[0.6666666666666666,\"#ed7953\"],[0.7777777777777778,\"#fb9f3a\"],[0.8888888888888888,\"#fdca26\"],[1.0,\"#f0f921\"]],\"sequentialminus\":[[0.0,\"#0d0887\"],[0.1111111111111111,\"#46039f\"],[0.2222222222222222,\"#7201a8\"],[0.3333333333333333,\"#9c179e\"],[0.4444444444444444,\"#bd3786\"],[0.5555555555555556,\"#d8576b\"],[0.6666666666666666,\"#ed7953\"],[0.7777777777777778,\"#fb9f3a\"],[0.8888888888888888,\"#fdca26\"],[1.0,\"#f0f921\"]]},\"colorway\":[\"#636efa\",\"#EF553B\",\"#00cc96\",\"#ab63fa\",\"#FFA15A\",\"#19d3f3\",\"#FF6692\",\"#B6E880\",\"#FF97FF\",\"#FECB52\"],\"font\":{\"color\":\"#2a3f5f\"},\"geo\":{\"bgcolor\":\"white\",\"lakecolor\":\"white\",\"landcolor\":\"#E5ECF6\",\"showlakes\":true,\"showland\":true,\"subunitcolor\":\"white\"},\"hoverlabel\":{\"align\":\"left\"},\"hovermode\":\"closest\",\"mapbox\":{\"style\":\"light\"},\"paper_bgcolor\":\"white\",\"plot_bgcolor\":\"#E5ECF6\",\"polar\":{\"angularaxis\":{\"gridcolor\":\"white\",\"linecolor\":\"white\",\"ticks\":\"\"},\"bgcolor\":\"#E5ECF6\",\"radialaxis\":{\"gridcolor\":\"white\",\"linecolor\":\"white\",\"ticks\":\"\"}},\"scene\":{\"xaxis\":{\"backgroundcolor\":\"#E5ECF6\",\"gridcolor\":\"white\",\"gridwidth\":2,\"linecolor\":\"white\",\"showbackground\":true,\"ticks\":\"\",\"zerolinecolor\":\"white\"},\"yaxis\":{\"backgroundcolor\":\"#E5ECF6\",\"gridcolor\":\"white\",\"gridwidth\":2,\"linecolor\":\"white\",\"showbackground\":true,\"ticks\":\"\",\"zerolinecolor\":\"white\"},\"zaxis\":{\"backgroundcolor\":\"#E5ECF6\",\"gridcolor\":\"white\",\"gridwidth\":2,\"linecolor\":\"white\",\"showbackground\":true,\"ticks\":\"\",\"zerolinecolor\":\"white\"}},\"shapedefaults\":{\"line\":{\"color\":\"#2a3f5f\"}},\"ternary\":{\"aaxis\":{\"gridcolor\":\"white\",\"linecolor\":\"white\",\"ticks\":\"\"},\"baxis\":{\"gridcolor\":\"white\",\"linecolor\":\"white\",\"ticks\":\"\"},\"bgcolor\":\"#E5ECF6\",\"caxis\":{\"gridcolor\":\"white\",\"linecolor\":\"white\",\"ticks\":\"\"}},\"title\":{\"x\":0.05},\"xaxis\":{\"automargin\":true,\"gridcolor\":\"white\",\"linecolor\":\"white\",\"ticks\":\"\",\"title\":{\"standoff\":15},\"zerolinecolor\":\"white\",\"zerolinewidth\":2},\"yaxis\":{\"automargin\":true,\"gridcolor\":\"white\",\"linecolor\":\"white\",\"ticks\":\"\",\"title\":{\"standoff\":15},\"zerolinecolor\":\"white\",\"zerolinewidth\":2}}},\"xaxis\":{\"anchor\":\"y\",\"domain\":[0.0,1.0],\"title\":{\"text\":\"\\u0422\\u0438\\u043f \\u043e\\u0431\\u044a\\u0435\\u043a\\u0442\\u0430\"},\"tickangle\":45},\"yaxis\":{\"anchor\":\"x\",\"domain\":[0.0,1.0],\"title\":{\"text\":\"\\u0421\\u0440\\u0435\\u0434\\u043d\\u0435\\u0435 \\u0447\\u0438\\u0441\\u043b\\u043e \\u043f\\u043e\\u0441\\u0430\\u0434\\u043e\\u0447\\u043d\\u044b\\u0445 \\u043c\\u0435\\u0441\\u0442\"}},\"legend\":{\"title\":{\"text\":\"\\u041a\\u043e\\u043b\\u0438\\u0447\\u0435\\u0441\\u0442\\u0432\\u043e\"},\"tracegroupgap\":0},\"title\":{\"text\":\"\\u0420\\u0430\\u0441\\u043f\\u0440\\u0435\\u0434\\u0435\\u043b\\u0435\\u043d\\u0438\\u0435 \\u0441\\u0440\\u0435\\u0434\\u043d\\u0435\\u0433\\u043e \\u0447\\u0438\\u0441\\u043b\\u0430 \\u043f\\u043e\\u0441\\u0430\\u0434\\u043e\\u0447\\u043d\\u044b\\u0445 \\u043c\\u0435\\u0441\\u0442 \\u043f\\u043e \\u0442\\u0438\\u043f\\u0430\\u043c \\u043e\\u0431\\u044a\\u0435\\u043a\\u0442\\u043e\\u0432 \\u043e\\u0431\\u0449\\u0435\\u0441\\u0442\\u0432\\u0435\\u043d\\u043d\\u043e\\u0433\\u043e \\u043f\\u0438\\u0442\\u0430\\u043d\\u0438\\u044f\"},\"barmode\":\"relative\",\"height\":600,\"width\":900},                        {\"responsive\": true}                    ).then(function(){\n",
              "                            \n",
              "var gd = document.getElementById('29b70b6e-f7a9-4148-a872-e3b594f5f90f');\n",
              "var x = new MutationObserver(function (mutations, observer) {{\n",
              "        var display = window.getComputedStyle(gd).display;\n",
              "        if (!display || display === 'none') {{\n",
              "            console.log([gd, 'removed!']);\n",
              "            Plotly.purge(gd);\n",
              "            observer.disconnect();\n",
              "        }}\n",
              "}});\n",
              "\n",
              "// Listen for the removal of the full notebook cells\n",
              "var notebookContainer = gd.closest('#notebook-container');\n",
              "if (notebookContainer) {{\n",
              "    x.observe(notebookContainer, {childList: true});\n",
              "}}\n",
              "\n",
              "// Listen for the clearing of the current output cell\n",
              "var outputEl = gd.closest('.output');\n",
              "if (outputEl) {{\n",
              "    x.observe(outputEl, {childList: true});\n",
              "}}\n",
              "\n",
              "                        })                };                            </script>        </div>\n",
              "</body>\n",
              "</html>"
            ]
          },
          "metadata": {}
        }
      ],
      "source": [
        "# график распределения среднего числа посадочных мест по типам объектов общественного питания\n",
        "# переименую столбцы, чтобы не было проблем с подписями на графике\n",
        "rest_type_number.columns=['Тип объекта', 'Среднее число посадочных мест']\n",
        "# добавлю столбец строкового формата для отображения цифр справа\n",
        "rest_type_number['Количество'] = rest_type_number['Среднее число посадочных мест'].astype('str')\n",
        "fig = px.bar(rest_type_number, \n",
        "             x='Тип объекта', \n",
        "             y='Среднее число посадочных мест', \n",
        "             title='Распределение среднего числа посадочных мест по типам объектов общественного питания', \n",
        "             color='Количество', \n",
        "             width=900, height=600\n",
        ")\n",
        "fig.update_xaxes(tickangle=45)\n",
        "fig.show() "
      ]
    },
    {
      "cell_type": "markdown",
      "metadata": {
        "id": "kYhuR0rTKrgt"
      },
      "source": [
        "Самое большое среднее количество посадочных мест предоставляет  столовая (103). В ресторане в среднем 80 посадочных мест, в кафе - 30."
      ]
    },
    {
      "cell_type": "markdown",
      "metadata": {
        "id": "JKjzkktfKrgv"
      },
      "source": [
        "### Выделю название улицы в отдельный столбец"
      ]
    },
    {
      "cell_type": "code",
      "execution_count": 32,
      "metadata": {
        "colab": {
          "base_uri": "https://localhost:8080/",
          "height": 320
        },
        "id": "JysFMjSBKrgv",
        "outputId": "996ac7a3-bcb6-41be-f410-790809800b02"
      },
      "outputs": [
        {
          "output_type": "execute_result",
          "data": {
            "text/plain": [
              "           id                 object_name chain object_type  \\\n",
              "6089    23888                     ТЕРЕМОК    да       буфет   \n",
              "2043   137987                     Ордынка   нет        кафе   \n",
              "1197    22126                    ХАЧАПУРИ    да    ресторан   \n",
              "14762  221564                   Главпирог   нет        кафе   \n",
              "4656    28920  СТОЛОВАЯ ПРИ ГОУ СОШ № 495   нет    столовая   \n",
              "\n",
              "                                                 address  number  \\\n",
              "6089         город Москва, улица Миклухо-Маклая, дом 32А      20   \n",
              "2043   город Москва, улица Большая Ордынка, дом 21/16...      80   \n",
              "1197             город Москва, Украинский бульвар, дом 7      50   \n",
              "14762        город Москва, Рождественский бульвар, дом 1       0   \n",
              "4656              город Москва, Подольская улица, дом 15     160   \n",
              "\n",
              "                       street  \n",
              "6089     улица Миклухо-Маклая  \n",
              "2043    улица Большая Ордынка  \n",
              "1197       Украинский бульвар  \n",
              "14762  Рождественский бульвар  \n",
              "4656         Подольская улица  "
            ],
            "text/html": [
              "\n",
              "  <div id=\"df-69d6b14f-68cb-4069-819b-4d73c5106421\">\n",
              "    <div class=\"colab-df-container\">\n",
              "      <div>\n",
              "<style scoped>\n",
              "    .dataframe tbody tr th:only-of-type {\n",
              "        vertical-align: middle;\n",
              "    }\n",
              "\n",
              "    .dataframe tbody tr th {\n",
              "        vertical-align: top;\n",
              "    }\n",
              "\n",
              "    .dataframe thead th {\n",
              "        text-align: right;\n",
              "    }\n",
              "</style>\n",
              "<table border=\"1\" class=\"dataframe\">\n",
              "  <thead>\n",
              "    <tr style=\"text-align: right;\">\n",
              "      <th></th>\n",
              "      <th>id</th>\n",
              "      <th>object_name</th>\n",
              "      <th>chain</th>\n",
              "      <th>object_type</th>\n",
              "      <th>address</th>\n",
              "      <th>number</th>\n",
              "      <th>street</th>\n",
              "    </tr>\n",
              "  </thead>\n",
              "  <tbody>\n",
              "    <tr>\n",
              "      <th>6089</th>\n",
              "      <td>23888</td>\n",
              "      <td>ТЕРЕМОК</td>\n",
              "      <td>да</td>\n",
              "      <td>буфет</td>\n",
              "      <td>город Москва, улица Миклухо-Маклая, дом 32А</td>\n",
              "      <td>20</td>\n",
              "      <td>улица Миклухо-Маклая</td>\n",
              "    </tr>\n",
              "    <tr>\n",
              "      <th>2043</th>\n",
              "      <td>137987</td>\n",
              "      <td>Ордынка</td>\n",
              "      <td>нет</td>\n",
              "      <td>кафе</td>\n",
              "      <td>город Москва, улица Большая Ордынка, дом 21/16...</td>\n",
              "      <td>80</td>\n",
              "      <td>улица Большая Ордынка</td>\n",
              "    </tr>\n",
              "    <tr>\n",
              "      <th>1197</th>\n",
              "      <td>22126</td>\n",
              "      <td>ХАЧАПУРИ</td>\n",
              "      <td>да</td>\n",
              "      <td>ресторан</td>\n",
              "      <td>город Москва, Украинский бульвар, дом 7</td>\n",
              "      <td>50</td>\n",
              "      <td>Украинский бульвар</td>\n",
              "    </tr>\n",
              "    <tr>\n",
              "      <th>14762</th>\n",
              "      <td>221564</td>\n",
              "      <td>Главпирог</td>\n",
              "      <td>нет</td>\n",
              "      <td>кафе</td>\n",
              "      <td>город Москва, Рождественский бульвар, дом 1</td>\n",
              "      <td>0</td>\n",
              "      <td>Рождественский бульвар</td>\n",
              "    </tr>\n",
              "    <tr>\n",
              "      <th>4656</th>\n",
              "      <td>28920</td>\n",
              "      <td>СТОЛОВАЯ ПРИ ГОУ СОШ № 495</td>\n",
              "      <td>нет</td>\n",
              "      <td>столовая</td>\n",
              "      <td>город Москва, Подольская улица, дом 15</td>\n",
              "      <td>160</td>\n",
              "      <td>Подольская улица</td>\n",
              "    </tr>\n",
              "  </tbody>\n",
              "</table>\n",
              "</div>\n",
              "      <button class=\"colab-df-convert\" onclick=\"convertToInteractive('df-69d6b14f-68cb-4069-819b-4d73c5106421')\"\n",
              "              title=\"Convert this dataframe to an interactive table.\"\n",
              "              style=\"display:none;\">\n",
              "        \n",
              "  <svg xmlns=\"http://www.w3.org/2000/svg\" height=\"24px\"viewBox=\"0 0 24 24\"\n",
              "       width=\"24px\">\n",
              "    <path d=\"M0 0h24v24H0V0z\" fill=\"none\"/>\n",
              "    <path d=\"M18.56 5.44l.94 2.06.94-2.06 2.06-.94-2.06-.94-.94-2.06-.94 2.06-2.06.94zm-11 1L8.5 8.5l.94-2.06 2.06-.94-2.06-.94L8.5 2.5l-.94 2.06-2.06.94zm10 10l.94 2.06.94-2.06 2.06-.94-2.06-.94-.94-2.06-.94 2.06-2.06.94z\"/><path d=\"M17.41 7.96l-1.37-1.37c-.4-.4-.92-.59-1.43-.59-.52 0-1.04.2-1.43.59L10.3 9.45l-7.72 7.72c-.78.78-.78 2.05 0 2.83L4 21.41c.39.39.9.59 1.41.59.51 0 1.02-.2 1.41-.59l7.78-7.78 2.81-2.81c.8-.78.8-2.07 0-2.86zM5.41 20L4 18.59l7.72-7.72 1.47 1.35L5.41 20z\"/>\n",
              "  </svg>\n",
              "      </button>\n",
              "      \n",
              "  <style>\n",
              "    .colab-df-container {\n",
              "      display:flex;\n",
              "      flex-wrap:wrap;\n",
              "      gap: 12px;\n",
              "    }\n",
              "\n",
              "    .colab-df-convert {\n",
              "      background-color: #E8F0FE;\n",
              "      border: none;\n",
              "      border-radius: 50%;\n",
              "      cursor: pointer;\n",
              "      display: none;\n",
              "      fill: #1967D2;\n",
              "      height: 32px;\n",
              "      padding: 0 0 0 0;\n",
              "      width: 32px;\n",
              "    }\n",
              "\n",
              "    .colab-df-convert:hover {\n",
              "      background-color: #E2EBFA;\n",
              "      box-shadow: 0px 1px 2px rgba(60, 64, 67, 0.3), 0px 1px 3px 1px rgba(60, 64, 67, 0.15);\n",
              "      fill: #174EA6;\n",
              "    }\n",
              "\n",
              "    [theme=dark] .colab-df-convert {\n",
              "      background-color: #3B4455;\n",
              "      fill: #D2E3FC;\n",
              "    }\n",
              "\n",
              "    [theme=dark] .colab-df-convert:hover {\n",
              "      background-color: #434B5C;\n",
              "      box-shadow: 0px 1px 3px 1px rgba(0, 0, 0, 0.15);\n",
              "      filter: drop-shadow(0px 1px 2px rgba(0, 0, 0, 0.3));\n",
              "      fill: #FFFFFF;\n",
              "    }\n",
              "  </style>\n",
              "\n",
              "      <script>\n",
              "        const buttonEl =\n",
              "          document.querySelector('#df-69d6b14f-68cb-4069-819b-4d73c5106421 button.colab-df-convert');\n",
              "        buttonEl.style.display =\n",
              "          google.colab.kernel.accessAllowed ? 'block' : 'none';\n",
              "\n",
              "        async function convertToInteractive(key) {\n",
              "          const element = document.querySelector('#df-69d6b14f-68cb-4069-819b-4d73c5106421');\n",
              "          const dataTable =\n",
              "            await google.colab.kernel.invokeFunction('convertToInteractive',\n",
              "                                                     [key], {});\n",
              "          if (!dataTable) return;\n",
              "\n",
              "          const docLinkHtml = 'Like what you see? Visit the ' +\n",
              "            '<a target=\"_blank\" href=https://colab.research.google.com/notebooks/data_table.ipynb>data table notebook</a>'\n",
              "            + ' to learn more about interactive tables.';\n",
              "          element.innerHTML = '';\n",
              "          dataTable['output_type'] = 'display_data';\n",
              "          await google.colab.output.renderOutput(dataTable, element);\n",
              "          const docLink = document.createElement('div');\n",
              "          docLink.innerHTML = docLinkHtml;\n",
              "          element.appendChild(docLink);\n",
              "        }\n",
              "      </script>\n",
              "    </div>\n",
              "  </div>\n",
              "  "
            ]
          },
          "metadata": {},
          "execution_count": 32
        }
      ],
      "source": [
        "# выделю в отдельный столбец информацию об улице из столбца address\n",
        "#rest_data['street'] = rest_data['address'].str.split(', ').str[1]\n",
        "\n",
        "# выделю из адреса название улицы\n",
        "# создам список всех синонимов слова \"улица\":\n",
        "street_types = ['улица', 'бульвар', 'проспект', 'переулок', 'шоссе', \n",
        "'проезд', 'набережная', 'площадь', 'аллея', 'линия', 'квартал', 'мост', 'тупик', 'просека']\n",
        "\n",
        "# функция делит адрес на части по запятой с пробелом \n",
        "# и проверяет каждую часть на наличие слов из списка street_types\n",
        "def street_finder(address):\n",
        "    for address_part in address.split(', '):\n",
        "        for street_type in street_types:\n",
        "            if address_part.lower().find(street_type)!= -1:\n",
        "                return address_part\n",
        "\n",
        "# выделю в отдельный столбец информацию об улице из столбца address\n",
        "rest_data['street'] = rest_data['address'].apply(street_finder)\n",
        "rest_data.sample(5)"
      ]
    },
    {
      "cell_type": "markdown",
      "metadata": {
        "id": "x8gBh1GCKrgy"
      },
      "source": [
        "### График топ-10 улиц по количеству объектов"
      ]
    },
    {
      "cell_type": "code",
      "execution_count": 33,
      "metadata": {
        "colab": {
          "base_uri": "https://localhost:8080/",
          "height": 363
        },
        "id": "gKmzxsyOKrgy",
        "outputId": "c902ee61-e3d7-4b45-b6dc-4dd349299482"
      },
      "outputs": [
        {
          "output_type": "execute_result",
          "data": {
            "text/plain": [
              "                      street  object_number\n",
              "1426           проспект Мира            204\n",
              "1014       Профсоюзная улица            182\n",
              "686   Ленинградский проспект            172\n",
              "997   Пресненская набережная            167\n",
              "399         Варшавское шоссе            165\n",
              "689       Ленинский проспект            148\n",
              "1422    проспект Вернадского            128\n",
              "676     Кутузовский проспект            114\n",
              "599          Каширское шоссе            111\n",
              "606     Кировоградская улица            108"
            ],
            "text/html": [
              "\n",
              "  <div id=\"df-11c322d2-d2ed-4d92-96d5-07639ba7bfd2\">\n",
              "    <div class=\"colab-df-container\">\n",
              "      <div>\n",
              "<style scoped>\n",
              "    .dataframe tbody tr th:only-of-type {\n",
              "        vertical-align: middle;\n",
              "    }\n",
              "\n",
              "    .dataframe tbody tr th {\n",
              "        vertical-align: top;\n",
              "    }\n",
              "\n",
              "    .dataframe thead th {\n",
              "        text-align: right;\n",
              "    }\n",
              "</style>\n",
              "<table border=\"1\" class=\"dataframe\">\n",
              "  <thead>\n",
              "    <tr style=\"text-align: right;\">\n",
              "      <th></th>\n",
              "      <th>street</th>\n",
              "      <th>object_number</th>\n",
              "    </tr>\n",
              "  </thead>\n",
              "  <tbody>\n",
              "    <tr>\n",
              "      <th>1426</th>\n",
              "      <td>проспект Мира</td>\n",
              "      <td>204</td>\n",
              "    </tr>\n",
              "    <tr>\n",
              "      <th>1014</th>\n",
              "      <td>Профсоюзная улица</td>\n",
              "      <td>182</td>\n",
              "    </tr>\n",
              "    <tr>\n",
              "      <th>686</th>\n",
              "      <td>Ленинградский проспект</td>\n",
              "      <td>172</td>\n",
              "    </tr>\n",
              "    <tr>\n",
              "      <th>997</th>\n",
              "      <td>Пресненская набережная</td>\n",
              "      <td>167</td>\n",
              "    </tr>\n",
              "    <tr>\n",
              "      <th>399</th>\n",
              "      <td>Варшавское шоссе</td>\n",
              "      <td>165</td>\n",
              "    </tr>\n",
              "    <tr>\n",
              "      <th>689</th>\n",
              "      <td>Ленинский проспект</td>\n",
              "      <td>148</td>\n",
              "    </tr>\n",
              "    <tr>\n",
              "      <th>1422</th>\n",
              "      <td>проспект Вернадского</td>\n",
              "      <td>128</td>\n",
              "    </tr>\n",
              "    <tr>\n",
              "      <th>676</th>\n",
              "      <td>Кутузовский проспект</td>\n",
              "      <td>114</td>\n",
              "    </tr>\n",
              "    <tr>\n",
              "      <th>599</th>\n",
              "      <td>Каширское шоссе</td>\n",
              "      <td>111</td>\n",
              "    </tr>\n",
              "    <tr>\n",
              "      <th>606</th>\n",
              "      <td>Кировоградская улица</td>\n",
              "      <td>108</td>\n",
              "    </tr>\n",
              "  </tbody>\n",
              "</table>\n",
              "</div>\n",
              "      <button class=\"colab-df-convert\" onclick=\"convertToInteractive('df-11c322d2-d2ed-4d92-96d5-07639ba7bfd2')\"\n",
              "              title=\"Convert this dataframe to an interactive table.\"\n",
              "              style=\"display:none;\">\n",
              "        \n",
              "  <svg xmlns=\"http://www.w3.org/2000/svg\" height=\"24px\"viewBox=\"0 0 24 24\"\n",
              "       width=\"24px\">\n",
              "    <path d=\"M0 0h24v24H0V0z\" fill=\"none\"/>\n",
              "    <path d=\"M18.56 5.44l.94 2.06.94-2.06 2.06-.94-2.06-.94-.94-2.06-.94 2.06-2.06.94zm-11 1L8.5 8.5l.94-2.06 2.06-.94-2.06-.94L8.5 2.5l-.94 2.06-2.06.94zm10 10l.94 2.06.94-2.06 2.06-.94-2.06-.94-.94-2.06-.94 2.06-2.06.94z\"/><path d=\"M17.41 7.96l-1.37-1.37c-.4-.4-.92-.59-1.43-.59-.52 0-1.04.2-1.43.59L10.3 9.45l-7.72 7.72c-.78.78-.78 2.05 0 2.83L4 21.41c.39.39.9.59 1.41.59.51 0 1.02-.2 1.41-.59l7.78-7.78 2.81-2.81c.8-.78.8-2.07 0-2.86zM5.41 20L4 18.59l7.72-7.72 1.47 1.35L5.41 20z\"/>\n",
              "  </svg>\n",
              "      </button>\n",
              "      \n",
              "  <style>\n",
              "    .colab-df-container {\n",
              "      display:flex;\n",
              "      flex-wrap:wrap;\n",
              "      gap: 12px;\n",
              "    }\n",
              "\n",
              "    .colab-df-convert {\n",
              "      background-color: #E8F0FE;\n",
              "      border: none;\n",
              "      border-radius: 50%;\n",
              "      cursor: pointer;\n",
              "      display: none;\n",
              "      fill: #1967D2;\n",
              "      height: 32px;\n",
              "      padding: 0 0 0 0;\n",
              "      width: 32px;\n",
              "    }\n",
              "\n",
              "    .colab-df-convert:hover {\n",
              "      background-color: #E2EBFA;\n",
              "      box-shadow: 0px 1px 2px rgba(60, 64, 67, 0.3), 0px 1px 3px 1px rgba(60, 64, 67, 0.15);\n",
              "      fill: #174EA6;\n",
              "    }\n",
              "\n",
              "    [theme=dark] .colab-df-convert {\n",
              "      background-color: #3B4455;\n",
              "      fill: #D2E3FC;\n",
              "    }\n",
              "\n",
              "    [theme=dark] .colab-df-convert:hover {\n",
              "      background-color: #434B5C;\n",
              "      box-shadow: 0px 1px 3px 1px rgba(0, 0, 0, 0.15);\n",
              "      filter: drop-shadow(0px 1px 2px rgba(0, 0, 0, 0.3));\n",
              "      fill: #FFFFFF;\n",
              "    }\n",
              "  </style>\n",
              "\n",
              "      <script>\n",
              "        const buttonEl =\n",
              "          document.querySelector('#df-11c322d2-d2ed-4d92-96d5-07639ba7bfd2 button.colab-df-convert');\n",
              "        buttonEl.style.display =\n",
              "          google.colab.kernel.accessAllowed ? 'block' : 'none';\n",
              "\n",
              "        async function convertToInteractive(key) {\n",
              "          const element = document.querySelector('#df-11c322d2-d2ed-4d92-96d5-07639ba7bfd2');\n",
              "          const dataTable =\n",
              "            await google.colab.kernel.invokeFunction('convertToInteractive',\n",
              "                                                     [key], {});\n",
              "          if (!dataTable) return;\n",
              "\n",
              "          const docLinkHtml = 'Like what you see? Visit the ' +\n",
              "            '<a target=\"_blank\" href=https://colab.research.google.com/notebooks/data_table.ipynb>data table notebook</a>'\n",
              "            + ' to learn more about interactive tables.';\n",
              "          element.innerHTML = '';\n",
              "          dataTable['output_type'] = 'display_data';\n",
              "          await google.colab.output.renderOutput(dataTable, element);\n",
              "          const docLink = document.createElement('div');\n",
              "          docLink.innerHTML = docLinkHtml;\n",
              "          element.appendChild(docLink);\n",
              "        }\n",
              "      </script>\n",
              "    </div>\n",
              "  </div>\n",
              "  "
            ]
          },
          "metadata": {},
          "execution_count": 33
        }
      ],
      "source": [
        "# сгруппирую таблицу по улицам и посчитаю объекты \n",
        "top_streets = (rest_data.groupby('street', as_index=False)\n",
        "    .agg({'object_name': 'count'})\n",
        "    .sort_values(by='object_name', ascending=False)\n",
        "    .rename(columns={'object_name': 'object_number'}))\n",
        "top_streets.head(10)"
      ]
    },
    {
      "cell_type": "code",
      "execution_count": 34,
      "metadata": {
        "colab": {
          "base_uri": "https://localhost:8080/",
          "height": 617
        },
        "id": "lwYY_7I4Krg0",
        "outputId": "2d3d3d65-61e1-4739-fa7a-504a2b060d6d"
      },
      "outputs": [
        {
          "output_type": "display_data",
          "data": {
            "text/html": [
              "<html>\n",
              "<head><meta charset=\"utf-8\" /></head>\n",
              "<body>\n",
              "    <div>            <script src=\"https://cdnjs.cloudflare.com/ajax/libs/mathjax/2.7.5/MathJax.js?config=TeX-AMS-MML_SVG\"></script><script type=\"text/javascript\">if (window.MathJax) {MathJax.Hub.Config({SVG: {font: \"STIX-Web\"}});}</script>                <script type=\"text/javascript\">window.PlotlyConfig = {MathJaxConfig: 'local'};</script>\n",
              "        <script src=\"https://cdn.plot.ly/plotly-2.8.3.min.js\"></script>                <div id=\"3f436ed1-5c39-41dc-abcd-d6ec96259ffe\" class=\"plotly-graph-div\" style=\"height:600px; width:900px;\"></div>            <script type=\"text/javascript\">                                    window.PLOTLYENV=window.PLOTLYENV || {};                                    if (document.getElementById(\"3f436ed1-5c39-41dc-abcd-d6ec96259ffe\")) {                    Plotly.newPlot(                        \"3f436ed1-5c39-41dc-abcd-d6ec96259ffe\",                        [{\"alignmentgroup\":\"True\",\"hovertemplate\":\"\\u041a\\u043e\\u043b\\u0438\\u0447\\u0435\\u0441\\u0442\\u0432\\u043e=204<br>\\u0423\\u043b\\u0438\\u0446\\u0430=%{x}<br>\\u041a\\u043e\\u043b\\u0438\\u0447\\u0435\\u0441\\u0442\\u0432\\u043e \\u043e\\u0431\\u044a\\u0435\\u043a\\u0442\\u043e\\u0432=%{y}<extra></extra>\",\"legendgroup\":\"204\",\"marker\":{\"color\":\"#636efa\",\"pattern\":{\"shape\":\"\"}},\"name\":\"204\",\"offsetgroup\":\"204\",\"orientation\":\"v\",\"showlegend\":true,\"textposition\":\"auto\",\"x\":[\"\\u043f\\u0440\\u043e\\u0441\\u043f\\u0435\\u043a\\u0442 \\u041c\\u0438\\u0440\\u0430\"],\"xaxis\":\"x\",\"y\":[204],\"yaxis\":\"y\",\"type\":\"bar\"},{\"alignmentgroup\":\"True\",\"hovertemplate\":\"\\u041a\\u043e\\u043b\\u0438\\u0447\\u0435\\u0441\\u0442\\u0432\\u043e=182<br>\\u0423\\u043b\\u0438\\u0446\\u0430=%{x}<br>\\u041a\\u043e\\u043b\\u0438\\u0447\\u0435\\u0441\\u0442\\u0432\\u043e \\u043e\\u0431\\u044a\\u0435\\u043a\\u0442\\u043e\\u0432=%{y}<extra></extra>\",\"legendgroup\":\"182\",\"marker\":{\"color\":\"#EF553B\",\"pattern\":{\"shape\":\"\"}},\"name\":\"182\",\"offsetgroup\":\"182\",\"orientation\":\"v\",\"showlegend\":true,\"textposition\":\"auto\",\"x\":[\"\\u041f\\u0440\\u043e\\u0444\\u0441\\u043e\\u044e\\u0437\\u043d\\u0430\\u044f \\u0443\\u043b\\u0438\\u0446\\u0430\"],\"xaxis\":\"x\",\"y\":[182],\"yaxis\":\"y\",\"type\":\"bar\"},{\"alignmentgroup\":\"True\",\"hovertemplate\":\"\\u041a\\u043e\\u043b\\u0438\\u0447\\u0435\\u0441\\u0442\\u0432\\u043e=172<br>\\u0423\\u043b\\u0438\\u0446\\u0430=%{x}<br>\\u041a\\u043e\\u043b\\u0438\\u0447\\u0435\\u0441\\u0442\\u0432\\u043e \\u043e\\u0431\\u044a\\u0435\\u043a\\u0442\\u043e\\u0432=%{y}<extra></extra>\",\"legendgroup\":\"172\",\"marker\":{\"color\":\"#00cc96\",\"pattern\":{\"shape\":\"\"}},\"name\":\"172\",\"offsetgroup\":\"172\",\"orientation\":\"v\",\"showlegend\":true,\"textposition\":\"auto\",\"x\":[\"\\u041b\\u0435\\u043d\\u0438\\u043d\\u0433\\u0440\\u0430\\u0434\\u0441\\u043a\\u0438\\u0439 \\u043f\\u0440\\u043e\\u0441\\u043f\\u0435\\u043a\\u0442\"],\"xaxis\":\"x\",\"y\":[172],\"yaxis\":\"y\",\"type\":\"bar\"},{\"alignmentgroup\":\"True\",\"hovertemplate\":\"\\u041a\\u043e\\u043b\\u0438\\u0447\\u0435\\u0441\\u0442\\u0432\\u043e=167<br>\\u0423\\u043b\\u0438\\u0446\\u0430=%{x}<br>\\u041a\\u043e\\u043b\\u0438\\u0447\\u0435\\u0441\\u0442\\u0432\\u043e \\u043e\\u0431\\u044a\\u0435\\u043a\\u0442\\u043e\\u0432=%{y}<extra></extra>\",\"legendgroup\":\"167\",\"marker\":{\"color\":\"#ab63fa\",\"pattern\":{\"shape\":\"\"}},\"name\":\"167\",\"offsetgroup\":\"167\",\"orientation\":\"v\",\"showlegend\":true,\"textposition\":\"auto\",\"x\":[\"\\u041f\\u0440\\u0435\\u0441\\u043d\\u0435\\u043d\\u0441\\u043a\\u0430\\u044f \\u043d\\u0430\\u0431\\u0435\\u0440\\u0435\\u0436\\u043d\\u0430\\u044f\"],\"xaxis\":\"x\",\"y\":[167],\"yaxis\":\"y\",\"type\":\"bar\"},{\"alignmentgroup\":\"True\",\"hovertemplate\":\"\\u041a\\u043e\\u043b\\u0438\\u0447\\u0435\\u0441\\u0442\\u0432\\u043e=165<br>\\u0423\\u043b\\u0438\\u0446\\u0430=%{x}<br>\\u041a\\u043e\\u043b\\u0438\\u0447\\u0435\\u0441\\u0442\\u0432\\u043e \\u043e\\u0431\\u044a\\u0435\\u043a\\u0442\\u043e\\u0432=%{y}<extra></extra>\",\"legendgroup\":\"165\",\"marker\":{\"color\":\"#FFA15A\",\"pattern\":{\"shape\":\"\"}},\"name\":\"165\",\"offsetgroup\":\"165\",\"orientation\":\"v\",\"showlegend\":true,\"textposition\":\"auto\",\"x\":[\"\\u0412\\u0430\\u0440\\u0448\\u0430\\u0432\\u0441\\u043a\\u043e\\u0435 \\u0448\\u043e\\u0441\\u0441\\u0435\"],\"xaxis\":\"x\",\"y\":[165],\"yaxis\":\"y\",\"type\":\"bar\"},{\"alignmentgroup\":\"True\",\"hovertemplate\":\"\\u041a\\u043e\\u043b\\u0438\\u0447\\u0435\\u0441\\u0442\\u0432\\u043e=148<br>\\u0423\\u043b\\u0438\\u0446\\u0430=%{x}<br>\\u041a\\u043e\\u043b\\u0438\\u0447\\u0435\\u0441\\u0442\\u0432\\u043e \\u043e\\u0431\\u044a\\u0435\\u043a\\u0442\\u043e\\u0432=%{y}<extra></extra>\",\"legendgroup\":\"148\",\"marker\":{\"color\":\"#19d3f3\",\"pattern\":{\"shape\":\"\"}},\"name\":\"148\",\"offsetgroup\":\"148\",\"orientation\":\"v\",\"showlegend\":true,\"textposition\":\"auto\",\"x\":[\"\\u041b\\u0435\\u043d\\u0438\\u043d\\u0441\\u043a\\u0438\\u0439 \\u043f\\u0440\\u043e\\u0441\\u043f\\u0435\\u043a\\u0442\"],\"xaxis\":\"x\",\"y\":[148],\"yaxis\":\"y\",\"type\":\"bar\"},{\"alignmentgroup\":\"True\",\"hovertemplate\":\"\\u041a\\u043e\\u043b\\u0438\\u0447\\u0435\\u0441\\u0442\\u0432\\u043e=128<br>\\u0423\\u043b\\u0438\\u0446\\u0430=%{x}<br>\\u041a\\u043e\\u043b\\u0438\\u0447\\u0435\\u0441\\u0442\\u0432\\u043e \\u043e\\u0431\\u044a\\u0435\\u043a\\u0442\\u043e\\u0432=%{y}<extra></extra>\",\"legendgroup\":\"128\",\"marker\":{\"color\":\"#FF6692\",\"pattern\":{\"shape\":\"\"}},\"name\":\"128\",\"offsetgroup\":\"128\",\"orientation\":\"v\",\"showlegend\":true,\"textposition\":\"auto\",\"x\":[\"\\u043f\\u0440\\u043e\\u0441\\u043f\\u0435\\u043a\\u0442 \\u0412\\u0435\\u0440\\u043d\\u0430\\u0434\\u0441\\u043a\\u043e\\u0433\\u043e\"],\"xaxis\":\"x\",\"y\":[128],\"yaxis\":\"y\",\"type\":\"bar\"},{\"alignmentgroup\":\"True\",\"hovertemplate\":\"\\u041a\\u043e\\u043b\\u0438\\u0447\\u0435\\u0441\\u0442\\u0432\\u043e=114<br>\\u0423\\u043b\\u0438\\u0446\\u0430=%{x}<br>\\u041a\\u043e\\u043b\\u0438\\u0447\\u0435\\u0441\\u0442\\u0432\\u043e \\u043e\\u0431\\u044a\\u0435\\u043a\\u0442\\u043e\\u0432=%{y}<extra></extra>\",\"legendgroup\":\"114\",\"marker\":{\"color\":\"#B6E880\",\"pattern\":{\"shape\":\"\"}},\"name\":\"114\",\"offsetgroup\":\"114\",\"orientation\":\"v\",\"showlegend\":true,\"textposition\":\"auto\",\"x\":[\"\\u041a\\u0443\\u0442\\u0443\\u0437\\u043e\\u0432\\u0441\\u043a\\u0438\\u0439 \\u043f\\u0440\\u043e\\u0441\\u043f\\u0435\\u043a\\u0442\"],\"xaxis\":\"x\",\"y\":[114],\"yaxis\":\"y\",\"type\":\"bar\"},{\"alignmentgroup\":\"True\",\"hovertemplate\":\"\\u041a\\u043e\\u043b\\u0438\\u0447\\u0435\\u0441\\u0442\\u0432\\u043e=111<br>\\u0423\\u043b\\u0438\\u0446\\u0430=%{x}<br>\\u041a\\u043e\\u043b\\u0438\\u0447\\u0435\\u0441\\u0442\\u0432\\u043e \\u043e\\u0431\\u044a\\u0435\\u043a\\u0442\\u043e\\u0432=%{y}<extra></extra>\",\"legendgroup\":\"111\",\"marker\":{\"color\":\"#FF97FF\",\"pattern\":{\"shape\":\"\"}},\"name\":\"111\",\"offsetgroup\":\"111\",\"orientation\":\"v\",\"showlegend\":true,\"textposition\":\"auto\",\"x\":[\"\\u041a\\u0430\\u0448\\u0438\\u0440\\u0441\\u043a\\u043e\\u0435 \\u0448\\u043e\\u0441\\u0441\\u0435\"],\"xaxis\":\"x\",\"y\":[111],\"yaxis\":\"y\",\"type\":\"bar\"},{\"alignmentgroup\":\"True\",\"hovertemplate\":\"\\u041a\\u043e\\u043b\\u0438\\u0447\\u0435\\u0441\\u0442\\u0432\\u043e=108<br>\\u0423\\u043b\\u0438\\u0446\\u0430=%{x}<br>\\u041a\\u043e\\u043b\\u0438\\u0447\\u0435\\u0441\\u0442\\u0432\\u043e \\u043e\\u0431\\u044a\\u0435\\u043a\\u0442\\u043e\\u0432=%{y}<extra></extra>\",\"legendgroup\":\"108\",\"marker\":{\"color\":\"#FECB52\",\"pattern\":{\"shape\":\"\"}},\"name\":\"108\",\"offsetgroup\":\"108\",\"orientation\":\"v\",\"showlegend\":true,\"textposition\":\"auto\",\"x\":[\"\\u041a\\u0438\\u0440\\u043e\\u0432\\u043e\\u0433\\u0440\\u0430\\u0434\\u0441\\u043a\\u0430\\u044f \\u0443\\u043b\\u0438\\u0446\\u0430\"],\"xaxis\":\"x\",\"y\":[108],\"yaxis\":\"y\",\"type\":\"bar\"}],                        {\"template\":{\"data\":{\"bar\":[{\"error_x\":{\"color\":\"#2a3f5f\"},\"error_y\":{\"color\":\"#2a3f5f\"},\"marker\":{\"line\":{\"color\":\"#E5ECF6\",\"width\":0.5},\"pattern\":{\"fillmode\":\"overlay\",\"size\":10,\"solidity\":0.2}},\"type\":\"bar\"}],\"barpolar\":[{\"marker\":{\"line\":{\"color\":\"#E5ECF6\",\"width\":0.5},\"pattern\":{\"fillmode\":\"overlay\",\"size\":10,\"solidity\":0.2}},\"type\":\"barpolar\"}],\"carpet\":[{\"aaxis\":{\"endlinecolor\":\"#2a3f5f\",\"gridcolor\":\"white\",\"linecolor\":\"white\",\"minorgridcolor\":\"white\",\"startlinecolor\":\"#2a3f5f\"},\"baxis\":{\"endlinecolor\":\"#2a3f5f\",\"gridcolor\":\"white\",\"linecolor\":\"white\",\"minorgridcolor\":\"white\",\"startlinecolor\":\"#2a3f5f\"},\"type\":\"carpet\"}],\"choropleth\":[{\"colorbar\":{\"outlinewidth\":0,\"ticks\":\"\"},\"type\":\"choropleth\"}],\"contour\":[{\"colorbar\":{\"outlinewidth\":0,\"ticks\":\"\"},\"colorscale\":[[0.0,\"#0d0887\"],[0.1111111111111111,\"#46039f\"],[0.2222222222222222,\"#7201a8\"],[0.3333333333333333,\"#9c179e\"],[0.4444444444444444,\"#bd3786\"],[0.5555555555555556,\"#d8576b\"],[0.6666666666666666,\"#ed7953\"],[0.7777777777777778,\"#fb9f3a\"],[0.8888888888888888,\"#fdca26\"],[1.0,\"#f0f921\"]],\"type\":\"contour\"}],\"contourcarpet\":[{\"colorbar\":{\"outlinewidth\":0,\"ticks\":\"\"},\"type\":\"contourcarpet\"}],\"heatmap\":[{\"colorbar\":{\"outlinewidth\":0,\"ticks\":\"\"},\"colorscale\":[[0.0,\"#0d0887\"],[0.1111111111111111,\"#46039f\"],[0.2222222222222222,\"#7201a8\"],[0.3333333333333333,\"#9c179e\"],[0.4444444444444444,\"#bd3786\"],[0.5555555555555556,\"#d8576b\"],[0.6666666666666666,\"#ed7953\"],[0.7777777777777778,\"#fb9f3a\"],[0.8888888888888888,\"#fdca26\"],[1.0,\"#f0f921\"]],\"type\":\"heatmap\"}],\"heatmapgl\":[{\"colorbar\":{\"outlinewidth\":0,\"ticks\":\"\"},\"colorscale\":[[0.0,\"#0d0887\"],[0.1111111111111111,\"#46039f\"],[0.2222222222222222,\"#7201a8\"],[0.3333333333333333,\"#9c179e\"],[0.4444444444444444,\"#bd3786\"],[0.5555555555555556,\"#d8576b\"],[0.6666666666666666,\"#ed7953\"],[0.7777777777777778,\"#fb9f3a\"],[0.8888888888888888,\"#fdca26\"],[1.0,\"#f0f921\"]],\"type\":\"heatmapgl\"}],\"histogram\":[{\"marker\":{\"pattern\":{\"fillmode\":\"overlay\",\"size\":10,\"solidity\":0.2}},\"type\":\"histogram\"}],\"histogram2d\":[{\"colorbar\":{\"outlinewidth\":0,\"ticks\":\"\"},\"colorscale\":[[0.0,\"#0d0887\"],[0.1111111111111111,\"#46039f\"],[0.2222222222222222,\"#7201a8\"],[0.3333333333333333,\"#9c179e\"],[0.4444444444444444,\"#bd3786\"],[0.5555555555555556,\"#d8576b\"],[0.6666666666666666,\"#ed7953\"],[0.7777777777777778,\"#fb9f3a\"],[0.8888888888888888,\"#fdca26\"],[1.0,\"#f0f921\"]],\"type\":\"histogram2d\"}],\"histogram2dcontour\":[{\"colorbar\":{\"outlinewidth\":0,\"ticks\":\"\"},\"colorscale\":[[0.0,\"#0d0887\"],[0.1111111111111111,\"#46039f\"],[0.2222222222222222,\"#7201a8\"],[0.3333333333333333,\"#9c179e\"],[0.4444444444444444,\"#bd3786\"],[0.5555555555555556,\"#d8576b\"],[0.6666666666666666,\"#ed7953\"],[0.7777777777777778,\"#fb9f3a\"],[0.8888888888888888,\"#fdca26\"],[1.0,\"#f0f921\"]],\"type\":\"histogram2dcontour\"}],\"mesh3d\":[{\"colorbar\":{\"outlinewidth\":0,\"ticks\":\"\"},\"type\":\"mesh3d\"}],\"parcoords\":[{\"line\":{\"colorbar\":{\"outlinewidth\":0,\"ticks\":\"\"}},\"type\":\"parcoords\"}],\"pie\":[{\"automargin\":true,\"type\":\"pie\"}],\"scatter\":[{\"marker\":{\"colorbar\":{\"outlinewidth\":0,\"ticks\":\"\"}},\"type\":\"scatter\"}],\"scatter3d\":[{\"line\":{\"colorbar\":{\"outlinewidth\":0,\"ticks\":\"\"}},\"marker\":{\"colorbar\":{\"outlinewidth\":0,\"ticks\":\"\"}},\"type\":\"scatter3d\"}],\"scattercarpet\":[{\"marker\":{\"colorbar\":{\"outlinewidth\":0,\"ticks\":\"\"}},\"type\":\"scattercarpet\"}],\"scattergeo\":[{\"marker\":{\"colorbar\":{\"outlinewidth\":0,\"ticks\":\"\"}},\"type\":\"scattergeo\"}],\"scattergl\":[{\"marker\":{\"colorbar\":{\"outlinewidth\":0,\"ticks\":\"\"}},\"type\":\"scattergl\"}],\"scattermapbox\":[{\"marker\":{\"colorbar\":{\"outlinewidth\":0,\"ticks\":\"\"}},\"type\":\"scattermapbox\"}],\"scatterpolar\":[{\"marker\":{\"colorbar\":{\"outlinewidth\":0,\"ticks\":\"\"}},\"type\":\"scatterpolar\"}],\"scatterpolargl\":[{\"marker\":{\"colorbar\":{\"outlinewidth\":0,\"ticks\":\"\"}},\"type\":\"scatterpolargl\"}],\"scatterternary\":[{\"marker\":{\"colorbar\":{\"outlinewidth\":0,\"ticks\":\"\"}},\"type\":\"scatterternary\"}],\"surface\":[{\"colorbar\":{\"outlinewidth\":0,\"ticks\":\"\"},\"colorscale\":[[0.0,\"#0d0887\"],[0.1111111111111111,\"#46039f\"],[0.2222222222222222,\"#7201a8\"],[0.3333333333333333,\"#9c179e\"],[0.4444444444444444,\"#bd3786\"],[0.5555555555555556,\"#d8576b\"],[0.6666666666666666,\"#ed7953\"],[0.7777777777777778,\"#fb9f3a\"],[0.8888888888888888,\"#fdca26\"],[1.0,\"#f0f921\"]],\"type\":\"surface\"}],\"table\":[{\"cells\":{\"fill\":{\"color\":\"#EBF0F8\"},\"line\":{\"color\":\"white\"}},\"header\":{\"fill\":{\"color\":\"#C8D4E3\"},\"line\":{\"color\":\"white\"}},\"type\":\"table\"}]},\"layout\":{\"annotationdefaults\":{\"arrowcolor\":\"#2a3f5f\",\"arrowhead\":0,\"arrowwidth\":1},\"autotypenumbers\":\"strict\",\"coloraxis\":{\"colorbar\":{\"outlinewidth\":0,\"ticks\":\"\"}},\"colorscale\":{\"diverging\":[[0,\"#8e0152\"],[0.1,\"#c51b7d\"],[0.2,\"#de77ae\"],[0.3,\"#f1b6da\"],[0.4,\"#fde0ef\"],[0.5,\"#f7f7f7\"],[0.6,\"#e6f5d0\"],[0.7,\"#b8e186\"],[0.8,\"#7fbc41\"],[0.9,\"#4d9221\"],[1,\"#276419\"]],\"sequential\":[[0.0,\"#0d0887\"],[0.1111111111111111,\"#46039f\"],[0.2222222222222222,\"#7201a8\"],[0.3333333333333333,\"#9c179e\"],[0.4444444444444444,\"#bd3786\"],[0.5555555555555556,\"#d8576b\"],[0.6666666666666666,\"#ed7953\"],[0.7777777777777778,\"#fb9f3a\"],[0.8888888888888888,\"#fdca26\"],[1.0,\"#f0f921\"]],\"sequentialminus\":[[0.0,\"#0d0887\"],[0.1111111111111111,\"#46039f\"],[0.2222222222222222,\"#7201a8\"],[0.3333333333333333,\"#9c179e\"],[0.4444444444444444,\"#bd3786\"],[0.5555555555555556,\"#d8576b\"],[0.6666666666666666,\"#ed7953\"],[0.7777777777777778,\"#fb9f3a\"],[0.8888888888888888,\"#fdca26\"],[1.0,\"#f0f921\"]]},\"colorway\":[\"#636efa\",\"#EF553B\",\"#00cc96\",\"#ab63fa\",\"#FFA15A\",\"#19d3f3\",\"#FF6692\",\"#B6E880\",\"#FF97FF\",\"#FECB52\"],\"font\":{\"color\":\"#2a3f5f\"},\"geo\":{\"bgcolor\":\"white\",\"lakecolor\":\"white\",\"landcolor\":\"#E5ECF6\",\"showlakes\":true,\"showland\":true,\"subunitcolor\":\"white\"},\"hoverlabel\":{\"align\":\"left\"},\"hovermode\":\"closest\",\"mapbox\":{\"style\":\"light\"},\"paper_bgcolor\":\"white\",\"plot_bgcolor\":\"#E5ECF6\",\"polar\":{\"angularaxis\":{\"gridcolor\":\"white\",\"linecolor\":\"white\",\"ticks\":\"\"},\"bgcolor\":\"#E5ECF6\",\"radialaxis\":{\"gridcolor\":\"white\",\"linecolor\":\"white\",\"ticks\":\"\"}},\"scene\":{\"xaxis\":{\"backgroundcolor\":\"#E5ECF6\",\"gridcolor\":\"white\",\"gridwidth\":2,\"linecolor\":\"white\",\"showbackground\":true,\"ticks\":\"\",\"zerolinecolor\":\"white\"},\"yaxis\":{\"backgroundcolor\":\"#E5ECF6\",\"gridcolor\":\"white\",\"gridwidth\":2,\"linecolor\":\"white\",\"showbackground\":true,\"ticks\":\"\",\"zerolinecolor\":\"white\"},\"zaxis\":{\"backgroundcolor\":\"#E5ECF6\",\"gridcolor\":\"white\",\"gridwidth\":2,\"linecolor\":\"white\",\"showbackground\":true,\"ticks\":\"\",\"zerolinecolor\":\"white\"}},\"shapedefaults\":{\"line\":{\"color\":\"#2a3f5f\"}},\"ternary\":{\"aaxis\":{\"gridcolor\":\"white\",\"linecolor\":\"white\",\"ticks\":\"\"},\"baxis\":{\"gridcolor\":\"white\",\"linecolor\":\"white\",\"ticks\":\"\"},\"bgcolor\":\"#E5ECF6\",\"caxis\":{\"gridcolor\":\"white\",\"linecolor\":\"white\",\"ticks\":\"\"}},\"title\":{\"x\":0.05},\"xaxis\":{\"automargin\":true,\"gridcolor\":\"white\",\"linecolor\":\"white\",\"ticks\":\"\",\"title\":{\"standoff\":15},\"zerolinecolor\":\"white\",\"zerolinewidth\":2},\"yaxis\":{\"automargin\":true,\"gridcolor\":\"white\",\"linecolor\":\"white\",\"ticks\":\"\",\"title\":{\"standoff\":15},\"zerolinecolor\":\"white\",\"zerolinewidth\":2}}},\"xaxis\":{\"anchor\":\"y\",\"domain\":[0.0,1.0],\"title\":{\"text\":\"\\u0423\\u043b\\u0438\\u0446\\u0430\"},\"tickangle\":45},\"yaxis\":{\"anchor\":\"x\",\"domain\":[0.0,1.0],\"title\":{\"text\":\"\\u041a\\u043e\\u043b\\u0438\\u0447\\u0435\\u0441\\u0442\\u0432\\u043e \\u043e\\u0431\\u044a\\u0435\\u043a\\u0442\\u043e\\u0432\"}},\"legend\":{\"title\":{\"text\":\"\\u041a\\u043e\\u043b\\u0438\\u0447\\u0435\\u0441\\u0442\\u0432\\u043e\"},\"tracegroupgap\":0},\"title\":{\"text\":\"\\u0422\\u043e\\u043f-10 \\u0443\\u043b\\u0438\\u0446 \\u043f\\u043e \\u043a\\u043e\\u043b\\u0438\\u0447\\u0435\\u0441\\u0442\\u0432\\u0443 \\u043e\\u0431\\u044a\\u0435\\u043a\\u0442\\u043e\\u0432 \\u043e\\u0431\\u0449\\u0435\\u0441\\u0442\\u0432\\u0435\\u043d\\u043d\\u043e\\u0433\\u043e \\u043f\\u0438\\u0442\\u0430\\u043d\\u0438\\u044f\"},\"barmode\":\"relative\",\"height\":600,\"width\":900},                        {\"responsive\": true}                    ).then(function(){\n",
              "                            \n",
              "var gd = document.getElementById('3f436ed1-5c39-41dc-abcd-d6ec96259ffe');\n",
              "var x = new MutationObserver(function (mutations, observer) {{\n",
              "        var display = window.getComputedStyle(gd).display;\n",
              "        if (!display || display === 'none') {{\n",
              "            console.log([gd, 'removed!']);\n",
              "            Plotly.purge(gd);\n",
              "            observer.disconnect();\n",
              "        }}\n",
              "}});\n",
              "\n",
              "// Listen for the removal of the full notebook cells\n",
              "var notebookContainer = gd.closest('#notebook-container');\n",
              "if (notebookContainer) {{\n",
              "    x.observe(notebookContainer, {childList: true});\n",
              "}}\n",
              "\n",
              "// Listen for the clearing of the current output cell\n",
              "var outputEl = gd.closest('.output');\n",
              "if (outputEl) {{\n",
              "    x.observe(outputEl, {childList: true});\n",
              "}}\n",
              "\n",
              "                        })                };                            </script>        </div>\n",
              "</body>\n",
              "</html>"
            ]
          },
          "metadata": {}
        }
      ],
      "source": [
        "# график топ-10 улиц по количеству объектов общественного питания\n",
        "# переименую столбцы, чтобы не было проблем с подписями на графике\n",
        "# добавлю столбец строкового формата для отображения цифр\n",
        "top_10_streets = top_streets.head(10).copy()\n",
        "top_10_streets.columns=['Улица', 'Количество объектов']\n",
        "top_10_streets['Количество'] = top_10_streets['Количество объектов'].astype('str')\n",
        "fig = px.bar(top_10_streets, \n",
        "             x='Улица', \n",
        "             y='Количество объектов', \n",
        "             title='Топ-10 улиц по количеству объектов общественного питания', \n",
        "             color='Количество', \n",
        "             width=900, height=600\n",
        ")\n",
        "fig.update_xaxes(tickangle=45)\n",
        "fig.show() "
      ]
    },
    {
      "cell_type": "markdown",
      "metadata": {
        "id": "QhqkX869Krg1"
      },
      "source": [
        "Воспользуюсь источником https://data.mos.ru/opendata и загружу внешнюю информацию о районах Москвы, в которых находятся найденные улицы: https://docs.google.com/spreadsheets/d/19vCJ_UFyUsviX0MDd4ch9LbUoDNm9RV_dMs6y9crWM8/edit?usp=sharing "
      ]
    },
    {
      "cell_type": "code",
      "execution_count": 35,
      "metadata": {
        "colab": {
          "base_uri": "https://localhost:8080/",
          "height": 629
        },
        "id": "RtMB7DHyKrg4",
        "outputId": "05c6cf98-826e-4ec1-a530-befa66d003ad"
      },
      "outputs": [
        {
          "output_type": "execute_result",
          "data": {
            "text/plain": [
              "          ID                                               Name  global_id  \\\n",
              "0        Код                                       Наименование  global_id   \n",
              "1   00151635                                            СМЕТАНА  637376221   \n",
              "2  000077874                                             Родник  637376331   \n",
              "3  000024309                                    Кафе «Академия»  637376349   \n",
              "4  000027429  ГБОУ «Школа № 1430 имени Героя Социалистическо...  637376480   \n",
              "\n",
              "        IsNetObject               OperatingCompany   TypeObject  \\\n",
              "0  Является сетевым  Название управляющей компании  Вид объекта   \n",
              "1               нет                            NaN         кафе   \n",
              "2               нет                            NaN         кафе   \n",
              "3               нет                            NaN     ресторан   \n",
              "4               нет                            NaN     столовая   \n",
              "\n",
              "                                   AdmArea           District  \\\n",
              "0         Административный округ по адресу              Район   \n",
              "1  Северо-Восточный административный округ  Ярославский район   \n",
              "2       Центральный административный округ    Таганский район   \n",
              "3       Центральный административный округ    Таганский район   \n",
              "4  Северо-Восточный административный округ    район Лианозово   \n",
              "\n",
              "                                             Address  \\\n",
              "0                                              Адрес   \n",
              "1         город Москва, улица Егора Абакумова, дом 9   \n",
              "2  город Москва, улица Талалихина, дом 2/1, корпус 1   \n",
              "3  Российская Федерация, город Москва, внутригоро...   \n",
              "4              город Москва, Угличская улица, дом 17   \n",
              "\n",
              "                       PublicPhone  ...  AdmArea_en  District_en  Address_en  \\\n",
              "0               Контактный телефон  ...  AdmArea_en  District_en  Address_en   \n",
              "1  PublicPhone:(499) 183-14-10\\n\\n  ...         NaN          NaN         NaN   \n",
              "2  PublicPhone:(495) 676-55-35\\n\\n  ...         NaN          NaN         NaN   \n",
              "3  PublicPhone:(495) 662-30-10\\n\\n  ...         NaN          NaN         NaN   \n",
              "4  PublicPhone:(499) 908-06-15\\n\\n  ...         NaN          NaN         NaN   \n",
              "\n",
              "   PublicPhone_en  SeatsCount_en  SocialPrivileges_en  Longitude_WGS84_en  \\\n",
              "0  PublicPhone_en  SeatsCount_en  SocialPrivileges_en  Longitude_WGS84_en   \n",
              "1             NaN            NaN                  NaN                 NaN   \n",
              "2             NaN            NaN                  NaN                 NaN   \n",
              "3             NaN            NaN                  NaN                 NaN   \n",
              "4             NaN            NaN                  NaN                 NaN   \n",
              "\n",
              "   Latitude_WGS84_en  geodata_center  geoarea  \n",
              "0  Latitude_WGS84_en  geodata_center  geoarea  \n",
              "1                NaN             NaN      NaN  \n",
              "2                NaN             NaN      NaN  \n",
              "3                NaN             NaN      NaN  \n",
              "4                NaN             NaN      NaN  \n",
              "\n",
              "[5 rows x 29 columns]"
            ],
            "text/html": [
              "\n",
              "  <div id=\"df-acf6ccba-81fe-470d-a6a3-91603f839bad\">\n",
              "    <div class=\"colab-df-container\">\n",
              "      <div>\n",
              "<style scoped>\n",
              "    .dataframe tbody tr th:only-of-type {\n",
              "        vertical-align: middle;\n",
              "    }\n",
              "\n",
              "    .dataframe tbody tr th {\n",
              "        vertical-align: top;\n",
              "    }\n",
              "\n",
              "    .dataframe thead th {\n",
              "        text-align: right;\n",
              "    }\n",
              "</style>\n",
              "<table border=\"1\" class=\"dataframe\">\n",
              "  <thead>\n",
              "    <tr style=\"text-align: right;\">\n",
              "      <th></th>\n",
              "      <th>ID</th>\n",
              "      <th>Name</th>\n",
              "      <th>global_id</th>\n",
              "      <th>IsNetObject</th>\n",
              "      <th>OperatingCompany</th>\n",
              "      <th>TypeObject</th>\n",
              "      <th>AdmArea</th>\n",
              "      <th>District</th>\n",
              "      <th>Address</th>\n",
              "      <th>PublicPhone</th>\n",
              "      <th>...</th>\n",
              "      <th>AdmArea_en</th>\n",
              "      <th>District_en</th>\n",
              "      <th>Address_en</th>\n",
              "      <th>PublicPhone_en</th>\n",
              "      <th>SeatsCount_en</th>\n",
              "      <th>SocialPrivileges_en</th>\n",
              "      <th>Longitude_WGS84_en</th>\n",
              "      <th>Latitude_WGS84_en</th>\n",
              "      <th>geodata_center</th>\n",
              "      <th>geoarea</th>\n",
              "    </tr>\n",
              "  </thead>\n",
              "  <tbody>\n",
              "    <tr>\n",
              "      <th>0</th>\n",
              "      <td>Код</td>\n",
              "      <td>Наименование</td>\n",
              "      <td>global_id</td>\n",
              "      <td>Является сетевым</td>\n",
              "      <td>Название управляющей компании</td>\n",
              "      <td>Вид объекта</td>\n",
              "      <td>Административный округ по адресу</td>\n",
              "      <td>Район</td>\n",
              "      <td>Адрес</td>\n",
              "      <td>Контактный телефон</td>\n",
              "      <td>...</td>\n",
              "      <td>AdmArea_en</td>\n",
              "      <td>District_en</td>\n",
              "      <td>Address_en</td>\n",
              "      <td>PublicPhone_en</td>\n",
              "      <td>SeatsCount_en</td>\n",
              "      <td>SocialPrivileges_en</td>\n",
              "      <td>Longitude_WGS84_en</td>\n",
              "      <td>Latitude_WGS84_en</td>\n",
              "      <td>geodata_center</td>\n",
              "      <td>geoarea</td>\n",
              "    </tr>\n",
              "    <tr>\n",
              "      <th>1</th>\n",
              "      <td>00151635</td>\n",
              "      <td>СМЕТАНА</td>\n",
              "      <td>637376221</td>\n",
              "      <td>нет</td>\n",
              "      <td>NaN</td>\n",
              "      <td>кафе</td>\n",
              "      <td>Северо-Восточный административный округ</td>\n",
              "      <td>Ярославский район</td>\n",
              "      <td>город Москва, улица Егора Абакумова, дом 9</td>\n",
              "      <td>PublicPhone:(499) 183-14-10\\n\\n</td>\n",
              "      <td>...</td>\n",
              "      <td>NaN</td>\n",
              "      <td>NaN</td>\n",
              "      <td>NaN</td>\n",
              "      <td>NaN</td>\n",
              "      <td>NaN</td>\n",
              "      <td>NaN</td>\n",
              "      <td>NaN</td>\n",
              "      <td>NaN</td>\n",
              "      <td>NaN</td>\n",
              "      <td>NaN</td>\n",
              "    </tr>\n",
              "    <tr>\n",
              "      <th>2</th>\n",
              "      <td>000077874</td>\n",
              "      <td>Родник</td>\n",
              "      <td>637376331</td>\n",
              "      <td>нет</td>\n",
              "      <td>NaN</td>\n",
              "      <td>кафе</td>\n",
              "      <td>Центральный административный округ</td>\n",
              "      <td>Таганский район</td>\n",
              "      <td>город Москва, улица Талалихина, дом 2/1, корпус 1</td>\n",
              "      <td>PublicPhone:(495) 676-55-35\\n\\n</td>\n",
              "      <td>...</td>\n",
              "      <td>NaN</td>\n",
              "      <td>NaN</td>\n",
              "      <td>NaN</td>\n",
              "      <td>NaN</td>\n",
              "      <td>NaN</td>\n",
              "      <td>NaN</td>\n",
              "      <td>NaN</td>\n",
              "      <td>NaN</td>\n",
              "      <td>NaN</td>\n",
              "      <td>NaN</td>\n",
              "    </tr>\n",
              "    <tr>\n",
              "      <th>3</th>\n",
              "      <td>000024309</td>\n",
              "      <td>Кафе «Академия»</td>\n",
              "      <td>637376349</td>\n",
              "      <td>нет</td>\n",
              "      <td>NaN</td>\n",
              "      <td>ресторан</td>\n",
              "      <td>Центральный административный округ</td>\n",
              "      <td>Таганский район</td>\n",
              "      <td>Российская Федерация, город Москва, внутригоро...</td>\n",
              "      <td>PublicPhone:(495) 662-30-10\\n\\n</td>\n",
              "      <td>...</td>\n",
              "      <td>NaN</td>\n",
              "      <td>NaN</td>\n",
              "      <td>NaN</td>\n",
              "      <td>NaN</td>\n",
              "      <td>NaN</td>\n",
              "      <td>NaN</td>\n",
              "      <td>NaN</td>\n",
              "      <td>NaN</td>\n",
              "      <td>NaN</td>\n",
              "      <td>NaN</td>\n",
              "    </tr>\n",
              "    <tr>\n",
              "      <th>4</th>\n",
              "      <td>000027429</td>\n",
              "      <td>ГБОУ «Школа № 1430 имени Героя Социалистическо...</td>\n",
              "      <td>637376480</td>\n",
              "      <td>нет</td>\n",
              "      <td>NaN</td>\n",
              "      <td>столовая</td>\n",
              "      <td>Северо-Восточный административный округ</td>\n",
              "      <td>район Лианозово</td>\n",
              "      <td>город Москва, Угличская улица, дом 17</td>\n",
              "      <td>PublicPhone:(499) 908-06-15\\n\\n</td>\n",
              "      <td>...</td>\n",
              "      <td>NaN</td>\n",
              "      <td>NaN</td>\n",
              "      <td>NaN</td>\n",
              "      <td>NaN</td>\n",
              "      <td>NaN</td>\n",
              "      <td>NaN</td>\n",
              "      <td>NaN</td>\n",
              "      <td>NaN</td>\n",
              "      <td>NaN</td>\n",
              "      <td>NaN</td>\n",
              "    </tr>\n",
              "  </tbody>\n",
              "</table>\n",
              "<p>5 rows × 29 columns</p>\n",
              "</div>\n",
              "      <button class=\"colab-df-convert\" onclick=\"convertToInteractive('df-acf6ccba-81fe-470d-a6a3-91603f839bad')\"\n",
              "              title=\"Convert this dataframe to an interactive table.\"\n",
              "              style=\"display:none;\">\n",
              "        \n",
              "  <svg xmlns=\"http://www.w3.org/2000/svg\" height=\"24px\"viewBox=\"0 0 24 24\"\n",
              "       width=\"24px\">\n",
              "    <path d=\"M0 0h24v24H0V0z\" fill=\"none\"/>\n",
              "    <path d=\"M18.56 5.44l.94 2.06.94-2.06 2.06-.94-2.06-.94-.94-2.06-.94 2.06-2.06.94zm-11 1L8.5 8.5l.94-2.06 2.06-.94-2.06-.94L8.5 2.5l-.94 2.06-2.06.94zm10 10l.94 2.06.94-2.06 2.06-.94-2.06-.94-.94-2.06-.94 2.06-2.06.94z\"/><path d=\"M17.41 7.96l-1.37-1.37c-.4-.4-.92-.59-1.43-.59-.52 0-1.04.2-1.43.59L10.3 9.45l-7.72 7.72c-.78.78-.78 2.05 0 2.83L4 21.41c.39.39.9.59 1.41.59.51 0 1.02-.2 1.41-.59l7.78-7.78 2.81-2.81c.8-.78.8-2.07 0-2.86zM5.41 20L4 18.59l7.72-7.72 1.47 1.35L5.41 20z\"/>\n",
              "  </svg>\n",
              "      </button>\n",
              "      \n",
              "  <style>\n",
              "    .colab-df-container {\n",
              "      display:flex;\n",
              "      flex-wrap:wrap;\n",
              "      gap: 12px;\n",
              "    }\n",
              "\n",
              "    .colab-df-convert {\n",
              "      background-color: #E8F0FE;\n",
              "      border: none;\n",
              "      border-radius: 50%;\n",
              "      cursor: pointer;\n",
              "      display: none;\n",
              "      fill: #1967D2;\n",
              "      height: 32px;\n",
              "      padding: 0 0 0 0;\n",
              "      width: 32px;\n",
              "    }\n",
              "\n",
              "    .colab-df-convert:hover {\n",
              "      background-color: #E2EBFA;\n",
              "      box-shadow: 0px 1px 2px rgba(60, 64, 67, 0.3), 0px 1px 3px 1px rgba(60, 64, 67, 0.15);\n",
              "      fill: #174EA6;\n",
              "    }\n",
              "\n",
              "    [theme=dark] .colab-df-convert {\n",
              "      background-color: #3B4455;\n",
              "      fill: #D2E3FC;\n",
              "    }\n",
              "\n",
              "    [theme=dark] .colab-df-convert:hover {\n",
              "      background-color: #434B5C;\n",
              "      box-shadow: 0px 1px 3px 1px rgba(0, 0, 0, 0.15);\n",
              "      filter: drop-shadow(0px 1px 2px rgba(0, 0, 0, 0.3));\n",
              "      fill: #FFFFFF;\n",
              "    }\n",
              "  </style>\n",
              "\n",
              "      <script>\n",
              "        const buttonEl =\n",
              "          document.querySelector('#df-acf6ccba-81fe-470d-a6a3-91603f839bad button.colab-df-convert');\n",
              "        buttonEl.style.display =\n",
              "          google.colab.kernel.accessAllowed ? 'block' : 'none';\n",
              "\n",
              "        async function convertToInteractive(key) {\n",
              "          const element = document.querySelector('#df-acf6ccba-81fe-470d-a6a3-91603f839bad');\n",
              "          const dataTable =\n",
              "            await google.colab.kernel.invokeFunction('convertToInteractive',\n",
              "                                                     [key], {});\n",
              "          if (!dataTable) return;\n",
              "\n",
              "          const docLinkHtml = 'Like what you see? Visit the ' +\n",
              "            '<a target=\"_blank\" href=https://colab.research.google.com/notebooks/data_table.ipynb>data table notebook</a>'\n",
              "            + ' to learn more about interactive tables.';\n",
              "          element.innerHTML = '';\n",
              "          dataTable['output_type'] = 'display_data';\n",
              "          await google.colab.output.renderOutput(dataTable, element);\n",
              "          const docLink = document.createElement('div');\n",
              "          docLink.innerHTML = docLinkHtml;\n",
              "          element.appendChild(docLink);\n",
              "        }\n",
              "      </script>\n",
              "    </div>\n",
              "  </div>\n",
              "  "
            ]
          },
          "metadata": {},
          "execution_count": 35
        }
      ],
      "source": [
        "from io import BytesIO\n",
        "import requests\n",
        "spreadsheet_id = '19vCJ_UFyUsviX0MDd4ch9LbUoDNm9RV_dMs6y9crWM8'\n",
        "file_name = 'https://docs.google.com/spreadsheets/d/{}/export?format=csv'.format(spreadsheet_id)\n",
        "r = requests.get(file_name)\n",
        "df = pd.read_csv(BytesIO(r.content))\n",
        "df.head(5)"
      ]
    },
    {
      "cell_type": "code",
      "execution_count": 36,
      "metadata": {
        "colab": {
          "base_uri": "https://localhost:8080/",
          "height": 337
        },
        "id": "ZF4V2rPnKrg5",
        "outputId": "970ff3b5-200b-451f-ad2b-36aa2dc26789"
      },
      "outputs": [
        {
          "output_type": "execute_result",
          "data": {
            "text/plain": [
              "                                                name           district  \\\n",
              "1                                            СМЕТАНА  Ярославский район   \n",
              "2                                             Родник    Таганский район   \n",
              "3                                    Кафе «Академия»    Таганский район   \n",
              "4  ГБОУ «Школа № 1430 имени Героя Социалистическо...    район Лианозово   \n",
              "5                                           Брусника        район Арбат   \n",
              "\n",
              "                                             address                  street  \n",
              "1         город Москва, улица Егора Абакумова, дом 9   улица Егора Абакумова  \n",
              "2  город Москва, улица Талалихина, дом 2/1, корпус 1        улица Талалихина  \n",
              "3  Российская Федерация, город Москва, внутригоро...    Абельмановская улица  \n",
              "4              город Москва, Угличская улица, дом 17         Угличская улица  \n",
              "5      город Москва, переулок Сивцев Вражек, дом 6/2  переулок Сивцев Вражек  "
            ],
            "text/html": [
              "\n",
              "  <div id=\"df-1f6fc331-fd7e-4b89-a37d-b176c952d8f5\">\n",
              "    <div class=\"colab-df-container\">\n",
              "      <div>\n",
              "<style scoped>\n",
              "    .dataframe tbody tr th:only-of-type {\n",
              "        vertical-align: middle;\n",
              "    }\n",
              "\n",
              "    .dataframe tbody tr th {\n",
              "        vertical-align: top;\n",
              "    }\n",
              "\n",
              "    .dataframe thead th {\n",
              "        text-align: right;\n",
              "    }\n",
              "</style>\n",
              "<table border=\"1\" class=\"dataframe\">\n",
              "  <thead>\n",
              "    <tr style=\"text-align: right;\">\n",
              "      <th></th>\n",
              "      <th>name</th>\n",
              "      <th>district</th>\n",
              "      <th>address</th>\n",
              "      <th>street</th>\n",
              "    </tr>\n",
              "  </thead>\n",
              "  <tbody>\n",
              "    <tr>\n",
              "      <th>1</th>\n",
              "      <td>СМЕТАНА</td>\n",
              "      <td>Ярославский район</td>\n",
              "      <td>город Москва, улица Егора Абакумова, дом 9</td>\n",
              "      <td>улица Егора Абакумова</td>\n",
              "    </tr>\n",
              "    <tr>\n",
              "      <th>2</th>\n",
              "      <td>Родник</td>\n",
              "      <td>Таганский район</td>\n",
              "      <td>город Москва, улица Талалихина, дом 2/1, корпус 1</td>\n",
              "      <td>улица Талалихина</td>\n",
              "    </tr>\n",
              "    <tr>\n",
              "      <th>3</th>\n",
              "      <td>Кафе «Академия»</td>\n",
              "      <td>Таганский район</td>\n",
              "      <td>Российская Федерация, город Москва, внутригоро...</td>\n",
              "      <td>Абельмановская улица</td>\n",
              "    </tr>\n",
              "    <tr>\n",
              "      <th>4</th>\n",
              "      <td>ГБОУ «Школа № 1430 имени Героя Социалистическо...</td>\n",
              "      <td>район Лианозово</td>\n",
              "      <td>город Москва, Угличская улица, дом 17</td>\n",
              "      <td>Угличская улица</td>\n",
              "    </tr>\n",
              "    <tr>\n",
              "      <th>5</th>\n",
              "      <td>Брусника</td>\n",
              "      <td>район Арбат</td>\n",
              "      <td>город Москва, переулок Сивцев Вражек, дом 6/2</td>\n",
              "      <td>переулок Сивцев Вражек</td>\n",
              "    </tr>\n",
              "  </tbody>\n",
              "</table>\n",
              "</div>\n",
              "      <button class=\"colab-df-convert\" onclick=\"convertToInteractive('df-1f6fc331-fd7e-4b89-a37d-b176c952d8f5')\"\n",
              "              title=\"Convert this dataframe to an interactive table.\"\n",
              "              style=\"display:none;\">\n",
              "        \n",
              "  <svg xmlns=\"http://www.w3.org/2000/svg\" height=\"24px\"viewBox=\"0 0 24 24\"\n",
              "       width=\"24px\">\n",
              "    <path d=\"M0 0h24v24H0V0z\" fill=\"none\"/>\n",
              "    <path d=\"M18.56 5.44l.94 2.06.94-2.06 2.06-.94-2.06-.94-.94-2.06-.94 2.06-2.06.94zm-11 1L8.5 8.5l.94-2.06 2.06-.94-2.06-.94L8.5 2.5l-.94 2.06-2.06.94zm10 10l.94 2.06.94-2.06 2.06-.94-2.06-.94-.94-2.06-.94 2.06-2.06.94z\"/><path d=\"M17.41 7.96l-1.37-1.37c-.4-.4-.92-.59-1.43-.59-.52 0-1.04.2-1.43.59L10.3 9.45l-7.72 7.72c-.78.78-.78 2.05 0 2.83L4 21.41c.39.39.9.59 1.41.59.51 0 1.02-.2 1.41-.59l7.78-7.78 2.81-2.81c.8-.78.8-2.07 0-2.86zM5.41 20L4 18.59l7.72-7.72 1.47 1.35L5.41 20z\"/>\n",
              "  </svg>\n",
              "      </button>\n",
              "      \n",
              "  <style>\n",
              "    .colab-df-container {\n",
              "      display:flex;\n",
              "      flex-wrap:wrap;\n",
              "      gap: 12px;\n",
              "    }\n",
              "\n",
              "    .colab-df-convert {\n",
              "      background-color: #E8F0FE;\n",
              "      border: none;\n",
              "      border-radius: 50%;\n",
              "      cursor: pointer;\n",
              "      display: none;\n",
              "      fill: #1967D2;\n",
              "      height: 32px;\n",
              "      padding: 0 0 0 0;\n",
              "      width: 32px;\n",
              "    }\n",
              "\n",
              "    .colab-df-convert:hover {\n",
              "      background-color: #E2EBFA;\n",
              "      box-shadow: 0px 1px 2px rgba(60, 64, 67, 0.3), 0px 1px 3px 1px rgba(60, 64, 67, 0.15);\n",
              "      fill: #174EA6;\n",
              "    }\n",
              "\n",
              "    [theme=dark] .colab-df-convert {\n",
              "      background-color: #3B4455;\n",
              "      fill: #D2E3FC;\n",
              "    }\n",
              "\n",
              "    [theme=dark] .colab-df-convert:hover {\n",
              "      background-color: #434B5C;\n",
              "      box-shadow: 0px 1px 3px 1px rgba(0, 0, 0, 0.15);\n",
              "      filter: drop-shadow(0px 1px 2px rgba(0, 0, 0, 0.3));\n",
              "      fill: #FFFFFF;\n",
              "    }\n",
              "  </style>\n",
              "\n",
              "      <script>\n",
              "        const buttonEl =\n",
              "          document.querySelector('#df-1f6fc331-fd7e-4b89-a37d-b176c952d8f5 button.colab-df-convert');\n",
              "        buttonEl.style.display =\n",
              "          google.colab.kernel.accessAllowed ? 'block' : 'none';\n",
              "\n",
              "        async function convertToInteractive(key) {\n",
              "          const element = document.querySelector('#df-1f6fc331-fd7e-4b89-a37d-b176c952d8f5');\n",
              "          const dataTable =\n",
              "            await google.colab.kernel.invokeFunction('convertToInteractive',\n",
              "                                                     [key], {});\n",
              "          if (!dataTable) return;\n",
              "\n",
              "          const docLinkHtml = 'Like what you see? Visit the ' +\n",
              "            '<a target=\"_blank\" href=https://colab.research.google.com/notebooks/data_table.ipynb>data table notebook</a>'\n",
              "            + ' to learn more about interactive tables.';\n",
              "          element.innerHTML = '';\n",
              "          dataTable['output_type'] = 'display_data';\n",
              "          await google.colab.output.renderOutput(dataTable, element);\n",
              "          const docLink = document.createElement('div');\n",
              "          docLink.innerHTML = docLinkHtml;\n",
              "          element.appendChild(docLink);\n",
              "        }\n",
              "      </script>\n",
              "    </div>\n",
              "  </div>\n",
              "  "
            ]
          },
          "metadata": {},
          "execution_count": 36
        }
      ],
      "source": [
        "# оставлю во внешней таблице 3 столбца, исправлю стиль названий:\n",
        "df = df.drop(0)\n",
        "df = df[['Name', 'District', 'Address']]\n",
        "df.columns = ['name', 'district', 'address']\n",
        "\n",
        "# создам список всех синонимов слова \"улица\":\n",
        "# street_types = ['улица', 'бульвар', 'проспект', 'переулок', 'шоссе', \n",
        "# 'проезд', 'набережная', 'площадь', 'аллея', 'линия', 'квартал', 'мост', 'тупик', 'просека']\n",
        "\n",
        "# функция делит адрес на части по запятой с пробелом и проверяет каждую часть на наличие слов из списка\n",
        "# def street_finder(address):\n",
        "#     for address_part in address.split(', '):\n",
        "#         for street_type in street_types:\n",
        "#             if address_part.lower().find(street_type)!= -1:\n",
        "#                 return address_part\n",
        "\n",
        "# выделю из адреса внешнего датафрейма название улицы с помощью функции street_finder\n",
        "df['street'] = df['address'].apply(street_finder)\n",
        "\n",
        "df.drop_duplicates(inplace = True)\n",
        "df.head(5)"
      ]
    },
    {
      "cell_type": "code",
      "execution_count": 37,
      "metadata": {
        "colab": {
          "base_uri": "https://localhost:8080/",
          "height": 206
        },
        "id": "RAvjYIfHKrg6",
        "outputId": "b03b71f1-ec23-44e5-95c6-b3b434386bf4"
      },
      "outputs": [
        {
          "output_type": "execute_result",
          "data": {
            "text/plain": [
              "                      street  object_number  \\\n",
              "1443           проспект Мира            252   \n",
              "683   Ленинградский проспект            231   \n",
              "999   Пресненская набережная            207   \n",
              "1015       Профсоюзная улица            203   \n",
              "686       Ленинский проспект            191   \n",
              "\n",
              "                                               district  \n",
              "1443  [Мещанский район, Останкинский район, Алексеев...  \n",
              "683   [район Беговой, район Аэропорт, район Сокол, Х...  \n",
              "999                                 [Пресненский район]  \n",
              "1015  [Академический район, район Черёмушки, район Т...  \n",
              "686   [район Якиманка, Донской район, Гагаринский ра...  "
            ],
            "text/html": [
              "\n",
              "  <div id=\"df-8610d607-a364-480d-9469-8c19d16da233\">\n",
              "    <div class=\"colab-df-container\">\n",
              "      <div>\n",
              "<style scoped>\n",
              "    .dataframe tbody tr th:only-of-type {\n",
              "        vertical-align: middle;\n",
              "    }\n",
              "\n",
              "    .dataframe tbody tr th {\n",
              "        vertical-align: top;\n",
              "    }\n",
              "\n",
              "    .dataframe thead th {\n",
              "        text-align: right;\n",
              "    }\n",
              "</style>\n",
              "<table border=\"1\" class=\"dataframe\">\n",
              "  <thead>\n",
              "    <tr style=\"text-align: right;\">\n",
              "      <th></th>\n",
              "      <th>street</th>\n",
              "      <th>object_number</th>\n",
              "      <th>district</th>\n",
              "    </tr>\n",
              "  </thead>\n",
              "  <tbody>\n",
              "    <tr>\n",
              "      <th>1443</th>\n",
              "      <td>проспект Мира</td>\n",
              "      <td>252</td>\n",
              "      <td>[Мещанский район, Останкинский район, Алексеев...</td>\n",
              "    </tr>\n",
              "    <tr>\n",
              "      <th>683</th>\n",
              "      <td>Ленинградский проспект</td>\n",
              "      <td>231</td>\n",
              "      <td>[район Беговой, район Аэропорт, район Сокол, Х...</td>\n",
              "    </tr>\n",
              "    <tr>\n",
              "      <th>999</th>\n",
              "      <td>Пресненская набережная</td>\n",
              "      <td>207</td>\n",
              "      <td>[Пресненский район]</td>\n",
              "    </tr>\n",
              "    <tr>\n",
              "      <th>1015</th>\n",
              "      <td>Профсоюзная улица</td>\n",
              "      <td>203</td>\n",
              "      <td>[Академический район, район Черёмушки, район Т...</td>\n",
              "    </tr>\n",
              "    <tr>\n",
              "      <th>686</th>\n",
              "      <td>Ленинский проспект</td>\n",
              "      <td>191</td>\n",
              "      <td>[район Якиманка, Донской район, Гагаринский ра...</td>\n",
              "    </tr>\n",
              "  </tbody>\n",
              "</table>\n",
              "</div>\n",
              "      <button class=\"colab-df-convert\" onclick=\"convertToInteractive('df-8610d607-a364-480d-9469-8c19d16da233')\"\n",
              "              title=\"Convert this dataframe to an interactive table.\"\n",
              "              style=\"display:none;\">\n",
              "        \n",
              "  <svg xmlns=\"http://www.w3.org/2000/svg\" height=\"24px\"viewBox=\"0 0 24 24\"\n",
              "       width=\"24px\">\n",
              "    <path d=\"M0 0h24v24H0V0z\" fill=\"none\"/>\n",
              "    <path d=\"M18.56 5.44l.94 2.06.94-2.06 2.06-.94-2.06-.94-.94-2.06-.94 2.06-2.06.94zm-11 1L8.5 8.5l.94-2.06 2.06-.94-2.06-.94L8.5 2.5l-.94 2.06-2.06.94zm10 10l.94 2.06.94-2.06 2.06-.94-2.06-.94-.94-2.06-.94 2.06-2.06.94z\"/><path d=\"M17.41 7.96l-1.37-1.37c-.4-.4-.92-.59-1.43-.59-.52 0-1.04.2-1.43.59L10.3 9.45l-7.72 7.72c-.78.78-.78 2.05 0 2.83L4 21.41c.39.39.9.59 1.41.59.51 0 1.02-.2 1.41-.59l7.78-7.78 2.81-2.81c.8-.78.8-2.07 0-2.86zM5.41 20L4 18.59l7.72-7.72 1.47 1.35L5.41 20z\"/>\n",
              "  </svg>\n",
              "      </button>\n",
              "      \n",
              "  <style>\n",
              "    .colab-df-container {\n",
              "      display:flex;\n",
              "      flex-wrap:wrap;\n",
              "      gap: 12px;\n",
              "    }\n",
              "\n",
              "    .colab-df-convert {\n",
              "      background-color: #E8F0FE;\n",
              "      border: none;\n",
              "      border-radius: 50%;\n",
              "      cursor: pointer;\n",
              "      display: none;\n",
              "      fill: #1967D2;\n",
              "      height: 32px;\n",
              "      padding: 0 0 0 0;\n",
              "      width: 32px;\n",
              "    }\n",
              "\n",
              "    .colab-df-convert:hover {\n",
              "      background-color: #E2EBFA;\n",
              "      box-shadow: 0px 1px 2px rgba(60, 64, 67, 0.3), 0px 1px 3px 1px rgba(60, 64, 67, 0.15);\n",
              "      fill: #174EA6;\n",
              "    }\n",
              "\n",
              "    [theme=dark] .colab-df-convert {\n",
              "      background-color: #3B4455;\n",
              "      fill: #D2E3FC;\n",
              "    }\n",
              "\n",
              "    [theme=dark] .colab-df-convert:hover {\n",
              "      background-color: #434B5C;\n",
              "      box-shadow: 0px 1px 3px 1px rgba(0, 0, 0, 0.15);\n",
              "      filter: drop-shadow(0px 1px 2px rgba(0, 0, 0, 0.3));\n",
              "      fill: #FFFFFF;\n",
              "    }\n",
              "  </style>\n",
              "\n",
              "      <script>\n",
              "        const buttonEl =\n",
              "          document.querySelector('#df-8610d607-a364-480d-9469-8c19d16da233 button.colab-df-convert');\n",
              "        buttonEl.style.display =\n",
              "          google.colab.kernel.accessAllowed ? 'block' : 'none';\n",
              "\n",
              "        async function convertToInteractive(key) {\n",
              "          const element = document.querySelector('#df-8610d607-a364-480d-9469-8c19d16da233');\n",
              "          const dataTable =\n",
              "            await google.colab.kernel.invokeFunction('convertToInteractive',\n",
              "                                                     [key], {});\n",
              "          if (!dataTable) return;\n",
              "\n",
              "          const docLinkHtml = 'Like what you see? Visit the ' +\n",
              "            '<a target=\"_blank\" href=https://colab.research.google.com/notebooks/data_table.ipynb>data table notebook</a>'\n",
              "            + ' to learn more about interactive tables.';\n",
              "          element.innerHTML = '';\n",
              "          dataTable['output_type'] = 'display_data';\n",
              "          await google.colab.output.renderOutput(dataTable, element);\n",
              "          const docLink = document.createElement('div');\n",
              "          docLink.innerHTML = docLinkHtml;\n",
              "          element.appendChild(docLink);\n",
              "        }\n",
              "      </script>\n",
              "    </div>\n",
              "  </div>\n",
              "  "
            ]
          },
          "metadata": {},
          "execution_count": 37
        }
      ],
      "source": [
        "# сгруппирую внешнюю таблицу по улицам и посчитаю объекты и составлю список уникальных районов\n",
        "df_streets = (df.groupby('street', as_index=False)\n",
        "    .agg({'name': 'count', 'district': 'unique'})\n",
        "    .sort_values(by='name', ascending=False)\n",
        "    .rename(columns={'name': 'object_number'}))\n",
        "df_streets.head(5)"
      ]
    },
    {
      "cell_type": "code",
      "execution_count": 38,
      "metadata": {
        "id": "hf0A_W8DKrg9"
      },
      "outputs": [],
      "source": [
        "# объединю таблицу top_streets с районами из таблицы df_streets \n",
        "top_streets = (top_streets\n",
        "                  .merge(df_streets[['street', 'district']], \n",
        "                         left_on='street', right_on='street')\n",
        ")\n",
        "# добавлю колонку с количеством районов, через которые проходит каждая улица\n",
        "top_streets['district_number'] = top_streets['district'].apply(lambda x: len(x))"
      ]
    },
    {
      "cell_type": "code",
      "execution_count": 39,
      "metadata": {
        "colab": {
          "base_uri": "https://localhost:8080/",
          "height": 580
        },
        "id": "lW2wmD5zKrg-",
        "outputId": "d94c17d8-4468-4fa8-8f33-be2b5dfc729c"
      },
      "outputs": [
        {
          "output_type": "execute_result",
          "data": {
            "text/plain": [
              "                   street  object_number  \\\n",
              "0           проспект Мира            204   \n",
              "1       Профсоюзная улица            182   \n",
              "2  Ленинградский проспект            172   \n",
              "3  Пресненская набережная            167   \n",
              "4        Варшавское шоссе            165   \n",
              "5      Ленинский проспект            148   \n",
              "6    проспект Вернадского            128   \n",
              "7    Кутузовский проспект            114   \n",
              "8         Каширское шоссе            111   \n",
              "9    Кировоградская улица            108   \n",
              "\n",
              "                                                                                                                  district  \\\n",
              "0                               [Мещанский район, Останкинский район, Алексеевский район, район Свиблово, район Ростокино]   \n",
              "1              [Академический район, район Черёмушки, район Тёплый Стан, район Коньково, Обручевский район, район Ясенево]   \n",
              "2                                                          [район Беговой, район Аэропорт, район Сокол, Хорошёвский район]   \n",
              "3                                                                                                      [Пресненский район]   \n",
              "4  [Донской район, Нагорный район, район Чертаново Южное, район Чертаново Центральное, район Чертаново Северное, район ...   \n",
              "5  [район Якиманка, Донской район, Гагаринский район, Ломоносовский район, Обручевский район, район Тропарёво-Никулино,...   \n",
              "6  [Ломоносовский район, район Тропарёво-Никулино, район Проспект Вернадского, поселение Вороновское, район Раменки, Га...   \n",
              "7                                                    [район Дорогомилово, район Фили-Давыдково, поселение Краснопахорское]   \n",
              "8  [район Москворечье-Сабурово, район Орехово-Борисово Южное, район Нагатино-Садовники, район Орехово-Борисово Северное...   \n",
              "9                                           [район Чертаново Южное, район Чертаново Центральное, район Чертаново Северное]   \n",
              "\n",
              "   district_number  \n",
              "0                5  \n",
              "1                6  \n",
              "2                4  \n",
              "3                1  \n",
              "4                9  \n",
              "5                8  \n",
              "6                6  \n",
              "7                3  \n",
              "8                5  \n",
              "9                3  "
            ],
            "text/html": [
              "\n",
              "  <div id=\"df-45cef8b9-c87e-4634-97f9-ab6d0c981826\">\n",
              "    <div class=\"colab-df-container\">\n",
              "      <div>\n",
              "<style scoped>\n",
              "    .dataframe tbody tr th:only-of-type {\n",
              "        vertical-align: middle;\n",
              "    }\n",
              "\n",
              "    .dataframe tbody tr th {\n",
              "        vertical-align: top;\n",
              "    }\n",
              "\n",
              "    .dataframe thead th {\n",
              "        text-align: right;\n",
              "    }\n",
              "</style>\n",
              "<table border=\"1\" class=\"dataframe\">\n",
              "  <thead>\n",
              "    <tr style=\"text-align: right;\">\n",
              "      <th></th>\n",
              "      <th>street</th>\n",
              "      <th>object_number</th>\n",
              "      <th>district</th>\n",
              "      <th>district_number</th>\n",
              "    </tr>\n",
              "  </thead>\n",
              "  <tbody>\n",
              "    <tr>\n",
              "      <th>0</th>\n",
              "      <td>проспект Мира</td>\n",
              "      <td>204</td>\n",
              "      <td>[Мещанский район, Останкинский район, Алексеевский район, район Свиблово, район Ростокино]</td>\n",
              "      <td>5</td>\n",
              "    </tr>\n",
              "    <tr>\n",
              "      <th>1</th>\n",
              "      <td>Профсоюзная улица</td>\n",
              "      <td>182</td>\n",
              "      <td>[Академический район, район Черёмушки, район Тёплый Стан, район Коньково, Обручевский район, район Ясенево]</td>\n",
              "      <td>6</td>\n",
              "    </tr>\n",
              "    <tr>\n",
              "      <th>2</th>\n",
              "      <td>Ленинградский проспект</td>\n",
              "      <td>172</td>\n",
              "      <td>[район Беговой, район Аэропорт, район Сокол, Хорошёвский район]</td>\n",
              "      <td>4</td>\n",
              "    </tr>\n",
              "    <tr>\n",
              "      <th>3</th>\n",
              "      <td>Пресненская набережная</td>\n",
              "      <td>167</td>\n",
              "      <td>[Пресненский район]</td>\n",
              "      <td>1</td>\n",
              "    </tr>\n",
              "    <tr>\n",
              "      <th>4</th>\n",
              "      <td>Варшавское шоссе</td>\n",
              "      <td>165</td>\n",
              "      <td>[Донской район, Нагорный район, район Чертаново Южное, район Чертаново Центральное, район Чертаново Северное, район ...</td>\n",
              "      <td>9</td>\n",
              "    </tr>\n",
              "    <tr>\n",
              "      <th>5</th>\n",
              "      <td>Ленинский проспект</td>\n",
              "      <td>148</td>\n",
              "      <td>[район Якиманка, Донской район, Гагаринский район, Ломоносовский район, Обручевский район, район Тропарёво-Никулино,...</td>\n",
              "      <td>8</td>\n",
              "    </tr>\n",
              "    <tr>\n",
              "      <th>6</th>\n",
              "      <td>проспект Вернадского</td>\n",
              "      <td>128</td>\n",
              "      <td>[Ломоносовский район, район Тропарёво-Никулино, район Проспект Вернадского, поселение Вороновское, район Раменки, Га...</td>\n",
              "      <td>6</td>\n",
              "    </tr>\n",
              "    <tr>\n",
              "      <th>7</th>\n",
              "      <td>Кутузовский проспект</td>\n",
              "      <td>114</td>\n",
              "      <td>[район Дорогомилово, район Фили-Давыдково, поселение Краснопахорское]</td>\n",
              "      <td>3</td>\n",
              "    </tr>\n",
              "    <tr>\n",
              "      <th>8</th>\n",
              "      <td>Каширское шоссе</td>\n",
              "      <td>111</td>\n",
              "      <td>[район Москворечье-Сабурово, район Орехово-Борисово Южное, район Нагатино-Садовники, район Орехово-Борисово Северное...</td>\n",
              "      <td>5</td>\n",
              "    </tr>\n",
              "    <tr>\n",
              "      <th>9</th>\n",
              "      <td>Кировоградская улица</td>\n",
              "      <td>108</td>\n",
              "      <td>[район Чертаново Южное, район Чертаново Центральное, район Чертаново Северное]</td>\n",
              "      <td>3</td>\n",
              "    </tr>\n",
              "  </tbody>\n",
              "</table>\n",
              "</div>\n",
              "      <button class=\"colab-df-convert\" onclick=\"convertToInteractive('df-45cef8b9-c87e-4634-97f9-ab6d0c981826')\"\n",
              "              title=\"Convert this dataframe to an interactive table.\"\n",
              "              style=\"display:none;\">\n",
              "        \n",
              "  <svg xmlns=\"http://www.w3.org/2000/svg\" height=\"24px\"viewBox=\"0 0 24 24\"\n",
              "       width=\"24px\">\n",
              "    <path d=\"M0 0h24v24H0V0z\" fill=\"none\"/>\n",
              "    <path d=\"M18.56 5.44l.94 2.06.94-2.06 2.06-.94-2.06-.94-.94-2.06-.94 2.06-2.06.94zm-11 1L8.5 8.5l.94-2.06 2.06-.94-2.06-.94L8.5 2.5l-.94 2.06-2.06.94zm10 10l.94 2.06.94-2.06 2.06-.94-2.06-.94-.94-2.06-.94 2.06-2.06.94z\"/><path d=\"M17.41 7.96l-1.37-1.37c-.4-.4-.92-.59-1.43-.59-.52 0-1.04.2-1.43.59L10.3 9.45l-7.72 7.72c-.78.78-.78 2.05 0 2.83L4 21.41c.39.39.9.59 1.41.59.51 0 1.02-.2 1.41-.59l7.78-7.78 2.81-2.81c.8-.78.8-2.07 0-2.86zM5.41 20L4 18.59l7.72-7.72 1.47 1.35L5.41 20z\"/>\n",
              "  </svg>\n",
              "      </button>\n",
              "      \n",
              "  <style>\n",
              "    .colab-df-container {\n",
              "      display:flex;\n",
              "      flex-wrap:wrap;\n",
              "      gap: 12px;\n",
              "    }\n",
              "\n",
              "    .colab-df-convert {\n",
              "      background-color: #E8F0FE;\n",
              "      border: none;\n",
              "      border-radius: 50%;\n",
              "      cursor: pointer;\n",
              "      display: none;\n",
              "      fill: #1967D2;\n",
              "      height: 32px;\n",
              "      padding: 0 0 0 0;\n",
              "      width: 32px;\n",
              "    }\n",
              "\n",
              "    .colab-df-convert:hover {\n",
              "      background-color: #E2EBFA;\n",
              "      box-shadow: 0px 1px 2px rgba(60, 64, 67, 0.3), 0px 1px 3px 1px rgba(60, 64, 67, 0.15);\n",
              "      fill: #174EA6;\n",
              "    }\n",
              "\n",
              "    [theme=dark] .colab-df-convert {\n",
              "      background-color: #3B4455;\n",
              "      fill: #D2E3FC;\n",
              "    }\n",
              "\n",
              "    [theme=dark] .colab-df-convert:hover {\n",
              "      background-color: #434B5C;\n",
              "      box-shadow: 0px 1px 3px 1px rgba(0, 0, 0, 0.15);\n",
              "      filter: drop-shadow(0px 1px 2px rgba(0, 0, 0, 0.3));\n",
              "      fill: #FFFFFF;\n",
              "    }\n",
              "  </style>\n",
              "\n",
              "      <script>\n",
              "        const buttonEl =\n",
              "          document.querySelector('#df-45cef8b9-c87e-4634-97f9-ab6d0c981826 button.colab-df-convert');\n",
              "        buttonEl.style.display =\n",
              "          google.colab.kernel.accessAllowed ? 'block' : 'none';\n",
              "\n",
              "        async function convertToInteractive(key) {\n",
              "          const element = document.querySelector('#df-45cef8b9-c87e-4634-97f9-ab6d0c981826');\n",
              "          const dataTable =\n",
              "            await google.colab.kernel.invokeFunction('convertToInteractive',\n",
              "                                                     [key], {});\n",
              "          if (!dataTable) return;\n",
              "\n",
              "          const docLinkHtml = 'Like what you see? Visit the ' +\n",
              "            '<a target=\"_blank\" href=https://colab.research.google.com/notebooks/data_table.ipynb>data table notebook</a>'\n",
              "            + ' to learn more about interactive tables.';\n",
              "          element.innerHTML = '';\n",
              "          dataTable['output_type'] = 'display_data';\n",
              "          await google.colab.output.renderOutput(dataTable, element);\n",
              "          const docLink = document.createElement('div');\n",
              "          docLink.innerHTML = docLinkHtml;\n",
              "          element.appendChild(docLink);\n",
              "        }\n",
              "      </script>\n",
              "    </div>\n",
              "  </div>\n",
              "  "
            ]
          },
          "metadata": {},
          "execution_count": 39
        }
      ],
      "source": [
        "# топ-10 улиц по количеству объектов общественного питания с районами Москвы\n",
        "top_10_streets = top_streets.head(10)\n",
        "pd.options.display.max_colwidth = 120\n",
        "top_10_streets"
      ]
    },
    {
      "cell_type": "markdown",
      "metadata": {
        "id": "jMY55O7TKrhB"
      },
      "source": [
        "### Число улиц с одним объектом"
      ]
    },
    {
      "cell_type": "code",
      "execution_count": 40,
      "metadata": {
        "colab": {
          "base_uri": "https://localhost:8080/",
          "height": 363
        },
        "id": "oAZuqNk2KrhB",
        "outputId": "3f0cc291-a9e7-44e2-ff79-39bd8023c8dc"
      },
      "outputs": [
        {
          "output_type": "execute_result",
          "data": {
            "text/plain": [
              "                      street  object_number                    district  \\\n",
              "1742         Зюзинская улица              1           [район Черёмушки]   \n",
              "1743        Зубарев переулок              1        [Алексеевский район]   \n",
              "1744       Штурвальная улица              1        [район Южное Тушино]   \n",
              "1745      Шубинский переулок              1               [район Арбат]   \n",
              "1746       Щёлковский проезд              1  [район Северное Измайлово]   \n",
              "1747  Электрический переулок              1         [Пресненский район]   \n",
              "1748         Зарайская улица              1           [Рязанский район]   \n",
              "1749            Жуков проезд              1         [Даниловский район]   \n",
              "1750        Юрловский проезд              1            [район Отрадное]   \n",
              "1751       Жигулёвская улица              1           [район Кузьминки]   \n",
              "\n",
              "      district_number  \n",
              "1742                1  \n",
              "1743                1  \n",
              "1744                1  \n",
              "1745                1  \n",
              "1746                1  \n",
              "1747                1  \n",
              "1748                1  \n",
              "1749                1  \n",
              "1750                1  \n",
              "1751                1  "
            ],
            "text/html": [
              "\n",
              "  <div id=\"df-212339f0-1dca-4f7e-82fe-810ec6a5185e\">\n",
              "    <div class=\"colab-df-container\">\n",
              "      <div>\n",
              "<style scoped>\n",
              "    .dataframe tbody tr th:only-of-type {\n",
              "        vertical-align: middle;\n",
              "    }\n",
              "\n",
              "    .dataframe tbody tr th {\n",
              "        vertical-align: top;\n",
              "    }\n",
              "\n",
              "    .dataframe thead th {\n",
              "        text-align: right;\n",
              "    }\n",
              "</style>\n",
              "<table border=\"1\" class=\"dataframe\">\n",
              "  <thead>\n",
              "    <tr style=\"text-align: right;\">\n",
              "      <th></th>\n",
              "      <th>street</th>\n",
              "      <th>object_number</th>\n",
              "      <th>district</th>\n",
              "      <th>district_number</th>\n",
              "    </tr>\n",
              "  </thead>\n",
              "  <tbody>\n",
              "    <tr>\n",
              "      <th>1742</th>\n",
              "      <td>Зюзинская улица</td>\n",
              "      <td>1</td>\n",
              "      <td>[район Черёмушки]</td>\n",
              "      <td>1</td>\n",
              "    </tr>\n",
              "    <tr>\n",
              "      <th>1743</th>\n",
              "      <td>Зубарев переулок</td>\n",
              "      <td>1</td>\n",
              "      <td>[Алексеевский район]</td>\n",
              "      <td>1</td>\n",
              "    </tr>\n",
              "    <tr>\n",
              "      <th>1744</th>\n",
              "      <td>Штурвальная улица</td>\n",
              "      <td>1</td>\n",
              "      <td>[район Южное Тушино]</td>\n",
              "      <td>1</td>\n",
              "    </tr>\n",
              "    <tr>\n",
              "      <th>1745</th>\n",
              "      <td>Шубинский переулок</td>\n",
              "      <td>1</td>\n",
              "      <td>[район Арбат]</td>\n",
              "      <td>1</td>\n",
              "    </tr>\n",
              "    <tr>\n",
              "      <th>1746</th>\n",
              "      <td>Щёлковский проезд</td>\n",
              "      <td>1</td>\n",
              "      <td>[район Северное Измайлово]</td>\n",
              "      <td>1</td>\n",
              "    </tr>\n",
              "    <tr>\n",
              "      <th>1747</th>\n",
              "      <td>Электрический переулок</td>\n",
              "      <td>1</td>\n",
              "      <td>[Пресненский район]</td>\n",
              "      <td>1</td>\n",
              "    </tr>\n",
              "    <tr>\n",
              "      <th>1748</th>\n",
              "      <td>Зарайская улица</td>\n",
              "      <td>1</td>\n",
              "      <td>[Рязанский район]</td>\n",
              "      <td>1</td>\n",
              "    </tr>\n",
              "    <tr>\n",
              "      <th>1749</th>\n",
              "      <td>Жуков проезд</td>\n",
              "      <td>1</td>\n",
              "      <td>[Даниловский район]</td>\n",
              "      <td>1</td>\n",
              "    </tr>\n",
              "    <tr>\n",
              "      <th>1750</th>\n",
              "      <td>Юрловский проезд</td>\n",
              "      <td>1</td>\n",
              "      <td>[район Отрадное]</td>\n",
              "      <td>1</td>\n",
              "    </tr>\n",
              "    <tr>\n",
              "      <th>1751</th>\n",
              "      <td>Жигулёвская улица</td>\n",
              "      <td>1</td>\n",
              "      <td>[район Кузьминки]</td>\n",
              "      <td>1</td>\n",
              "    </tr>\n",
              "  </tbody>\n",
              "</table>\n",
              "</div>\n",
              "      <button class=\"colab-df-convert\" onclick=\"convertToInteractive('df-212339f0-1dca-4f7e-82fe-810ec6a5185e')\"\n",
              "              title=\"Convert this dataframe to an interactive table.\"\n",
              "              style=\"display:none;\">\n",
              "        \n",
              "  <svg xmlns=\"http://www.w3.org/2000/svg\" height=\"24px\"viewBox=\"0 0 24 24\"\n",
              "       width=\"24px\">\n",
              "    <path d=\"M0 0h24v24H0V0z\" fill=\"none\"/>\n",
              "    <path d=\"M18.56 5.44l.94 2.06.94-2.06 2.06-.94-2.06-.94-.94-2.06-.94 2.06-2.06.94zm-11 1L8.5 8.5l.94-2.06 2.06-.94-2.06-.94L8.5 2.5l-.94 2.06-2.06.94zm10 10l.94 2.06.94-2.06 2.06-.94-2.06-.94-.94-2.06-.94 2.06-2.06.94z\"/><path d=\"M17.41 7.96l-1.37-1.37c-.4-.4-.92-.59-1.43-.59-.52 0-1.04.2-1.43.59L10.3 9.45l-7.72 7.72c-.78.78-.78 2.05 0 2.83L4 21.41c.39.39.9.59 1.41.59.51 0 1.02-.2 1.41-.59l7.78-7.78 2.81-2.81c.8-.78.8-2.07 0-2.86zM5.41 20L4 18.59l7.72-7.72 1.47 1.35L5.41 20z\"/>\n",
              "  </svg>\n",
              "      </button>\n",
              "      \n",
              "  <style>\n",
              "    .colab-df-container {\n",
              "      display:flex;\n",
              "      flex-wrap:wrap;\n",
              "      gap: 12px;\n",
              "    }\n",
              "\n",
              "    .colab-df-convert {\n",
              "      background-color: #E8F0FE;\n",
              "      border: none;\n",
              "      border-radius: 50%;\n",
              "      cursor: pointer;\n",
              "      display: none;\n",
              "      fill: #1967D2;\n",
              "      height: 32px;\n",
              "      padding: 0 0 0 0;\n",
              "      width: 32px;\n",
              "    }\n",
              "\n",
              "    .colab-df-convert:hover {\n",
              "      background-color: #E2EBFA;\n",
              "      box-shadow: 0px 1px 2px rgba(60, 64, 67, 0.3), 0px 1px 3px 1px rgba(60, 64, 67, 0.15);\n",
              "      fill: #174EA6;\n",
              "    }\n",
              "\n",
              "    [theme=dark] .colab-df-convert {\n",
              "      background-color: #3B4455;\n",
              "      fill: #D2E3FC;\n",
              "    }\n",
              "\n",
              "    [theme=dark] .colab-df-convert:hover {\n",
              "      background-color: #434B5C;\n",
              "      box-shadow: 0px 1px 3px 1px rgba(0, 0, 0, 0.15);\n",
              "      filter: drop-shadow(0px 1px 2px rgba(0, 0, 0, 0.3));\n",
              "      fill: #FFFFFF;\n",
              "    }\n",
              "  </style>\n",
              "\n",
              "      <script>\n",
              "        const buttonEl =\n",
              "          document.querySelector('#df-212339f0-1dca-4f7e-82fe-810ec6a5185e button.colab-df-convert');\n",
              "        buttonEl.style.display =\n",
              "          google.colab.kernel.accessAllowed ? 'block' : 'none';\n",
              "\n",
              "        async function convertToInteractive(key) {\n",
              "          const element = document.querySelector('#df-212339f0-1dca-4f7e-82fe-810ec6a5185e');\n",
              "          const dataTable =\n",
              "            await google.colab.kernel.invokeFunction('convertToInteractive',\n",
              "                                                     [key], {});\n",
              "          if (!dataTable) return;\n",
              "\n",
              "          const docLinkHtml = 'Like what you see? Visit the ' +\n",
              "            '<a target=\"_blank\" href=https://colab.research.google.com/notebooks/data_table.ipynb>data table notebook</a>'\n",
              "            + ' to learn more about interactive tables.';\n",
              "          element.innerHTML = '';\n",
              "          dataTable['output_type'] = 'display_data';\n",
              "          await google.colab.output.renderOutput(dataTable, element);\n",
              "          const docLink = document.createElement('div');\n",
              "          docLink.innerHTML = docLinkHtml;\n",
              "          element.appendChild(docLink);\n",
              "        }\n",
              "      </script>\n",
              "    </div>\n",
              "  </div>\n",
              "  "
            ]
          },
          "metadata": {},
          "execution_count": 40
        }
      ],
      "source": [
        "# выберу из таблицы top_streets улицы с одним объектом:\n",
        "one_object = top_streets[top_streets['object_number']==1]\n",
        "one_object.tail(10)"
      ]
    },
    {
      "cell_type": "code",
      "execution_count": 41,
      "metadata": {
        "colab": {
          "base_uri": "https://localhost:8080/"
        },
        "id": "GW29mP3sKrhE",
        "outputId": "748ed07c-107e-4503-fc25-954e9e423830"
      },
      "outputs": [
        {
          "output_type": "stream",
          "name": "stdout",
          "text": [
            "Количество улиц с единственным объектом общественного питания: 434\n"
          ]
        }
      ],
      "source": [
        "# Количество улиц с одним объектом\n",
        "print('Количество улиц с единственным объектом общественного питания:', one_object.shape[0])"
      ]
    },
    {
      "cell_type": "code",
      "execution_count": 42,
      "metadata": {
        "colab": {
          "base_uri": "https://localhost:8080/",
          "height": 676
        },
        "id": "t6owjOSuKrhG",
        "outputId": "4d8c50c7-80d6-4bd6-b0ee-1db90384e3ed"
      },
      "outputs": [
        {
          "output_type": "execute_result",
          "data": {
            "text/plain": [
              "                    district  street\n",
              "97           район Хамовники      22\n",
              "23           Таганский район      22\n",
              "3            Басманный район      20\n",
              "20         Пресненский район      18\n",
              "24            Тверской район      17\n",
              "89      район Соколиная Гора      11\n",
              "40               район Арбат      11\n",
              "12      Красносельский район      10\n",
              "51       район Замоскворечье       9\n",
              "104       район Южное Бутово       9\n",
              "14           Мещанский район       9\n",
              "44         район Богородское       8\n",
              "67        район Марьина Роща       8\n",
              "41            район Аэропорт       8\n",
              "15           Можайский район       8\n",
              "90          район Сокольники       8\n",
              "25       Тимирязевский район       7\n",
              "0         Алексеевский район       7\n",
              "106           район Якиманка       7\n",
              "98   район Хорошёво-Мнёвники       6"
            ],
            "text/html": [
              "\n",
              "  <div id=\"df-e5a02375-13fb-49b7-bb93-e0fcf5412b97\">\n",
              "    <div class=\"colab-df-container\">\n",
              "      <div>\n",
              "<style scoped>\n",
              "    .dataframe tbody tr th:only-of-type {\n",
              "        vertical-align: middle;\n",
              "    }\n",
              "\n",
              "    .dataframe tbody tr th {\n",
              "        vertical-align: top;\n",
              "    }\n",
              "\n",
              "    .dataframe thead th {\n",
              "        text-align: right;\n",
              "    }\n",
              "</style>\n",
              "<table border=\"1\" class=\"dataframe\">\n",
              "  <thead>\n",
              "    <tr style=\"text-align: right;\">\n",
              "      <th></th>\n",
              "      <th>district</th>\n",
              "      <th>street</th>\n",
              "    </tr>\n",
              "  </thead>\n",
              "  <tbody>\n",
              "    <tr>\n",
              "      <th>97</th>\n",
              "      <td>район Хамовники</td>\n",
              "      <td>22</td>\n",
              "    </tr>\n",
              "    <tr>\n",
              "      <th>23</th>\n",
              "      <td>Таганский район</td>\n",
              "      <td>22</td>\n",
              "    </tr>\n",
              "    <tr>\n",
              "      <th>3</th>\n",
              "      <td>Басманный район</td>\n",
              "      <td>20</td>\n",
              "    </tr>\n",
              "    <tr>\n",
              "      <th>20</th>\n",
              "      <td>Пресненский район</td>\n",
              "      <td>18</td>\n",
              "    </tr>\n",
              "    <tr>\n",
              "      <th>24</th>\n",
              "      <td>Тверской район</td>\n",
              "      <td>17</td>\n",
              "    </tr>\n",
              "    <tr>\n",
              "      <th>89</th>\n",
              "      <td>район Соколиная Гора</td>\n",
              "      <td>11</td>\n",
              "    </tr>\n",
              "    <tr>\n",
              "      <th>40</th>\n",
              "      <td>район Арбат</td>\n",
              "      <td>11</td>\n",
              "    </tr>\n",
              "    <tr>\n",
              "      <th>12</th>\n",
              "      <td>Красносельский район</td>\n",
              "      <td>10</td>\n",
              "    </tr>\n",
              "    <tr>\n",
              "      <th>51</th>\n",
              "      <td>район Замоскворечье</td>\n",
              "      <td>9</td>\n",
              "    </tr>\n",
              "    <tr>\n",
              "      <th>104</th>\n",
              "      <td>район Южное Бутово</td>\n",
              "      <td>9</td>\n",
              "    </tr>\n",
              "    <tr>\n",
              "      <th>14</th>\n",
              "      <td>Мещанский район</td>\n",
              "      <td>9</td>\n",
              "    </tr>\n",
              "    <tr>\n",
              "      <th>44</th>\n",
              "      <td>район Богородское</td>\n",
              "      <td>8</td>\n",
              "    </tr>\n",
              "    <tr>\n",
              "      <th>67</th>\n",
              "      <td>район Марьина Роща</td>\n",
              "      <td>8</td>\n",
              "    </tr>\n",
              "    <tr>\n",
              "      <th>41</th>\n",
              "      <td>район Аэропорт</td>\n",
              "      <td>8</td>\n",
              "    </tr>\n",
              "    <tr>\n",
              "      <th>15</th>\n",
              "      <td>Можайский район</td>\n",
              "      <td>8</td>\n",
              "    </tr>\n",
              "    <tr>\n",
              "      <th>90</th>\n",
              "      <td>район Сокольники</td>\n",
              "      <td>8</td>\n",
              "    </tr>\n",
              "    <tr>\n",
              "      <th>25</th>\n",
              "      <td>Тимирязевский район</td>\n",
              "      <td>7</td>\n",
              "    </tr>\n",
              "    <tr>\n",
              "      <th>0</th>\n",
              "      <td>Алексеевский район</td>\n",
              "      <td>7</td>\n",
              "    </tr>\n",
              "    <tr>\n",
              "      <th>106</th>\n",
              "      <td>район Якиманка</td>\n",
              "      <td>7</td>\n",
              "    </tr>\n",
              "    <tr>\n",
              "      <th>98</th>\n",
              "      <td>район Хорошёво-Мнёвники</td>\n",
              "      <td>6</td>\n",
              "    </tr>\n",
              "  </tbody>\n",
              "</table>\n",
              "</div>\n",
              "      <button class=\"colab-df-convert\" onclick=\"convertToInteractive('df-e5a02375-13fb-49b7-bb93-e0fcf5412b97')\"\n",
              "              title=\"Convert this dataframe to an interactive table.\"\n",
              "              style=\"display:none;\">\n",
              "        \n",
              "  <svg xmlns=\"http://www.w3.org/2000/svg\" height=\"24px\"viewBox=\"0 0 24 24\"\n",
              "       width=\"24px\">\n",
              "    <path d=\"M0 0h24v24H0V0z\" fill=\"none\"/>\n",
              "    <path d=\"M18.56 5.44l.94 2.06.94-2.06 2.06-.94-2.06-.94-.94-2.06-.94 2.06-2.06.94zm-11 1L8.5 8.5l.94-2.06 2.06-.94-2.06-.94L8.5 2.5l-.94 2.06-2.06.94zm10 10l.94 2.06.94-2.06 2.06-.94-2.06-.94-.94-2.06-.94 2.06-2.06.94z\"/><path d=\"M17.41 7.96l-1.37-1.37c-.4-.4-.92-.59-1.43-.59-.52 0-1.04.2-1.43.59L10.3 9.45l-7.72 7.72c-.78.78-.78 2.05 0 2.83L4 21.41c.39.39.9.59 1.41.59.51 0 1.02-.2 1.41-.59l7.78-7.78 2.81-2.81c.8-.78.8-2.07 0-2.86zM5.41 20L4 18.59l7.72-7.72 1.47 1.35L5.41 20z\"/>\n",
              "  </svg>\n",
              "      </button>\n",
              "      \n",
              "  <style>\n",
              "    .colab-df-container {\n",
              "      display:flex;\n",
              "      flex-wrap:wrap;\n",
              "      gap: 12px;\n",
              "    }\n",
              "\n",
              "    .colab-df-convert {\n",
              "      background-color: #E8F0FE;\n",
              "      border: none;\n",
              "      border-radius: 50%;\n",
              "      cursor: pointer;\n",
              "      display: none;\n",
              "      fill: #1967D2;\n",
              "      height: 32px;\n",
              "      padding: 0 0 0 0;\n",
              "      width: 32px;\n",
              "    }\n",
              "\n",
              "    .colab-df-convert:hover {\n",
              "      background-color: #E2EBFA;\n",
              "      box-shadow: 0px 1px 2px rgba(60, 64, 67, 0.3), 0px 1px 3px 1px rgba(60, 64, 67, 0.15);\n",
              "      fill: #174EA6;\n",
              "    }\n",
              "\n",
              "    [theme=dark] .colab-df-convert {\n",
              "      background-color: #3B4455;\n",
              "      fill: #D2E3FC;\n",
              "    }\n",
              "\n",
              "    [theme=dark] .colab-df-convert:hover {\n",
              "      background-color: #434B5C;\n",
              "      box-shadow: 0px 1px 3px 1px rgba(0, 0, 0, 0.15);\n",
              "      filter: drop-shadow(0px 1px 2px rgba(0, 0, 0, 0.3));\n",
              "      fill: #FFFFFF;\n",
              "    }\n",
              "  </style>\n",
              "\n",
              "      <script>\n",
              "        const buttonEl =\n",
              "          document.querySelector('#df-e5a02375-13fb-49b7-bb93-e0fcf5412b97 button.colab-df-convert');\n",
              "        buttonEl.style.display =\n",
              "          google.colab.kernel.accessAllowed ? 'block' : 'none';\n",
              "\n",
              "        async function convertToInteractive(key) {\n",
              "          const element = document.querySelector('#df-e5a02375-13fb-49b7-bb93-e0fcf5412b97');\n",
              "          const dataTable =\n",
              "            await google.colab.kernel.invokeFunction('convertToInteractive',\n",
              "                                                     [key], {});\n",
              "          if (!dataTable) return;\n",
              "\n",
              "          const docLinkHtml = 'Like what you see? Visit the ' +\n",
              "            '<a target=\"_blank\" href=https://colab.research.google.com/notebooks/data_table.ipynb>data table notebook</a>'\n",
              "            + ' to learn more about interactive tables.';\n",
              "          element.innerHTML = '';\n",
              "          dataTable['output_type'] = 'display_data';\n",
              "          await google.colab.output.renderOutput(dataTable, element);\n",
              "          const docLink = document.createElement('div');\n",
              "          docLink.innerHTML = docLinkHtml;\n",
              "          element.appendChild(docLink);\n",
              "        }\n",
              "      </script>\n",
              "    </div>\n",
              "  </div>\n",
              "  "
            ]
          },
          "metadata": {},
          "execution_count": 42
        }
      ],
      "source": [
        "# посмотрю, в каких районах чаще всего встречаются улицы с одним заведением\n",
        "top_district = (one_object.explode('district')\n",
        "    .groupby('district', as_index=False)\n",
        "    .agg({'street': 'count'})\n",
        "    .sort_values(by='street', ascending=False))\n",
        "top_district.head(20)"
      ]
    },
    {
      "cell_type": "markdown",
      "metadata": {
        "id": "4cJ5d-vtKrhG"
      },
      "source": [
        "Первые 10 в списке районов с самым большим количеством улиц с одним заведением - это самый центр Москвы. Здесь много коротких улочек, высокая плотность застройки. Исключение - Южное Бутово. \n",
        "\n",
        "Посмотрю, в каких районах расположены топ-10 улиц по числу заведений:"
      ]
    },
    {
      "cell_type": "code",
      "execution_count": 43,
      "metadata": {
        "colab": {
          "base_uri": "https://localhost:8080/",
          "height": 1000
        },
        "id": "7mEre80SKrhH",
        "outputId": "8d0d5335-f0cc-49db-8cd2-ff906db4b1da"
      },
      "outputs": [
        {
          "output_type": "execute_result",
          "data": {
            "text/plain": [
              "                   street  object_number                         district  \\\n",
              "0           проспект Мира            204                  Мещанский район   \n",
              "0           проспект Мира            204               Останкинский район   \n",
              "0           проспект Мира            204               Алексеевский район   \n",
              "0           проспект Мира            204                   район Свиблово   \n",
              "0           проспект Мира            204                  район Ростокино   \n",
              "1       Профсоюзная улица            182              Академический район   \n",
              "1       Профсоюзная улица            182                  район Черёмушки   \n",
              "1       Профсоюзная улица            182                район Тёплый Стан   \n",
              "1       Профсоюзная улица            182                   район Коньково   \n",
              "1       Профсоюзная улица            182                Обручевский район   \n",
              "1       Профсоюзная улица            182                    район Ясенево   \n",
              "2  Ленинградский проспект            172                    район Беговой   \n",
              "2  Ленинградский проспект            172                   район Аэропорт   \n",
              "2  Ленинградский проспект            172                      район Сокол   \n",
              "2  Ленинградский проспект            172                Хорошёвский район   \n",
              "3  Пресненская набережная            167                Пресненский район   \n",
              "4        Варшавское шоссе            165                    Донской район   \n",
              "4        Варшавское шоссе            165                   Нагорный район   \n",
              "4        Варшавское шоссе            165            район Чертаново Южное   \n",
              "4        Варшавское шоссе            165      район Чертаново Центральное   \n",
              "4        Варшавское шоссе            165         район Чертаново Северное   \n",
              "4        Варшавское шоссе            165               район Южное Бутово   \n",
              "4        Варшавское шоссе            165               поселение Щербинка   \n",
              "4        Варшавское шоссе            165         район Нагатино-Садовники   \n",
              "4        Варшавское шоссе            165          поселение Воскресенское   \n",
              "5      Ленинский проспект            148                   район Якиманка   \n",
              "5      Ленинский проспект            148                    Донской район   \n",
              "5      Ленинский проспект            148                Гагаринский район   \n",
              "5      Ленинский проспект            148              Ломоносовский район   \n",
              "5      Ленинский проспект            148                Обручевский район   \n",
              "5      Ленинский проспект            148         район Тропарёво-Никулино   \n",
              "5      Ленинский проспект            148                район Тёплый Стан   \n",
              "5      Ленинский проспект            148       район Проспект Вернадского   \n",
              "6    проспект Вернадского            128              Ломоносовский район   \n",
              "6    проспект Вернадского            128         район Тропарёво-Никулино   \n",
              "6    проспект Вернадского            128       район Проспект Вернадского   \n",
              "6    проспект Вернадского            128            поселение Вороновское   \n",
              "6    проспект Вернадского            128                    район Раменки   \n",
              "6    проспект Вернадского            128                Гагаринский район   \n",
              "7    Кутузовский проспект            114               район Дорогомилово   \n",
              "7    Кутузовский проспект            114             район Фили-Давыдково   \n",
              "7    Кутузовский проспект            114        поселение Краснопахорское   \n",
              "8         Каширское шоссе            111       район Москворечье-Сабурово   \n",
              "8         Каширское шоссе            111     район Орехово-Борисово Южное   \n",
              "8         Каширское шоссе            111         район Нагатино-Садовники   \n",
              "8         Каширское шоссе            111  район Орехово-Борисово Северное   \n",
              "8         Каширское шоссе            111            район Чертаново Южное   \n",
              "9    Кировоградская улица            108            район Чертаново Южное   \n",
              "9    Кировоградская улица            108      район Чертаново Центральное   \n",
              "9    Кировоградская улица            108         район Чертаново Северное   \n",
              "\n",
              "   district_number  \n",
              "0                5  \n",
              "0                5  \n",
              "0                5  \n",
              "0                5  \n",
              "0                5  \n",
              "1                6  \n",
              "1                6  \n",
              "1                6  \n",
              "1                6  \n",
              "1                6  \n",
              "1                6  \n",
              "2                4  \n",
              "2                4  \n",
              "2                4  \n",
              "2                4  \n",
              "3                1  \n",
              "4                9  \n",
              "4                9  \n",
              "4                9  \n",
              "4                9  \n",
              "4                9  \n",
              "4                9  \n",
              "4                9  \n",
              "4                9  \n",
              "4                9  \n",
              "5                8  \n",
              "5                8  \n",
              "5                8  \n",
              "5                8  \n",
              "5                8  \n",
              "5                8  \n",
              "5                8  \n",
              "5                8  \n",
              "6                6  \n",
              "6                6  \n",
              "6                6  \n",
              "6                6  \n",
              "6                6  \n",
              "6                6  \n",
              "7                3  \n",
              "7                3  \n",
              "7                3  \n",
              "8                5  \n",
              "8                5  \n",
              "8                5  \n",
              "8                5  \n",
              "8                5  \n",
              "9                3  \n",
              "9                3  \n",
              "9                3  "
            ],
            "text/html": [
              "\n",
              "  <div id=\"df-2ab3aae8-d2a2-4734-9d5f-bf7fd1a8e816\">\n",
              "    <div class=\"colab-df-container\">\n",
              "      <div>\n",
              "<style scoped>\n",
              "    .dataframe tbody tr th:only-of-type {\n",
              "        vertical-align: middle;\n",
              "    }\n",
              "\n",
              "    .dataframe tbody tr th {\n",
              "        vertical-align: top;\n",
              "    }\n",
              "\n",
              "    .dataframe thead th {\n",
              "        text-align: right;\n",
              "    }\n",
              "</style>\n",
              "<table border=\"1\" class=\"dataframe\">\n",
              "  <thead>\n",
              "    <tr style=\"text-align: right;\">\n",
              "      <th></th>\n",
              "      <th>street</th>\n",
              "      <th>object_number</th>\n",
              "      <th>district</th>\n",
              "      <th>district_number</th>\n",
              "    </tr>\n",
              "  </thead>\n",
              "  <tbody>\n",
              "    <tr>\n",
              "      <th>0</th>\n",
              "      <td>проспект Мира</td>\n",
              "      <td>204</td>\n",
              "      <td>Мещанский район</td>\n",
              "      <td>5</td>\n",
              "    </tr>\n",
              "    <tr>\n",
              "      <th>0</th>\n",
              "      <td>проспект Мира</td>\n",
              "      <td>204</td>\n",
              "      <td>Останкинский район</td>\n",
              "      <td>5</td>\n",
              "    </tr>\n",
              "    <tr>\n",
              "      <th>0</th>\n",
              "      <td>проспект Мира</td>\n",
              "      <td>204</td>\n",
              "      <td>Алексеевский район</td>\n",
              "      <td>5</td>\n",
              "    </tr>\n",
              "    <tr>\n",
              "      <th>0</th>\n",
              "      <td>проспект Мира</td>\n",
              "      <td>204</td>\n",
              "      <td>район Свиблово</td>\n",
              "      <td>5</td>\n",
              "    </tr>\n",
              "    <tr>\n",
              "      <th>0</th>\n",
              "      <td>проспект Мира</td>\n",
              "      <td>204</td>\n",
              "      <td>район Ростокино</td>\n",
              "      <td>5</td>\n",
              "    </tr>\n",
              "    <tr>\n",
              "      <th>1</th>\n",
              "      <td>Профсоюзная улица</td>\n",
              "      <td>182</td>\n",
              "      <td>Академический район</td>\n",
              "      <td>6</td>\n",
              "    </tr>\n",
              "    <tr>\n",
              "      <th>1</th>\n",
              "      <td>Профсоюзная улица</td>\n",
              "      <td>182</td>\n",
              "      <td>район Черёмушки</td>\n",
              "      <td>6</td>\n",
              "    </tr>\n",
              "    <tr>\n",
              "      <th>1</th>\n",
              "      <td>Профсоюзная улица</td>\n",
              "      <td>182</td>\n",
              "      <td>район Тёплый Стан</td>\n",
              "      <td>6</td>\n",
              "    </tr>\n",
              "    <tr>\n",
              "      <th>1</th>\n",
              "      <td>Профсоюзная улица</td>\n",
              "      <td>182</td>\n",
              "      <td>район Коньково</td>\n",
              "      <td>6</td>\n",
              "    </tr>\n",
              "    <tr>\n",
              "      <th>1</th>\n",
              "      <td>Профсоюзная улица</td>\n",
              "      <td>182</td>\n",
              "      <td>Обручевский район</td>\n",
              "      <td>6</td>\n",
              "    </tr>\n",
              "    <tr>\n",
              "      <th>1</th>\n",
              "      <td>Профсоюзная улица</td>\n",
              "      <td>182</td>\n",
              "      <td>район Ясенево</td>\n",
              "      <td>6</td>\n",
              "    </tr>\n",
              "    <tr>\n",
              "      <th>2</th>\n",
              "      <td>Ленинградский проспект</td>\n",
              "      <td>172</td>\n",
              "      <td>район Беговой</td>\n",
              "      <td>4</td>\n",
              "    </tr>\n",
              "    <tr>\n",
              "      <th>2</th>\n",
              "      <td>Ленинградский проспект</td>\n",
              "      <td>172</td>\n",
              "      <td>район Аэропорт</td>\n",
              "      <td>4</td>\n",
              "    </tr>\n",
              "    <tr>\n",
              "      <th>2</th>\n",
              "      <td>Ленинградский проспект</td>\n",
              "      <td>172</td>\n",
              "      <td>район Сокол</td>\n",
              "      <td>4</td>\n",
              "    </tr>\n",
              "    <tr>\n",
              "      <th>2</th>\n",
              "      <td>Ленинградский проспект</td>\n",
              "      <td>172</td>\n",
              "      <td>Хорошёвский район</td>\n",
              "      <td>4</td>\n",
              "    </tr>\n",
              "    <tr>\n",
              "      <th>3</th>\n",
              "      <td>Пресненская набережная</td>\n",
              "      <td>167</td>\n",
              "      <td>Пресненский район</td>\n",
              "      <td>1</td>\n",
              "    </tr>\n",
              "    <tr>\n",
              "      <th>4</th>\n",
              "      <td>Варшавское шоссе</td>\n",
              "      <td>165</td>\n",
              "      <td>Донской район</td>\n",
              "      <td>9</td>\n",
              "    </tr>\n",
              "    <tr>\n",
              "      <th>4</th>\n",
              "      <td>Варшавское шоссе</td>\n",
              "      <td>165</td>\n",
              "      <td>Нагорный район</td>\n",
              "      <td>9</td>\n",
              "    </tr>\n",
              "    <tr>\n",
              "      <th>4</th>\n",
              "      <td>Варшавское шоссе</td>\n",
              "      <td>165</td>\n",
              "      <td>район Чертаново Южное</td>\n",
              "      <td>9</td>\n",
              "    </tr>\n",
              "    <tr>\n",
              "      <th>4</th>\n",
              "      <td>Варшавское шоссе</td>\n",
              "      <td>165</td>\n",
              "      <td>район Чертаново Центральное</td>\n",
              "      <td>9</td>\n",
              "    </tr>\n",
              "    <tr>\n",
              "      <th>4</th>\n",
              "      <td>Варшавское шоссе</td>\n",
              "      <td>165</td>\n",
              "      <td>район Чертаново Северное</td>\n",
              "      <td>9</td>\n",
              "    </tr>\n",
              "    <tr>\n",
              "      <th>4</th>\n",
              "      <td>Варшавское шоссе</td>\n",
              "      <td>165</td>\n",
              "      <td>район Южное Бутово</td>\n",
              "      <td>9</td>\n",
              "    </tr>\n",
              "    <tr>\n",
              "      <th>4</th>\n",
              "      <td>Варшавское шоссе</td>\n",
              "      <td>165</td>\n",
              "      <td>поселение Щербинка</td>\n",
              "      <td>9</td>\n",
              "    </tr>\n",
              "    <tr>\n",
              "      <th>4</th>\n",
              "      <td>Варшавское шоссе</td>\n",
              "      <td>165</td>\n",
              "      <td>район Нагатино-Садовники</td>\n",
              "      <td>9</td>\n",
              "    </tr>\n",
              "    <tr>\n",
              "      <th>4</th>\n",
              "      <td>Варшавское шоссе</td>\n",
              "      <td>165</td>\n",
              "      <td>поселение Воскресенское</td>\n",
              "      <td>9</td>\n",
              "    </tr>\n",
              "    <tr>\n",
              "      <th>5</th>\n",
              "      <td>Ленинский проспект</td>\n",
              "      <td>148</td>\n",
              "      <td>район Якиманка</td>\n",
              "      <td>8</td>\n",
              "    </tr>\n",
              "    <tr>\n",
              "      <th>5</th>\n",
              "      <td>Ленинский проспект</td>\n",
              "      <td>148</td>\n",
              "      <td>Донской район</td>\n",
              "      <td>8</td>\n",
              "    </tr>\n",
              "    <tr>\n",
              "      <th>5</th>\n",
              "      <td>Ленинский проспект</td>\n",
              "      <td>148</td>\n",
              "      <td>Гагаринский район</td>\n",
              "      <td>8</td>\n",
              "    </tr>\n",
              "    <tr>\n",
              "      <th>5</th>\n",
              "      <td>Ленинский проспект</td>\n",
              "      <td>148</td>\n",
              "      <td>Ломоносовский район</td>\n",
              "      <td>8</td>\n",
              "    </tr>\n",
              "    <tr>\n",
              "      <th>5</th>\n",
              "      <td>Ленинский проспект</td>\n",
              "      <td>148</td>\n",
              "      <td>Обручевский район</td>\n",
              "      <td>8</td>\n",
              "    </tr>\n",
              "    <tr>\n",
              "      <th>5</th>\n",
              "      <td>Ленинский проспект</td>\n",
              "      <td>148</td>\n",
              "      <td>район Тропарёво-Никулино</td>\n",
              "      <td>8</td>\n",
              "    </tr>\n",
              "    <tr>\n",
              "      <th>5</th>\n",
              "      <td>Ленинский проспект</td>\n",
              "      <td>148</td>\n",
              "      <td>район Тёплый Стан</td>\n",
              "      <td>8</td>\n",
              "    </tr>\n",
              "    <tr>\n",
              "      <th>5</th>\n",
              "      <td>Ленинский проспект</td>\n",
              "      <td>148</td>\n",
              "      <td>район Проспект Вернадского</td>\n",
              "      <td>8</td>\n",
              "    </tr>\n",
              "    <tr>\n",
              "      <th>6</th>\n",
              "      <td>проспект Вернадского</td>\n",
              "      <td>128</td>\n",
              "      <td>Ломоносовский район</td>\n",
              "      <td>6</td>\n",
              "    </tr>\n",
              "    <tr>\n",
              "      <th>6</th>\n",
              "      <td>проспект Вернадского</td>\n",
              "      <td>128</td>\n",
              "      <td>район Тропарёво-Никулино</td>\n",
              "      <td>6</td>\n",
              "    </tr>\n",
              "    <tr>\n",
              "      <th>6</th>\n",
              "      <td>проспект Вернадского</td>\n",
              "      <td>128</td>\n",
              "      <td>район Проспект Вернадского</td>\n",
              "      <td>6</td>\n",
              "    </tr>\n",
              "    <tr>\n",
              "      <th>6</th>\n",
              "      <td>проспект Вернадского</td>\n",
              "      <td>128</td>\n",
              "      <td>поселение Вороновское</td>\n",
              "      <td>6</td>\n",
              "    </tr>\n",
              "    <tr>\n",
              "      <th>6</th>\n",
              "      <td>проспект Вернадского</td>\n",
              "      <td>128</td>\n",
              "      <td>район Раменки</td>\n",
              "      <td>6</td>\n",
              "    </tr>\n",
              "    <tr>\n",
              "      <th>6</th>\n",
              "      <td>проспект Вернадского</td>\n",
              "      <td>128</td>\n",
              "      <td>Гагаринский район</td>\n",
              "      <td>6</td>\n",
              "    </tr>\n",
              "    <tr>\n",
              "      <th>7</th>\n",
              "      <td>Кутузовский проспект</td>\n",
              "      <td>114</td>\n",
              "      <td>район Дорогомилово</td>\n",
              "      <td>3</td>\n",
              "    </tr>\n",
              "    <tr>\n",
              "      <th>7</th>\n",
              "      <td>Кутузовский проспект</td>\n",
              "      <td>114</td>\n",
              "      <td>район Фили-Давыдково</td>\n",
              "      <td>3</td>\n",
              "    </tr>\n",
              "    <tr>\n",
              "      <th>7</th>\n",
              "      <td>Кутузовский проспект</td>\n",
              "      <td>114</td>\n",
              "      <td>поселение Краснопахорское</td>\n",
              "      <td>3</td>\n",
              "    </tr>\n",
              "    <tr>\n",
              "      <th>8</th>\n",
              "      <td>Каширское шоссе</td>\n",
              "      <td>111</td>\n",
              "      <td>район Москворечье-Сабурово</td>\n",
              "      <td>5</td>\n",
              "    </tr>\n",
              "    <tr>\n",
              "      <th>8</th>\n",
              "      <td>Каширское шоссе</td>\n",
              "      <td>111</td>\n",
              "      <td>район Орехово-Борисово Южное</td>\n",
              "      <td>5</td>\n",
              "    </tr>\n",
              "    <tr>\n",
              "      <th>8</th>\n",
              "      <td>Каширское шоссе</td>\n",
              "      <td>111</td>\n",
              "      <td>район Нагатино-Садовники</td>\n",
              "      <td>5</td>\n",
              "    </tr>\n",
              "    <tr>\n",
              "      <th>8</th>\n",
              "      <td>Каширское шоссе</td>\n",
              "      <td>111</td>\n",
              "      <td>район Орехово-Борисово Северное</td>\n",
              "      <td>5</td>\n",
              "    </tr>\n",
              "    <tr>\n",
              "      <th>8</th>\n",
              "      <td>Каширское шоссе</td>\n",
              "      <td>111</td>\n",
              "      <td>район Чертаново Южное</td>\n",
              "      <td>5</td>\n",
              "    </tr>\n",
              "    <tr>\n",
              "      <th>9</th>\n",
              "      <td>Кировоградская улица</td>\n",
              "      <td>108</td>\n",
              "      <td>район Чертаново Южное</td>\n",
              "      <td>3</td>\n",
              "    </tr>\n",
              "    <tr>\n",
              "      <th>9</th>\n",
              "      <td>Кировоградская улица</td>\n",
              "      <td>108</td>\n",
              "      <td>район Чертаново Центральное</td>\n",
              "      <td>3</td>\n",
              "    </tr>\n",
              "    <tr>\n",
              "      <th>9</th>\n",
              "      <td>Кировоградская улица</td>\n",
              "      <td>108</td>\n",
              "      <td>район Чертаново Северное</td>\n",
              "      <td>3</td>\n",
              "    </tr>\n",
              "  </tbody>\n",
              "</table>\n",
              "</div>\n",
              "      <button class=\"colab-df-convert\" onclick=\"convertToInteractive('df-2ab3aae8-d2a2-4734-9d5f-bf7fd1a8e816')\"\n",
              "              title=\"Convert this dataframe to an interactive table.\"\n",
              "              style=\"display:none;\">\n",
              "        \n",
              "  <svg xmlns=\"http://www.w3.org/2000/svg\" height=\"24px\"viewBox=\"0 0 24 24\"\n",
              "       width=\"24px\">\n",
              "    <path d=\"M0 0h24v24H0V0z\" fill=\"none\"/>\n",
              "    <path d=\"M18.56 5.44l.94 2.06.94-2.06 2.06-.94-2.06-.94-.94-2.06-.94 2.06-2.06.94zm-11 1L8.5 8.5l.94-2.06 2.06-.94-2.06-.94L8.5 2.5l-.94 2.06-2.06.94zm10 10l.94 2.06.94-2.06 2.06-.94-2.06-.94-.94-2.06-.94 2.06-2.06.94z\"/><path d=\"M17.41 7.96l-1.37-1.37c-.4-.4-.92-.59-1.43-.59-.52 0-1.04.2-1.43.59L10.3 9.45l-7.72 7.72c-.78.78-.78 2.05 0 2.83L4 21.41c.39.39.9.59 1.41.59.51 0 1.02-.2 1.41-.59l7.78-7.78 2.81-2.81c.8-.78.8-2.07 0-2.86zM5.41 20L4 18.59l7.72-7.72 1.47 1.35L5.41 20z\"/>\n",
              "  </svg>\n",
              "      </button>\n",
              "      \n",
              "  <style>\n",
              "    .colab-df-container {\n",
              "      display:flex;\n",
              "      flex-wrap:wrap;\n",
              "      gap: 12px;\n",
              "    }\n",
              "\n",
              "    .colab-df-convert {\n",
              "      background-color: #E8F0FE;\n",
              "      border: none;\n",
              "      border-radius: 50%;\n",
              "      cursor: pointer;\n",
              "      display: none;\n",
              "      fill: #1967D2;\n",
              "      height: 32px;\n",
              "      padding: 0 0 0 0;\n",
              "      width: 32px;\n",
              "    }\n",
              "\n",
              "    .colab-df-convert:hover {\n",
              "      background-color: #E2EBFA;\n",
              "      box-shadow: 0px 1px 2px rgba(60, 64, 67, 0.3), 0px 1px 3px 1px rgba(60, 64, 67, 0.15);\n",
              "      fill: #174EA6;\n",
              "    }\n",
              "\n",
              "    [theme=dark] .colab-df-convert {\n",
              "      background-color: #3B4455;\n",
              "      fill: #D2E3FC;\n",
              "    }\n",
              "\n",
              "    [theme=dark] .colab-df-convert:hover {\n",
              "      background-color: #434B5C;\n",
              "      box-shadow: 0px 1px 3px 1px rgba(0, 0, 0, 0.15);\n",
              "      filter: drop-shadow(0px 1px 2px rgba(0, 0, 0, 0.3));\n",
              "      fill: #FFFFFF;\n",
              "    }\n",
              "  </style>\n",
              "\n",
              "      <script>\n",
              "        const buttonEl =\n",
              "          document.querySelector('#df-2ab3aae8-d2a2-4734-9d5f-bf7fd1a8e816 button.colab-df-convert');\n",
              "        buttonEl.style.display =\n",
              "          google.colab.kernel.accessAllowed ? 'block' : 'none';\n",
              "\n",
              "        async function convertToInteractive(key) {\n",
              "          const element = document.querySelector('#df-2ab3aae8-d2a2-4734-9d5f-bf7fd1a8e816');\n",
              "          const dataTable =\n",
              "            await google.colab.kernel.invokeFunction('convertToInteractive',\n",
              "                                                     [key], {});\n",
              "          if (!dataTable) return;\n",
              "\n",
              "          const docLinkHtml = 'Like what you see? Visit the ' +\n",
              "            '<a target=\"_blank\" href=https://colab.research.google.com/notebooks/data_table.ipynb>data table notebook</a>'\n",
              "            + ' to learn more about interactive tables.';\n",
              "          element.innerHTML = '';\n",
              "          dataTable['output_type'] = 'display_data';\n",
              "          await google.colab.output.renderOutput(dataTable, element);\n",
              "          const docLink = document.createElement('div');\n",
              "          docLink.innerHTML = docLinkHtml;\n",
              "          element.appendChild(docLink);\n",
              "        }\n",
              "      </script>\n",
              "    </div>\n",
              "  </div>\n",
              "  "
            ]
          },
          "metadata": {},
          "execution_count": 43
        }
      ],
      "source": [
        "# посмотрю, в каких районах расположены топ-10 улиц\n",
        "top_10_streets.explode('district')"
      ]
    },
    {
      "cell_type": "markdown",
      "metadata": {
        "id": "COKALEUlKrhI"
      },
      "source": [
        "Топ-10 улиц по количеству объектов общественного питания - это, как правило, крупные многокилометровые городские магистрали, проходящие по нескольким районам города. Районы из этих двух списков - это разные районы, за исключением Пресненского, Мещанского районов и Якиманки.  \n",
        "\n",
        "Улица из топ-10 в Пресненском районе - это не проспект или шоссе, а довольно компактная\tПресненская набережная. На этой улице находится 167 заведений общественного питания! Разгадка: рядом расположен Москва-Сити. С другой стороны в Пресненском районе расположены 18 улиц с одним заведением.  \n",
        "\n",
        "В Мещанском районе расположены 9 улиц с одним заведением. С другой стороны по этому району проходит лидер топ-10 улиц по количеству объектов общественного питания - Проспект Мира.  \n",
        "\n",
        "В районе Якиманка берет начало Ленинский проспект - номер 3 в топ-10. В этом районе находятся 7 улиц с единственным заведением.\n",
        "\n",
        "Таким образом, в одном и том же районе могут встречаться как улицы с большим количеством заведений, так и улицы с одним заведением. Разделить районы по этому признаку нельзя. Давать рекомендации по району расположения заведения, основываясь на анализе районов через количество заведений на улицах я бы не стала."
      ]
    },
    {
      "cell_type": "markdown",
      "metadata": {
        "id": "yLMg4HZgKrhJ"
      },
      "source": [
        "## Выводы"
      ]
    },
    {
      "cell_type": "markdown",
      "metadata": {
        "id": "N6lwwDhkKrhK"
      },
      "source": [
        "Исследование рынка объектов общественного притания Москвы показало, что кафе (40%) - самой популярный формат. Далее следуют столовая (17%), ресторан (15%), предприятие быстрого питания (13%). Доли других форматов незначительны.\n",
        "\n",
        "В Москве 80% несетевых заведений питания и 20% - сетевых.\n",
        "\n",
        "В сетевом сегменте лидирует по распространенности формат кафе - 47%, предприятия быстрого обслуживания - 27%, рестораны - 18%.  \n",
        "Самые высокие доли сетевых заведений среди объектов общественного питания имеют:\n",
        "предприятия быстрого обслуживания 41%\n",
        "отделы кулинарии в магазинах 29%\n",
        "рестораны 24%\n",
        "кафе 23%.\n",
        "Таким образом, для предприятий быстрого обслуживания, отделов кулинарии в магазинах, ресторанов и кафе характерно сетевое распространение.\n",
        "\n",
        "Среди сетевых мало заведений с большим количеством посадочных мест.  \n",
        "* 95% сетевых заведений располагают не более чем 155 посадочными местами.  \n",
        "* 95% сетей состоят не более, чем из 12 заведений.\n",
        "\n",
        "Среднее количество посадочных мест по типам объектов:\n",
        "* столовая\t103\n",
        "* ресторан\t80\n",
        "* бар\t35\n",
        "* буфет\t32\n",
        "* кафе\t30\n",
        "* кафетерий\t6\n",
        "* предприятие быстрого обслуживания\t5\n",
        "\n",
        "Топ-10 улиц по количеству объектов общественного питания:\n",
        "* проспект Мира 204  \n",
        "* Профсоюзная улица 183\n",
        "* Ленинградский проспект\t173\n",
        "* Пресненская набережная\t167\n",
        "* Варшавское шоссе\t165\n",
        "* Ленинский проспект\t148\n",
        "* проспект Вернадского\t132\n",
        "* Кутузовский проспект\t114\n",
        "* Каширское шоссе\t112\n",
        "* Кировоградская улица\t110\n",
        "\n",
        "Топ-10 - это, как правило, крупные многокилометровые городские магистрали, проходящие по нескольким районам города вне центра.  \n",
        "\n",
        "Улиц, с единственным объектом общественного питания, 434. Больше всего таких улиц находится в центральных районах Москвы.\n",
        "\n",
        "Но есть районы, в которых встречаются как улицы с большим количеством заведений, так и несколько улиц с одним заведением. Однозначно разделить районы по этому признаку нельзя. Давать рекомендации по району расположения заведения, основываясь на анализе районов через количество заведений на улицах я бы не стала.\n",
        "\n",
        "Рекомендации:  \n",
        "Успешное открытие ресторана начинается с двух ключевых факторов:\n",
        "\n",
        "1. Выбор верной концепции.  \n",
        "В условиях жесткой конкуренции нужно выделяться, предложить посетителям то, чего еще никто не предлагал. Поэтому идея небольшого кафе на 30 посадочных мест, где гостей должны обслуживать роботы - хороший способ выделить заведение из множества других. Формат небольшого кафе - самый популярный на рынке.\n",
        "\n",
        "2.  Выбор удачного расположения.  \n",
        "* Для ресторана нужно место, где высока концентрация целевой аудитории с учетом концепции. Например, молодежное кафе лучше размещать рядом с учебными заведениями и развлекательными центрами; дорогой ресторан – в центре города, а семейное кафе – в спальном микрорайоне.  \n",
        "* Место должно быть с высоким пешеходным трафиком, чтобы обеспечить кафе дополнительной рекламой.  \n",
        "* Нужно оценить расположение с точки зрения конкуренции. Идея кафе оригинальнальна, в ней - его преимущество.\n",
        "* Расположение должно иметь удобную транспортную доступность и парковку.  \n",
        "\n",
        "Можно порекомендовать разместить кафе на одной из топ-10 улиц, но с учетом целевой аудитории кафе. \n",
        "\n",
        "Сможет ли кафе снискать популярность на долгое время, когда все зеваки насмотрятся на роботов-официантов? После привлечения посетителей важны будут многие другие составляющие успешного заведения: кухня, меню, оригинальность, качество, работа персонала, адекватный ценовой диапазон, чистота и многие другие факторы."
      ]
    },
    {
      "cell_type": "markdown",
      "metadata": {
        "id": "_Sm61CxMKrhN"
      },
      "source": [
        "Ссылка на презентацию:\n",
        "https://drive.google.com/file/d/1-JYbpsng4qjAqDK9mnNQ0UXyppldpeXc/view?usp=sharing"
      ]
    }
  ],
  "metadata": {
    "ExecuteTimeLog": [
      {
        "duration": 503,
        "start_time": "2022-06-21T13:44:51.441Z"
      },
      {
        "duration": 146,
        "start_time": "2022-06-21T13:44:51.945Z"
      },
      {
        "duration": 0,
        "start_time": "2022-06-21T13:44:52.095Z"
      },
      {
        "duration": 0,
        "start_time": "2022-06-21T13:44:52.097Z"
      },
      {
        "duration": 0,
        "start_time": "2022-06-21T13:44:52.097Z"
      },
      {
        "duration": 0,
        "start_time": "2022-06-21T13:44:52.099Z"
      },
      {
        "duration": 0,
        "start_time": "2022-06-21T13:44:52.101Z"
      },
      {
        "duration": 0,
        "start_time": "2022-06-21T13:44:52.103Z"
      },
      {
        "duration": 0,
        "start_time": "2022-06-21T13:44:52.104Z"
      },
      {
        "duration": 0,
        "start_time": "2022-06-21T13:44:52.106Z"
      },
      {
        "duration": 0,
        "start_time": "2022-06-21T13:44:52.107Z"
      },
      {
        "duration": 0,
        "start_time": "2022-06-21T13:44:52.108Z"
      },
      {
        "duration": 0,
        "start_time": "2022-06-21T13:44:52.110Z"
      },
      {
        "duration": 0,
        "start_time": "2022-06-21T13:44:52.111Z"
      },
      {
        "duration": 0,
        "start_time": "2022-06-21T13:44:52.112Z"
      },
      {
        "duration": 0,
        "start_time": "2022-06-21T13:44:52.113Z"
      },
      {
        "duration": 0,
        "start_time": "2022-06-21T13:44:52.114Z"
      },
      {
        "duration": 0,
        "start_time": "2022-06-21T13:44:52.116Z"
      },
      {
        "duration": 33,
        "start_time": "2022-06-21T13:44:52.248Z"
      },
      {
        "duration": 0,
        "start_time": "2022-06-21T13:44:52.284Z"
      },
      {
        "duration": 13,
        "start_time": "2022-06-21T13:44:52.372Z"
      },
      {
        "duration": 8,
        "start_time": "2022-06-21T13:44:52.409Z"
      },
      {
        "duration": 0,
        "start_time": "2022-06-21T13:44:52.418Z"
      },
      {
        "duration": 0,
        "start_time": "2022-06-21T13:44:52.419Z"
      },
      {
        "duration": 0,
        "start_time": "2022-06-21T13:44:52.420Z"
      },
      {
        "duration": 8,
        "start_time": "2022-06-21T13:44:52.444Z"
      },
      {
        "duration": 0,
        "start_time": "2022-06-21T13:44:52.453Z"
      },
      {
        "duration": 0,
        "start_time": "2022-06-21T13:44:52.454Z"
      },
      {
        "duration": 7,
        "start_time": "2022-06-21T13:44:52.544Z"
      },
      {
        "duration": 0,
        "start_time": "2022-06-21T13:44:52.556Z"
      },
      {
        "duration": 3,
        "start_time": "2022-06-21T13:57:56.795Z"
      },
      {
        "duration": 286,
        "start_time": "2022-06-21T13:57:56.800Z"
      },
      {
        "duration": 16,
        "start_time": "2022-06-21T13:57:57.088Z"
      },
      {
        "duration": 8,
        "start_time": "2022-06-21T13:57:57.106Z"
      },
      {
        "duration": 22,
        "start_time": "2022-06-21T13:57:57.117Z"
      },
      {
        "duration": 28,
        "start_time": "2022-06-21T13:57:57.141Z"
      },
      {
        "duration": 12,
        "start_time": "2022-06-21T13:57:57.170Z"
      },
      {
        "duration": 15,
        "start_time": "2022-06-21T13:57:57.184Z"
      },
      {
        "duration": 409,
        "start_time": "2022-06-21T13:57:57.200Z"
      },
      {
        "duration": 11,
        "start_time": "2022-06-21T13:57:57.610Z"
      },
      {
        "duration": 10,
        "start_time": "2022-06-21T13:57:57.622Z"
      },
      {
        "duration": 19,
        "start_time": "2022-06-21T13:57:57.653Z"
      },
      {
        "duration": 109,
        "start_time": "2022-06-21T13:57:57.675Z"
      },
      {
        "duration": 18,
        "start_time": "2022-06-21T13:57:57.786Z"
      },
      {
        "duration": 91,
        "start_time": "2022-06-21T13:57:57.806Z"
      },
      {
        "duration": 12,
        "start_time": "2022-06-21T13:57:57.898Z"
      },
      {
        "duration": 5,
        "start_time": "2022-06-21T13:57:57.911Z"
      },
      {
        "duration": 71,
        "start_time": "2022-06-21T13:57:57.917Z"
      },
      {
        "duration": 12,
        "start_time": "2022-06-21T13:57:57.989Z"
      },
      {
        "duration": 79,
        "start_time": "2022-06-21T13:57:58.002Z"
      },
      {
        "duration": 98,
        "start_time": "2022-06-21T13:57:58.083Z"
      },
      {
        "duration": 14,
        "start_time": "2022-06-21T13:57:58.182Z"
      },
      {
        "duration": 87,
        "start_time": "2022-06-21T13:57:58.198Z"
      },
      {
        "duration": 6411,
        "start_time": "2022-06-21T13:57:58.286Z"
      },
      {
        "duration": 193,
        "start_time": "2022-06-21T13:58:04.698Z"
      },
      {
        "duration": 120,
        "start_time": "2022-06-21T13:58:04.893Z"
      },
      {
        "duration": 7,
        "start_time": "2022-06-21T13:58:05.015Z"
      },
      {
        "duration": 11,
        "start_time": "2022-06-21T13:58:05.023Z"
      },
      {
        "duration": 28,
        "start_time": "2022-06-21T13:58:05.036Z"
      },
      {
        "duration": 8,
        "start_time": "2022-06-21T13:58:05.065Z"
      },
      {
        "duration": 9,
        "start_time": "2022-06-21T14:01:19.590Z"
      },
      {
        "duration": 434,
        "start_time": "2022-06-21T14:03:16.081Z"
      },
      {
        "duration": 104,
        "start_time": "2022-06-21T14:03:16.516Z"
      },
      {
        "duration": 12,
        "start_time": "2022-06-21T14:03:16.621Z"
      },
      {
        "duration": 8,
        "start_time": "2022-06-21T14:03:16.635Z"
      },
      {
        "duration": 21,
        "start_time": "2022-06-21T14:03:16.645Z"
      },
      {
        "duration": 12,
        "start_time": "2022-06-21T14:03:16.667Z"
      },
      {
        "duration": 12,
        "start_time": "2022-06-21T14:03:16.681Z"
      },
      {
        "duration": 16,
        "start_time": "2022-06-21T14:03:16.695Z"
      },
      {
        "duration": 328,
        "start_time": "2022-06-21T14:03:16.712Z"
      },
      {
        "duration": 20,
        "start_time": "2022-06-21T14:03:17.042Z"
      },
      {
        "duration": 18,
        "start_time": "2022-06-21T14:03:17.063Z"
      },
      {
        "duration": 15,
        "start_time": "2022-06-21T14:03:17.082Z"
      },
      {
        "duration": 111,
        "start_time": "2022-06-21T14:03:17.099Z"
      },
      {
        "duration": 15,
        "start_time": "2022-06-21T14:03:17.213Z"
      },
      {
        "duration": 86,
        "start_time": "2022-06-21T14:03:17.229Z"
      },
      {
        "duration": 10,
        "start_time": "2022-06-21T14:03:17.317Z"
      },
      {
        "duration": 4,
        "start_time": "2022-06-21T14:03:17.329Z"
      },
      {
        "duration": 61,
        "start_time": "2022-06-21T14:03:17.352Z"
      },
      {
        "duration": 13,
        "start_time": "2022-06-21T14:03:17.415Z"
      },
      {
        "duration": 85,
        "start_time": "2022-06-21T14:03:17.429Z"
      },
      {
        "duration": 102,
        "start_time": "2022-06-21T14:03:17.515Z"
      },
      {
        "duration": 13,
        "start_time": "2022-06-21T14:03:17.618Z"
      },
      {
        "duration": 83,
        "start_time": "2022-06-21T14:03:17.632Z"
      },
      {
        "duration": 2179,
        "start_time": "2022-06-21T14:03:17.717Z"
      },
      {
        "duration": 190,
        "start_time": "2022-06-21T14:03:19.897Z"
      },
      {
        "duration": 202,
        "start_time": "2022-06-21T14:03:20.088Z"
      },
      {
        "duration": 9,
        "start_time": "2022-06-21T14:03:20.292Z"
      },
      {
        "duration": 12,
        "start_time": "2022-06-21T14:03:20.302Z"
      },
      {
        "duration": 11,
        "start_time": "2022-06-21T14:03:20.316Z"
      },
      {
        "duration": 5,
        "start_time": "2022-06-21T14:03:20.329Z"
      },
      {
        "duration": 501,
        "start_time": "2022-06-21T15:08:06.757Z"
      },
      {
        "duration": 106,
        "start_time": "2022-06-21T15:51:45.294Z"
      },
      {
        "duration": 3,
        "start_time": "2022-06-21T15:51:58.996Z"
      },
      {
        "duration": 274,
        "start_time": "2022-06-21T15:52:00.423Z"
      },
      {
        "duration": 15,
        "start_time": "2022-06-21T15:52:01.764Z"
      },
      {
        "duration": 9,
        "start_time": "2022-06-21T15:52:02.080Z"
      },
      {
        "duration": 21,
        "start_time": "2022-06-21T15:52:02.513Z"
      },
      {
        "duration": 16,
        "start_time": "2022-06-21T15:52:03.563Z"
      },
      {
        "duration": 18,
        "start_time": "2022-06-21T15:52:04.522Z"
      },
      {
        "duration": 18,
        "start_time": "2022-06-21T15:52:06.289Z"
      },
      {
        "duration": 448,
        "start_time": "2022-06-21T15:52:09.085Z"
      },
      {
        "duration": 70,
        "start_time": "2022-06-21T16:03:47.039Z"
      },
      {
        "duration": 15,
        "start_time": "2022-06-21T16:04:04.571Z"
      },
      {
        "duration": 16,
        "start_time": "2022-06-21T16:04:13.865Z"
      },
      {
        "duration": 53,
        "start_time": "2022-06-21T16:07:51.682Z"
      },
      {
        "duration": 68,
        "start_time": "2022-06-21T16:08:00.724Z"
      },
      {
        "duration": 46,
        "start_time": "2022-06-21T16:08:27.304Z"
      },
      {
        "duration": 66,
        "start_time": "2022-06-21T16:08:40.770Z"
      },
      {
        "duration": 15,
        "start_time": "2022-06-21T16:39:44.704Z"
      },
      {
        "duration": 14,
        "start_time": "2022-06-21T16:45:55.378Z"
      },
      {
        "duration": 15,
        "start_time": "2022-06-21T16:45:56.343Z"
      },
      {
        "duration": 75,
        "start_time": "2022-06-21T16:46:24.796Z"
      },
      {
        "duration": 17,
        "start_time": "2022-06-21T17:03:58.914Z"
      },
      {
        "duration": 77,
        "start_time": "2022-06-21T17:04:00.301Z"
      },
      {
        "duration": 16,
        "start_time": "2022-06-21T17:15:27.833Z"
      },
      {
        "duration": 6,
        "start_time": "2022-06-21T17:15:28.485Z"
      },
      {
        "duration": 59,
        "start_time": "2022-06-21T17:15:29.255Z"
      },
      {
        "duration": 15,
        "start_time": "2022-06-21T17:44:09.789Z"
      },
      {
        "duration": 149,
        "start_time": "2022-06-21T17:44:11.493Z"
      },
      {
        "duration": 479,
        "start_time": "2022-06-21T18:06:42.047Z"
      },
      {
        "duration": 113,
        "start_time": "2022-06-21T18:06:42.528Z"
      },
      {
        "duration": 13,
        "start_time": "2022-06-21T18:06:42.643Z"
      },
      {
        "duration": 8,
        "start_time": "2022-06-21T18:06:42.657Z"
      },
      {
        "duration": 21,
        "start_time": "2022-06-21T18:06:42.667Z"
      },
      {
        "duration": 13,
        "start_time": "2022-06-21T18:06:42.689Z"
      },
      {
        "duration": 13,
        "start_time": "2022-06-21T18:06:42.727Z"
      },
      {
        "duration": 16,
        "start_time": "2022-06-21T18:06:42.742Z"
      },
      {
        "duration": 366,
        "start_time": "2022-06-21T18:06:42.759Z"
      },
      {
        "duration": 12,
        "start_time": "2022-06-21T18:06:43.128Z"
      },
      {
        "duration": 12,
        "start_time": "2022-06-21T18:06:43.142Z"
      },
      {
        "duration": 17,
        "start_time": "2022-06-21T18:06:43.155Z"
      },
      {
        "duration": 173,
        "start_time": "2022-06-21T18:06:43.174Z"
      },
      {
        "duration": 17,
        "start_time": "2022-06-21T18:06:43.349Z"
      },
      {
        "duration": 117,
        "start_time": "2022-06-21T18:06:43.368Z"
      },
      {
        "duration": 13,
        "start_time": "2022-06-21T18:06:43.487Z"
      },
      {
        "duration": 26,
        "start_time": "2022-06-21T18:06:43.502Z"
      },
      {
        "duration": 62,
        "start_time": "2022-06-21T18:06:43.530Z"
      },
      {
        "duration": 14,
        "start_time": "2022-06-21T18:06:43.593Z"
      },
      {
        "duration": 64,
        "start_time": "2022-06-21T18:06:43.627Z"
      },
      {
        "duration": 114,
        "start_time": "2022-06-21T18:06:43.693Z"
      },
      {
        "duration": 26,
        "start_time": "2022-06-21T18:06:43.809Z"
      },
      {
        "duration": 68,
        "start_time": "2022-06-21T18:06:43.837Z"
      },
      {
        "duration": 6456,
        "start_time": "2022-06-21T18:06:43.907Z"
      },
      {
        "duration": 191,
        "start_time": "2022-06-21T18:06:50.365Z"
      },
      {
        "duration": 127,
        "start_time": "2022-06-21T18:06:50.557Z"
      },
      {
        "duration": 9,
        "start_time": "2022-06-21T18:06:50.685Z"
      },
      {
        "duration": 21,
        "start_time": "2022-06-21T18:06:50.697Z"
      },
      {
        "duration": 16,
        "start_time": "2022-06-21T18:06:50.726Z"
      },
      {
        "duration": 19,
        "start_time": "2022-06-21T18:06:50.743Z"
      },
      {
        "duration": 6,
        "start_time": "2022-06-21T18:21:01.432Z"
      },
      {
        "duration": 5,
        "start_time": "2022-06-21T18:21:05.729Z"
      },
      {
        "duration": 15,
        "start_time": "2022-06-21T18:21:31.629Z"
      },
      {
        "duration": 141,
        "start_time": "2022-06-21T19:19:13.689Z"
      },
      {
        "duration": 18,
        "start_time": "2022-06-21T19:19:21.645Z"
      },
      {
        "duration": 492,
        "start_time": "2022-06-22T07:18:42.185Z"
      },
      {
        "duration": 113,
        "start_time": "2022-06-22T07:18:42.680Z"
      },
      {
        "duration": 16,
        "start_time": "2022-06-22T07:18:42.795Z"
      },
      {
        "duration": 9,
        "start_time": "2022-06-22T07:18:42.814Z"
      },
      {
        "duration": 33,
        "start_time": "2022-06-22T07:18:42.824Z"
      },
      {
        "duration": 13,
        "start_time": "2022-06-22T07:18:42.859Z"
      },
      {
        "duration": 13,
        "start_time": "2022-06-22T07:18:42.873Z"
      },
      {
        "duration": 17,
        "start_time": "2022-06-22T07:18:42.888Z"
      },
      {
        "duration": 385,
        "start_time": "2022-06-22T07:18:42.906Z"
      },
      {
        "duration": 15,
        "start_time": "2022-06-22T07:18:43.294Z"
      },
      {
        "duration": 44,
        "start_time": "2022-06-22T07:18:43.311Z"
      },
      {
        "duration": 17,
        "start_time": "2022-06-22T07:18:43.357Z"
      },
      {
        "duration": 117,
        "start_time": "2022-06-22T07:18:43.376Z"
      },
      {
        "duration": 19,
        "start_time": "2022-06-22T07:18:43.495Z"
      },
      {
        "duration": 84,
        "start_time": "2022-06-22T07:18:43.515Z"
      },
      {
        "duration": 15,
        "start_time": "2022-06-22T07:18:43.601Z"
      },
      {
        "duration": 19,
        "start_time": "2022-06-22T07:18:43.618Z"
      },
      {
        "duration": 94,
        "start_time": "2022-06-22T07:18:43.639Z"
      },
      {
        "duration": 26,
        "start_time": "2022-06-22T07:18:43.735Z"
      },
      {
        "duration": 90,
        "start_time": "2022-06-22T07:18:43.762Z"
      },
      {
        "duration": 115,
        "start_time": "2022-06-22T07:18:43.854Z"
      },
      {
        "duration": 15,
        "start_time": "2022-06-22T07:18:43.972Z"
      },
      {
        "duration": 90,
        "start_time": "2022-06-22T07:18:43.989Z"
      },
      {
        "duration": 2730,
        "start_time": "2022-06-22T07:18:44.081Z"
      },
      {
        "duration": 189,
        "start_time": "2022-06-22T07:18:46.813Z"
      },
      {
        "duration": 126,
        "start_time": "2022-06-22T07:18:47.005Z"
      },
      {
        "duration": 8,
        "start_time": "2022-06-22T07:18:47.133Z"
      },
      {
        "duration": 12,
        "start_time": "2022-06-22T07:18:47.152Z"
      },
      {
        "duration": 19,
        "start_time": "2022-06-22T07:18:47.166Z"
      },
      {
        "duration": 11,
        "start_time": "2022-06-22T07:18:47.186Z"
      },
      {
        "duration": 533,
        "start_time": "2022-06-22T11:08:53.289Z"
      },
      {
        "duration": 2,
        "start_time": "2022-06-22T11:08:55.288Z"
      },
      {
        "duration": 163,
        "start_time": "2022-06-22T11:08:56.374Z"
      },
      {
        "duration": 60,
        "start_time": "2022-06-22T11:13:39.958Z"
      },
      {
        "duration": 3,
        "start_time": "2022-06-22T11:14:04.557Z"
      },
      {
        "duration": 527,
        "start_time": "2022-06-22T11:15:10.914Z"
      },
      {
        "duration": 4,
        "start_time": "2022-06-22T11:15:12.042Z"
      },
      {
        "duration": 3,
        "start_time": "2022-06-22T11:15:12.697Z"
      },
      {
        "duration": 159,
        "start_time": "2022-06-22T11:15:28.511Z"
      },
      {
        "duration": 106,
        "start_time": "2022-06-22T11:20:16.480Z"
      },
      {
        "duration": 15,
        "start_time": "2022-06-22T11:22:22.146Z"
      },
      {
        "duration": 145,
        "start_time": "2022-06-22T11:26:12.016Z"
      },
      {
        "duration": 70,
        "start_time": "2022-06-22T11:28:02.580Z"
      },
      {
        "duration": 70,
        "start_time": "2022-06-22T11:28:59.351Z"
      },
      {
        "duration": 14,
        "start_time": "2022-06-22T11:33:30.414Z"
      },
      {
        "duration": 76,
        "start_time": "2022-06-22T11:34:19.625Z"
      },
      {
        "duration": 68,
        "start_time": "2022-06-22T11:34:31.441Z"
      },
      {
        "duration": 43,
        "start_time": "2022-06-22T12:39:44.021Z"
      },
      {
        "duration": 5,
        "start_time": "2022-06-22T12:43:28.958Z"
      },
      {
        "duration": 4,
        "start_time": "2022-06-22T12:56:40.551Z"
      },
      {
        "duration": 528,
        "start_time": "2022-06-22T22:23:41.724Z"
      },
      {
        "duration": 5,
        "start_time": "2022-06-22T22:23:42.254Z"
      },
      {
        "duration": 319,
        "start_time": "2022-06-22T22:23:42.261Z"
      },
      {
        "duration": 14,
        "start_time": "2022-06-22T22:23:42.582Z"
      },
      {
        "duration": 13,
        "start_time": "2022-06-22T22:23:42.598Z"
      },
      {
        "duration": 46,
        "start_time": "2022-06-22T22:23:42.613Z"
      },
      {
        "duration": 17,
        "start_time": "2022-06-22T22:23:42.661Z"
      },
      {
        "duration": 15,
        "start_time": "2022-06-22T22:23:42.680Z"
      },
      {
        "duration": 41,
        "start_time": "2022-06-22T22:23:42.697Z"
      },
      {
        "duration": 360,
        "start_time": "2022-06-22T22:23:42.740Z"
      },
      {
        "duration": 3,
        "start_time": "2022-06-22T22:23:43.102Z"
      },
      {
        "duration": 30,
        "start_time": "2022-06-22T22:23:43.106Z"
      },
      {
        "duration": 12,
        "start_time": "2022-06-22T22:23:43.138Z"
      },
      {
        "duration": 21,
        "start_time": "2022-06-22T22:23:43.151Z"
      },
      {
        "duration": 124,
        "start_time": "2022-06-22T22:23:43.174Z"
      },
      {
        "duration": 49,
        "start_time": "2022-06-22T22:23:43.300Z"
      },
      {
        "duration": 128,
        "start_time": "2022-06-22T22:23:43.351Z"
      },
      {
        "duration": 16,
        "start_time": "2022-06-22T22:23:43.481Z"
      },
      {
        "duration": 21,
        "start_time": "2022-06-22T22:23:43.499Z"
      },
      {
        "duration": 100,
        "start_time": "2022-06-22T22:23:43.521Z"
      },
      {
        "duration": 28,
        "start_time": "2022-06-22T22:23:43.623Z"
      },
      {
        "duration": 68,
        "start_time": "2022-06-22T22:23:43.652Z"
      },
      {
        "duration": 123,
        "start_time": "2022-06-22T22:23:43.728Z"
      },
      {
        "duration": 16,
        "start_time": "2022-06-22T22:23:43.853Z"
      },
      {
        "duration": 92,
        "start_time": "2022-06-22T22:23:43.871Z"
      },
      {
        "duration": 3811,
        "start_time": "2022-06-22T22:23:43.965Z"
      },
      {
        "duration": 202,
        "start_time": "2022-06-22T22:23:47.778Z"
      },
      {
        "duration": 133,
        "start_time": "2022-06-22T22:23:47.983Z"
      },
      {
        "duration": 23,
        "start_time": "2022-06-22T22:23:48.118Z"
      },
      {
        "duration": 17,
        "start_time": "2022-06-22T22:23:48.143Z"
      },
      {
        "duration": 11,
        "start_time": "2022-06-22T22:23:48.162Z"
      },
      {
        "duration": 5,
        "start_time": "2022-06-22T22:23:48.175Z"
      },
      {
        "duration": 19,
        "start_time": "2022-06-22T22:23:48.181Z"
      },
      {
        "duration": 14,
        "start_time": "2022-06-22T22:23:48.201Z"
      },
      {
        "duration": 134,
        "start_time": "2022-06-22T22:28:36.035Z"
      },
      {
        "duration": 21,
        "start_time": "2022-06-22T22:30:26.124Z"
      },
      {
        "duration": 15,
        "start_time": "2022-06-22T22:31:09.368Z"
      },
      {
        "duration": 16,
        "start_time": "2022-06-22T22:31:41.046Z"
      },
      {
        "duration": 26,
        "start_time": "2022-06-22T22:32:14.513Z"
      },
      {
        "duration": 26,
        "start_time": "2022-06-22T22:32:28.406Z"
      },
      {
        "duration": 34,
        "start_time": "2022-06-22T22:33:04.718Z"
      },
      {
        "duration": 516,
        "start_time": "2022-06-22T22:33:42.357Z"
      },
      {
        "duration": 2,
        "start_time": "2022-06-22T22:33:42.875Z"
      },
      {
        "duration": 123,
        "start_time": "2022-06-22T22:33:42.879Z"
      },
      {
        "duration": 13,
        "start_time": "2022-06-22T22:33:43.005Z"
      },
      {
        "duration": 32,
        "start_time": "2022-06-22T22:33:43.019Z"
      },
      {
        "duration": 29,
        "start_time": "2022-06-22T22:33:43.053Z"
      },
      {
        "duration": 13,
        "start_time": "2022-06-22T22:33:43.083Z"
      },
      {
        "duration": 13,
        "start_time": "2022-06-22T22:33:43.097Z"
      },
      {
        "duration": 26,
        "start_time": "2022-06-22T22:33:43.112Z"
      },
      {
        "duration": 361,
        "start_time": "2022-06-22T22:33:43.143Z"
      },
      {
        "duration": 2,
        "start_time": "2022-06-22T22:33:43.505Z"
      },
      {
        "duration": 20,
        "start_time": "2022-06-22T22:33:43.509Z"
      },
      {
        "duration": 27,
        "start_time": "2022-06-22T22:33:43.530Z"
      },
      {
        "duration": 16,
        "start_time": "2022-06-22T22:33:43.559Z"
      },
      {
        "duration": 112,
        "start_time": "2022-06-22T22:33:43.576Z"
      },
      {
        "duration": 44,
        "start_time": "2022-06-22T22:33:43.690Z"
      },
      {
        "duration": 86,
        "start_time": "2022-06-22T22:33:43.735Z"
      },
      {
        "duration": 22,
        "start_time": "2022-06-22T22:33:43.823Z"
      },
      {
        "duration": 17,
        "start_time": "2022-06-22T22:33:43.846Z"
      },
      {
        "duration": 60,
        "start_time": "2022-06-22T22:33:43.865Z"
      },
      {
        "duration": 17,
        "start_time": "2022-06-22T22:33:43.934Z"
      },
      {
        "duration": 72,
        "start_time": "2022-06-22T22:33:43.953Z"
      },
      {
        "duration": 114,
        "start_time": "2022-06-22T22:33:44.026Z"
      },
      {
        "duration": 16,
        "start_time": "2022-06-22T22:33:44.142Z"
      },
      {
        "duration": 87,
        "start_time": "2022-06-22T22:33:44.159Z"
      },
      {
        "duration": 6566,
        "start_time": "2022-06-22T22:33:44.247Z"
      },
      {
        "duration": 212,
        "start_time": "2022-06-22T22:33:50.815Z"
      },
      {
        "duration": 122,
        "start_time": "2022-06-22T22:33:51.035Z"
      },
      {
        "duration": 9,
        "start_time": "2022-06-22T22:33:51.159Z"
      },
      {
        "duration": 18,
        "start_time": "2022-06-22T22:33:51.170Z"
      },
      {
        "duration": 14,
        "start_time": "2022-06-22T22:33:51.190Z"
      },
      {
        "duration": 11,
        "start_time": "2022-06-22T22:33:51.205Z"
      },
      {
        "duration": 27,
        "start_time": "2022-06-22T22:33:51.218Z"
      },
      {
        "duration": 15,
        "start_time": "2022-06-22T22:33:51.247Z"
      },
      {
        "duration": 88,
        "start_time": "2022-06-22T22:36:31.297Z"
      },
      {
        "duration": 54,
        "start_time": "2022-06-23T07:57:46.726Z"
      },
      {
        "duration": 482,
        "start_time": "2022-06-23T08:08:27.898Z"
      },
      {
        "duration": 2,
        "start_time": "2022-06-23T08:08:28.382Z"
      },
      {
        "duration": 642,
        "start_time": "2022-06-23T08:08:28.385Z"
      },
      {
        "duration": 14,
        "start_time": "2022-06-23T08:08:29.037Z"
      },
      {
        "duration": 12,
        "start_time": "2022-06-23T08:08:29.053Z"
      },
      {
        "duration": 19,
        "start_time": "2022-06-23T08:08:29.067Z"
      },
      {
        "duration": 14,
        "start_time": "2022-06-23T08:08:29.087Z"
      },
      {
        "duration": 39,
        "start_time": "2022-06-23T08:08:29.102Z"
      },
      {
        "duration": 22,
        "start_time": "2022-06-23T08:08:29.142Z"
      },
      {
        "duration": 582,
        "start_time": "2022-06-23T08:08:29.166Z"
      },
      {
        "duration": 2,
        "start_time": "2022-06-23T08:08:29.749Z"
      },
      {
        "duration": 20,
        "start_time": "2022-06-23T08:08:29.753Z"
      },
      {
        "duration": 11,
        "start_time": "2022-06-23T08:08:29.774Z"
      },
      {
        "duration": 58,
        "start_time": "2022-06-23T08:08:29.787Z"
      },
      {
        "duration": 114,
        "start_time": "2022-06-23T08:08:29.847Z"
      },
      {
        "duration": 16,
        "start_time": "2022-06-23T08:08:29.963Z"
      },
      {
        "duration": 78,
        "start_time": "2022-06-23T08:08:29.981Z"
      },
      {
        "duration": 9,
        "start_time": "2022-06-23T08:08:30.061Z"
      },
      {
        "duration": 684,
        "start_time": "2022-06-23T08:08:30.071Z"
      },
      {
        "duration": 0,
        "start_time": "2022-06-23T08:08:30.757Z"
      },
      {
        "duration": 0,
        "start_time": "2022-06-23T08:08:30.758Z"
      },
      {
        "duration": 0,
        "start_time": "2022-06-23T08:08:30.760Z"
      },
      {
        "duration": 0,
        "start_time": "2022-06-23T08:08:30.761Z"
      },
      {
        "duration": 0,
        "start_time": "2022-06-23T08:08:30.763Z"
      },
      {
        "duration": 0,
        "start_time": "2022-06-23T08:08:30.764Z"
      },
      {
        "duration": 0,
        "start_time": "2022-06-23T08:08:30.766Z"
      },
      {
        "duration": 0,
        "start_time": "2022-06-23T08:08:30.767Z"
      },
      {
        "duration": 0,
        "start_time": "2022-06-23T08:08:30.769Z"
      },
      {
        "duration": 0,
        "start_time": "2022-06-23T08:08:30.770Z"
      },
      {
        "duration": 0,
        "start_time": "2022-06-23T08:08:30.772Z"
      },
      {
        "duration": 0,
        "start_time": "2022-06-23T08:08:30.774Z"
      },
      {
        "duration": 0,
        "start_time": "2022-06-23T08:08:30.775Z"
      },
      {
        "duration": 0,
        "start_time": "2022-06-23T08:08:30.777Z"
      },
      {
        "duration": 0,
        "start_time": "2022-06-23T08:08:30.778Z"
      },
      {
        "duration": 0,
        "start_time": "2022-06-23T08:08:30.779Z"
      },
      {
        "duration": 0,
        "start_time": "2022-06-23T08:08:30.782Z"
      },
      {
        "duration": 0,
        "start_time": "2022-06-23T08:08:30.783Z"
      },
      {
        "duration": 0,
        "start_time": "2022-06-23T08:08:30.784Z"
      },
      {
        "duration": 0,
        "start_time": "2022-06-23T08:08:30.828Z"
      },
      {
        "duration": 0,
        "start_time": "2022-06-23T08:08:30.830Z"
      },
      {
        "duration": 0,
        "start_time": "2022-06-23T08:08:30.831Z"
      },
      {
        "duration": 0,
        "start_time": "2022-06-23T08:08:30.833Z"
      },
      {
        "duration": 0,
        "start_time": "2022-06-23T08:08:30.834Z"
      },
      {
        "duration": 3,
        "start_time": "2022-06-23T08:09:03.321Z"
      },
      {
        "duration": 40,
        "start_time": "2022-06-23T08:09:03.326Z"
      },
      {
        "duration": 122,
        "start_time": "2022-06-23T08:09:03.368Z"
      },
      {
        "duration": 13,
        "start_time": "2022-06-23T08:09:03.491Z"
      },
      {
        "duration": 55,
        "start_time": "2022-06-23T08:09:03.505Z"
      },
      {
        "duration": 22,
        "start_time": "2022-06-23T08:09:03.562Z"
      },
      {
        "duration": 15,
        "start_time": "2022-06-23T08:09:03.586Z"
      },
      {
        "duration": 16,
        "start_time": "2022-06-23T08:09:03.603Z"
      },
      {
        "duration": 33,
        "start_time": "2022-06-23T08:09:03.620Z"
      },
      {
        "duration": 44,
        "start_time": "2022-06-23T08:09:03.655Z"
      },
      {
        "duration": 17,
        "start_time": "2022-06-23T08:09:03.702Z"
      },
      {
        "duration": 22,
        "start_time": "2022-06-23T08:09:03.720Z"
      },
      {
        "duration": 12,
        "start_time": "2022-06-23T08:09:03.743Z"
      },
      {
        "duration": 40,
        "start_time": "2022-06-23T08:09:03.757Z"
      },
      {
        "duration": 82,
        "start_time": "2022-06-23T08:09:03.799Z"
      },
      {
        "duration": 15,
        "start_time": "2022-06-23T08:09:03.882Z"
      },
      {
        "duration": 92,
        "start_time": "2022-06-23T08:09:03.899Z"
      },
      {
        "duration": 9,
        "start_time": "2022-06-23T08:09:03.992Z"
      },
      {
        "duration": 260,
        "start_time": "2022-06-23T08:09:04.003Z"
      },
      {
        "duration": 0,
        "start_time": "2022-06-23T08:09:04.265Z"
      },
      {
        "duration": 0,
        "start_time": "2022-06-23T08:09:04.266Z"
      },
      {
        "duration": 0,
        "start_time": "2022-06-23T08:09:04.267Z"
      },
      {
        "duration": 0,
        "start_time": "2022-06-23T08:09:04.268Z"
      },
      {
        "duration": 0,
        "start_time": "2022-06-23T08:09:04.269Z"
      },
      {
        "duration": 0,
        "start_time": "2022-06-23T08:09:04.270Z"
      },
      {
        "duration": 0,
        "start_time": "2022-06-23T08:09:04.271Z"
      },
      {
        "duration": 0,
        "start_time": "2022-06-23T08:09:04.271Z"
      },
      {
        "duration": 0,
        "start_time": "2022-06-23T08:09:04.272Z"
      },
      {
        "duration": 0,
        "start_time": "2022-06-23T08:09:04.273Z"
      },
      {
        "duration": 0,
        "start_time": "2022-06-23T08:09:04.275Z"
      },
      {
        "duration": 0,
        "start_time": "2022-06-23T08:09:04.275Z"
      },
      {
        "duration": 0,
        "start_time": "2022-06-23T08:09:04.276Z"
      },
      {
        "duration": 0,
        "start_time": "2022-06-23T08:09:04.277Z"
      },
      {
        "duration": 0,
        "start_time": "2022-06-23T08:09:04.278Z"
      },
      {
        "duration": 0,
        "start_time": "2022-06-23T08:09:04.279Z"
      },
      {
        "duration": 0,
        "start_time": "2022-06-23T08:09:04.280Z"
      },
      {
        "duration": 0,
        "start_time": "2022-06-23T08:09:04.281Z"
      },
      {
        "duration": 0,
        "start_time": "2022-06-23T08:09:04.282Z"
      },
      {
        "duration": 0,
        "start_time": "2022-06-23T08:09:04.283Z"
      },
      {
        "duration": 0,
        "start_time": "2022-06-23T08:09:04.284Z"
      },
      {
        "duration": 0,
        "start_time": "2022-06-23T08:09:04.285Z"
      },
      {
        "duration": 0,
        "start_time": "2022-06-23T08:09:04.285Z"
      },
      {
        "duration": 0,
        "start_time": "2022-06-23T08:09:04.287Z"
      },
      {
        "duration": 3,
        "start_time": "2022-06-23T08:11:54.294Z"
      },
      {
        "duration": 768,
        "start_time": "2022-06-23T08:12:19.922Z"
      },
      {
        "duration": 2,
        "start_time": "2022-06-23T08:12:20.692Z"
      },
      {
        "duration": 93,
        "start_time": "2022-06-23T08:12:20.695Z"
      },
      {
        "duration": 13,
        "start_time": "2022-06-23T08:12:20.789Z"
      },
      {
        "duration": 13,
        "start_time": "2022-06-23T08:12:20.804Z"
      },
      {
        "duration": 37,
        "start_time": "2022-06-23T08:12:20.819Z"
      },
      {
        "duration": 13,
        "start_time": "2022-06-23T08:12:20.858Z"
      },
      {
        "duration": 15,
        "start_time": "2022-06-23T08:12:20.873Z"
      },
      {
        "duration": 30,
        "start_time": "2022-06-23T08:12:20.890Z"
      },
      {
        "duration": 455,
        "start_time": "2022-06-23T08:12:20.923Z"
      },
      {
        "duration": 2,
        "start_time": "2022-06-23T08:12:21.379Z"
      },
      {
        "duration": 25,
        "start_time": "2022-06-23T08:12:21.383Z"
      },
      {
        "duration": 40,
        "start_time": "2022-06-23T08:12:21.410Z"
      },
      {
        "duration": 27,
        "start_time": "2022-06-23T08:12:21.452Z"
      },
      {
        "duration": 128,
        "start_time": "2022-06-23T08:12:21.481Z"
      },
      {
        "duration": 27,
        "start_time": "2022-06-23T08:12:21.611Z"
      },
      {
        "duration": 114,
        "start_time": "2022-06-23T08:12:21.640Z"
      },
      {
        "duration": 10,
        "start_time": "2022-06-23T08:12:21.756Z"
      },
      {
        "duration": 204,
        "start_time": "2022-06-23T08:12:21.767Z"
      },
      {
        "duration": 111,
        "start_time": "2022-06-23T08:12:21.973Z"
      },
      {
        "duration": 8,
        "start_time": "2022-06-23T08:12:22.086Z"
      },
      {
        "duration": 192,
        "start_time": "2022-06-23T08:12:22.096Z"
      },
      {
        "duration": 116,
        "start_time": "2022-06-23T08:12:22.290Z"
      },
      {
        "duration": 9,
        "start_time": "2022-06-23T08:12:22.408Z"
      },
      {
        "duration": 183,
        "start_time": "2022-06-23T08:12:22.418Z"
      },
      {
        "duration": 130,
        "start_time": "2022-06-23T08:12:22.602Z"
      },
      {
        "duration": 19,
        "start_time": "2022-06-23T08:12:22.734Z"
      },
      {
        "duration": 13,
        "start_time": "2022-06-23T08:12:22.757Z"
      },
      {
        "duration": 173,
        "start_time": "2022-06-23T08:12:22.772Z"
      },
      {
        "duration": 14,
        "start_time": "2022-06-23T08:12:22.947Z"
      },
      {
        "duration": 75,
        "start_time": "2022-06-23T08:12:22.963Z"
      },
      {
        "duration": 106,
        "start_time": "2022-06-23T08:12:23.040Z"
      },
      {
        "duration": 16,
        "start_time": "2022-06-23T08:12:23.148Z"
      },
      {
        "duration": 95,
        "start_time": "2022-06-23T08:12:23.166Z"
      },
      {
        "duration": 3520,
        "start_time": "2022-06-23T08:12:23.263Z"
      },
      {
        "duration": 232,
        "start_time": "2022-06-23T08:12:26.785Z"
      },
      {
        "duration": 129,
        "start_time": "2022-06-23T08:12:27.018Z"
      },
      {
        "duration": 9,
        "start_time": "2022-06-23T08:12:27.149Z"
      },
      {
        "duration": 15,
        "start_time": "2022-06-23T08:12:27.160Z"
      },
      {
        "duration": 13,
        "start_time": "2022-06-23T08:12:27.176Z"
      },
      {
        "duration": 3,
        "start_time": "2022-06-23T08:12:27.191Z"
      },
      {
        "duration": 47,
        "start_time": "2022-06-23T08:12:27.195Z"
      },
      {
        "duration": 27,
        "start_time": "2022-06-23T08:12:27.244Z"
      },
      {
        "duration": 951,
        "start_time": "2022-06-23T14:04:13.358Z"
      },
      {
        "duration": 2,
        "start_time": "2022-06-23T14:04:14.311Z"
      },
      {
        "duration": 165,
        "start_time": "2022-06-23T14:04:22.078Z"
      },
      {
        "duration": 13,
        "start_time": "2022-06-23T14:04:32.295Z"
      },
      {
        "duration": 8,
        "start_time": "2022-06-23T14:04:32.905Z"
      },
      {
        "duration": 17,
        "start_time": "2022-06-23T14:04:33.386Z"
      },
      {
        "duration": 15,
        "start_time": "2022-06-23T14:04:33.895Z"
      },
      {
        "duration": 15,
        "start_time": "2022-06-23T14:04:34.466Z"
      },
      {
        "duration": 27,
        "start_time": "2022-06-23T14:04:35.536Z"
      },
      {
        "duration": 483,
        "start_time": "2022-06-23T14:04:36.187Z"
      },
      {
        "duration": 2,
        "start_time": "2022-06-23T14:04:44.053Z"
      },
      {
        "duration": 13,
        "start_time": "2022-06-23T14:04:46.159Z"
      },
      {
        "duration": 4,
        "start_time": "2022-06-23T14:04:51.713Z"
      },
      {
        "duration": 151,
        "start_time": "2022-06-23T14:06:07.545Z"
      },
      {
        "duration": 20,
        "start_time": "2022-06-23T14:06:19.753Z"
      },
      {
        "duration": 2,
        "start_time": "2022-06-23T14:06:57.156Z"
      },
      {
        "duration": 14,
        "start_time": "2022-06-23T14:07:24.146Z"
      },
      {
        "duration": 12,
        "start_time": "2022-06-23T14:10:07.220Z"
      },
      {
        "duration": 17,
        "start_time": "2022-06-23T14:10:14.320Z"
      },
      {
        "duration": 11,
        "start_time": "2022-06-23T14:12:51.295Z"
      },
      {
        "duration": 48,
        "start_time": "2022-06-23T14:13:21.938Z"
      },
      {
        "duration": 38,
        "start_time": "2022-06-23T14:13:58.102Z"
      },
      {
        "duration": 4,
        "start_time": "2022-06-23T14:18:58.077Z"
      },
      {
        "duration": 33,
        "start_time": "2022-06-23T14:19:47.781Z"
      },
      {
        "duration": 2,
        "start_time": "2022-06-23T14:20:18.078Z"
      },
      {
        "duration": 826,
        "start_time": "2022-06-23T14:32:13.415Z"
      },
      {
        "duration": 3,
        "start_time": "2022-06-23T14:32:14.243Z"
      },
      {
        "duration": 90,
        "start_time": "2022-06-23T14:32:14.247Z"
      },
      {
        "duration": 15,
        "start_time": "2022-06-23T14:32:14.339Z"
      },
      {
        "duration": 13,
        "start_time": "2022-06-23T14:32:14.356Z"
      },
      {
        "duration": 20,
        "start_time": "2022-06-23T14:32:14.371Z"
      },
      {
        "duration": 44,
        "start_time": "2022-06-23T14:32:14.393Z"
      },
      {
        "duration": 15,
        "start_time": "2022-06-23T14:32:14.439Z"
      },
      {
        "duration": 24,
        "start_time": "2022-06-23T14:32:14.456Z"
      },
      {
        "duration": 483,
        "start_time": "2022-06-23T14:32:14.484Z"
      },
      {
        "duration": 2,
        "start_time": "2022-06-23T14:32:14.969Z"
      },
      {
        "duration": 22,
        "start_time": "2022-06-23T14:32:14.973Z"
      },
      {
        "duration": 33,
        "start_time": "2022-06-23T14:32:14.997Z"
      },
      {
        "duration": 29,
        "start_time": "2022-06-23T14:32:15.032Z"
      },
      {
        "duration": 173,
        "start_time": "2022-06-23T14:32:15.064Z"
      },
      {
        "duration": 20,
        "start_time": "2022-06-23T14:32:15.239Z"
      },
      {
        "duration": 118,
        "start_time": "2022-06-23T14:32:15.261Z"
      },
      {
        "duration": 11,
        "start_time": "2022-06-23T14:32:15.381Z"
      },
      {
        "duration": 233,
        "start_time": "2022-06-23T14:32:15.394Z"
      },
      {
        "duration": 118,
        "start_time": "2022-06-23T14:32:15.629Z"
      },
      {
        "duration": 11,
        "start_time": "2022-06-23T14:32:15.749Z"
      },
      {
        "duration": 196,
        "start_time": "2022-06-23T14:32:15.762Z"
      },
      {
        "duration": 125,
        "start_time": "2022-06-23T14:32:15.960Z"
      },
      {
        "duration": 11,
        "start_time": "2022-06-23T14:32:16.087Z"
      },
      {
        "duration": 193,
        "start_time": "2022-06-23T14:32:16.100Z"
      },
      {
        "duration": 115,
        "start_time": "2022-06-23T14:32:16.295Z"
      },
      {
        "duration": 18,
        "start_time": "2022-06-23T14:32:16.412Z"
      },
      {
        "duration": 10,
        "start_time": "2022-06-23T14:32:16.433Z"
      },
      {
        "duration": 274,
        "start_time": "2022-06-23T14:32:16.445Z"
      },
      {
        "duration": 14,
        "start_time": "2022-06-23T14:32:16.720Z"
      },
      {
        "duration": 70,
        "start_time": "2022-06-23T14:32:16.736Z"
      },
      {
        "duration": 121,
        "start_time": "2022-06-23T14:32:16.808Z"
      },
      {
        "duration": 18,
        "start_time": "2022-06-23T14:32:16.931Z"
      },
      {
        "duration": 96,
        "start_time": "2022-06-23T14:32:16.951Z"
      },
      {
        "duration": 2243,
        "start_time": "2022-06-23T14:32:17.049Z"
      },
      {
        "duration": 207,
        "start_time": "2022-06-23T14:32:19.294Z"
      },
      {
        "duration": 138,
        "start_time": "2022-06-23T14:32:19.503Z"
      },
      {
        "duration": 11,
        "start_time": "2022-06-23T14:32:19.643Z"
      },
      {
        "duration": 27,
        "start_time": "2022-06-23T14:32:19.656Z"
      },
      {
        "duration": 31,
        "start_time": "2022-06-23T14:32:19.685Z"
      },
      {
        "duration": 20,
        "start_time": "2022-06-23T14:32:19.718Z"
      },
      {
        "duration": 48,
        "start_time": "2022-06-23T14:32:19.740Z"
      },
      {
        "duration": 20,
        "start_time": "2022-06-23T14:32:19.791Z"
      }
    ],
    "kernelspec": {
      "display_name": "Python 3 (ipykernel)",
      "language": "python",
      "name": "python3"
    },
    "language_info": {
      "codemirror_mode": {
        "name": "ipython",
        "version": 3
      },
      "file_extension": ".py",
      "mimetype": "text/x-python",
      "name": "python",
      "nbconvert_exporter": "python",
      "pygments_lexer": "ipython3",
      "version": "3.9.5"
    },
    "toc": {
      "base_numbering": 1,
      "nav_menu": {},
      "number_sections": true,
      "sideBar": true,
      "skip_h1_title": true,
      "title_cell": "Table of Contents",
      "title_sidebar": "Contents",
      "toc_cell": false,
      "toc_position": {},
      "toc_section_display": true,
      "toc_window_display": false
    },
    "colab": {
      "provenance": [],
      "collapsed_sections": [],
      "include_colab_link": true
    }
  },
  "nbformat": 4,
  "nbformat_minor": 0
}